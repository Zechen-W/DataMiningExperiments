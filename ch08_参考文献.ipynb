{
 "cells": [
  {
   "cell_type": "markdown",
   "metadata": {},
   "source": [
    "# 参考文献"
   ]
  },
  {
   "cell_type": "markdown",
   "metadata": {},
   "source": [
    "在本讲义准备的过程中，参阅了大量资料："
   ]
  },
  {
   "cell_type": "markdown",
   "metadata": {
    "ExecuteTime": {
     "end_time": "2019-02-13T04:33:22.431157Z",
     "start_time": "2019-02-13T04:33:22.422162Z"
    }
   },
   "source": [
    "1. MagnusLieHetland. Python基础编程(第三版).北京:人民邮电出版社, 2018. \n",
    "2. [美]埃里克·马瑟斯. Python编程 从入门到实践. 北京: 人民邮电出版社, 2016.\n",
    "3. Mckinney W . 利用PYTHON进行数据分析. 北京：机械工业出版社, 2014.\n",
    "4. Peter Harrington. 机器学习实战. 北京: 人民邮电出版社, 2013.\n",
    "5. Pang-Ning Tan等. 数据挖掘导论. 北京: 人民邮电出版社, 2010.\n",
    "6. 周志华. 机器学习. 北京: 清华大学出版社, 2016.\n",
    "7. Pedregosa et al. Scikit-learn: Machine Learning in Python. JMLR 12,2011(12):2825-2830.\n",
    "8. Zhi-Hua Zhou. Ensemble Methods Foundations and Algorithms. Chapman and Hall/CRC, 2012.\n",
    "9. Machine Learning Plus. Top 50 matplotlib Visualizations – The Master Plots. URL: <https://www.machinelearningplus.com/plots/top-50-matplotlib-visualizations-the-master-plots-python>, accessed on 2019-2-20.\n",
    "10. Jake VanderPlas. Python数据科学手册. 北京: 人民邮电出版社, 2018."
   ]
  },
  {
   "cell_type": "markdown",
   "metadata": {
    "ExecuteTime": {
     "end_time": "2019-02-13T04:33:22.431157Z",
     "start_time": "2019-02-13T04:33:22.422162Z"
    }
   },
   "source": [
    "另外，在整理实验材料的过程中，也陆陆续续参阅了包括Stack Overflow、知乎等在内的大量网络资料，由于时间比较久，无法做到一一标注（如有不妥，还望及时告知）。"
   ]
  }
 ],
 "metadata": {
  "kernelspec": {
   "display_name": "Python 3",
   "language": "python",
   "name": "python3"
  },
  "language_info": {
   "codemirror_mode": {
    "name": "ipython",
    "version": 3
   },
   "file_extension": ".py",
   "mimetype": "text/x-python",
   "name": "python",
   "nbconvert_exporter": "python",
   "pygments_lexer": "ipython3",
   "version": "3.7.1"
  },
  "toc": {
   "base_numbering": "",
   "nav_menu": {},
   "number_sections": true,
   "sideBar": true,
   "skip_h1_title": false,
   "title_cell": "Table of Contents",
   "title_sidebar": "Contents",
   "toc_cell": false,
   "toc_position": {},
   "toc_section_display": true,
   "toc_window_display": true
  },
  "varInspector": {
   "cols": {
    "lenName": 16,
    "lenType": 16,
    "lenVar": 40
   },
   "kernels_config": {
    "python": {
     "delete_cmd_postfix": "",
     "delete_cmd_prefix": "del ",
     "library": "var_list.py",
     "varRefreshCmd": "print(var_dic_list())"
    },
    "r": {
     "delete_cmd_postfix": ") ",
     "delete_cmd_prefix": "rm(",
     "library": "var_list.r",
     "varRefreshCmd": "cat(var_dic_list()) "
    }
   },
   "types_to_exclude": [
    "module",
    "function",
    "builtin_function_or_method",
    "instance",
    "_Feature"
   ],
   "window_display": false
  }
 },
 "nbformat": 4,
 "nbformat_minor": 2
}
