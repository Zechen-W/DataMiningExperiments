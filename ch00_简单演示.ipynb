{
 "cells": [
  {
   "cell_type": "markdown",
   "metadata": {},
   "source": [
    "一个简单的例子，线性模型$y = \\alpha  + \\beta x$的拟合"
   ]
  },
  {
   "cell_type": "markdown",
   "metadata": {},
   "source": [
    "# 生成数据"
   ]
  },
  {
   "cell_type": "code",
   "execution_count": 1,
   "metadata": {},
   "outputs": [],
   "source": [
    "#导入模块\n",
    "import numpy as np"
   ]
  },
  {
   "cell_type": "code",
   "execution_count": 2,
   "metadata": {},
   "outputs": [
    {
     "data": {
      "text/plain": [
       "array([0.95368104, 0.80492002, 0.10423788, 0.3938102 , 0.42479412,\n",
       "       0.73810132, 0.26135347, 0.08222948, 0.46155981, 0.24986903,\n",
       "       0.12220917, 0.45760443, 0.40322561, 0.64141753, 0.19806553,\n",
       "       0.9990956 , 0.4980831 , 0.50046251, 0.37857936, 0.36361657,\n",
       "       0.60374452, 0.83847713, 0.93301178, 0.46894614, 0.76178984,\n",
       "       0.46962464, 0.08080696, 0.0086308 , 0.16600824, 0.26130495])"
      ]
     },
     "execution_count": 2,
     "metadata": {},
     "output_type": "execute_result"
    }
   ],
   "source": [
    "x = np.random.random(30)\n",
    "x"
   ]
  },
  {
   "cell_type": "code",
   "execution_count": 3,
   "metadata": {},
   "outputs": [
    {
     "name": "stdout",
     "output_type": "stream",
     "text": [
      "Help on built-in function random:\n",
      "\n",
      "random(...) method of numpy.random.mtrand.RandomState instance\n",
      "    random(size=None)\n",
      "    \n",
      "    Return random floats in the half-open interval [0.0, 1.0). Alias for\n",
      "    `random_sample` to ease forward-porting to the new random API.\n",
      "\n"
     ]
    }
   ],
   "source": [
    "help(np.random.random)"
   ]
  },
  {
   "cell_type": "code",
   "execution_count": 4,
   "metadata": {},
   "outputs": [
    {
     "data": {
      "text/plain": [
       "array([9.53681039, 8.0492002 , 1.0423788 , 3.93810196, 4.24794123,\n",
       "       7.38101321, 2.61353469, 0.82229476, 4.61559806, 2.49869033,\n",
       "       1.22209173, 4.57604431, 4.03225615, 6.41417535, 1.9806553 ,\n",
       "       9.99095604, 4.98083099, 5.00462505, 3.7857936 , 3.63616574,\n",
       "       6.03744522, 8.38477128, 9.33011775, 4.6894614 , 7.61789839,\n",
       "       4.69624636, 0.80806964, 0.08630799, 1.66008238, 2.6130495 ])"
      ]
     },
     "execution_count": 4,
     "metadata": {},
     "output_type": "execute_result"
    }
   ],
   "source": [
    "x = 10 * x\n",
    "x"
   ]
  },
  {
   "cell_type": "code",
   "execution_count": 5,
   "metadata": {},
   "outputs": [
    {
     "data": {
      "text/plain": [
       "array([193.73620788, 163.98400402,  23.84757601,  81.76203925,\n",
       "        87.95882455, 150.62026412,  55.2706938 ,  19.44589521,\n",
       "        95.31196129,  52.97380668,  27.44183468,  94.52088622,\n",
       "        83.64512295, 131.28350691,  42.61310607, 202.81912088,\n",
       "       102.61661972, 103.09250102,  78.71587192,  75.72331487,\n",
       "       123.74890441, 170.69542554, 189.60235502,  96.78922792,\n",
       "       155.35796788,  96.92492723,  19.16139279,   4.72615978,\n",
       "        36.20164757,  55.26098998])"
      ]
     },
     "execution_count": 5,
     "metadata": {},
     "output_type": "execute_result"
    }
   ],
   "source": [
    "y = 20*x + 3\n",
    "y"
   ]
  },
  {
   "cell_type": "markdown",
   "metadata": {},
   "source": [
    "增加扰动项：$y = ax + b + \\varepsilon $"
   ]
  },
  {
   "cell_type": "code",
   "execution_count": 6,
   "metadata": {},
   "outputs": [
    {
     "data": {
      "text/plain": [
       "array([192.61459537, 165.182298  ,  22.65364084,  81.65593491,\n",
       "        86.94623797, 151.20003776,  54.37607197,  20.52628241,\n",
       "        94.2207789 ,  53.42328797,  28.91555416,  94.66706783,\n",
       "        84.21571599, 131.53771554,  43.05561209, 203.5880042 ,\n",
       "       103.29440033, 103.54614998,  79.27187136,  75.22566337,\n",
       "       123.4454525 , 170.05482079, 189.42339977,  96.11230857,\n",
       "       155.7569352 ,  95.31050005,  17.85389811,   4.6542803 ,\n",
       "        36.88362012,  55.29158766])"
      ]
     },
     "execution_count": 6,
     "metadata": {},
     "output_type": "execute_result"
    }
   ],
   "source": [
    "y = 20 * x + 3 + np.random.randn(30)\n",
    "y"
   ]
  },
  {
   "cell_type": "markdown",
   "metadata": {},
   "source": [
    "# 绘制散点图 "
   ]
  },
  {
   "cell_type": "code",
   "execution_count": null,
   "metadata": {},
   "outputs": [],
   "source": [
    "from plotnine import *\n",
    "import pandas as pd\n",
    "%matplotlib inline"
   ]
  },
  {
   "cell_type": "code",
   "execution_count": null,
   "metadata": {},
   "outputs": [],
   "source": [
    "x_y = pd.DataFrame({'x':x, 'y':y})\n",
    "x_y.sample(10)"
   ]
  },
  {
   "cell_type": "code",
   "execution_count": null,
   "metadata": {},
   "outputs": [],
   "source": [
    "x_y.describe()"
   ]
  },
  {
   "cell_type": "code",
   "execution_count": null,
   "metadata": {},
   "outputs": [],
   "source": [
    "(\n",
    "    ggplot(x_y, aes(x='x', y='y', colour='x+y')) +\n",
    "    geom_line() +\n",
    "    geom_point(fill='white', size=2.5) +\n",
    "    theme(legend_position='none')\n",
    ")"
   ]
  },
  {
   "cell_type": "markdown",
   "metadata": {},
   "source": [
    "# 模型拟合"
   ]
  },
  {
   "cell_type": "code",
   "execution_count": null,
   "metadata": {},
   "outputs": [],
   "source": [
    "from sklearn.linear_model import LinearRegression"
   ]
  },
  {
   "cell_type": "code",
   "execution_count": null,
   "metadata": {},
   "outputs": [],
   "source": [
    "reg = LinearRegression()"
   ]
  },
  {
   "cell_type": "code",
   "execution_count": null,
   "metadata": {},
   "outputs": [],
   "source": [
    "x = x.reshape(-1, 1)"
   ]
  },
  {
   "cell_type": "code",
   "execution_count": null,
   "metadata": {},
   "outputs": [],
   "source": [
    "reg.fit(x, y)"
   ]
  },
  {
   "cell_type": "code",
   "execution_count": null,
   "metadata": {},
   "outputs": [],
   "source": [
    "print(\"Fitted lm model is y={:.3}x+{:.3}\".format(reg.coef_[0], reg.intercept_))"
   ]
  },
  {
   "cell_type": "markdown",
   "metadata": {},
   "source": [
    "# 拟合效果"
   ]
  },
  {
   "cell_type": "code",
   "execution_count": null,
   "metadata": {},
   "outputs": [],
   "source": [
    "yhat = reg.predict(x)\n",
    "yhat"
   ]
  },
  {
   "cell_type": "code",
   "execution_count": null,
   "metadata": {},
   "outputs": [],
   "source": [
    "x_y_yhat = pd.DataFrame({'x':x.flatten(), 'y':y, 'yhat':yhat})"
   ]
  },
  {
   "cell_type": "code",
   "execution_count": null,
   "metadata": {},
   "outputs": [],
   "source": [
    "x_y_yhat_melt = pd.melt(x_y_yhat, id_vars='x', var_name='y_type', value_name='value')\n",
    "x_y_yhat_melt.sample(10)"
   ]
  },
  {
   "cell_type": "code",
   "execution_count": null,
   "metadata": {},
   "outputs": [],
   "source": [
    "(\n",
    "    ggplot(x_y_yhat_melt, aes(x='x', y='value', colour='y_type')) +\n",
    "    geom_point(alpha=0.25)\n",
    ")"
   ]
  },
  {
   "cell_type": "code",
   "execution_count": null,
   "metadata": {},
   "outputs": [],
   "source": [
    "(\n",
    "    ggplot(x_y, aes(x='x', y='y')) +\n",
    "    geom_point() +\n",
    "    geom_smooth(method='lm', color='red')\n",
    ")"
   ]
  },
  {
   "cell_type": "code",
   "execution_count": null,
   "metadata": {},
   "outputs": [],
   "source": [
    "from statsmodels.api import OLS"
   ]
  },
  {
   "cell_type": "code",
   "execution_count": null,
   "metadata": {},
   "outputs": [],
   "source": [
    "lm2 = OLS(x, y).fit()"
   ]
  },
  {
   "cell_type": "code",
   "execution_count": null,
   "metadata": {},
   "outputs": [],
   "source": [
    "lm2.summary()"
   ]
  }
 ],
 "metadata": {
  "kernelspec": {
   "display_name": "dmex",
   "language": "python",
   "name": "dmex"
  },
  "language_info": {
   "codemirror_mode": {
    "name": "ipython",
    "version": 3
   },
   "file_extension": ".py",
   "mimetype": "text/x-python",
   "name": "python",
   "nbconvert_exporter": "python",
   "pygments_lexer": "ipython3",
   "version": "3.8.5"
  },
  "toc-autonumbering": true
 },
 "nbformat": 4,
 "nbformat_minor": 4
}
