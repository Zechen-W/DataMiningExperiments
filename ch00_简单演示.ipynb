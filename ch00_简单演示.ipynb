{
 "cells": [
  {
   "cell_type": "markdown",
   "metadata": {},
   "source": [
    "# Linear Model"
   ]
  },
  {
   "cell_type": "markdown",
   "metadata": {},
   "source": [
    "接下来演示$y = \\alpha  + \\beta x$拟合"
   ]
  },
  {
   "cell_type": "markdown",
   "metadata": {},
   "source": [
    "## 生成数据"
   ]
  },
  {
   "cell_type": "code",
   "execution_count": 40,
   "metadata": {},
   "outputs": [],
   "source": [
    "import numpy as np"
   ]
  },
  {
   "cell_type": "code",
   "execution_count": 8,
   "metadata": {},
   "outputs": [
    {
     "data": {
      "text/plain": [
       "array([0.40709392, 0.32550072, 0.65633243, 0.1084764 , 0.61887148,\n",
       "       0.74660507, 0.56972557, 0.688617  , 0.27720581, 0.52018769,\n",
       "       0.94047271, 0.3523166 , 0.15637971, 0.57793356, 0.8940457 ,\n",
       "       0.80048529, 0.70254   , 0.53802859, 0.3306795 , 0.32002037,\n",
       "       0.01776133, 0.58797297, 0.88826251, 0.58803695, 0.09950929,\n",
       "       0.64556143, 0.08033406, 0.36325705, 0.55958454, 0.08307838])"
      ]
     },
     "execution_count": 8,
     "metadata": {},
     "output_type": "execute_result"
    }
   ],
   "source": [
    "x = np.random.random(30)\n",
    "x"
   ]
  },
  {
   "cell_type": "code",
   "execution_count": 9,
   "metadata": {
    "collapsed": true,
    "jupyter": {
     "outputs_hidden": true
    }
   },
   "outputs": [
    {
     "name": "stdout",
     "output_type": "stream",
     "text": [
      "Help on built-in function random:\n",
      "\n",
      "random(...) method of numpy.random.mtrand.RandomState instance\n",
      "    random(size=None)\n",
      "    \n",
      "    Return random floats in the half-open interval [0.0, 1.0). Alias for\n",
      "    `random_sample` to ease forward-porting to the new random API.\n",
      "\n"
     ]
    }
   ],
   "source": [
    "help(np.random.random)"
   ]
  },
  {
   "cell_type": "code",
   "execution_count": 11,
   "metadata": {},
   "outputs": [
    {
     "data": {
      "text/plain": [
       "array([[ 0.20904884, -1.44686201,  0.83839794,  1.66814741],\n",
       "       [-0.45117576,  2.61886476, -1.4599123 ,  1.36161335],\n",
       "       [ 0.65418937,  0.7227978 ,  0.09581691,  0.60345393]])"
      ]
     },
     "execution_count": 11,
     "metadata": {},
     "output_type": "execute_result"
    }
   ],
   "source": [
    "np.random.randn(3, 4)"
   ]
  },
  {
   "cell_type": "code",
   "execution_count": 12,
   "metadata": {},
   "outputs": [
    {
     "data": {
      "text/plain": [
       "array([178.97525299, 177.50998538, 177.94384987, 174.42614233,\n",
       "       162.36658937, 170.98651546, 172.92241622, 176.46518068,\n",
       "       182.93763189, 176.48490417])"
      ]
     },
     "execution_count": 12,
     "metadata": {},
     "output_type": "execute_result"
    }
   ],
   "source": [
    "np.random.normal(175, 5, size=10)"
   ]
  },
  {
   "cell_type": "code",
   "execution_count": 13,
   "metadata": {
    "collapsed": true,
    "jupyter": {
     "outputs_hidden": true
    }
   },
   "outputs": [
    {
     "data": {
      "text/plain": [
       "['BitGenerator',\n",
       " 'Generator',\n",
       " 'MT19937',\n",
       " 'PCG64',\n",
       " 'Philox',\n",
       " 'RandomState',\n",
       " 'SFC64',\n",
       " 'SeedSequence',\n",
       " '__RandomState_ctor',\n",
       " '__all__',\n",
       " '__builtins__',\n",
       " '__cached__',\n",
       " '__doc__',\n",
       " '__file__',\n",
       " '__loader__',\n",
       " '__name__',\n",
       " '__package__',\n",
       " '__path__',\n",
       " '__spec__',\n",
       " '_bounded_integers',\n",
       " '_common',\n",
       " '_generator',\n",
       " '_mt19937',\n",
       " '_pcg64',\n",
       " '_philox',\n",
       " '_pickle',\n",
       " '_sfc64',\n",
       " 'beta',\n",
       " 'binomial',\n",
       " 'bit_generator',\n",
       " 'bytes',\n",
       " 'chisquare',\n",
       " 'choice',\n",
       " 'default_rng',\n",
       " 'dirichlet',\n",
       " 'exponential',\n",
       " 'f',\n",
       " 'gamma',\n",
       " 'geometric',\n",
       " 'get_state',\n",
       " 'gumbel',\n",
       " 'hypergeometric',\n",
       " 'laplace',\n",
       " 'logistic',\n",
       " 'lognormal',\n",
       " 'logseries',\n",
       " 'mtrand',\n",
       " 'multinomial',\n",
       " 'multivariate_normal',\n",
       " 'negative_binomial',\n",
       " 'noncentral_chisquare',\n",
       " 'noncentral_f',\n",
       " 'normal',\n",
       " 'pareto',\n",
       " 'permutation',\n",
       " 'poisson',\n",
       " 'power',\n",
       " 'rand',\n",
       " 'randint',\n",
       " 'randn',\n",
       " 'random',\n",
       " 'random_integers',\n",
       " 'random_sample',\n",
       " 'ranf',\n",
       " 'rayleigh',\n",
       " 'sample',\n",
       " 'seed',\n",
       " 'set_state',\n",
       " 'shuffle',\n",
       " 'standard_cauchy',\n",
       " 'standard_exponential',\n",
       " 'standard_gamma',\n",
       " 'standard_normal',\n",
       " 'standard_t',\n",
       " 'test',\n",
       " 'triangular',\n",
       " 'uniform',\n",
       " 'vonmises',\n",
       " 'wald',\n",
       " 'weibull',\n",
       " 'zipf']"
      ]
     },
     "execution_count": 13,
     "metadata": {},
     "output_type": "execute_result"
    }
   ],
   "source": [
    "dir(np.random)"
   ]
  },
  {
   "cell_type": "code",
   "execution_count": 14,
   "metadata": {},
   "outputs": [
    {
     "data": {
      "text/plain": [
       "array([4.07093919, 3.25500719, 6.56332427, 1.08476404, 6.18871481,\n",
       "       7.46605075, 5.69725571, 6.88616997, 2.77205813, 5.20187691,\n",
       "       9.40472712, 3.52316599, 1.56379709, 5.77933563, 8.94045704,\n",
       "       8.00485289, 7.02539999, 5.38028589, 3.30679502, 3.20020372,\n",
       "       0.1776133 , 5.87972974, 8.88262513, 5.88036949, 0.99509292,\n",
       "       6.45561434, 0.80334062, 3.63257048, 5.59584536, 0.83078382])"
      ]
     },
     "execution_count": 14,
     "metadata": {},
     "output_type": "execute_result"
    }
   ],
   "source": [
    "x = 10 * x\n",
    "x"
   ]
  },
  {
   "cell_type": "code",
   "execution_count": 18,
   "metadata": {},
   "outputs": [
    {
     "data": {
      "text/plain": [
       "array([ 84.41878388,  68.10014372, 134.26648537,  24.69528084,\n",
       "       126.77429626, 152.3210149 , 116.94511426, 140.72339945,\n",
       "        58.44116255, 107.03753825, 191.0945424 ,  73.4633198 ,\n",
       "        34.27594188, 118.58671262, 181.80914086, 163.09705778,\n",
       "       143.50799977, 110.60571781,  69.13590044,  67.0040743 ,\n",
       "         6.55226596, 120.59459483, 180.6525026 , 120.60738976,\n",
       "        22.90185842, 132.11228683,  19.06681232,  75.65140966,\n",
       "       114.9169071 ,  19.61567639])"
      ]
     },
     "execution_count": 18,
     "metadata": {},
     "output_type": "execute_result"
    }
   ],
   "source": [
    "y = 20*x + 3\n",
    "y"
   ]
  },
  {
   "cell_type": "markdown",
   "metadata": {},
   "source": [
    "增加扰动项：$y = ax + b + \\varepsilon $"
   ]
  },
  {
   "cell_type": "code",
   "execution_count": 17,
   "metadata": {},
   "outputs": [
    {
     "data": {
      "text/plain": [
       "array([ 84.81911492,  68.3610893 , 133.62615183,  27.19598292,\n",
       "       127.0405575 , 150.88312723, 116.41391583, 139.29594329,\n",
       "        56.27144053, 106.874556  , 190.41183849,  74.39849122,\n",
       "        33.33056105, 117.14869041, 180.62790526, 163.14339772,\n",
       "       143.30831212, 109.48907298,  69.75107773,  67.41952211,\n",
       "         5.16803848, 121.76358198, 181.05763   , 121.98142944,\n",
       "        22.83167597, 133.5035018 ,  18.92978787,  75.41738696,\n",
       "       114.54148308,  18.90106466])"
      ]
     },
     "execution_count": 17,
     "metadata": {},
     "output_type": "execute_result"
    }
   ],
   "source": [
    "y = 20 * x + 3 + np.random.randn(30)\n",
    "y"
   ]
  },
  {
   "cell_type": "markdown",
   "metadata": {},
   "source": [
    "## 绘制散点图 "
   ]
  },
  {
   "cell_type": "code",
   "execution_count": 19,
   "metadata": {},
   "outputs": [],
   "source": [
    "from plotnine import *\n",
    "import pandas as pd\n",
    "%matplotlib inline"
   ]
  },
  {
   "cell_type": "code",
   "execution_count": 20,
   "metadata": {},
   "outputs": [
    {
     "data": {
      "text/html": [
       "<div>\n",
       "<style scoped>\n",
       "    .dataframe tbody tr th:only-of-type {\n",
       "        vertical-align: middle;\n",
       "    }\n",
       "\n",
       "    .dataframe tbody tr th {\n",
       "        vertical-align: top;\n",
       "    }\n",
       "\n",
       "    .dataframe thead th {\n",
       "        text-align: right;\n",
       "    }\n",
       "</style>\n",
       "<table border=\"1\" class=\"dataframe\">\n",
       "  <thead>\n",
       "    <tr style=\"text-align: right;\">\n",
       "      <th></th>\n",
       "      <th>x</th>\n",
       "      <th>y</th>\n",
       "    </tr>\n",
       "  </thead>\n",
       "  <tbody>\n",
       "    <tr>\n",
       "      <th>0</th>\n",
       "      <td>4.070939</td>\n",
       "      <td>84.418784</td>\n",
       "    </tr>\n",
       "    <tr>\n",
       "      <th>1</th>\n",
       "      <td>3.255007</td>\n",
       "      <td>68.100144</td>\n",
       "    </tr>\n",
       "    <tr>\n",
       "      <th>2</th>\n",
       "      <td>6.563324</td>\n",
       "      <td>134.266485</td>\n",
       "    </tr>\n",
       "    <tr>\n",
       "      <th>3</th>\n",
       "      <td>1.084764</td>\n",
       "      <td>24.695281</td>\n",
       "    </tr>\n",
       "    <tr>\n",
       "      <th>4</th>\n",
       "      <td>6.188715</td>\n",
       "      <td>126.774296</td>\n",
       "    </tr>\n",
       "    <tr>\n",
       "      <th>5</th>\n",
       "      <td>7.466051</td>\n",
       "      <td>152.321015</td>\n",
       "    </tr>\n",
       "    <tr>\n",
       "      <th>6</th>\n",
       "      <td>5.697256</td>\n",
       "      <td>116.945114</td>\n",
       "    </tr>\n",
       "    <tr>\n",
       "      <th>7</th>\n",
       "      <td>6.886170</td>\n",
       "      <td>140.723399</td>\n",
       "    </tr>\n",
       "    <tr>\n",
       "      <th>8</th>\n",
       "      <td>2.772058</td>\n",
       "      <td>58.441163</td>\n",
       "    </tr>\n",
       "    <tr>\n",
       "      <th>9</th>\n",
       "      <td>5.201877</td>\n",
       "      <td>107.037538</td>\n",
       "    </tr>\n",
       "    <tr>\n",
       "      <th>10</th>\n",
       "      <td>9.404727</td>\n",
       "      <td>191.094542</td>\n",
       "    </tr>\n",
       "    <tr>\n",
       "      <th>11</th>\n",
       "      <td>3.523166</td>\n",
       "      <td>73.463320</td>\n",
       "    </tr>\n",
       "    <tr>\n",
       "      <th>12</th>\n",
       "      <td>1.563797</td>\n",
       "      <td>34.275942</td>\n",
       "    </tr>\n",
       "    <tr>\n",
       "      <th>13</th>\n",
       "      <td>5.779336</td>\n",
       "      <td>118.586713</td>\n",
       "    </tr>\n",
       "    <tr>\n",
       "      <th>14</th>\n",
       "      <td>8.940457</td>\n",
       "      <td>181.809141</td>\n",
       "    </tr>\n",
       "    <tr>\n",
       "      <th>15</th>\n",
       "      <td>8.004853</td>\n",
       "      <td>163.097058</td>\n",
       "    </tr>\n",
       "    <tr>\n",
       "      <th>16</th>\n",
       "      <td>7.025400</td>\n",
       "      <td>143.508000</td>\n",
       "    </tr>\n",
       "    <tr>\n",
       "      <th>17</th>\n",
       "      <td>5.380286</td>\n",
       "      <td>110.605718</td>\n",
       "    </tr>\n",
       "    <tr>\n",
       "      <th>18</th>\n",
       "      <td>3.306795</td>\n",
       "      <td>69.135900</td>\n",
       "    </tr>\n",
       "    <tr>\n",
       "      <th>19</th>\n",
       "      <td>3.200204</td>\n",
       "      <td>67.004074</td>\n",
       "    </tr>\n",
       "    <tr>\n",
       "      <th>20</th>\n",
       "      <td>0.177613</td>\n",
       "      <td>6.552266</td>\n",
       "    </tr>\n",
       "    <tr>\n",
       "      <th>21</th>\n",
       "      <td>5.879730</td>\n",
       "      <td>120.594595</td>\n",
       "    </tr>\n",
       "    <tr>\n",
       "      <th>22</th>\n",
       "      <td>8.882625</td>\n",
       "      <td>180.652503</td>\n",
       "    </tr>\n",
       "    <tr>\n",
       "      <th>23</th>\n",
       "      <td>5.880369</td>\n",
       "      <td>120.607390</td>\n",
       "    </tr>\n",
       "    <tr>\n",
       "      <th>24</th>\n",
       "      <td>0.995093</td>\n",
       "      <td>22.901858</td>\n",
       "    </tr>\n",
       "    <tr>\n",
       "      <th>25</th>\n",
       "      <td>6.455614</td>\n",
       "      <td>132.112287</td>\n",
       "    </tr>\n",
       "    <tr>\n",
       "      <th>26</th>\n",
       "      <td>0.803341</td>\n",
       "      <td>19.066812</td>\n",
       "    </tr>\n",
       "    <tr>\n",
       "      <th>27</th>\n",
       "      <td>3.632570</td>\n",
       "      <td>75.651410</td>\n",
       "    </tr>\n",
       "    <tr>\n",
       "      <th>28</th>\n",
       "      <td>5.595845</td>\n",
       "      <td>114.916907</td>\n",
       "    </tr>\n",
       "    <tr>\n",
       "      <th>29</th>\n",
       "      <td>0.830784</td>\n",
       "      <td>19.615676</td>\n",
       "    </tr>\n",
       "  </tbody>\n",
       "</table>\n",
       "</div>"
      ],
      "text/plain": [
       "           x           y\n",
       "0   4.070939   84.418784\n",
       "1   3.255007   68.100144\n",
       "2   6.563324  134.266485\n",
       "3   1.084764   24.695281\n",
       "4   6.188715  126.774296\n",
       "5   7.466051  152.321015\n",
       "6   5.697256  116.945114\n",
       "7   6.886170  140.723399\n",
       "8   2.772058   58.441163\n",
       "9   5.201877  107.037538\n",
       "10  9.404727  191.094542\n",
       "11  3.523166   73.463320\n",
       "12  1.563797   34.275942\n",
       "13  5.779336  118.586713\n",
       "14  8.940457  181.809141\n",
       "15  8.004853  163.097058\n",
       "16  7.025400  143.508000\n",
       "17  5.380286  110.605718\n",
       "18  3.306795   69.135900\n",
       "19  3.200204   67.004074\n",
       "20  0.177613    6.552266\n",
       "21  5.879730  120.594595\n",
       "22  8.882625  180.652503\n",
       "23  5.880369  120.607390\n",
       "24  0.995093   22.901858\n",
       "25  6.455614  132.112287\n",
       "26  0.803341   19.066812\n",
       "27  3.632570   75.651410\n",
       "28  5.595845  114.916907\n",
       "29  0.830784   19.615676"
      ]
     },
     "execution_count": 20,
     "metadata": {},
     "output_type": "execute_result"
    }
   ],
   "source": [
    "x_y = pd.DataFrame({'x':x, 'y':y})\n",
    "x_y"
   ]
  },
  {
   "cell_type": "code",
   "execution_count": null,
   "metadata": {},
   "outputs": [],
   "source": [
    "x_y.describe()"
   ]
  },
  {
   "cell_type": "code",
   "execution_count": 23,
   "metadata": {},
   "outputs": [
    {
     "data": {
      "image/png": "[encoded data removed]",
      "text/plain": [
       "<Figure size 640x480 with 1 Axes>"
      ]
     },
     "metadata": {},
     "output_type": "display_data"
    },
    {
     "data": {
      "text/plain": [
       "<ggplot: (160730377966)>"
      ]
     },
     "execution_count": 23,
     "metadata": {},
     "output_type": "execute_result"
    }
   ],
   "source": [
    "(\n",
    "    ggplot(x_y, aes(x='x', y='y', colour='x+y')) +\n",
    "    geom_line() +\n",
    "    geom_point(fill='white', size=2.5) +\n",
    "    theme(legend_position='none')\n",
    ")"
   ]
  },
  {
   "cell_type": "markdown",
   "metadata": {},
   "source": [
    "## 模型拟合"
   ]
  },
  {
   "cell_type": "code",
   "execution_count": 26,
   "metadata": {},
   "outputs": [],
   "source": [
    "from sklearn.linear_model import LinearRegression"
   ]
  },
  {
   "cell_type": "code",
   "execution_count": 27,
   "metadata": {},
   "outputs": [],
   "source": [
    "reg = LinearRegression()"
   ]
  },
  {
   "cell_type": "code",
   "execution_count": 28,
   "metadata": {},
   "outputs": [],
   "source": [
    "x = x.reshape(-1, 1)"
   ]
  },
  {
   "cell_type": "code",
   "execution_count": 29,
   "metadata": {},
   "outputs": [
    {
     "data": {
      "text/plain": [
       "LinearRegression()"
      ]
     },
     "execution_count": 29,
     "metadata": {},
     "output_type": "execute_result"
    }
   ],
   "source": [
    "reg.fit(x, y)"
   ]
  },
  {
   "cell_type": "code",
   "execution_count": 30,
   "metadata": {},
   "outputs": [
    {
     "name": "stdout",
     "output_type": "stream",
     "text": [
      "Fitted lm model is y=20.0x+3.0\n"
     ]
    }
   ],
   "source": [
    "print(\"Fitted lm model is y={:.3}x+{:.3}\".format(reg.coef_[0], reg.intercept_))"
   ]
  },
  {
   "cell_type": "markdown",
   "metadata": {},
   "source": [
    "## 拟合效果"
   ]
  },
  {
   "cell_type": "code",
   "execution_count": 32,
   "metadata": {},
   "outputs": [
    {
     "data": {
      "text/plain": [
       "array([ 84.41878388,  68.10014372, 134.26648537,  24.69528084,\n",
       "       126.77429626, 152.3210149 , 116.94511426, 140.72339945,\n",
       "        58.44116255, 107.03753825, 191.0945424 ,  73.4633198 ,\n",
       "        34.27594188, 118.58671262, 181.80914086, 163.09705778,\n",
       "       143.50799977, 110.60571781,  69.13590044,  67.0040743 ,\n",
       "         6.55226596, 120.59459483, 180.6525026 , 120.60738976,\n",
       "        22.90185842, 132.11228683,  19.06681232,  75.65140966,\n",
       "       114.9169071 ,  19.61567639])"
      ]
     },
     "execution_count": 32,
     "metadata": {},
     "output_type": "execute_result"
    }
   ],
   "source": [
    "yhat = reg.predict(x)\n",
    "yhat"
   ]
  },
  {
   "cell_type": "code",
   "execution_count": 33,
   "metadata": {},
   "outputs": [
    {
     "data": {
      "text/plain": [
       "array([[4.07093919],\n",
       "       [3.25500719],\n",
       "       [6.56332427],\n",
       "       [1.08476404],\n",
       "       [6.18871481],\n",
       "       [7.46605075],\n",
       "       [5.69725571],\n",
       "       [6.88616997],\n",
       "       [2.77205813],\n",
       "       [5.20187691],\n",
       "       [9.40472712],\n",
       "       [3.52316599],\n",
       "       [1.56379709],\n",
       "       [5.77933563],\n",
       "       [8.94045704],\n",
       "       [8.00485289],\n",
       "       [7.02539999],\n",
       "       [5.38028589],\n",
       "       [3.30679502],\n",
       "       [3.20020372],\n",
       "       [0.1776133 ],\n",
       "       [5.87972974],\n",
       "       [8.88262513],\n",
       "       [5.88036949],\n",
       "       [0.99509292],\n",
       "       [6.45561434],\n",
       "       [0.80334062],\n",
       "       [3.63257048],\n",
       "       [5.59584536],\n",
       "       [0.83078382]])"
      ]
     },
     "execution_count": 33,
     "metadata": {},
     "output_type": "execute_result"
    }
   ],
   "source": [
    "x"
   ]
  },
  {
   "cell_type": "code",
   "execution_count": 34,
   "metadata": {},
   "outputs": [],
   "source": [
    "x_y_yhat = pd.DataFrame({'x':x.flatten(), 'y':y, 'yhat':yhat})"
   ]
  },
  {
   "cell_type": "code",
   "execution_count": 36,
   "metadata": {},
   "outputs": [
    {
     "data": {
      "text/html": [
       "<div>\n",
       "<style scoped>\n",
       "    .dataframe tbody tr th:only-of-type {\n",
       "        vertical-align: middle;\n",
       "    }\n",
       "\n",
       "    .dataframe tbody tr th {\n",
       "        vertical-align: top;\n",
       "    }\n",
       "\n",
       "    .dataframe thead th {\n",
       "        text-align: right;\n",
       "    }\n",
       "</style>\n",
       "<table border=\"1\" class=\"dataframe\">\n",
       "  <thead>\n",
       "    <tr style=\"text-align: right;\">\n",
       "      <th></th>\n",
       "      <th>x</th>\n",
       "      <th>y_type</th>\n",
       "      <th>value</th>\n",
       "    </tr>\n",
       "  </thead>\n",
       "  <tbody>\n",
       "    <tr>\n",
       "      <th>0</th>\n",
       "      <td>4.070939</td>\n",
       "      <td>y</td>\n",
       "      <td>84.418784</td>\n",
       "    </tr>\n",
       "    <tr>\n",
       "      <th>1</th>\n",
       "      <td>3.255007</td>\n",
       "      <td>y</td>\n",
       "      <td>68.100144</td>\n",
       "    </tr>\n",
       "    <tr>\n",
       "      <th>2</th>\n",
       "      <td>6.563324</td>\n",
       "      <td>y</td>\n",
       "      <td>134.266485</td>\n",
       "    </tr>\n",
       "    <tr>\n",
       "      <th>3</th>\n",
       "      <td>1.084764</td>\n",
       "      <td>y</td>\n",
       "      <td>24.695281</td>\n",
       "    </tr>\n",
       "    <tr>\n",
       "      <th>4</th>\n",
       "      <td>6.188715</td>\n",
       "      <td>y</td>\n",
       "      <td>126.774296</td>\n",
       "    </tr>\n",
       "    <tr>\n",
       "      <th>5</th>\n",
       "      <td>7.466051</td>\n",
       "      <td>y</td>\n",
       "      <td>152.321015</td>\n",
       "    </tr>\n",
       "    <tr>\n",
       "      <th>6</th>\n",
       "      <td>5.697256</td>\n",
       "      <td>y</td>\n",
       "      <td>116.945114</td>\n",
       "    </tr>\n",
       "    <tr>\n",
       "      <th>7</th>\n",
       "      <td>6.886170</td>\n",
       "      <td>y</td>\n",
       "      <td>140.723399</td>\n",
       "    </tr>\n",
       "    <tr>\n",
       "      <th>8</th>\n",
       "      <td>2.772058</td>\n",
       "      <td>y</td>\n",
       "      <td>58.441163</td>\n",
       "    </tr>\n",
       "    <tr>\n",
       "      <th>9</th>\n",
       "      <td>5.201877</td>\n",
       "      <td>y</td>\n",
       "      <td>107.037538</td>\n",
       "    </tr>\n",
       "    <tr>\n",
       "      <th>10</th>\n",
       "      <td>9.404727</td>\n",
       "      <td>y</td>\n",
       "      <td>191.094542</td>\n",
       "    </tr>\n",
       "    <tr>\n",
       "      <th>11</th>\n",
       "      <td>3.523166</td>\n",
       "      <td>y</td>\n",
       "      <td>73.463320</td>\n",
       "    </tr>\n",
       "    <tr>\n",
       "      <th>12</th>\n",
       "      <td>1.563797</td>\n",
       "      <td>y</td>\n",
       "      <td>34.275942</td>\n",
       "    </tr>\n",
       "    <tr>\n",
       "      <th>13</th>\n",
       "      <td>5.779336</td>\n",
       "      <td>y</td>\n",
       "      <td>118.586713</td>\n",
       "    </tr>\n",
       "    <tr>\n",
       "      <th>14</th>\n",
       "      <td>8.940457</td>\n",
       "      <td>y</td>\n",
       "      <td>181.809141</td>\n",
       "    </tr>\n",
       "    <tr>\n",
       "      <th>15</th>\n",
       "      <td>8.004853</td>\n",
       "      <td>y</td>\n",
       "      <td>163.097058</td>\n",
       "    </tr>\n",
       "    <tr>\n",
       "      <th>16</th>\n",
       "      <td>7.025400</td>\n",
       "      <td>y</td>\n",
       "      <td>143.508000</td>\n",
       "    </tr>\n",
       "    <tr>\n",
       "      <th>17</th>\n",
       "      <td>5.380286</td>\n",
       "      <td>y</td>\n",
       "      <td>110.605718</td>\n",
       "    </tr>\n",
       "    <tr>\n",
       "      <th>18</th>\n",
       "      <td>3.306795</td>\n",
       "      <td>y</td>\n",
       "      <td>69.135900</td>\n",
       "    </tr>\n",
       "    <tr>\n",
       "      <th>19</th>\n",
       "      <td>3.200204</td>\n",
       "      <td>y</td>\n",
       "      <td>67.004074</td>\n",
       "    </tr>\n",
       "    <tr>\n",
       "      <th>20</th>\n",
       "      <td>0.177613</td>\n",
       "      <td>y</td>\n",
       "      <td>6.552266</td>\n",
       "    </tr>\n",
       "    <tr>\n",
       "      <th>21</th>\n",
       "      <td>5.879730</td>\n",
       "      <td>y</td>\n",
       "      <td>120.594595</td>\n",
       "    </tr>\n",
       "    <tr>\n",
       "      <th>22</th>\n",
       "      <td>8.882625</td>\n",
       "      <td>y</td>\n",
       "      <td>180.652503</td>\n",
       "    </tr>\n",
       "    <tr>\n",
       "      <th>23</th>\n",
       "      <td>5.880369</td>\n",
       "      <td>y</td>\n",
       "      <td>120.607390</td>\n",
       "    </tr>\n",
       "    <tr>\n",
       "      <th>24</th>\n",
       "      <td>0.995093</td>\n",
       "      <td>y</td>\n",
       "      <td>22.901858</td>\n",
       "    </tr>\n",
       "    <tr>\n",
       "      <th>25</th>\n",
       "      <td>6.455614</td>\n",
       "      <td>y</td>\n",
       "      <td>132.112287</td>\n",
       "    </tr>\n",
       "    <tr>\n",
       "      <th>26</th>\n",
       "      <td>0.803341</td>\n",
       "      <td>y</td>\n",
       "      <td>19.066812</td>\n",
       "    </tr>\n",
       "    <tr>\n",
       "      <th>27</th>\n",
       "      <td>3.632570</td>\n",
       "      <td>y</td>\n",
       "      <td>75.651410</td>\n",
       "    </tr>\n",
       "    <tr>\n",
       "      <th>28</th>\n",
       "      <td>5.595845</td>\n",
       "      <td>y</td>\n",
       "      <td>114.916907</td>\n",
       "    </tr>\n",
       "    <tr>\n",
       "      <th>29</th>\n",
       "      <td>0.830784</td>\n",
       "      <td>y</td>\n",
       "      <td>19.615676</td>\n",
       "    </tr>\n",
       "    <tr>\n",
       "      <th>30</th>\n",
       "      <td>4.070939</td>\n",
       "      <td>yhat</td>\n",
       "      <td>84.418784</td>\n",
       "    </tr>\n",
       "    <tr>\n",
       "      <th>31</th>\n",
       "      <td>3.255007</td>\n",
       "      <td>yhat</td>\n",
       "      <td>68.100144</td>\n",
       "    </tr>\n",
       "    <tr>\n",
       "      <th>32</th>\n",
       "      <td>6.563324</td>\n",
       "      <td>yhat</td>\n",
       "      <td>134.266485</td>\n",
       "    </tr>\n",
       "    <tr>\n",
       "      <th>33</th>\n",
       "      <td>1.084764</td>\n",
       "      <td>yhat</td>\n",
       "      <td>24.695281</td>\n",
       "    </tr>\n",
       "    <tr>\n",
       "      <th>34</th>\n",
       "      <td>6.188715</td>\n",
       "      <td>yhat</td>\n",
       "      <td>126.774296</td>\n",
       "    </tr>\n",
       "    <tr>\n",
       "      <th>35</th>\n",
       "      <td>7.466051</td>\n",
       "      <td>yhat</td>\n",
       "      <td>152.321015</td>\n",
       "    </tr>\n",
       "    <tr>\n",
       "      <th>36</th>\n",
       "      <td>5.697256</td>\n",
       "      <td>yhat</td>\n",
       "      <td>116.945114</td>\n",
       "    </tr>\n",
       "    <tr>\n",
       "      <th>37</th>\n",
       "      <td>6.886170</td>\n",
       "      <td>yhat</td>\n",
       "      <td>140.723399</td>\n",
       "    </tr>\n",
       "    <tr>\n",
       "      <th>38</th>\n",
       "      <td>2.772058</td>\n",
       "      <td>yhat</td>\n",
       "      <td>58.441163</td>\n",
       "    </tr>\n",
       "    <tr>\n",
       "      <th>39</th>\n",
       "      <td>5.201877</td>\n",
       "      <td>yhat</td>\n",
       "      <td>107.037538</td>\n",
       "    </tr>\n",
       "    <tr>\n",
       "      <th>40</th>\n",
       "      <td>9.404727</td>\n",
       "      <td>yhat</td>\n",
       "      <td>191.094542</td>\n",
       "    </tr>\n",
       "    <tr>\n",
       "      <th>41</th>\n",
       "      <td>3.523166</td>\n",
       "      <td>yhat</td>\n",
       "      <td>73.463320</td>\n",
       "    </tr>\n",
       "    <tr>\n",
       "      <th>42</th>\n",
       "      <td>1.563797</td>\n",
       "      <td>yhat</td>\n",
       "      <td>34.275942</td>\n",
       "    </tr>\n",
       "    <tr>\n",
       "      <th>43</th>\n",
       "      <td>5.779336</td>\n",
       "      <td>yhat</td>\n",
       "      <td>118.586713</td>\n",
       "    </tr>\n",
       "    <tr>\n",
       "      <th>44</th>\n",
       "      <td>8.940457</td>\n",
       "      <td>yhat</td>\n",
       "      <td>181.809141</td>\n",
       "    </tr>\n",
       "    <tr>\n",
       "      <th>45</th>\n",
       "      <td>8.004853</td>\n",
       "      <td>yhat</td>\n",
       "      <td>163.097058</td>\n",
       "    </tr>\n",
       "    <tr>\n",
       "      <th>46</th>\n",
       "      <td>7.025400</td>\n",
       "      <td>yhat</td>\n",
       "      <td>143.508000</td>\n",
       "    </tr>\n",
       "    <tr>\n",
       "      <th>47</th>\n",
       "      <td>5.380286</td>\n",
       "      <td>yhat</td>\n",
       "      <td>110.605718</td>\n",
       "    </tr>\n",
       "    <tr>\n",
       "      <th>48</th>\n",
       "      <td>3.306795</td>\n",
       "      <td>yhat</td>\n",
       "      <td>69.135900</td>\n",
       "    </tr>\n",
       "    <tr>\n",
       "      <th>49</th>\n",
       "      <td>3.200204</td>\n",
       "      <td>yhat</td>\n",
       "      <td>67.004074</td>\n",
       "    </tr>\n",
       "    <tr>\n",
       "      <th>50</th>\n",
       "      <td>0.177613</td>\n",
       "      <td>yhat</td>\n",
       "      <td>6.552266</td>\n",
       "    </tr>\n",
       "    <tr>\n",
       "      <th>51</th>\n",
       "      <td>5.879730</td>\n",
       "      <td>yhat</td>\n",
       "      <td>120.594595</td>\n",
       "    </tr>\n",
       "    <tr>\n",
       "      <th>52</th>\n",
       "      <td>8.882625</td>\n",
       "      <td>yhat</td>\n",
       "      <td>180.652503</td>\n",
       "    </tr>\n",
       "    <tr>\n",
       "      <th>53</th>\n",
       "      <td>5.880369</td>\n",
       "      <td>yhat</td>\n",
       "      <td>120.607390</td>\n",
       "    </tr>\n",
       "    <tr>\n",
       "      <th>54</th>\n",
       "      <td>0.995093</td>\n",
       "      <td>yhat</td>\n",
       "      <td>22.901858</td>\n",
       "    </tr>\n",
       "    <tr>\n",
       "      <th>55</th>\n",
       "      <td>6.455614</td>\n",
       "      <td>yhat</td>\n",
       "      <td>132.112287</td>\n",
       "    </tr>\n",
       "    <tr>\n",
       "      <th>56</th>\n",
       "      <td>0.803341</td>\n",
       "      <td>yhat</td>\n",
       "      <td>19.066812</td>\n",
       "    </tr>\n",
       "    <tr>\n",
       "      <th>57</th>\n",
       "      <td>3.632570</td>\n",
       "      <td>yhat</td>\n",
       "      <td>75.651410</td>\n",
       "    </tr>\n",
       "    <tr>\n",
       "      <th>58</th>\n",
       "      <td>5.595845</td>\n",
       "      <td>yhat</td>\n",
       "      <td>114.916907</td>\n",
       "    </tr>\n",
       "    <tr>\n",
       "      <th>59</th>\n",
       "      <td>0.830784</td>\n",
       "      <td>yhat</td>\n",
       "      <td>19.615676</td>\n",
       "    </tr>\n",
       "  </tbody>\n",
       "</table>\n",
       "</div>"
      ],
      "text/plain": [
       "           x y_type       value\n",
       "0   4.070939      y   84.418784\n",
       "1   3.255007      y   68.100144\n",
       "2   6.563324      y  134.266485\n",
       "3   1.084764      y   24.695281\n",
       "4   6.188715      y  126.774296\n",
       "5   7.466051      y  152.321015\n",
       "6   5.697256      y  116.945114\n",
       "7   6.886170      y  140.723399\n",
       "8   2.772058      y   58.441163\n",
       "9   5.201877      y  107.037538\n",
       "10  9.404727      y  191.094542\n",
       "11  3.523166      y   73.463320\n",
       "12  1.563797      y   34.275942\n",
       "13  5.779336      y  118.586713\n",
       "14  8.940457      y  181.809141\n",
       "15  8.004853      y  163.097058\n",
       "16  7.025400      y  143.508000\n",
       "17  5.380286      y  110.605718\n",
       "18  3.306795      y   69.135900\n",
       "19  3.200204      y   67.004074\n",
       "20  0.177613      y    6.552266\n",
       "21  5.879730      y  120.594595\n",
       "22  8.882625      y  180.652503\n",
       "23  5.880369      y  120.607390\n",
       "24  0.995093      y   22.901858\n",
       "25  6.455614      y  132.112287\n",
       "26  0.803341      y   19.066812\n",
       "27  3.632570      y   75.651410\n",
       "28  5.595845      y  114.916907\n",
       "29  0.830784      y   19.615676\n",
       "30  4.070939   yhat   84.418784\n",
       "31  3.255007   yhat   68.100144\n",
       "32  6.563324   yhat  134.266485\n",
       "33  1.084764   yhat   24.695281\n",
       "34  6.188715   yhat  126.774296\n",
       "35  7.466051   yhat  152.321015\n",
       "36  5.697256   yhat  116.945114\n",
       "37  6.886170   yhat  140.723399\n",
       "38  2.772058   yhat   58.441163\n",
       "39  5.201877   yhat  107.037538\n",
       "40  9.404727   yhat  191.094542\n",
       "41  3.523166   yhat   73.463320\n",
       "42  1.563797   yhat   34.275942\n",
       "43  5.779336   yhat  118.586713\n",
       "44  8.940457   yhat  181.809141\n",
       "45  8.004853   yhat  163.097058\n",
       "46  7.025400   yhat  143.508000\n",
       "47  5.380286   yhat  110.605718\n",
       "48  3.306795   yhat   69.135900\n",
       "49  3.200204   yhat   67.004074\n",
       "50  0.177613   yhat    6.552266\n",
       "51  5.879730   yhat  120.594595\n",
       "52  8.882625   yhat  180.652503\n",
       "53  5.880369   yhat  120.607390\n",
       "54  0.995093   yhat   22.901858\n",
       "55  6.455614   yhat  132.112287\n",
       "56  0.803341   yhat   19.066812\n",
       "57  3.632570   yhat   75.651410\n",
       "58  5.595845   yhat  114.916907\n",
       "59  0.830784   yhat   19.615676"
      ]
     },
     "execution_count": 36,
     "metadata": {},
     "output_type": "execute_result"
    }
   ],
   "source": [
    "x_y_yhat_melt = pd.melt(x_y_yhat, id_vars='x', var_name='y_type', value_name='value')\n",
    "x_y_yhat_melt"
   ]
  },
  {
   "cell_type": "code",
   "execution_count": 38,
   "metadata": {},
   "outputs": [
    {
     "data": {
      "image/png": "[encoded data removed]",
      "text/plain": [
       "<Figure size 640x480 with 1 Axes>"
      ]
     },
     "metadata": {},
     "output_type": "display_data"
    },
    {
     "data": {
      "text/plain": [
       "<ggplot: (160731039657)>"
      ]
     },
     "execution_count": 38,
     "metadata": {},
     "output_type": "execute_result"
    }
   ],
   "source": [
    "(\n",
    "    ggplot(x_y_yhat_melt, aes(x='x', y='value', colour='y_type')) +\n",
    "    geom_point(alpha=0.25)\n",
    ")"
   ]
  },
  {
   "cell_type": "code",
   "execution_count": 39,
   "metadata": {},
   "outputs": [
    {
     "data": {
      "image/png": "[encoded data removed]",
      "text/plain": [
       "<Figure size 640x480 with 1 Axes>"
      ]
     },
     "metadata": {},
     "output_type": "display_data"
    },
    {
     "data": {
      "text/plain": [
       "<ggplot: (160730377759)>"
      ]
     },
     "execution_count": 39,
     "metadata": {},
     "output_type": "execute_result"
    }
   ],
   "source": [
    "(\n",
    "    ggplot(x_y, aes(x='x', y='y')) +\n",
    "    geom_point() +\n",
    "    geom_smooth(method='lm')\n",
    ")"
   ]
  },
  {
   "cell_type": "code",
   "execution_count": null,
   "metadata": {},
   "outputs": [],
   "source": [
    "from statsmodels.api import OLS"
   ]
  },
  {
   "cell_type": "code",
   "execution_count": null,
   "metadata": {},
   "outputs": [],
   "source": [
    "lm2 = OLS(x, y).fit()"
   ]
  },
  {
   "cell_type": "code",
   "execution_count": null,
   "metadata": {},
   "outputs": [],
   "source": [
    "lm2.summary()"
   ]
  }
 ],
 "metadata": {
  "kernelspec": {
   "display_name": "dmex",
   "language": "python",
   "name": "dmex"
  },
  "language_info": {
   "codemirror_mode": {
    "name": "ipython",
    "version": 3
   },
   "file_extension": ".py",
   "mimetype": "text/x-python",
   "name": "python",
   "nbconvert_exporter": "python",
   "pygments_lexer": "ipython3",
   "version": "3.8.5"
  },
  "toc-autonumbering": true
 },
 "nbformat": 4,
 "nbformat_minor": 4
}
