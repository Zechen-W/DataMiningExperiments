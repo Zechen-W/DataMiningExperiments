{
 "cells": [
  {
   "cell_type": "markdown",
   "metadata": {},
   "source": [
    "# Linear Model"
   ]
  },
  {
   "cell_type": "markdown",
   "metadata": {},
   "source": [
    "接下来演示$y=ax+b$拟合"
   ]
  },
  {
   "cell_type": "markdown",
   "metadata": {},
   "source": [
    "接下来演示$y = \\alpha  + \\beta x$拟合"
   ]
  },
  {
   "cell_type": "markdown",
   "metadata": {},
   "source": [
    "## 生成数据"
   ]
  },
  {
   "cell_type": "code",
   "execution_count": 1,
   "metadata": {},
   "outputs": [],
   "source": [
    "import numpy as np"
   ]
  },
  {
   "cell_type": "code",
   "execution_count": 8,
   "metadata": {},
   "outputs": [
    {
     "data": {
      "text/plain": [
       "array([0.87690506, 0.51988453, 0.86994711, 0.30291895, 0.43420613,\n",
       "       0.428719  , 0.70162546, 0.99624358, 0.71299431, 0.17271522,\n",
       "       0.9063562 , 0.82669642, 0.61565353, 0.56971902, 0.83545873,\n",
       "       0.62302673, 0.50403612, 0.873966  , 0.80977859, 0.71529737,\n",
       "       0.56952687, 0.29241889, 0.29474349, 0.46203894, 0.54670562,\n",
       "       0.61204571, 0.14911949, 0.75862389, 0.26044287, 0.85496616])"
      ]
     },
     "execution_count": 8,
     "metadata": {},
     "output_type": "execute_result"
    }
   ],
   "source": [
    "x = np.random.random(30)\n",
    "x"
   ]
  },
  {
   "cell_type": "code",
   "execution_count": 9,
   "metadata": {},
   "outputs": [
    {
     "data": {
      "text/plain": [
       "array([8.76905062, 5.19884533, 8.69947114, 3.02918948, 4.34206126,\n",
       "       4.28718996, 7.01625458, 9.96243583, 7.1299431 , 1.72715223,\n",
       "       9.06356202, 8.26696422, 6.15653533, 5.69719024, 8.35458725,\n",
       "       6.23026725, 5.04036119, 8.73965999, 8.09778589, 7.15297371,\n",
       "       5.69526867, 2.92418891, 2.94743486, 4.62038937, 5.46705624,\n",
       "       6.12045709, 1.49119488, 7.58623893, 2.60442873, 8.54966164])"
      ]
     },
     "execution_count": 9,
     "metadata": {},
     "output_type": "execute_result"
    }
   ],
   "source": [
    "x = 10 * x\n",
    "x"
   ]
  },
  {
   "cell_type": "code",
   "execution_count": 10,
   "metadata": {},
   "outputs": [
    {
     "data": {
      "text/plain": [
       "array([178.38101239, 106.9769066 , 176.98942285,  63.58378953,\n",
       "        89.84122511,  88.74379924, 143.32509166, 202.24871666,\n",
       "       145.59886196,  37.54304468, 184.27124041, 168.33928449,\n",
       "       126.13070655, 116.94380477, 170.09174502, 127.60534501,\n",
       "       103.80722372, 177.79319979, 164.95571781, 146.05947421,\n",
       "       116.90537337,  61.48377814,  61.94869711,  95.4077875 ,\n",
       "       112.34112487, 125.40914172,  32.8238977 , 154.72477858,\n",
       "        55.08857451, 173.99323285])"
      ]
     },
     "execution_count": 10,
     "metadata": {},
     "output_type": "execute_result"
    }
   ],
   "source": [
    "y = 20*x + 3\n",
    "y"
   ]
  },
  {
   "cell_type": "markdown",
   "metadata": {},
   "source": [
    "增加扰动项：$y = ax + b + \\varepsilon $"
   ]
  },
  {
   "cell_type": "code",
   "execution_count": 11,
   "metadata": {},
   "outputs": [
    {
     "data": {
      "text/plain": [
       "array([181.2278562 , 106.6606156 , 176.19843406,  64.45804001,\n",
       "        89.50067948,  87.27861092, 144.56993014, 203.21109054,\n",
       "       145.06985699,  37.45332196, 181.921526  , 167.56501086,\n",
       "       126.39233821, 116.15039604, 170.70195042, 127.91707718,\n",
       "       105.37411154, 178.89435149, 163.8289792 , 146.32245545,\n",
       "       115.80368754,  62.29243986,  62.58877222,  93.06812811,\n",
       "       112.94768398, 125.85196541,  32.47473376, 153.98909192,\n",
       "        54.20806762, 174.18751507])"
      ]
     },
     "execution_count": 11,
     "metadata": {},
     "output_type": "execute_result"
    }
   ],
   "source": [
    "y = 20 * x + 3 + np.random.randn(30)\n",
    "y"
   ]
  },
  {
   "cell_type": "markdown",
   "metadata": {},
   "source": [
    "## 绘制散点图 "
   ]
  },
  {
   "cell_type": "code",
   "execution_count": 12,
   "metadata": {},
   "outputs": [],
   "source": [
    "from plotnine import *\n",
    "import pandas as pd\n",
    "%matplotlib inline"
   ]
  },
  {
   "cell_type": "code",
   "execution_count": 13,
   "metadata": {},
   "outputs": [],
   "source": [
    "x_y = pd.DataFrame({'x':x, 'y':y})"
   ]
  },
  {
   "cell_type": "code",
   "execution_count": 14,
   "metadata": {},
   "outputs": [
    {
     "data": {
      "text/html": [
       "<div>\n",
       "<style scoped>\n",
       "    .dataframe tbody tr th:only-of-type {\n",
       "        vertical-align: middle;\n",
       "    }\n",
       "\n",
       "    .dataframe tbody tr th {\n",
       "        vertical-align: top;\n",
       "    }\n",
       "\n",
       "    .dataframe thead th {\n",
       "        text-align: right;\n",
       "    }\n",
       "</style>\n",
       "<table border=\"1\" class=\"dataframe\">\n",
       "  <thead>\n",
       "    <tr style=\"text-align: right;\">\n",
       "      <th></th>\n",
       "      <th>x</th>\n",
       "      <th>y</th>\n",
       "    </tr>\n",
       "  </thead>\n",
       "  <tbody>\n",
       "    <tr>\n",
       "      <th>count</th>\n",
       "      <td>30.000000</td>\n",
       "      <td>30.000000</td>\n",
       "    </tr>\n",
       "    <tr>\n",
       "      <th>mean</th>\n",
       "      <td>6.032260</td>\n",
       "      <td>123.603624</td>\n",
       "    </tr>\n",
       "    <tr>\n",
       "      <th>std</th>\n",
       "      <td>2.368511</td>\n",
       "      <td>47.476850</td>\n",
       "    </tr>\n",
       "    <tr>\n",
       "      <th>min</th>\n",
       "      <td>1.491195</td>\n",
       "      <td>32.474734</td>\n",
       "    </tr>\n",
       "    <tr>\n",
       "      <th>25%</th>\n",
       "      <td>4.411643</td>\n",
       "      <td>90.392542</td>\n",
       "    </tr>\n",
       "    <tr>\n",
       "      <th>50%</th>\n",
       "      <td>6.138496</td>\n",
       "      <td>126.122152</td>\n",
       "    </tr>\n",
       "    <tr>\n",
       "      <th>75%</th>\n",
       "      <td>8.224670</td>\n",
       "      <td>166.631003</td>\n",
       "    </tr>\n",
       "    <tr>\n",
       "      <th>max</th>\n",
       "      <td>9.962436</td>\n",
       "      <td>203.211091</td>\n",
       "    </tr>\n",
       "  </tbody>\n",
       "</table>\n",
       "</div>"
      ],
      "text/plain": [
       "               x           y\n",
       "count  30.000000   30.000000\n",
       "mean    6.032260  123.603624\n",
       "std     2.368511   47.476850\n",
       "min     1.491195   32.474734\n",
       "25%     4.411643   90.392542\n",
       "50%     6.138496  126.122152\n",
       "75%     8.224670  166.631003\n",
       "max     9.962436  203.211091"
      ]
     },
     "execution_count": 14,
     "metadata": {},
     "output_type": "execute_result"
    }
   ],
   "source": [
    "x_y.describe()"
   ]
  },
  {
   "cell_type": "code",
   "execution_count": 15,
   "metadata": {},
   "outputs": [
    {
     "data": {
      "image/png": "[encoded data removed]",
      "text/plain": [
       "<Figure size 640x480 with 1 Axes>"
      ]
     },
     "metadata": {},
     "output_type": "display_data"
    },
    {
     "data": {
      "text/plain": [
       "<ggplot: (118628715168)>"
      ]
     },
     "execution_count": 15,
     "metadata": {},
     "output_type": "execute_result"
    }
   ],
   "source": [
    "(\n",
    "    ggplot(x_y, aes(x='x', y='y', colour='x+y')) +\n",
    "    geom_line() +\n",
    "    geom_point(fill='white', size=5) +\n",
    "    theme(legend_position='none')\n",
    ")"
   ]
  },
  {
   "cell_type": "markdown",
   "metadata": {},
   "source": [
    "## 模型拟合"
   ]
  },
  {
   "cell_type": "code",
   "execution_count": 16,
   "metadata": {},
   "outputs": [],
   "source": [
    "from sklearn.linear_model import LinearRegression"
   ]
  },
  {
   "cell_type": "code",
   "execution_count": 17,
   "metadata": {},
   "outputs": [],
   "source": [
    "reg = LinearRegression()"
   ]
  },
  {
   "cell_type": "code",
   "execution_count": 18,
   "metadata": {},
   "outputs": [],
   "source": [
    "x = x.reshape(-1, 1)"
   ]
  },
  {
   "cell_type": "code",
   "execution_count": 19,
   "metadata": {},
   "outputs": [
    {
     "data": {
      "text/plain": [
       "LinearRegression()"
      ]
     },
     "execution_count": 19,
     "metadata": {},
     "output_type": "execute_result"
    }
   ],
   "source": [
    "reg.fit(x, y)"
   ]
  },
  {
   "cell_type": "code",
   "execution_count": 20,
   "metadata": {},
   "outputs": [
    {
     "name": "stdout",
     "output_type": "stream",
     "text": [
      "Fitted lm model is y=20.0x+2.72\n"
     ]
    }
   ],
   "source": [
    "print(\"Fitted lm model is y={:.3}x+{:.3}\".format(reg.coef_[0], reg.intercept_))"
   ]
  },
  {
   "cell_type": "markdown",
   "metadata": {},
   "source": [
    "## 拟合效果"
   ]
  },
  {
   "cell_type": "code",
   "execution_count": 21,
   "metadata": {},
   "outputs": [
    {
     "data": {
      "text/plain": [
       "array([178.44737219, 106.90246166, 177.05303852,  63.42377589,\n",
       "        89.73298961,  88.63339968, 143.32232322, 202.36214218,\n",
       "       145.60057727,  37.33168021, 184.34921539, 168.38584259,\n",
       "       126.09403179, 116.88901397, 170.14175886, 127.57157815,\n",
       "       103.72652836, 177.85840046, 164.99560371, 146.06209782,\n",
       "       116.85050679,  61.3196234 ,  61.78545916,  95.31052893,\n",
       "       112.27725785, 125.37104408,  32.60322735, 154.74448966,\n",
       "        54.91180881, 174.05094021])"
      ]
     },
     "execution_count": 21,
     "metadata": {},
     "output_type": "execute_result"
    }
   ],
   "source": [
    "yhat = reg.predict(x)\n",
    "yhat"
   ]
  },
  {
   "cell_type": "code",
   "execution_count": 22,
   "metadata": {},
   "outputs": [
    {
     "data": {
      "text/plain": [
       "array([[8.76905062],\n",
       "       [5.19884533],\n",
       "       [8.69947114],\n",
       "       [3.02918948],\n",
       "       [4.34206126],\n",
       "       [4.28718996],\n",
       "       [7.01625458],\n",
       "       [9.96243583],\n",
       "       [7.1299431 ],\n",
       "       [1.72715223],\n",
       "       [9.06356202],\n",
       "       [8.26696422],\n",
       "       [6.15653533],\n",
       "       [5.69719024],\n",
       "       [8.35458725],\n",
       "       [6.23026725],\n",
       "       [5.04036119],\n",
       "       [8.73965999],\n",
       "       [8.09778589],\n",
       "       [7.15297371],\n",
       "       [5.69526867],\n",
       "       [2.92418891],\n",
       "       [2.94743486],\n",
       "       [4.62038937],\n",
       "       [5.46705624],\n",
       "       [6.12045709],\n",
       "       [1.49119488],\n",
       "       [7.58623893],\n",
       "       [2.60442873],\n",
       "       [8.54966164]])"
      ]
     },
     "execution_count": 22,
     "metadata": {},
     "output_type": "execute_result"
    }
   ],
   "source": [
    "x"
   ]
  },
  {
   "cell_type": "code",
   "execution_count": 23,
   "metadata": {},
   "outputs": [],
   "source": [
    "x_y_yhat = pd.DataFrame({'x':x.flatten(), 'y':y, 'yhat':yhat})"
   ]
  },
  {
   "cell_type": "code",
   "execution_count": 24,
   "metadata": {},
   "outputs": [
    {
     "data": {
      "text/html": [
       "<div>\n",
       "<style scoped>\n",
       "    .dataframe tbody tr th:only-of-type {\n",
       "        vertical-align: middle;\n",
       "    }\n",
       "\n",
       "    .dataframe tbody tr th {\n",
       "        vertical-align: top;\n",
       "    }\n",
       "\n",
       "    .dataframe thead th {\n",
       "        text-align: right;\n",
       "    }\n",
       "</style>\n",
       "<table border=\"1\" class=\"dataframe\">\n",
       "  <thead>\n",
       "    <tr style=\"text-align: right;\">\n",
       "      <th></th>\n",
       "      <th>x</th>\n",
       "      <th>y_type</th>\n",
       "      <th>value</th>\n",
       "    </tr>\n",
       "  </thead>\n",
       "  <tbody>\n",
       "    <tr>\n",
       "      <th>0</th>\n",
       "      <td>8.769051</td>\n",
       "      <td>y</td>\n",
       "      <td>181.227856</td>\n",
       "    </tr>\n",
       "    <tr>\n",
       "      <th>1</th>\n",
       "      <td>5.198845</td>\n",
       "      <td>y</td>\n",
       "      <td>106.660616</td>\n",
       "    </tr>\n",
       "    <tr>\n",
       "      <th>2</th>\n",
       "      <td>8.699471</td>\n",
       "      <td>y</td>\n",
       "      <td>176.198434</td>\n",
       "    </tr>\n",
       "    <tr>\n",
       "      <th>3</th>\n",
       "      <td>3.029189</td>\n",
       "      <td>y</td>\n",
       "      <td>64.458040</td>\n",
       "    </tr>\n",
       "    <tr>\n",
       "      <th>4</th>\n",
       "      <td>4.342061</td>\n",
       "      <td>y</td>\n",
       "      <td>89.500679</td>\n",
       "    </tr>\n",
       "  </tbody>\n",
       "</table>\n",
       "</div>"
      ],
      "text/plain": [
       "          x y_type       value\n",
       "0  8.769051      y  181.227856\n",
       "1  5.198845      y  106.660616\n",
       "2  8.699471      y  176.198434\n",
       "3  3.029189      y   64.458040\n",
       "4  4.342061      y   89.500679"
      ]
     },
     "execution_count": 24,
     "metadata": {},
     "output_type": "execute_result"
    }
   ],
   "source": [
    "x_y_yhat_melt = pd.melt(x_y_yhat, id_vars='x', var_name='y_type', value_name='value')\n",
    "x_y_yhat_melt.head()"
   ]
  },
  {
   "cell_type": "code",
   "execution_count": 25,
   "metadata": {},
   "outputs": [
    {
     "data": {
      "image/png": "[encoded data removed]",
      "text/plain": [
       "<Figure size 640x480 with 1 Axes>"
      ]
     },
     "metadata": {},
     "output_type": "display_data"
    },
    {
     "data": {
      "text/plain": [
       "<ggplot: (118628715048)>"
      ]
     },
     "execution_count": 25,
     "metadata": {},
     "output_type": "execute_result"
    }
   ],
   "source": [
    "(\n",
    "    ggplot(x_y_yhat_melt, aes(x='x', y='value', colour='y_type')) +\n",
    "    geom_point(alpha=0.5)\n",
    ")"
   ]
  },
  {
   "cell_type": "code",
   "execution_count": 26,
   "metadata": {},
   "outputs": [
    {
     "data": {
      "image/png": "[encoded data removed]",
      "text/plain": [
       "<Figure size 640x480 with 1 Axes>"
      ]
     },
     "metadata": {},
     "output_type": "display_data"
    },
    {
     "data": {
      "text/plain": [
       "<ggplot: (118629764256)>"
      ]
     },
     "execution_count": 26,
     "metadata": {},
     "output_type": "execute_result"
    }
   ],
   "source": [
    "(\n",
    "    ggplot(x_y, aes(x='x', y='y')) +\n",
    "    geom_point() +\n",
    "    geom_smooth(method='lm')\n",
    ")"
   ]
  },
  {
   "cell_type": "code",
   "execution_count": 27,
   "metadata": {},
   "outputs": [],
   "source": [
    "from statsmodels.api import OLS"
   ]
  },
  {
   "cell_type": "code",
   "execution_count": 28,
   "metadata": {},
   "outputs": [],
   "source": [
    "lm2 = OLS(x, y).fit()"
   ]
  },
  {
   "cell_type": "code",
   "execution_count": 29,
   "metadata": {},
   "outputs": [
    {
     "data": {
      "text/html": [
       "<table class=\"simpletable\">\n",
       "<caption>OLS Regression Results</caption>\n",
       "<tr>\n",
       "  <th>Dep. Variable:</th>            <td>y</td>        <th>  R-squared (uncentered):</th>      <td>   1.000</td> \n",
       "</tr>\n",
       "<tr>\n",
       "  <th>Model:</th>                   <td>OLS</td>       <th>  Adj. R-squared (uncentered):</th> <td>   1.000</td> \n",
       "</tr>\n",
       "<tr>\n",
       "  <th>Method:</th>             <td>Least Squares</td>  <th>  F-statistic:       </th>          <td>2.329e+05</td>\n",
       "</tr>\n",
       "<tr>\n",
       "  <th>Date:</th>             <td>Tue, 09 Mar 2021</td> <th>  Prob (F-statistic):</th>          <td>3.52e-58</td> \n",
       "</tr>\n",
       "<tr>\n",
       "  <th>Time:</th>                 <td>12:01:21</td>     <th>  Log-Likelihood:    </th>          <td>  36.303</td> \n",
       "</tr>\n",
       "<tr>\n",
       "  <th>No. Observations:</th>      <td>    30</td>      <th>  AIC:               </th>          <td>  -70.61</td> \n",
       "</tr>\n",
       "<tr>\n",
       "  <th>Df Residuals:</th>          <td>    29</td>      <th>  BIC:               </th>          <td>  -69.20</td> \n",
       "</tr>\n",
       "<tr>\n",
       "  <th>Df Model:</th>              <td>     1</td>      <th>                     </th>              <td> </td>    \n",
       "</tr>\n",
       "<tr>\n",
       "  <th>Covariance Type:</th>      <td>nonrobust</td>    <th>                     </th>              <td> </td>    \n",
       "</tr>\n",
       "</table>\n",
       "<table class=\"simpletable\">\n",
       "<tr>\n",
       "   <td></td>     <th>coef</th>     <th>std err</th>      <th>t</th>      <th>P>|t|</th>  <th>[0.025</th>    <th>0.975]</th>  \n",
       "</tr>\n",
       "<tr>\n",
       "  <th>x1</th> <td>    0.0489</td> <td>    0.000</td> <td>  482.604</td> <td> 0.000</td> <td>    0.049</td> <td>    0.049</td>\n",
       "</tr>\n",
       "</table>\n",
       "<table class=\"simpletable\">\n",
       "<tr>\n",
       "  <th>Omnibus:</th>       <td> 0.424</td> <th>  Durbin-Watson:     </th> <td>   2.168</td>\n",
       "</tr>\n",
       "<tr>\n",
       "  <th>Prob(Omnibus):</th> <td> 0.809</td> <th>  Jarque-Bera (JB):  </th> <td>   0.485</td>\n",
       "</tr>\n",
       "<tr>\n",
       "  <th>Skew:</th>          <td> 0.249</td> <th>  Prob(JB):          </th> <td>   0.785</td>\n",
       "</tr>\n",
       "<tr>\n",
       "  <th>Kurtosis:</th>      <td> 2.628</td> <th>  Cond. No.          </th> <td>    1.00</td>\n",
       "</tr>\n",
       "</table><br/><br/>Notes:<br/>[1] R² is computed without centering (uncentered) since the model does not contain a constant.<br/>[2] Standard Errors assume that the covariance matrix of the errors is correctly specified."
      ],
      "text/plain": [
       "<class 'statsmodels.iolib.summary.Summary'>\n",
       "\"\"\"\n",
       "                                 OLS Regression Results                                \n",
       "=======================================================================================\n",
       "Dep. Variable:                      y   R-squared (uncentered):                   1.000\n",
       "Model:                            OLS   Adj. R-squared (uncentered):              1.000\n",
       "Method:                 Least Squares   F-statistic:                          2.329e+05\n",
       "Date:                Tue, 09 Mar 2021   Prob (F-statistic):                    3.52e-58\n",
       "Time:                        12:01:21   Log-Likelihood:                          36.303\n",
       "No. Observations:                  30   AIC:                                     -70.61\n",
       "Df Residuals:                      29   BIC:                                     -69.20\n",
       "Df Model:                           1                                                  \n",
       "Covariance Type:            nonrobust                                                  \n",
       "==============================================================================\n",
       "                 coef    std err          t      P>|t|      [0.025      0.975]\n",
       "------------------------------------------------------------------------------\n",
       "x1             0.0489      0.000    482.604      0.000       0.049       0.049\n",
       "==============================================================================\n",
       "Omnibus:                        0.424   Durbin-Watson:                   2.168\n",
       "Prob(Omnibus):                  0.809   Jarque-Bera (JB):                0.485\n",
       "Skew:                           0.249   Prob(JB):                        0.785\n",
       "Kurtosis:                       2.628   Cond. No.                         1.00\n",
       "==============================================================================\n",
       "\n",
       "Notes:\n",
       "[1] R² is computed without centering (uncentered) since the model does not contain a constant.\n",
       "[2] Standard Errors assume that the covariance matrix of the errors is correctly specified.\n",
       "\"\"\""
      ]
     },
     "execution_count": 29,
     "metadata": {},
     "output_type": "execute_result"
    }
   ],
   "source": [
    "lm2.summary()"
   ]
  }
 ],
 "metadata": {
  "kernelspec": {
   "display_name": "dmex",
   "language": "python",
   "name": "dmex"
  },
  "language_info": {
   "codemirror_mode": {
    "name": "ipython",
    "version": 3
   },
   "file_extension": ".py",
   "mimetype": "text/x-python",
   "name": "python",
   "nbconvert_exporter": "python",
   "pygments_lexer": "ipython3",
   "version": "3.8.5"
  },
  "toc-autonumbering": true
 },
 "nbformat": 4,
 "nbformat_minor": 4
}
