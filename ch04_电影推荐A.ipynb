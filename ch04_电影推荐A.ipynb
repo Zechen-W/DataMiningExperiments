{
 "cells": [
  {
   "cell_type": "markdown",
   "metadata": {},
   "source": [
    "# 问题情境"
   ]
  },
  {
   "cell_type": "markdown",
   "metadata": {},
   "source": [
    "我们在向别人推销数据挖掘时，通常我们都会说数据挖掘能“发现数据背后的规律”，并且经常是“意想不到的、新奇的”规律。通常会举啤酒和尿布的例子——啤酒与尿布的故事，或许是有史以来推销数据挖掘最好的广告之一!<br>\n",
    "<img src=figtabs/ch4/beer_diapers.png align=center width=30% height=30% />"
   ]
  },
  {
   "cell_type": "markdown",
   "metadata": {},
   "source": [
    "故事有多个版本，其中一个版本是：<br>\n",
    "沃尔玛在美国的一家分店发生过这样一件趣事:在一个夏季，管理者发现在那段时间里婴儿尿布和啤酒的销量次第拔高。这如果在一般的商店也许就会被忽略，但沃尔玛超市的管理者没有轻易放过。他们立即对这个现象进行了分析和讨论，并且派出了专门的队伍在卖场内进行全天候的观察。最后，谜底终于水落石出：原来，购买这两种产品的顾客一般都是年龄在25至35周岁的青年男子，由于孩子尚在哺乳期，所以每天下班后他们都会遵太太的命令到超市里为孩子购买婴儿纸尿裤，每当这个时候，他们大都会为自己顺带买回几瓶啤酒。<br>\n",
    "沃尔玛的管理者立即针对此现象采取了行动：将卖场内原来相隔很远的妇婴用品区与酒类饮料区的空间距离拉近，减少顾客的行走时间。"
   ]
  },
  {
   "cell_type": "markdown",
   "metadata": {},
   "source": [
    "尽管啤酒和尿布的故事是杜撰的，但是通过数据来挖掘事物之间的关联关系，却在很多场合都有应用，比如：<br>\n",
    "<img src=figtabs/ch4/jd_recommendation.png align=center width=50% height=50% />"
   ]
  },
  {
   "cell_type": "markdown",
   "metadata": {},
   "source": [
    "又比如：<br>\n",
    "<img src=figtabs/ch4/EI_village_recommendation.png align=center width=50% height=50% />"
   ]
  },
  {
   "cell_type": "markdown",
   "metadata": {},
   "source": [
    "关联分析旨在事务、关系数据库中的项集和对象中发现频繁模式、伴随过程、相依性、相关性乃至可能的因果结构。关联分析虽然通常被称之为购物篮分析，但其应用场景已经远远超出了“购物”的范畴：<br>\n",
    "* 购物篮分析（优化货架商品摆放、优化邮寄商品目录的内容、交叉销售和捆绑销售、……）\n",
    "* web分析\n",
    "* 生物信息学（DNA对新药敏感性分析）\n",
    "* 地球科学\n",
    "* ……<br>\n",
    "\n",
    "本实验将以电影推荐为例，简述关联规则的原理及其应用。"
   ]
  },
  {
   "cell_type": "markdown",
   "metadata": {},
   "source": [
    "# Apriori算法原理"
   ]
  },
  {
   "cell_type": "markdown",
   "metadata": {},
   "source": [
    "关联分析（Association Analysis）用于发现隐藏在大型数据集中有意义的联系，所发现的联系可以用频繁项集或关联规则的形式表示<br>\n",
    "* 频繁项集（frequent item sets）是经常出现在一块的物品的集合\n",
    "* 关联规则（association rules），形如$A \\Rightarrow B$的蕴含式，$A$发生的情况之下，$B$可能也伴随发生，暗示两种物品之间可能存在很强的关系。\n",
    "\n",
    "---\n",
    "\n",
    "以下是一些基本概念：<br>\n",
    "\n",
    "* 项item的集合称为项集itemset\n",
    "* 包含k个项的项集称为k-项集\n",
    "* 项集出现的频度是包含该项集的事务数，简称为项集的频度、支持度计数\n",
    "* 如果项集的支持度满足预定义的最小支持度阈值，称之为频繁项集frequent itemset  \n",
    "\n",
    "---\n",
    "\n",
    "关联规则是一个蕴涵式：𝐴⇒𝐵，其中𝐴和𝐵是不相交的项集  \n",
    "具体含义是：𝐴出现的时候，𝐵也出现；或者说，𝐵伴随着𝐴出现  \n",
    "关联规则在事务集𝑇中成立，所具有支持度和置信度：  \n",
    "* 一个项集的支持度（support）被定义为数据集中包含该项集的记录所占的比例：$support\\left( {A \\Rightarrow B} \\right) = P\\left( {A \\cup B} \\right)$\n",
    "* 置信度则是针对规则来定义的：$confidence\\left( {A \\Rightarrow B} \\right) = P\\left( {B|A} \\right) = \\frac{{P\\left( {A \\cup B} \\right)}}{{P\\left( A \\right)}} = \\frac{{support\\_count\\left( {A \\cup B} \\right)}}{{support\\_coun\\left( A \\right)}}$\n",
    "\n",
    "* **支持度**：减少偶然性  \n",
    "* **置信度**：增加推断能力  \n",
    "* 满足最小支持度和置信度的规则称为强规则\n",
    "\n",
    "---\n",
    "\n",
    "除了支持度和置信度之外，提升度也是常用的一个指标：  \n",
    "**提升度**：  \n",
    "$lift\\left( {A \\Rightarrow B} \\right) = \\frac{{P\\left( {A \\cup B} \\right)}}{{P\\left( A \\right)P\\left( B \\right)}}$\n",
    "\n",
    "$lift\\left( {A \\Rightarrow B} \\right) = \\frac{{P\\left( {A|B} \\right)}}{{P\\left( A \\right)}}$\n",
    "\n",
    "* 如果提升度小于1，则A的出现和B的出现是负相关的，意味着一个出现可能导致另一个不出现\n",
    "* 如果提升度大于1，则A的出现和B的出现是正相关的，意味着一个出现蕴含另一个的出现\n",
    "* 换言之，它评估一个的出现“提升”另一个出现的程度"
   ]
  },
  {
   "cell_type": "markdown",
   "metadata": {},
   "source": [
    "Apriori算法的核心思想是利用先验规则：<br>\n",
    "* 频繁项集的所有非空子集也一定是频繁的\n",
    "* 非频繁项集的超集必定是非频繁的<br>\n",
    "<img src=figtabs/ch4/freq_itemset_prune.png align=center width=50% height=50%>"
   ]
  },
  {
   "cell_type": "markdown",
   "metadata": {},
   "source": [
    "算法过程可表述如下：<br>\n",
    "<img src=\"figtabs/ch4/apriori_part_a.png\" height=60% width=60% align=left />"
   ]
  },
  {
   "cell_type": "markdown",
   "metadata": {},
   "source": [
    "<img src=figtabs/ch4/ck_gen.png align=center width=40% height=40%>"
   ]
  },
  {
   "cell_type": "markdown",
   "metadata": {},
   "source": [
    "由频繁的$k-1$项集，生成频繁的$k$项集候选，有多种办法：<br>   \n",
    "\n",
    "| 方法名称 | 方法描述 |\n",
    "| :------: | :------ |\n",
    "| 蛮力方法 | 把所有的$k$项集都看作可能的候选集，然后再剪枝 |\n",
    "| 连接方法一 | 用其他频繁项集来扩展每个频繁$(k-1)$项集 |\n",
    "| 连接方法二 | 合并一对$(k-1)$项集，当且仅当他们前$k-1$项都相同 |"
   ]
  },
  {
   "cell_type": "markdown",
   "metadata": {},
   "source": [
    "<img src=figtabs/ch4/apriori_part_b.png align=left width=60% height=60% />"
   ]
  },
  {
   "cell_type": "markdown",
   "metadata": {},
   "source": [
    "完成了频繁项集的挖掘，只是完成了关联规则挖掘两个步骤中的第一步：<br>\n",
    "* （1）找出所有频繁项集，满足最小支持度\n",
    "* （2）由频繁项集产生强关联规则，满足最小置信度\n",
    "\n",
    "---\n",
    "\n",
    "避免野蛮搜索：<br>\n",
    "* （1）基于支持度对候选集进行剪枝\n",
    "* （2）基于置信度对规则进行剪枝\n",
    "\n",
    "---\n",
    "\n",
    "如果$X \\Rightarrow (Y - X)$不满足置信度阈值，则对于${X^{sub}} \\subset X$的规则${X^{sub}} \\Rightarrow Y - {X^{sub}}$也一定不满足置信度阈值!<br>\n",
    "<img src=figtabs/ch4/rule_prune.png align=center width=50% height=50%>"
   ]
  },
  {
   "cell_type": "markdown",
   "metadata": {},
   "source": [
    "# 数据导入"
   ]
  },
  {
   "cell_type": "markdown",
   "metadata": {},
   "source": [
    "## 数据源"
   ]
  },
  {
   "cell_type": "markdown",
   "metadata": {
    "ExecuteTime": {
     "end_time": "2019-02-17T00:45:16.661888Z",
     "start_time": "2019-02-17T00:45:16.653892Z"
    }
   },
   "source": [
    "MovieLens 是历史最悠久的推荐系统。它由美国 Minnesota 大学计算机科学与工程学院的 GroupLens 项目组创办，是一个非商业性质的、以研究为目的的实验性站点。MovieLens 主要使用 Collaborative Filtering 和 Association Rules 相结合的技术，向用户推荐他们感兴趣的电影。"
   ]
  },
  {
   "cell_type": "markdown",
   "metadata": {
    "ExecuteTime": {
     "end_time": "2019-02-17T00:45:16.661888Z",
     "start_time": "2019-02-17T00:45:16.653892Z"
    }
   },
   "source": [
    "自打Netflix Prize奖项设立以来，美国明尼苏达大学的Grouplens研究团队公开了一系列用于测试推荐算法的数据集,包含多个用户对多部电影的评级数据，也包括电影元数据信息和用户属性信息。  这个数据集经常用来做推荐系统，机器学习算法的测试数据集。尤其在推荐系统领域，很多著名论文都是基于这个网站提供的数据集。   "
   ]
  },
  {
   "cell_type": "markdown",
   "metadata": {
    "ExecuteTime": {
     "end_time": "2019-02-17T00:45:16.661888Z",
     "start_time": "2019-02-17T00:45:16.653892Z"
    }
   },
   "source": [
    "MovieLens提供的电影评分数据集包含多个版本，如MovieLens 20M Dataset、MovieLens 100K Dataset、MovieLens 1M Dataset、MovieLens 10M Dataset、MovieLens Latest Datasets等多个版本，其中MovieLens Latest Datasets更新至2018年9月（Accessed on 2/17/2019）。  \n",
    "本实验将采用MovieLens 10M Dataset，数据集下载地址为：<http://grouplens.org/datasets/movielens/>。\n",
    "\n",
    "<img src=figtabs/ch4/movielens_10m_url.png align=center width=50% height=50% />"
   ]
  },
  {
   "cell_type": "markdown",
   "metadata": {
    "ExecuteTime": {
     "end_time": "2019-02-17T00:45:16.661888Z",
     "start_time": "2019-02-17T00:45:16.653892Z"
    }
   },
   "source": [
    "当然，也可以直接进入[Permalink](http://grouplens.org/datasets/movielens/10m/)下载。  \n",
    "\n",
    "关于这份数据即的信息，可参看相应的[文档](http://files.grouplens.org/datasets/movielens/ml-100k-README.txt)\n",
    "> u.data     -- The full u data set, 100000 ratings by 943 users on 1682 items.  \n",
    ">              Each user has rated at least 20 movies.  Users and items are  \n",
    ">              numbered consecutively from 1.  The data is randomly  \n",
    ">              ordered. This is a tab separated list of   \n",
    ">\t         user id | item id | rating | timestamp.   \n",
    ">              The time stamps are unix seconds since 1/1/1970 UTC     \n",
    "> u.item     -- Information about the items (movies); this is a tab separated  \n",
    ">              list of  \n",
    ">              movie id | movie title | release date | video release date |  \n",
    ">              IMDb URL | unknown | Action | Adventure | Animation |  \n",
    ">              Children's | Comedy | Crime | Documentary | Drama | Fantasy |  \n",
    ">              Film-Noir | Horror | Musical | Mystery | Romance | Sci-Fi |  \n",
    ">              Thriller | War | Western |  \n",
    ">              The last 19 fields are the genres, a 1 indicates the movie  \n",
    ">              is of that genre, a 0 indicates it is not; movies can be in  \n",
    ">              several genres at once.  \n",
    ">              The movie ids are the ones used in the u.data data set.  "
   ]
  },
  {
   "cell_type": "markdown",
   "metadata": {},
   "source": [
    "## 准备工作"
   ]
  },
  {
   "cell_type": "markdown",
   "metadata": {},
   "source": [
    "导入相关模块："
   ]
  },
  {
   "cell_type": "code",
   "execution_count": 1,
   "metadata": {
    "ExecuteTime": {
     "end_time": "2019-04-15T02:36:03.588015Z",
     "start_time": "2019-04-15T02:36:02.063470Z"
    }
   },
   "outputs": [],
   "source": [
    "import os\n",
    "import sys\n",
    "import pandas as pd"
   ]
  },
  {
   "cell_type": "code",
   "execution_count": 2,
   "metadata": {},
   "outputs": [],
   "source": [
    "#在Jupyter中，除非加上print，每个cell只会显示最后一个输出结果\n",
    "#通过加上如下代码，使之打印所有的交互式输出，而不仅仅是最后一个\n",
    "from IPython.core.interactiveshell import InteractiveShell\n",
    "InteractiveShell.ast_node_interactivity = \"all\""
   ]
  },
  {
   "cell_type": "code",
   "execution_count": 3,
   "metadata": {},
   "outputs": [],
   "source": [
    "import warnings\n",
    "warnings.filterwarnings('ignore')"
   ]
  },
  {
   "cell_type": "code",
   "execution_count": 4,
   "metadata": {},
   "outputs": [
    {
     "data": {
      "text/plain": [
       "'%.3f'"
      ]
     },
     "execution_count": 4,
     "metadata": {},
     "output_type": "execute_result"
    }
   ],
   "source": [
    "%precision 3"
   ]
  },
  {
   "cell_type": "markdown",
   "metadata": {},
   "source": [
    "## 数据导入"
   ]
  },
  {
   "cell_type": "markdown",
   "metadata": {
    "ExecuteTime": {
     "end_time": "2019-02-17T00:45:16.661888Z",
     "start_time": "2019-02-17T00:45:16.653892Z"
    }
   },
   "source": [
    "下载完成后，解压缩至datasets文件夹，并通过以下代码进行解析。"
   ]
  },
  {
   "cell_type": "code",
   "execution_count": 5,
   "metadata": {},
   "outputs": [
    {
     "data": {
      "text/plain": [
       "'D:\\\\wd\\\\python\\\\T01_edu\\\\Y02_DataMiningExperiments'"
      ]
     },
     "execution_count": 5,
     "metadata": {},
     "output_type": "execute_result"
    }
   ],
   "source": [
    "os.getcwd()"
   ]
  },
  {
   "cell_type": "code",
   "execution_count": 6,
   "metadata": {
    "ExecuteTime": {
     "end_time": "2019-04-15T02:36:03.603683Z",
     "start_time": "2019-04-15T02:36:03.588015Z"
    }
   },
   "outputs": [
    {
     "data": {
      "text/plain": [
       "'datasets\\\\ml-100k'"
      ]
     },
     "execution_count": 6,
     "metadata": {},
     "output_type": "execute_result"
    },
    {
     "data": {
      "text/plain": [
       "'D:\\\\wd\\\\python\\\\T01_edu\\\\Y02_DataMiningExperiments\\\\datasets\\\\ml-100k'"
      ]
     },
     "execution_count": 6,
     "metadata": {},
     "output_type": "execute_result"
    },
    {
     "data": {
      "text/plain": [
       "'datasets\\\\ml-100k\\\\u.data'"
      ]
     },
     "execution_count": 6,
     "metadata": {},
     "output_type": "execute_result"
    },
    {
     "data": {
      "text/plain": [
       "'D:\\\\wd\\\\python\\\\T01_edu\\\\Y02_DataMiningExperiments\\\\datasets\\\\ml-100k\\\\u.data'"
      ]
     },
     "execution_count": 6,
     "metadata": {},
     "output_type": "execute_result"
    }
   ],
   "source": [
    "data_folder = os.path.join(\"datasets\", \"ml-100k\")\n",
    "data_folder\n",
    "os.path.abspath(data_folder)\n",
    "ratings_filename = os.path.join(data_folder, \"u.data\")\n",
    "ratings_filename\n",
    "os.path.abspath(ratings_filename)"
   ]
  },
  {
   "cell_type": "markdown",
   "metadata": {},
   "source": [
    "MovieLens数据集非常规整，但是有几点跟 pandas.read_csv 方法的默认设置有出入，所以要调整参数设置  \n",
    "* 数据集每行的几个数据之间用制表符而不是逗号分隔\n",
    "* 没有表头，这表示数据集的第一行就是数据部分，我们需要手动为各列添加名称  \n",
    "\n",
    "加载数据集时，把分隔符设置为制表符，告诉pandas不要把第一行作为表头（ header=None ），设置好各列的名称。代码如下："
   ]
  },
  {
   "cell_type": "code",
   "execution_count": 7,
   "metadata": {
    "ExecuteTime": {
     "end_time": "2019-04-15T02:36:03.871618Z",
     "start_time": "2019-04-15T02:36:03.603683Z"
    }
   },
   "outputs": [
    {
     "name": "stdout",
     "output_type": "stream",
     "text": [
      "Wall time: 270 ms\n"
     ]
    }
   ],
   "source": [
    "%%time\n",
    "all_ratings = pd.read_csv(\n",
    "    ratings_filename,\n",
    "    delimiter=\"\\t\",\n",
    "    header=None,\n",
    "    names=[\"UserID\", \"MovieID\", \"Rating\", \"Datetime\"],\n",
    ")"
   ]
  },
  {
   "cell_type": "code",
   "execution_count": 8,
   "metadata": {
    "ExecuteTime": {
     "end_time": "2019-04-15T02:36:04.599769Z",
     "start_time": "2019-04-15T02:36:03.871618Z"
    }
   },
   "outputs": [],
   "source": [
    "all_ratings.to_csv(os.path.join(data_folder, \"u.data.csv\"))"
   ]
  },
  {
   "cell_type": "code",
   "execution_count": 9,
   "metadata": {},
   "outputs": [],
   "source": [
    "import feather"
   ]
  },
  {
   "cell_type": "code",
   "execution_count": 10,
   "metadata": {},
   "outputs": [],
   "source": [
    "feather.write_dataframe(all_ratings, \"D://desktop/all_ratings.feather\")"
   ]
  },
  {
   "cell_type": "markdown",
   "metadata": {},
   "source": [
    "查看一下所读入的数据："
   ]
  },
  {
   "cell_type": "code",
   "execution_count": 11,
   "metadata": {},
   "outputs": [
    {
     "data": {
      "text/plain": [
       "(100000, 4)"
      ]
     },
     "execution_count": 11,
     "metadata": {},
     "output_type": "execute_result"
    }
   ],
   "source": [
    "all_ratings.shape"
   ]
  },
  {
   "cell_type": "code",
   "execution_count": 12,
   "metadata": {
    "ExecuteTime": {
     "end_time": "2019-04-15T02:36:04.630900Z",
     "start_time": "2019-04-15T02:36:04.599769Z"
    }
   },
   "outputs": [
    {
     "data": {
      "text/html": [
       "<div>\n",
       "<style scoped>\n",
       "    .dataframe tbody tr th:only-of-type {\n",
       "        vertical-align: middle;\n",
       "    }\n",
       "\n",
       "    .dataframe tbody tr th {\n",
       "        vertical-align: top;\n",
       "    }\n",
       "\n",
       "    .dataframe thead th {\n",
       "        text-align: right;\n",
       "    }\n",
       "</style>\n",
       "<table border=\"1\" class=\"dataframe\">\n",
       "  <thead>\n",
       "    <tr style=\"text-align: right;\">\n",
       "      <th></th>\n",
       "      <th>UserID</th>\n",
       "      <th>MovieID</th>\n",
       "      <th>Rating</th>\n",
       "      <th>Datetime</th>\n",
       "    </tr>\n",
       "  </thead>\n",
       "  <tbody>\n",
       "    <tr>\n",
       "      <th>0</th>\n",
       "      <td>196</td>\n",
       "      <td>242</td>\n",
       "      <td>3</td>\n",
       "      <td>881250949</td>\n",
       "    </tr>\n",
       "    <tr>\n",
       "      <th>1</th>\n",
       "      <td>186</td>\n",
       "      <td>302</td>\n",
       "      <td>3</td>\n",
       "      <td>891717742</td>\n",
       "    </tr>\n",
       "    <tr>\n",
       "      <th>2</th>\n",
       "      <td>22</td>\n",
       "      <td>377</td>\n",
       "      <td>1</td>\n",
       "      <td>878887116</td>\n",
       "    </tr>\n",
       "    <tr>\n",
       "      <th>3</th>\n",
       "      <td>244</td>\n",
       "      <td>51</td>\n",
       "      <td>2</td>\n",
       "      <td>880606923</td>\n",
       "    </tr>\n",
       "    <tr>\n",
       "      <th>4</th>\n",
       "      <td>166</td>\n",
       "      <td>346</td>\n",
       "      <td>1</td>\n",
       "      <td>886397596</td>\n",
       "    </tr>\n",
       "    <tr>\n",
       "      <th>5</th>\n",
       "      <td>298</td>\n",
       "      <td>474</td>\n",
       "      <td>4</td>\n",
       "      <td>884182806</td>\n",
       "    </tr>\n",
       "    <tr>\n",
       "      <th>6</th>\n",
       "      <td>115</td>\n",
       "      <td>265</td>\n",
       "      <td>2</td>\n",
       "      <td>881171488</td>\n",
       "    </tr>\n",
       "    <tr>\n",
       "      <th>7</th>\n",
       "      <td>253</td>\n",
       "      <td>465</td>\n",
       "      <td>5</td>\n",
       "      <td>891628467</td>\n",
       "    </tr>\n",
       "    <tr>\n",
       "      <th>8</th>\n",
       "      <td>305</td>\n",
       "      <td>451</td>\n",
       "      <td>3</td>\n",
       "      <td>886324817</td>\n",
       "    </tr>\n",
       "    <tr>\n",
       "      <th>9</th>\n",
       "      <td>6</td>\n",
       "      <td>86</td>\n",
       "      <td>3</td>\n",
       "      <td>883603013</td>\n",
       "    </tr>\n",
       "  </tbody>\n",
       "</table>\n",
       "</div>"
      ],
      "text/plain": [
       "   UserID  MovieID  Rating   Datetime\n",
       "0     196      242       3  881250949\n",
       "1     186      302       3  891717742\n",
       "2      22      377       1  878887116\n",
       "3     244       51       2  880606923\n",
       "4     166      346       1  886397596\n",
       "5     298      474       4  884182806\n",
       "6     115      265       2  881171488\n",
       "7     253      465       5  891628467\n",
       "8     305      451       3  886324817\n",
       "9       6       86       3  883603013"
      ]
     },
     "execution_count": 12,
     "metadata": {},
     "output_type": "execute_result"
    }
   ],
   "source": [
    "all_ratings.head(n=10)"
   ]
  },
  {
   "cell_type": "code",
   "execution_count": 13,
   "metadata": {},
   "outputs": [
    {
     "data": {
      "text/html": [
       "<div>\n",
       "<style scoped>\n",
       "    .dataframe tbody tr th:only-of-type {\n",
       "        vertical-align: middle;\n",
       "    }\n",
       "\n",
       "    .dataframe tbody tr th {\n",
       "        vertical-align: top;\n",
       "    }\n",
       "\n",
       "    .dataframe thead th {\n",
       "        text-align: right;\n",
       "    }\n",
       "</style>\n",
       "<table border=\"1\" class=\"dataframe\">\n",
       "  <thead>\n",
       "    <tr style=\"text-align: right;\">\n",
       "      <th></th>\n",
       "      <th>UserID</th>\n",
       "      <th>MovieID</th>\n",
       "      <th>Rating</th>\n",
       "      <th>Datetime</th>\n",
       "    </tr>\n",
       "  </thead>\n",
       "  <tbody>\n",
       "    <tr>\n",
       "      <th>99995</th>\n",
       "      <td>880</td>\n",
       "      <td>476</td>\n",
       "      <td>3</td>\n",
       "      <td>880175444</td>\n",
       "    </tr>\n",
       "    <tr>\n",
       "      <th>99996</th>\n",
       "      <td>716</td>\n",
       "      <td>204</td>\n",
       "      <td>5</td>\n",
       "      <td>879795543</td>\n",
       "    </tr>\n",
       "    <tr>\n",
       "      <th>99997</th>\n",
       "      <td>276</td>\n",
       "      <td>1090</td>\n",
       "      <td>1</td>\n",
       "      <td>874795795</td>\n",
       "    </tr>\n",
       "    <tr>\n",
       "      <th>99998</th>\n",
       "      <td>13</td>\n",
       "      <td>225</td>\n",
       "      <td>2</td>\n",
       "      <td>882399156</td>\n",
       "    </tr>\n",
       "    <tr>\n",
       "      <th>99999</th>\n",
       "      <td>12</td>\n",
       "      <td>203</td>\n",
       "      <td>3</td>\n",
       "      <td>879959583</td>\n",
       "    </tr>\n",
       "  </tbody>\n",
       "</table>\n",
       "</div>"
      ],
      "text/plain": [
       "       UserID  MovieID  Rating   Datetime\n",
       "99995     880      476       3  880175444\n",
       "99996     716      204       5  879795543\n",
       "99997     276     1090       1  874795795\n",
       "99998      13      225       2  882399156\n",
       "99999      12      203       3  879959583"
      ]
     },
     "execution_count": 13,
     "metadata": {},
     "output_type": "execute_result"
    }
   ],
   "source": [
    "all_ratings.tail()"
   ]
  },
  {
   "cell_type": "code",
   "execution_count": 14,
   "metadata": {},
   "outputs": [
    {
     "data": {
      "text/html": [
       "<div>\n",
       "<style scoped>\n",
       "    .dataframe tbody tr th:only-of-type {\n",
       "        vertical-align: middle;\n",
       "    }\n",
       "\n",
       "    .dataframe tbody tr th {\n",
       "        vertical-align: top;\n",
       "    }\n",
       "\n",
       "    .dataframe thead th {\n",
       "        text-align: right;\n",
       "    }\n",
       "</style>\n",
       "<table border=\"1\" class=\"dataframe\">\n",
       "  <thead>\n",
       "    <tr style=\"text-align: right;\">\n",
       "      <th></th>\n",
       "      <th>UserID</th>\n",
       "      <th>MovieID</th>\n",
       "      <th>Rating</th>\n",
       "      <th>Datetime</th>\n",
       "    </tr>\n",
       "  </thead>\n",
       "  <tbody>\n",
       "    <tr>\n",
       "      <th>82695</th>\n",
       "      <td>782</td>\n",
       "      <td>538</td>\n",
       "      <td>4</td>\n",
       "      <td>891498214</td>\n",
       "    </tr>\n",
       "    <tr>\n",
       "      <th>72939</th>\n",
       "      <td>903</td>\n",
       "      <td>649</td>\n",
       "      <td>4</td>\n",
       "      <td>891033628</td>\n",
       "    </tr>\n",
       "    <tr>\n",
       "      <th>62876</th>\n",
       "      <td>738</td>\n",
       "      <td>214</td>\n",
       "      <td>4</td>\n",
       "      <td>875350157</td>\n",
       "    </tr>\n",
       "    <tr>\n",
       "      <th>31621</th>\n",
       "      <td>417</td>\n",
       "      <td>248</td>\n",
       "      <td>4</td>\n",
       "      <td>879646286</td>\n",
       "    </tr>\n",
       "    <tr>\n",
       "      <th>23368</th>\n",
       "      <td>455</td>\n",
       "      <td>300</td>\n",
       "      <td>4</td>\n",
       "      <td>878585250</td>\n",
       "    </tr>\n",
       "    <tr>\n",
       "      <th>544</th>\n",
       "      <td>10</td>\n",
       "      <td>611</td>\n",
       "      <td>5</td>\n",
       "      <td>877886722</td>\n",
       "    </tr>\n",
       "    <tr>\n",
       "      <th>25387</th>\n",
       "      <td>404</td>\n",
       "      <td>739</td>\n",
       "      <td>4</td>\n",
       "      <td>883790851</td>\n",
       "    </tr>\n",
       "    <tr>\n",
       "      <th>81101</th>\n",
       "      <td>533</td>\n",
       "      <td>53</td>\n",
       "      <td>1</td>\n",
       "      <td>879191621</td>\n",
       "    </tr>\n",
       "    <tr>\n",
       "      <th>42087</th>\n",
       "      <td>537</td>\n",
       "      <td>181</td>\n",
       "      <td>2</td>\n",
       "      <td>886031437</td>\n",
       "    </tr>\n",
       "    <tr>\n",
       "      <th>62026</th>\n",
       "      <td>102</td>\n",
       "      <td>751</td>\n",
       "      <td>3</td>\n",
       "      <td>885100000</td>\n",
       "    </tr>\n",
       "  </tbody>\n",
       "</table>\n",
       "</div>"
      ],
      "text/plain": [
       "       UserID  MovieID  Rating   Datetime\n",
       "82695     782      538       4  891498214\n",
       "72939     903      649       4  891033628\n",
       "62876     738      214       4  875350157\n",
       "31621     417      248       4  879646286\n",
       "23368     455      300       4  878585250\n",
       "544        10      611       5  877886722\n",
       "25387     404      739       4  883790851\n",
       "81101     533       53       1  879191621\n",
       "42087     537      181       2  886031437\n",
       "62026     102      751       3  885100000"
      ]
     },
     "execution_count": 14,
     "metadata": {},
     "output_type": "execute_result"
    }
   ],
   "source": [
    "all_ratings.sample(10)"
   ]
  },
  {
   "cell_type": "markdown",
   "metadata": {},
   "source": [
    "显然，这里的日期有误，需要进行解析："
   ]
  },
  {
   "cell_type": "code",
   "execution_count": 15,
   "metadata": {
    "ExecuteTime": {
     "end_time": "2019-04-15T02:36:04.802764Z",
     "start_time": "2019-04-15T02:36:04.630900Z"
    }
   },
   "outputs": [
    {
     "data": {
      "text/html": [
       "<div>\n",
       "<style scoped>\n",
       "    .dataframe tbody tr th:only-of-type {\n",
       "        vertical-align: middle;\n",
       "    }\n",
       "\n",
       "    .dataframe tbody tr th {\n",
       "        vertical-align: top;\n",
       "    }\n",
       "\n",
       "    .dataframe thead th {\n",
       "        text-align: right;\n",
       "    }\n",
       "</style>\n",
       "<table border=\"1\" class=\"dataframe\">\n",
       "  <thead>\n",
       "    <tr style=\"text-align: right;\">\n",
       "      <th></th>\n",
       "      <th>UserID</th>\n",
       "      <th>MovieID</th>\n",
       "      <th>Rating</th>\n",
       "      <th>Datetime</th>\n",
       "    </tr>\n",
       "  </thead>\n",
       "  <tbody>\n",
       "    <tr>\n",
       "      <th>0</th>\n",
       "      <td>196</td>\n",
       "      <td>242</td>\n",
       "      <td>3</td>\n",
       "      <td>1997-12-04 15:55:49</td>\n",
       "    </tr>\n",
       "    <tr>\n",
       "      <th>1</th>\n",
       "      <td>186</td>\n",
       "      <td>302</td>\n",
       "      <td>3</td>\n",
       "      <td>1998-04-04 19:22:22</td>\n",
       "    </tr>\n",
       "    <tr>\n",
       "      <th>2</th>\n",
       "      <td>22</td>\n",
       "      <td>377</td>\n",
       "      <td>1</td>\n",
       "      <td>1997-11-07 07:18:36</td>\n",
       "    </tr>\n",
       "    <tr>\n",
       "      <th>3</th>\n",
       "      <td>244</td>\n",
       "      <td>51</td>\n",
       "      <td>2</td>\n",
       "      <td>1997-11-27 05:02:03</td>\n",
       "    </tr>\n",
       "    <tr>\n",
       "      <th>4</th>\n",
       "      <td>166</td>\n",
       "      <td>346</td>\n",
       "      <td>1</td>\n",
       "      <td>1998-02-02 05:33:16</td>\n",
       "    </tr>\n",
       "    <tr>\n",
       "      <th>5</th>\n",
       "      <td>298</td>\n",
       "      <td>474</td>\n",
       "      <td>4</td>\n",
       "      <td>1998-01-07 14:20:06</td>\n",
       "    </tr>\n",
       "    <tr>\n",
       "      <th>6</th>\n",
       "      <td>115</td>\n",
       "      <td>265</td>\n",
       "      <td>2</td>\n",
       "      <td>1997-12-03 17:51:28</td>\n",
       "    </tr>\n",
       "    <tr>\n",
       "      <th>7</th>\n",
       "      <td>253</td>\n",
       "      <td>465</td>\n",
       "      <td>5</td>\n",
       "      <td>1998-04-03 18:34:27</td>\n",
       "    </tr>\n",
       "    <tr>\n",
       "      <th>8</th>\n",
       "      <td>305</td>\n",
       "      <td>451</td>\n",
       "      <td>3</td>\n",
       "      <td>1998-02-01 09:20:17</td>\n",
       "    </tr>\n",
       "    <tr>\n",
       "      <th>9</th>\n",
       "      <td>6</td>\n",
       "      <td>86</td>\n",
       "      <td>3</td>\n",
       "      <td>1997-12-31 21:16:53</td>\n",
       "    </tr>\n",
       "  </tbody>\n",
       "</table>\n",
       "</div>"
      ],
      "text/plain": [
       "   UserID  MovieID  Rating            Datetime\n",
       "0     196      242       3 1997-12-04 15:55:49\n",
       "1     186      302       3 1998-04-04 19:22:22\n",
       "2      22      377       1 1997-11-07 07:18:36\n",
       "3     244       51       2 1997-11-27 05:02:03\n",
       "4     166      346       1 1998-02-02 05:33:16\n",
       "5     298      474       4 1998-01-07 14:20:06\n",
       "6     115      265       2 1997-12-03 17:51:28\n",
       "7     253      465       5 1998-04-03 18:34:27\n",
       "8     305      451       3 1998-02-01 09:20:17\n",
       "9       6       86       3 1997-12-31 21:16:53"
      ]
     },
     "execution_count": 15,
     "metadata": {},
     "output_type": "execute_result"
    }
   ],
   "source": [
    "all_ratings[\"Datetime\"] = pd.to_datetime(all_ratings[\"Datetime\"], unit=\"s\")\n",
    "all_ratings.head(n=10)"
   ]
  },
  {
   "cell_type": "markdown",
   "metadata": {},
   "source": [
    "或改用下边的实现方式："
   ]
  },
  {
   "cell_type": "code",
   "execution_count": 16,
   "metadata": {},
   "outputs": [],
   "source": [
    "def to_datetime(x):\n",
    "    return pd.to_datetime(x, unit=\"s\")"
   ]
  },
  {
   "cell_type": "code",
   "execution_count": 17,
   "metadata": {},
   "outputs": [],
   "source": [
    "all_ratings = pd.read_csv(\n",
    "    ratings_filename,\n",
    "    delimiter=\"\\t\",\n",
    "    header=None,\n",
    "    names=[\"UserID\", \"MovieID\", \"Rating\", \"Datetime\"],\n",
    "    converters={\"Datetime\":to_datetime}\n",
    ")"
   ]
  },
  {
   "cell_type": "code",
   "execution_count": 18,
   "metadata": {},
   "outputs": [
    {
     "data": {
      "text/html": [
       "<div>\n",
       "<style scoped>\n",
       "    .dataframe tbody tr th:only-of-type {\n",
       "        vertical-align: middle;\n",
       "    }\n",
       "\n",
       "    .dataframe tbody tr th {\n",
       "        vertical-align: top;\n",
       "    }\n",
       "\n",
       "    .dataframe thead th {\n",
       "        text-align: right;\n",
       "    }\n",
       "</style>\n",
       "<table border=\"1\" class=\"dataframe\">\n",
       "  <thead>\n",
       "    <tr style=\"text-align: right;\">\n",
       "      <th></th>\n",
       "      <th>UserID</th>\n",
       "      <th>MovieID</th>\n",
       "      <th>Rating</th>\n",
       "      <th>Datetime</th>\n",
       "    </tr>\n",
       "  </thead>\n",
       "  <tbody>\n",
       "    <tr>\n",
       "      <th>99995</th>\n",
       "      <td>880</td>\n",
       "      <td>476</td>\n",
       "      <td>3</td>\n",
       "      <td>1997-11-22 05:10:44</td>\n",
       "    </tr>\n",
       "    <tr>\n",
       "      <th>99996</th>\n",
       "      <td>716</td>\n",
       "      <td>204</td>\n",
       "      <td>5</td>\n",
       "      <td>1997-11-17 19:39:03</td>\n",
       "    </tr>\n",
       "    <tr>\n",
       "      <th>99997</th>\n",
       "      <td>276</td>\n",
       "      <td>1090</td>\n",
       "      <td>1</td>\n",
       "      <td>1997-09-20 22:49:55</td>\n",
       "    </tr>\n",
       "    <tr>\n",
       "      <th>99998</th>\n",
       "      <td>13</td>\n",
       "      <td>225</td>\n",
       "      <td>2</td>\n",
       "      <td>1997-12-17 22:52:36</td>\n",
       "    </tr>\n",
       "    <tr>\n",
       "      <th>99999</th>\n",
       "      <td>12</td>\n",
       "      <td>203</td>\n",
       "      <td>3</td>\n",
       "      <td>1997-11-19 17:13:03</td>\n",
       "    </tr>\n",
       "  </tbody>\n",
       "</table>\n",
       "</div>"
      ],
      "text/plain": [
       "       UserID  MovieID  Rating            Datetime\n",
       "99995     880      476       3 1997-11-22 05:10:44\n",
       "99996     716      204       5 1997-11-17 19:39:03\n",
       "99997     276     1090       1 1997-09-20 22:49:55\n",
       "99998      13      225       2 1997-12-17 22:52:36\n",
       "99999      12      203       3 1997-11-19 17:13:03"
      ]
     },
     "execution_count": 18,
     "metadata": {},
     "output_type": "execute_result"
    }
   ],
   "source": [
    "all_ratings.tail()"
   ]
  },
  {
   "cell_type": "code",
   "execution_count": 19,
   "metadata": {
    "ExecuteTime": {
     "end_time": "2019-04-15T02:36:04.912131Z",
     "start_time": "2019-04-15T02:36:04.802764Z"
    }
   },
   "outputs": [
    {
     "data": {
      "text/plain": [
       "(100000, 4)"
      ]
     },
     "execution_count": 19,
     "metadata": {},
     "output_type": "execute_result"
    }
   ],
   "source": [
    "all_ratings.shape"
   ]
  },
  {
   "cell_type": "code",
   "execution_count": 20,
   "metadata": {},
   "outputs": [
    {
     "data": {
      "text/plain": [
       "array([[196, 242, 3, Timestamp('1997-12-04 15:55:49')],\n",
       "       [186, 302, 3, Timestamp('1998-04-04 19:22:22')],\n",
       "       [22, 377, 1, Timestamp('1997-11-07 07:18:36')]], dtype=object)"
      ]
     },
     "execution_count": 20,
     "metadata": {},
     "output_type": "execute_result"
    }
   ],
   "source": [
    "all_ratings.values[:3, :]"
   ]
  },
  {
   "cell_type": "markdown",
   "metadata": {},
   "source": [
    "数据集是一个10万×4的一个DataFrame，有10万行评分记录，4列具体属性为：用户ID、电影ID、评分、日期。\n",
    "MovieLens网站对该数据集的描述如下：\n",
    "> This data set consists of:\n",
    ">\t* 100,000 ratings (1-5) from 943 users on 1682 movies. \n",
    ">\t* Each user has rated at least 20 movies. \n",
    ">  * Simple demographic info for the users (age, gender, occupation, zip)\n",
    "\n",
    ">The data was collected through the MovieLens web site\n",
    ">(movielens.umn.edu) during the seven-month period from September 19th, \n",
    ">1997 through April 22nd, 1998. "
   ]
  },
  {
   "cell_type": "code",
   "execution_count": 21,
   "metadata": {
    "ExecuteTime": {
     "end_time": "2019-04-15T02:36:05.068372Z",
     "start_time": "2019-04-15T02:36:04.912131Z"
    }
   },
   "outputs": [
    {
     "data": {
      "text/plain": [
       "943"
      ]
     },
     "execution_count": 21,
     "metadata": {},
     "output_type": "execute_result"
    }
   ],
   "source": [
    "len(all_ratings[\"UserID\"].unique())"
   ]
  },
  {
   "cell_type": "code",
   "execution_count": 22,
   "metadata": {
    "ExecuteTime": {
     "end_time": "2019-04-15T02:36:05.189846Z",
     "start_time": "2019-04-15T02:36:05.068372Z"
    }
   },
   "outputs": [
    {
     "data": {
      "text/plain": [
       "1682"
      ]
     },
     "execution_count": 22,
     "metadata": {},
     "output_type": "execute_result"
    }
   ],
   "source": [
    "len(all_ratings[\"MovieID\"].unique())"
   ]
  },
  {
   "cell_type": "code",
   "execution_count": 23,
   "metadata": {},
   "outputs": [
    {
     "name": "stdout",
     "output_type": "stream",
     "text": [
      "<class 'pandas.core.frame.DataFrame'>\n",
      "RangeIndex: 100000 entries, 0 to 99999\n",
      "Data columns (total 4 columns):\n",
      " #   Column    Non-Null Count   Dtype         \n",
      "---  ------    --------------   -----         \n",
      " 0   UserID    100000 non-null  int64         \n",
      " 1   MovieID   100000 non-null  int64         \n",
      " 2   Rating    100000 non-null  int64         \n",
      " 3   Datetime  100000 non-null  datetime64[ns]\n",
      "dtypes: datetime64[ns](1), int64(3)\n",
      "memory usage: 3.1 MB\n"
     ]
    }
   ],
   "source": [
    "all_ratings.info()"
   ]
  },
  {
   "cell_type": "code",
   "execution_count": 24,
   "metadata": {},
   "outputs": [
    {
     "data": {
      "text/html": [
       "<div>\n",
       "<style scoped>\n",
       "    .dataframe tbody tr th:only-of-type {\n",
       "        vertical-align: middle;\n",
       "    }\n",
       "\n",
       "    .dataframe tbody tr th {\n",
       "        vertical-align: top;\n",
       "    }\n",
       "\n",
       "    .dataframe thead th {\n",
       "        text-align: right;\n",
       "    }\n",
       "</style>\n",
       "<table border=\"1\" class=\"dataframe\">\n",
       "  <thead>\n",
       "    <tr style=\"text-align: right;\">\n",
       "      <th></th>\n",
       "      <th>UserID</th>\n",
       "      <th>MovieID</th>\n",
       "      <th>Rating</th>\n",
       "    </tr>\n",
       "  </thead>\n",
       "  <tbody>\n",
       "    <tr>\n",
       "      <th>count</th>\n",
       "      <td>100000.00000</td>\n",
       "      <td>100000.000000</td>\n",
       "      <td>100000.000000</td>\n",
       "    </tr>\n",
       "    <tr>\n",
       "      <th>mean</th>\n",
       "      <td>462.48475</td>\n",
       "      <td>425.530130</td>\n",
       "      <td>3.529860</td>\n",
       "    </tr>\n",
       "    <tr>\n",
       "      <th>std</th>\n",
       "      <td>266.61442</td>\n",
       "      <td>330.798356</td>\n",
       "      <td>1.125674</td>\n",
       "    </tr>\n",
       "    <tr>\n",
       "      <th>min</th>\n",
       "      <td>1.00000</td>\n",
       "      <td>1.000000</td>\n",
       "      <td>1.000000</td>\n",
       "    </tr>\n",
       "    <tr>\n",
       "      <th>25%</th>\n",
       "      <td>254.00000</td>\n",
       "      <td>175.000000</td>\n",
       "      <td>3.000000</td>\n",
       "    </tr>\n",
       "    <tr>\n",
       "      <th>50%</th>\n",
       "      <td>447.00000</td>\n",
       "      <td>322.000000</td>\n",
       "      <td>4.000000</td>\n",
       "    </tr>\n",
       "    <tr>\n",
       "      <th>75%</th>\n",
       "      <td>682.00000</td>\n",
       "      <td>631.000000</td>\n",
       "      <td>4.000000</td>\n",
       "    </tr>\n",
       "    <tr>\n",
       "      <th>max</th>\n",
       "      <td>943.00000</td>\n",
       "      <td>1682.000000</td>\n",
       "      <td>5.000000</td>\n",
       "    </tr>\n",
       "  </tbody>\n",
       "</table>\n",
       "</div>"
      ],
      "text/plain": [
       "             UserID        MovieID         Rating\n",
       "count  100000.00000  100000.000000  100000.000000\n",
       "mean      462.48475     425.530130       3.529860\n",
       "std       266.61442     330.798356       1.125674\n",
       "min         1.00000       1.000000       1.000000\n",
       "25%       254.00000     175.000000       3.000000\n",
       "50%       447.00000     322.000000       4.000000\n",
       "75%       682.00000     631.000000       4.000000\n",
       "max       943.00000    1682.000000       5.000000"
      ]
     },
     "execution_count": 24,
     "metadata": {},
     "output_type": "execute_result"
    }
   ],
   "source": [
    "all_ratings.describe()"
   ]
  },
  {
   "cell_type": "code",
   "execution_count": 25,
   "metadata": {},
   "outputs": [
    {
     "data": {
      "application/vnd.jupyter.widget-view+json": {
       "model_id": "2329fa8d7a9a4e1fac59f275c807a043",
       "version_major": 2,
       "version_minor": 0
      },
      "text/plain": [
       "HBox(children=(HTML(value='Summarize dataset'), FloatProgress(value=0.0, max=18.0), HTML(value='')))"
      ]
     },
     "metadata": {},
     "output_type": "display_data"
    },
    {
     "name": "stdout",
     "output_type": "stream",
     "text": [
      "\n"
     ]
    },
    {
     "data": {
      "application/vnd.jupyter.widget-view+json": {
       "model_id": "f2d0e2ecf55240b89d02c368a8af8fbf",
       "version_major": 2,
       "version_minor": 0
      },
      "text/plain": [
       "HBox(children=(HTML(value='Generate report structure'), FloatProgress(value=0.0, max=1.0), HTML(value='')))"
      ]
     },
     "metadata": {},
     "output_type": "display_data"
    },
    {
     "name": "stdout",
     "output_type": "stream",
     "text": [
      "\n"
     ]
    },
    {
     "data": {
      "application/vnd.jupyter.widget-view+json": {
       "model_id": "d9cf8cc0c78a4138b5942db10445beba",
       "version_major": 2,
       "version_minor": 0
      },
      "text/plain": [
       "HBox(children=(HTML(value='Render HTML'), FloatProgress(value=0.0, max=1.0), HTML(value='')))"
      ]
     },
     "metadata": {},
     "output_type": "display_data"
    },
    {
     "name": "stdout",
     "output_type": "stream",
     "text": [
      "\n"
     ]
    },
    {
     "data": {
      "application/vnd.jupyter.widget-view+json": {
       "model_id": "1ae4030aea3248e9ad88b4644cc1d7af",
       "version_major": 2,
       "version_minor": 0
      },
      "text/plain": [
       "HBox(children=(HTML(value='Export report to file'), FloatProgress(value=0.0, max=1.0), HTML(value='')))"
      ]
     },
     "metadata": {},
     "output_type": "display_data"
    },
    {
     "name": "stdout",
     "output_type": "stream",
     "text": [
      "\n"
     ]
    }
   ],
   "source": [
    "import pandas_profiling\n",
    "profie = pandas_profiling.ProfileReport(all_ratings)\n",
    "profie.to_file(\"D://desktop/all_ratings_profiel.html\")"
   ]
  },
  {
   "cell_type": "markdown",
   "metadata": {},
   "source": [
    "以上结果与网站描述一致。"
   ]
  },
  {
   "cell_type": "code",
   "execution_count": 26,
   "metadata": {
    "ExecuteTime": {
     "end_time": "2019-04-15T02:36:05.330457Z",
     "start_time": "2019-04-15T02:36:05.189846Z"
    }
   },
   "outputs": [
    {
     "data": {
      "text/html": [
       "<div>\n",
       "<style scoped>\n",
       "    .dataframe tbody tr th:only-of-type {\n",
       "        vertical-align: middle;\n",
       "    }\n",
       "\n",
       "    .dataframe tbody tr th {\n",
       "        vertical-align: top;\n",
       "    }\n",
       "\n",
       "    .dataframe thead th {\n",
       "        text-align: right;\n",
       "    }\n",
       "</style>\n",
       "<table border=\"1\" class=\"dataframe\">\n",
       "  <thead>\n",
       "    <tr style=\"text-align: right;\">\n",
       "      <th></th>\n",
       "      <th>UserID</th>\n",
       "      <th>MovieID</th>\n",
       "      <th>Rating</th>\n",
       "      <th>Datetime</th>\n",
       "    </tr>\n",
       "  </thead>\n",
       "  <tbody>\n",
       "    <tr>\n",
       "      <th>95376</th>\n",
       "      <td>916</td>\n",
       "      <td>1682</td>\n",
       "      <td>3</td>\n",
       "      <td>1997-11-29 23:22:35</td>\n",
       "    </tr>\n",
       "    <tr>\n",
       "      <th>92329</th>\n",
       "      <td>896</td>\n",
       "      <td>1681</td>\n",
       "      <td>3</td>\n",
       "      <td>1998-02-11 01:32:02</td>\n",
       "    </tr>\n",
       "    <tr>\n",
       "      <th>80394</th>\n",
       "      <td>863</td>\n",
       "      <td>1680</td>\n",
       "      <td>2</td>\n",
       "      <td>1998-03-07 16:52:50</td>\n",
       "    </tr>\n",
       "    <tr>\n",
       "      <th>67302</th>\n",
       "      <td>863</td>\n",
       "      <td>1679</td>\n",
       "      <td>3</td>\n",
       "      <td>1998-03-07 16:51:31</td>\n",
       "    </tr>\n",
       "    <tr>\n",
       "      <th>75323</th>\n",
       "      <td>863</td>\n",
       "      <td>1678</td>\n",
       "      <td>1</td>\n",
       "      <td>1998-03-07 16:52:50</td>\n",
       "    </tr>\n",
       "    <tr>\n",
       "      <th>...</th>\n",
       "      <td>...</td>\n",
       "      <td>...</td>\n",
       "      <td>...</td>\n",
       "      <td>...</td>\n",
       "    </tr>\n",
       "    <tr>\n",
       "      <th>18504</th>\n",
       "      <td>10</td>\n",
       "      <td>1</td>\n",
       "      <td>4</td>\n",
       "      <td>1997-10-26 18:01:17</td>\n",
       "    </tr>\n",
       "    <tr>\n",
       "      <th>54487</th>\n",
       "      <td>6</td>\n",
       "      <td>1</td>\n",
       "      <td>4</td>\n",
       "      <td>1997-12-31 20:17:58</td>\n",
       "    </tr>\n",
       "    <tr>\n",
       "      <th>1333</th>\n",
       "      <td>5</td>\n",
       "      <td>1</td>\n",
       "      <td>4</td>\n",
       "      <td>1997-09-30 16:09:08</td>\n",
       "    </tr>\n",
       "    <tr>\n",
       "      <th>26184</th>\n",
       "      <td>2</td>\n",
       "      <td>1</td>\n",
       "      <td>4</td>\n",
       "      <td>1998-02-27 03:41:11</td>\n",
       "    </tr>\n",
       "    <tr>\n",
       "      <th>32236</th>\n",
       "      <td>1</td>\n",
       "      <td>1</td>\n",
       "      <td>5</td>\n",
       "      <td>1997-09-22 22:02:38</td>\n",
       "    </tr>\n",
       "  </tbody>\n",
       "</table>\n",
       "<p>100000 rows × 4 columns</p>\n",
       "</div>"
      ],
      "text/plain": [
       "       UserID  MovieID  Rating            Datetime\n",
       "95376     916     1682       3 1997-11-29 23:22:35\n",
       "92329     896     1681       3 1998-02-11 01:32:02\n",
       "80394     863     1680       2 1998-03-07 16:52:50\n",
       "67302     863     1679       3 1998-03-07 16:51:31\n",
       "75323     863     1678       1 1998-03-07 16:52:50\n",
       "...       ...      ...     ...                 ...\n",
       "18504      10        1       4 1997-10-26 18:01:17\n",
       "54487       6        1       4 1997-12-31 20:17:58\n",
       "1333        5        1       4 1997-09-30 16:09:08\n",
       "26184       2        1       4 1998-02-27 03:41:11\n",
       "32236       1        1       5 1997-09-22 22:02:38\n",
       "\n",
       "[100000 rows x 4 columns]"
      ]
     },
     "execution_count": 26,
     "metadata": {},
     "output_type": "execute_result"
    }
   ],
   "source": [
    "all_ratings.sort_values(by=[\"MovieID\", \"UserID\"], ascending=False)"
   ]
  },
  {
   "cell_type": "markdown",
   "metadata": {},
   "source": [
    "# 数据预处理"
   ]
  },
  {
   "cell_type": "markdown",
   "metadata": {},
   "source": [
    "数据挖掘的目标是生成如下形式的规则：**如果用户喜欢某些电影，那么他们也会喜欢这部电影。**为此，先增加一列Favorable，来表示用户是否喜欢这部电影。"
   ]
  },
  {
   "cell_type": "code",
   "execution_count": 27,
   "metadata": {
    "ExecuteTime": {
     "end_time": "2019-04-15T02:36:05.483680Z",
     "start_time": "2019-04-15T02:36:05.332947Z"
    }
   },
   "outputs": [
    {
     "data": {
      "text/html": [
       "<div>\n",
       "<style scoped>\n",
       "    .dataframe tbody tr th:only-of-type {\n",
       "        vertical-align: middle;\n",
       "    }\n",
       "\n",
       "    .dataframe tbody tr th {\n",
       "        vertical-align: top;\n",
       "    }\n",
       "\n",
       "    .dataframe thead th {\n",
       "        text-align: right;\n",
       "    }\n",
       "</style>\n",
       "<table border=\"1\" class=\"dataframe\">\n",
       "  <thead>\n",
       "    <tr style=\"text-align: right;\">\n",
       "      <th></th>\n",
       "      <th>UserID</th>\n",
       "      <th>MovieID</th>\n",
       "      <th>Rating</th>\n",
       "      <th>Datetime</th>\n",
       "      <th>Favorable</th>\n",
       "    </tr>\n",
       "  </thead>\n",
       "  <tbody>\n",
       "    <tr>\n",
       "      <th>99995</th>\n",
       "      <td>880</td>\n",
       "      <td>476</td>\n",
       "      <td>3</td>\n",
       "      <td>1997-11-22 05:10:44</td>\n",
       "      <td>False</td>\n",
       "    </tr>\n",
       "    <tr>\n",
       "      <th>99996</th>\n",
       "      <td>716</td>\n",
       "      <td>204</td>\n",
       "      <td>5</td>\n",
       "      <td>1997-11-17 19:39:03</td>\n",
       "      <td>True</td>\n",
       "    </tr>\n",
       "    <tr>\n",
       "      <th>99997</th>\n",
       "      <td>276</td>\n",
       "      <td>1090</td>\n",
       "      <td>1</td>\n",
       "      <td>1997-09-20 22:49:55</td>\n",
       "      <td>False</td>\n",
       "    </tr>\n",
       "    <tr>\n",
       "      <th>99998</th>\n",
       "      <td>13</td>\n",
       "      <td>225</td>\n",
       "      <td>2</td>\n",
       "      <td>1997-12-17 22:52:36</td>\n",
       "      <td>False</td>\n",
       "    </tr>\n",
       "    <tr>\n",
       "      <th>99999</th>\n",
       "      <td>12</td>\n",
       "      <td>203</td>\n",
       "      <td>3</td>\n",
       "      <td>1997-11-19 17:13:03</td>\n",
       "      <td>False</td>\n",
       "    </tr>\n",
       "  </tbody>\n",
       "</table>\n",
       "</div>"
      ],
      "text/plain": [
       "       UserID  MovieID  Rating            Datetime  Favorable\n",
       "99995     880      476       3 1997-11-22 05:10:44      False\n",
       "99996     716      204       5 1997-11-17 19:39:03       True\n",
       "99997     276     1090       1 1997-09-20 22:49:55      False\n",
       "99998      13      225       2 1997-12-17 22:52:36      False\n",
       "99999      12      203       3 1997-11-19 17:13:03      False"
      ]
     },
     "execution_count": 27,
     "metadata": {},
     "output_type": "execute_result"
    }
   ],
   "source": [
    "all_ratings[\"Favorable\"] = all_ratings[\"Rating\"] > 3\n",
    "all_ratings.tail()"
   ]
  },
  {
   "cell_type": "code",
   "execution_count": 28,
   "metadata": {
    "ExecuteTime": {
     "end_time": "2019-04-15T02:36:05.639922Z",
     "start_time": "2019-04-15T02:36:05.483680Z"
    }
   },
   "outputs": [
    {
     "data": {
      "text/plain": [
       "943"
      ]
     },
     "execution_count": 28,
     "metadata": {},
     "output_type": "execute_result"
    }
   ],
   "source": [
    "all_ratings.UserID.max()"
   ]
  },
  {
   "cell_type": "code",
   "execution_count": 29,
   "metadata": {},
   "outputs": [
    {
     "data": {
      "text/plain": [
       "array([[196, 242, 3, Timestamp('1997-12-04 15:55:49'), False],\n",
       "       [186, 302, 3, Timestamp('1998-04-04 19:22:22'), False],\n",
       "       [22, 377, 1, Timestamp('1997-11-07 07:18:36'), False],\n",
       "       ...,\n",
       "       [276, 1090, 1, Timestamp('1997-09-20 22:49:55'), False],\n",
       "       [13, 225, 2, Timestamp('1997-12-17 22:52:36'), False],\n",
       "       [12, 203, 3, Timestamp('1997-11-19 17:13:03'), False]],\n",
       "      dtype=object)"
      ]
     },
     "execution_count": 29,
     "metadata": {},
     "output_type": "execute_result"
    }
   ],
   "source": [
    "all_ratings.values"
   ]
  },
  {
   "cell_type": "markdown",
   "metadata": {},
   "source": [
    "从数据集中选取一部分数据用作训练集，这能有效减少搜索空间，提升Apriori算法的速度。我们取前200名用户的打分数据。"
   ]
  },
  {
   "cell_type": "code",
   "execution_count": 30,
   "metadata": {
    "ExecuteTime": {
     "end_time": "2019-04-15T02:36:05.939968Z",
     "start_time": "2019-04-15T02:36:05.768066Z"
    }
   },
   "outputs": [],
   "source": [
    "topN = 943 #后续挖掘时速度可能会很慢\n",
    "topN = 200\n",
    "ratings = all_ratings[\n",
    "    all_ratings[\"UserID\"].isin(range(topN))\n",
    "]  # & ratings[\"UserID\"].isin(range(100))]"
   ]
  },
  {
   "cell_type": "code",
   "execution_count": 31,
   "metadata": {
    "ExecuteTime": {
     "end_time": "2019-04-15T02:36:06.087097Z",
     "start_time": "2019-04-15T02:36:05.939968Z"
    }
   },
   "outputs": [
    {
     "data": {
      "text/plain": [
       "(19531, 5)"
      ]
     },
     "execution_count": 31,
     "metadata": {},
     "output_type": "execute_result"
    }
   ],
   "source": [
    "ratings.shape"
   ]
  },
  {
   "cell_type": "code",
   "execution_count": 32,
   "metadata": {
    "ExecuteTime": {
     "end_time": "2019-04-15T02:36:06.252626Z",
     "start_time": "2019-04-15T02:36:06.087097Z"
    }
   },
   "outputs": [
    {
     "data": {
      "text/html": [
       "<div>\n",
       "<style scoped>\n",
       "    .dataframe tbody tr th:only-of-type {\n",
       "        vertical-align: middle;\n",
       "    }\n",
       "\n",
       "    .dataframe tbody tr th {\n",
       "        vertical-align: top;\n",
       "    }\n",
       "\n",
       "    .dataframe thead th {\n",
       "        text-align: right;\n",
       "    }\n",
       "</style>\n",
       "<table border=\"1\" class=\"dataframe\">\n",
       "  <thead>\n",
       "    <tr style=\"text-align: right;\">\n",
       "      <th></th>\n",
       "      <th>UserID</th>\n",
       "      <th>MovieID</th>\n",
       "      <th>Rating</th>\n",
       "      <th>Datetime</th>\n",
       "      <th>Favorable</th>\n",
       "    </tr>\n",
       "  </thead>\n",
       "  <tbody>\n",
       "    <tr>\n",
       "      <th>16</th>\n",
       "      <td>122</td>\n",
       "      <td>387</td>\n",
       "      <td>5</td>\n",
       "      <td>1997-11-11 17:47:39</td>\n",
       "      <td>True</td>\n",
       "    </tr>\n",
       "    <tr>\n",
       "      <th>20</th>\n",
       "      <td>119</td>\n",
       "      <td>392</td>\n",
       "      <td>4</td>\n",
       "      <td>1998-01-30 16:13:34</td>\n",
       "      <td>True</td>\n",
       "    </tr>\n",
       "    <tr>\n",
       "      <th>21</th>\n",
       "      <td>167</td>\n",
       "      <td>486</td>\n",
       "      <td>4</td>\n",
       "      <td>1998-04-16 14:54:12</td>\n",
       "      <td>True</td>\n",
       "    </tr>\n",
       "    <tr>\n",
       "      <th>26</th>\n",
       "      <td>38</td>\n",
       "      <td>95</td>\n",
       "      <td>5</td>\n",
       "      <td>1998-04-13 01:14:54</td>\n",
       "      <td>True</td>\n",
       "    </tr>\n",
       "    <tr>\n",
       "      <th>28</th>\n",
       "      <td>63</td>\n",
       "      <td>277</td>\n",
       "      <td>4</td>\n",
       "      <td>1997-10-01 23:10:01</td>\n",
       "      <td>True</td>\n",
       "    </tr>\n",
       "  </tbody>\n",
       "</table>\n",
       "</div>"
      ],
      "text/plain": [
       "    UserID  MovieID  Rating            Datetime  Favorable\n",
       "16     122      387       5 1997-11-11 17:47:39       True\n",
       "20     119      392       4 1998-01-30 16:13:34       True\n",
       "21     167      486       4 1998-04-16 14:54:12       True\n",
       "26      38       95       5 1998-04-13 01:14:54       True\n",
       "28      63      277       4 1997-10-01 23:10:01       True"
      ]
     },
     "execution_count": 32,
     "metadata": {},
     "output_type": "execute_result"
    }
   ],
   "source": [
    "# We start by creating a dataset of each user's favourable reviews\n",
    "favorable_ratings = ratings[ratings[\"Favorable\"]]\n",
    "favorable_ratings[:5]"
   ]
  },
  {
   "cell_type": "code",
   "execution_count": 33,
   "metadata": {
    "ExecuteTime": {
     "end_time": "2019-04-15T02:36:06.377628Z",
     "start_time": "2019-04-15T02:36:06.252626Z"
    }
   },
   "outputs": [
    {
     "data": {
      "text/plain": [
       "(11043, 5)"
      ]
     },
     "execution_count": 33,
     "metadata": {},
     "output_type": "execute_result"
    }
   ],
   "source": [
    "favorable_ratings.shape"
   ]
  },
  {
   "cell_type": "code",
   "execution_count": 34,
   "metadata": {
    "ExecuteTime": {
     "end_time": "2019-04-15T02:36:06.377628Z",
     "start_time": "2019-04-15T02:36:06.252626Z"
    }
   },
   "outputs": [
    {
     "data": {
      "text/plain": [
       "array([122, 119, 167,  38,  63, 160, 157,   7,  10,  99,  25,  59,  87,\n",
       "        42, 138,  60,  57, 189, 194, 178, 127,  11,  95,   8, 162,  62,\n",
       "        28, 135,  90, 166, 168, 110,  58,  94,  44,  72,  13,  68, 172,\n",
       "        19,  43,  80,  66, 130,   1, 181, 161, 148,  97,  83, 125, 151,\n",
       "         6,  92,  36, 100,  85, 113, 158, 145,  23,  16, 154,  77, 187,\n",
       "       170, 128, 184,  69,  18, 191, 142, 177,  21, 197, 180, 144,   5,\n",
       "       174, 137, 111,  91,  96, 115,  73,  54, 117,  64,  45, 131, 192,\n",
       "       193,  56,  79, 118, 171,  70, 173, 185, 150, 188,  48,  22, 165,\n",
       "       134,   2,  49, 159, 146, 156,  37, 186, 108,  14,  65, 104,  89,\n",
       "       109, 195,  24, 196, 198,  84, 152,  53,  26, 176, 106,  78, 175,\n",
       "       199, 164,  76, 136,  82, 190,  29, 141, 112,   4, 121,  81, 116,\n",
       "       147, 105,  34,  71, 182, 103,  31,  32, 101,   9,  30,  74, 140,\n",
       "        67,  98,  12,  40,  52, 179, 123,  41, 126,  15,  47,  93,  61,\n",
       "        50, 114, 183, 124,  75,  46, 143,  86, 133, 139, 155,  17,   3,\n",
       "        39, 132, 107, 169, 129, 102,  20, 120, 163,  55,  33, 149,  51,\n",
       "       153,  27,  88,  35], dtype=int64)"
      ]
     },
     "execution_count": 34,
     "metadata": {},
     "output_type": "execute_result"
    }
   ],
   "source": [
    "favorable_ratings.UserID.unique()"
   ]
  },
  {
   "cell_type": "code",
   "execution_count": 35,
   "metadata": {},
   "outputs": [
    {
     "data": {
      "text/plain": [
       "1"
      ]
     },
     "execution_count": 35,
     "metadata": {},
     "output_type": "execute_result"
    },
    {
     "data": {
      "text/plain": [
       "199"
      ]
     },
     "execution_count": 35,
     "metadata": {},
     "output_type": "execute_result"
    },
    {
     "data": {
      "text/plain": [
       "(199,)"
      ]
     },
     "execution_count": 35,
     "metadata": {},
     "output_type": "execute_result"
    }
   ],
   "source": [
    "favorable_ratings.UserID.unique().ndim\n",
    "favorable_ratings.UserID.unique().size\n",
    "favorable_ratings.UserID.unique().shape"
   ]
  },
  {
   "cell_type": "code",
   "execution_count": 36,
   "metadata": {
    "ExecuteTime": {
     "end_time": "2019-04-15T02:36:06.640422Z",
     "start_time": "2019-04-15T02:36:06.377628Z"
    }
   },
   "outputs": [
    {
     "data": {
      "text/plain": [
       "199"
      ]
     },
     "execution_count": 36,
     "metadata": {},
     "output_type": "execute_result"
    }
   ],
   "source": [
    "favorable_reviews_by_users = dict((k, frozenset(v.values)) for k, v in favorable_ratings.groupby(\"UserID\")[\"MovieID\"])\n",
    "len(favorable_reviews_by_users)"
   ]
  },
  {
   "cell_type": "markdown",
   "metadata": {},
   "source": [
    "以上语句需要稍微展开一下。首先是其中的groupby"
   ]
  },
  {
   "cell_type": "markdown",
   "metadata": {},
   "source": [
    "![img](figtabs/ch4/groupby.png)"
   ]
  },
  {
   "cell_type": "markdown",
   "metadata": {},
   "source": [
    "上图原图来自：[超好用的 pandas 之 groupby](https://www.jianshu.com/p/42f1d2909bb6)"
   ]
  },
  {
   "cell_type": "code",
   "execution_count": 37,
   "metadata": {},
   "outputs": [
    {
     "data": {
      "text/html": [
       "<div>\n",
       "<style scoped>\n",
       "    .dataframe tbody tr th:only-of-type {\n",
       "        vertical-align: middle;\n",
       "    }\n",
       "\n",
       "    .dataframe tbody tr th {\n",
       "        vertical-align: top;\n",
       "    }\n",
       "\n",
       "    .dataframe thead th {\n",
       "        text-align: right;\n",
       "    }\n",
       "</style>\n",
       "<table border=\"1\" class=\"dataframe\">\n",
       "  <thead>\n",
       "    <tr style=\"text-align: right;\">\n",
       "      <th></th>\n",
       "      <th>UserID</th>\n",
       "      <th>MovieID</th>\n",
       "      <th>Rating</th>\n",
       "      <th>Datetime</th>\n",
       "      <th>Favorable</th>\n",
       "    </tr>\n",
       "  </thead>\n",
       "  <tbody>\n",
       "    <tr>\n",
       "      <th>0</th>\n",
       "      <td>196</td>\n",
       "      <td>242</td>\n",
       "      <td>3</td>\n",
       "      <td>1997-12-04 15:55:49</td>\n",
       "      <td>False</td>\n",
       "    </tr>\n",
       "    <tr>\n",
       "      <th>1</th>\n",
       "      <td>186</td>\n",
       "      <td>302</td>\n",
       "      <td>3</td>\n",
       "      <td>1998-04-04 19:22:22</td>\n",
       "      <td>False</td>\n",
       "    </tr>\n",
       "    <tr>\n",
       "      <th>2</th>\n",
       "      <td>22</td>\n",
       "      <td>377</td>\n",
       "      <td>1</td>\n",
       "      <td>1997-11-07 07:18:36</td>\n",
       "      <td>False</td>\n",
       "    </tr>\n",
       "    <tr>\n",
       "      <th>4</th>\n",
       "      <td>166</td>\n",
       "      <td>346</td>\n",
       "      <td>1</td>\n",
       "      <td>1998-02-02 05:33:16</td>\n",
       "      <td>False</td>\n",
       "    </tr>\n",
       "    <tr>\n",
       "      <th>6</th>\n",
       "      <td>115</td>\n",
       "      <td>265</td>\n",
       "      <td>2</td>\n",
       "      <td>1997-12-03 17:51:28</td>\n",
       "      <td>False</td>\n",
       "    </tr>\n",
       "  </tbody>\n",
       "</table>\n",
       "</div>"
      ],
      "text/plain": [
       "   UserID  MovieID  Rating            Datetime  Favorable\n",
       "0     196      242       3 1997-12-04 15:55:49      False\n",
       "1     186      302       3 1998-04-04 19:22:22      False\n",
       "2      22      377       1 1997-11-07 07:18:36      False\n",
       "4     166      346       1 1998-02-02 05:33:16      False\n",
       "6     115      265       2 1997-12-03 17:51:28      False"
      ]
     },
     "execution_count": 37,
     "metadata": {},
     "output_type": "execute_result"
    }
   ],
   "source": [
    "ratings.iloc[:5]"
   ]
  },
  {
   "cell_type": "code",
   "execution_count": 38,
   "metadata": {
    "ExecuteTime": {
     "end_time": "2019-04-15T02:36:05.939968Z",
     "start_time": "2019-04-15T02:36:05.768066Z"
    }
   },
   "outputs": [],
   "source": [
    "ratings = all_ratings[\n",
    "    all_ratings[\"UserID\"].isin(range(1, topN+1))\n",
    "]  # & ratings[\"UserID\"].isin(range(100))]"
   ]
  },
  {
   "cell_type": "code",
   "execution_count": 39,
   "metadata": {},
   "outputs": [
    {
     "data": {
      "text/plain": [
       "200"
      ]
     },
     "execution_count": 39,
     "metadata": {},
     "output_type": "execute_result"
    }
   ],
   "source": [
    "len(ratings.UserID.unique())"
   ]
  },
  {
   "cell_type": "code",
   "execution_count": 40,
   "metadata": {
    "ExecuteTime": {
     "end_time": "2019-04-15T02:36:06.087097Z",
     "start_time": "2019-04-15T02:36:05.939968Z"
    }
   },
   "outputs": [
    {
     "data": {
      "text/plain": [
       "(19747, 5)"
      ]
     },
     "execution_count": 40,
     "metadata": {},
     "output_type": "execute_result"
    }
   ],
   "source": [
    "ratings.shape"
   ]
  },
  {
   "cell_type": "code",
   "execution_count": 41,
   "metadata": {
    "ExecuteTime": {
     "end_time": "2019-04-15T02:36:06.252626Z",
     "start_time": "2019-04-15T02:36:06.087097Z"
    }
   },
   "outputs": [
    {
     "data": {
      "text/html": [
       "<div>\n",
       "<style scoped>\n",
       "    .dataframe tbody tr th:only-of-type {\n",
       "        vertical-align: middle;\n",
       "    }\n",
       "\n",
       "    .dataframe tbody tr th {\n",
       "        vertical-align: top;\n",
       "    }\n",
       "\n",
       "    .dataframe thead th {\n",
       "        text-align: right;\n",
       "    }\n",
       "</style>\n",
       "<table border=\"1\" class=\"dataframe\">\n",
       "  <thead>\n",
       "    <tr style=\"text-align: right;\">\n",
       "      <th></th>\n",
       "      <th>UserID</th>\n",
       "      <th>MovieID</th>\n",
       "      <th>Rating</th>\n",
       "      <th>Datetime</th>\n",
       "      <th>Favorable</th>\n",
       "    </tr>\n",
       "  </thead>\n",
       "  <tbody>\n",
       "    <tr>\n",
       "      <th>12</th>\n",
       "      <td>200</td>\n",
       "      <td>222</td>\n",
       "      <td>5</td>\n",
       "      <td>1997-10-05 09:05:40</td>\n",
       "      <td>True</td>\n",
       "    </tr>\n",
       "    <tr>\n",
       "      <th>16</th>\n",
       "      <td>122</td>\n",
       "      <td>387</td>\n",
       "      <td>5</td>\n",
       "      <td>1997-11-11 17:47:39</td>\n",
       "      <td>True</td>\n",
       "    </tr>\n",
       "    <tr>\n",
       "      <th>20</th>\n",
       "      <td>119</td>\n",
       "      <td>392</td>\n",
       "      <td>4</td>\n",
       "      <td>1998-01-30 16:13:34</td>\n",
       "      <td>True</td>\n",
       "    </tr>\n",
       "    <tr>\n",
       "      <th>21</th>\n",
       "      <td>167</td>\n",
       "      <td>486</td>\n",
       "      <td>4</td>\n",
       "      <td>1998-04-16 14:54:12</td>\n",
       "      <td>True</td>\n",
       "    </tr>\n",
       "    <tr>\n",
       "      <th>26</th>\n",
       "      <td>38</td>\n",
       "      <td>95</td>\n",
       "      <td>5</td>\n",
       "      <td>1998-04-13 01:14:54</td>\n",
       "      <td>True</td>\n",
       "    </tr>\n",
       "  </tbody>\n",
       "</table>\n",
       "</div>"
      ],
      "text/plain": [
       "    UserID  MovieID  Rating            Datetime  Favorable\n",
       "12     200      222       5 1997-10-05 09:05:40       True\n",
       "16     122      387       5 1997-11-11 17:47:39       True\n",
       "20     119      392       4 1998-01-30 16:13:34       True\n",
       "21     167      486       4 1998-04-16 14:54:12       True\n",
       "26      38       95       5 1998-04-13 01:14:54       True"
      ]
     },
     "execution_count": 41,
     "metadata": {},
     "output_type": "execute_result"
    }
   ],
   "source": [
    "# We start by creating a dataset of each user's favourable reviews\n",
    "favorable_ratings = ratings[ratings[\"Favorable\"]]\n",
    "favorable_ratings[:5]"
   ]
  },
  {
   "cell_type": "code",
   "execution_count": 42,
   "metadata": {
    "ExecuteTime": {
     "end_time": "2019-04-15T02:36:06.377628Z",
     "start_time": "2019-04-15T02:36:06.252626Z"
    }
   },
   "outputs": [
    {
     "data": {
      "text/plain": [
       "(11207, 5)"
      ]
     },
     "execution_count": 42,
     "metadata": {},
     "output_type": "execute_result"
    }
   ],
   "source": [
    "favorable_ratings.shape"
   ]
  },
  {
   "cell_type": "code",
   "execution_count": 43,
   "metadata": {
    "ExecuteTime": {
     "end_time": "2019-04-15T02:36:06.640422Z",
     "start_time": "2019-04-15T02:36:06.377628Z"
    }
   },
   "outputs": [
    {
     "data": {
      "text/plain": [
       "frozenset({258,\n",
       "           269,\n",
       "           272,\n",
       "           294,\n",
       "           300,\n",
       "           302,\n",
       "           313,\n",
       "           315,\n",
       "           316,\n",
       "           328,\n",
       "           344,\n",
       "           347,\n",
       "           355,\n",
       "           690,\n",
       "           691,\n",
       "           750,\n",
       "           751,\n",
       "           752,\n",
       "           879,\n",
       "           898,\n",
       "           900,\n",
       "           1235})"
      ]
     },
     "execution_count": 43,
     "metadata": {},
     "output_type": "execute_result"
    }
   ],
   "source": [
    "favorable_reviews_by_users = dict(\n",
    "    (k, frozenset(v.values)) for k, v in favorable_ratings.groupby(\"UserID\")[\"MovieID\"]\n",
    ")\n",
    "favorable_reviews_by_users[100]"
   ]
  },
  {
   "cell_type": "code",
   "execution_count": 44,
   "metadata": {
    "ExecuteTime": {
     "end_time": "2019-04-15T02:36:06.702904Z",
     "start_time": "2019-04-15T02:36:06.640422Z"
    }
   },
   "outputs": [
    {
     "data": {
      "text/html": [
       "<div>\n",
       "<style scoped>\n",
       "    .dataframe tbody tr th:only-of-type {\n",
       "        vertical-align: middle;\n",
       "    }\n",
       "\n",
       "    .dataframe tbody tr th {\n",
       "        vertical-align: top;\n",
       "    }\n",
       "\n",
       "    .dataframe thead th {\n",
       "        text-align: right;\n",
       "    }\n",
       "</style>\n",
       "<table border=\"1\" class=\"dataframe\">\n",
       "  <thead>\n",
       "    <tr style=\"text-align: right;\">\n",
       "      <th></th>\n",
       "      <th>Favorable</th>\n",
       "    </tr>\n",
       "    <tr>\n",
       "      <th>MovieID</th>\n",
       "      <th></th>\n",
       "    </tr>\n",
       "  </thead>\n",
       "  <tbody>\n",
       "    <tr>\n",
       "      <th>50</th>\n",
       "      <td>101</td>\n",
       "    </tr>\n",
       "    <tr>\n",
       "      <th>100</th>\n",
       "      <td>89</td>\n",
       "    </tr>\n",
       "    <tr>\n",
       "      <th>258</th>\n",
       "      <td>84</td>\n",
       "    </tr>\n",
       "    <tr>\n",
       "      <th>181</th>\n",
       "      <td>79</td>\n",
       "    </tr>\n",
       "    <tr>\n",
       "      <th>174</th>\n",
       "      <td>75</td>\n",
       "    </tr>\n",
       "  </tbody>\n",
       "</table>\n",
       "</div>"
      ],
      "text/plain": [
       "         Favorable\n",
       "MovieID           \n",
       "50             101\n",
       "100             89\n",
       "258             84\n",
       "181             79\n",
       "174             75"
      ]
     },
     "execution_count": 44,
     "metadata": {},
     "output_type": "execute_result"
    }
   ],
   "source": [
    "num_favorable_by_movie = ratings[[\"MovieID\", \"Favorable\"]].groupby(\"MovieID\").sum()\n",
    "num_favorable_by_movie.sort_values(\"Favorable\", ascending=False)[:5]"
   ]
  },
  {
   "cell_type": "markdown",
   "metadata": {},
   "source": [
    "当然，我们现在能看到的只是MovieID，不像电影名称看起来那么直观，可以直接从u.item中获取相关信息，然后进行合并"
   ]
  },
  {
   "cell_type": "code",
   "execution_count": 45,
   "metadata": {
    "ExecuteTime": {
     "end_time": "2019-04-15T02:36:06.824783Z",
     "start_time": "2019-04-15T02:36:06.702904Z"
    }
   },
   "outputs": [],
   "source": [
    "moive_info_columns = [\n",
    "    \"MovieID\",\n",
    "    \"Title\",\n",
    "    \"release_date\",\n",
    "    \"video_release_date\",\n",
    "    \"IMDb_URL\",\n",
    "    \"unknown\",\n",
    "    \"Action\",\n",
    "    \"Adventure\",\n",
    "    \"Animation\",\n",
    "    \"Childrens\",\n",
    "    \"Comedy\",\n",
    "    \"Crime\",\n",
    "    \"Documentary\",\n",
    "    \"Drama\",\n",
    "    \"Fantasy\",\n",
    "    \"Film_Noir\",\n",
    "    \"Horror\",\n",
    "    \"Musical\",\n",
    "    \"Mystery\",\n",
    "    \"Romance\",\n",
    "    \"Sci_Fi\",\n",
    "    \"Thriller\",\n",
    "    \"War\",\n",
    "    \"Western\",\n",
    "]\n",
    "movie_info_filename = os.path.join(data_folder, \"u.item\")\n",
    "movie_info = pd.read_csv(\n",
    "    movie_info_filename,\n",
    "    delimiter=\"|\",\n",
    "    header=None,\n",
    "    names=moive_info_columns,\n",
    "    encoding=\"mac-roman\",\n",
    ")"
   ]
  },
  {
   "cell_type": "code",
   "execution_count": 46,
   "metadata": {
    "ExecuteTime": {
     "end_time": "2019-04-15T02:36:07.137340Z",
     "start_time": "2019-04-15T02:36:06.824783Z"
    }
   },
   "outputs": [],
   "source": [
    "movie_info.to_csv(os.path.join(data_folder, \"u.item.csv\"))"
   ]
  },
  {
   "cell_type": "code",
   "execution_count": 47,
   "metadata": {
    "ExecuteTime": {
     "end_time": "2019-04-15T02:36:07.184098Z",
     "start_time": "2019-04-15T02:36:07.137340Z"
    }
   },
   "outputs": [
    {
     "data": {
      "text/html": [
       "<div>\n",
       "<style scoped>\n",
       "    .dataframe tbody tr th:only-of-type {\n",
       "        vertical-align: middle;\n",
       "    }\n",
       "\n",
       "    .dataframe tbody tr th {\n",
       "        vertical-align: top;\n",
       "    }\n",
       "\n",
       "    .dataframe thead th {\n",
       "        text-align: right;\n",
       "    }\n",
       "</style>\n",
       "<table border=\"1\" class=\"dataframe\">\n",
       "  <thead>\n",
       "    <tr style=\"text-align: right;\">\n",
       "      <th></th>\n",
       "      <th>MovieID</th>\n",
       "      <th>Title</th>\n",
       "      <th>release_date</th>\n",
       "      <th>video_release_date</th>\n",
       "      <th>IMDb_URL</th>\n",
       "      <th>unknown</th>\n",
       "      <th>Action</th>\n",
       "      <th>Adventure</th>\n",
       "      <th>Animation</th>\n",
       "      <th>Childrens</th>\n",
       "      <th>...</th>\n",
       "      <th>Fantasy</th>\n",
       "      <th>Film_Noir</th>\n",
       "      <th>Horror</th>\n",
       "      <th>Musical</th>\n",
       "      <th>Mystery</th>\n",
       "      <th>Romance</th>\n",
       "      <th>Sci_Fi</th>\n",
       "      <th>Thriller</th>\n",
       "      <th>War</th>\n",
       "      <th>Western</th>\n",
       "    </tr>\n",
       "  </thead>\n",
       "  <tbody>\n",
       "    <tr>\n",
       "      <th>0</th>\n",
       "      <td>1</td>\n",
       "      <td>Toy Story (1995)</td>\n",
       "      <td>01-Jan-1995</td>\n",
       "      <td>NaN</td>\n",
       "      <td>http://us.imdb.com/M/title-exact?Toy%20Story%2...</td>\n",
       "      <td>0</td>\n",
       "      <td>0</td>\n",
       "      <td>0</td>\n",
       "      <td>1</td>\n",
       "      <td>1</td>\n",
       "      <td>...</td>\n",
       "      <td>0</td>\n",
       "      <td>0</td>\n",
       "      <td>0</td>\n",
       "      <td>0</td>\n",
       "      <td>0</td>\n",
       "      <td>0</td>\n",
       "      <td>0</td>\n",
       "      <td>0</td>\n",
       "      <td>0</td>\n",
       "      <td>0</td>\n",
       "    </tr>\n",
       "    <tr>\n",
       "      <th>1</th>\n",
       "      <td>2</td>\n",
       "      <td>GoldenEye (1995)</td>\n",
       "      <td>01-Jan-1995</td>\n",
       "      <td>NaN</td>\n",
       "      <td>http://us.imdb.com/M/title-exact?GoldenEye%20(...</td>\n",
       "      <td>0</td>\n",
       "      <td>1</td>\n",
       "      <td>1</td>\n",
       "      <td>0</td>\n",
       "      <td>0</td>\n",
       "      <td>...</td>\n",
       "      <td>0</td>\n",
       "      <td>0</td>\n",
       "      <td>0</td>\n",
       "      <td>0</td>\n",
       "      <td>0</td>\n",
       "      <td>0</td>\n",
       "      <td>0</td>\n",
       "      <td>1</td>\n",
       "      <td>0</td>\n",
       "      <td>0</td>\n",
       "    </tr>\n",
       "    <tr>\n",
       "      <th>2</th>\n",
       "      <td>3</td>\n",
       "      <td>Four Rooms (1995)</td>\n",
       "      <td>01-Jan-1995</td>\n",
       "      <td>NaN</td>\n",
       "      <td>http://us.imdb.com/M/title-exact?Four%20Rooms%...</td>\n",
       "      <td>0</td>\n",
       "      <td>0</td>\n",
       "      <td>0</td>\n",
       "      <td>0</td>\n",
       "      <td>0</td>\n",
       "      <td>...</td>\n",
       "      <td>0</td>\n",
       "      <td>0</td>\n",
       "      <td>0</td>\n",
       "      <td>0</td>\n",
       "      <td>0</td>\n",
       "      <td>0</td>\n",
       "      <td>0</td>\n",
       "      <td>1</td>\n",
       "      <td>0</td>\n",
       "      <td>0</td>\n",
       "    </tr>\n",
       "    <tr>\n",
       "      <th>3</th>\n",
       "      <td>4</td>\n",
       "      <td>Get Shorty (1995)</td>\n",
       "      <td>01-Jan-1995</td>\n",
       "      <td>NaN</td>\n",
       "      <td>http://us.imdb.com/M/title-exact?Get%20Shorty%...</td>\n",
       "      <td>0</td>\n",
       "      <td>1</td>\n",
       "      <td>0</td>\n",
       "      <td>0</td>\n",
       "      <td>0</td>\n",
       "      <td>...</td>\n",
       "      <td>0</td>\n",
       "      <td>0</td>\n",
       "      <td>0</td>\n",
       "      <td>0</td>\n",
       "      <td>0</td>\n",
       "      <td>0</td>\n",
       "      <td>0</td>\n",
       "      <td>0</td>\n",
       "      <td>0</td>\n",
       "      <td>0</td>\n",
       "    </tr>\n",
       "    <tr>\n",
       "      <th>4</th>\n",
       "      <td>5</td>\n",
       "      <td>Copycat (1995)</td>\n",
       "      <td>01-Jan-1995</td>\n",
       "      <td>NaN</td>\n",
       "      <td>http://us.imdb.com/M/title-exact?Copycat%20(1995)</td>\n",
       "      <td>0</td>\n",
       "      <td>0</td>\n",
       "      <td>0</td>\n",
       "      <td>0</td>\n",
       "      <td>0</td>\n",
       "      <td>...</td>\n",
       "      <td>0</td>\n",
       "      <td>0</td>\n",
       "      <td>0</td>\n",
       "      <td>0</td>\n",
       "      <td>0</td>\n",
       "      <td>0</td>\n",
       "      <td>0</td>\n",
       "      <td>1</td>\n",
       "      <td>0</td>\n",
       "      <td>0</td>\n",
       "    </tr>\n",
       "    <tr>\n",
       "      <th>5</th>\n",
       "      <td>6</td>\n",
       "      <td>Shanghai Triad (Yao a yao yao dao waipo qiao) ...</td>\n",
       "      <td>01-Jan-1995</td>\n",
       "      <td>NaN</td>\n",
       "      <td>http://us.imdb.com/Title?Yao+a+yao+yao+dao+wai...</td>\n",
       "      <td>0</td>\n",
       "      <td>0</td>\n",
       "      <td>0</td>\n",
       "      <td>0</td>\n",
       "      <td>0</td>\n",
       "      <td>...</td>\n",
       "      <td>0</td>\n",
       "      <td>0</td>\n",
       "      <td>0</td>\n",
       "      <td>0</td>\n",
       "      <td>0</td>\n",
       "      <td>0</td>\n",
       "      <td>0</td>\n",
       "      <td>0</td>\n",
       "      <td>0</td>\n",
       "      <td>0</td>\n",
       "    </tr>\n",
       "    <tr>\n",
       "      <th>6</th>\n",
       "      <td>7</td>\n",
       "      <td>Twelve Monkeys (1995)</td>\n",
       "      <td>01-Jan-1995</td>\n",
       "      <td>NaN</td>\n",
       "      <td>http://us.imdb.com/M/title-exact?Twelve%20Monk...</td>\n",
       "      <td>0</td>\n",
       "      <td>0</td>\n",
       "      <td>0</td>\n",
       "      <td>0</td>\n",
       "      <td>0</td>\n",
       "      <td>...</td>\n",
       "      <td>0</td>\n",
       "      <td>0</td>\n",
       "      <td>0</td>\n",
       "      <td>0</td>\n",
       "      <td>0</td>\n",
       "      <td>0</td>\n",
       "      <td>1</td>\n",
       "      <td>0</td>\n",
       "      <td>0</td>\n",
       "      <td>0</td>\n",
       "    </tr>\n",
       "    <tr>\n",
       "      <th>7</th>\n",
       "      <td>8</td>\n",
       "      <td>Babe (1995)</td>\n",
       "      <td>01-Jan-1995</td>\n",
       "      <td>NaN</td>\n",
       "      <td>http://us.imdb.com/M/title-exact?Babe%20(1995)</td>\n",
       "      <td>0</td>\n",
       "      <td>0</td>\n",
       "      <td>0</td>\n",
       "      <td>0</td>\n",
       "      <td>1</td>\n",
       "      <td>...</td>\n",
       "      <td>0</td>\n",
       "      <td>0</td>\n",
       "      <td>0</td>\n",
       "      <td>0</td>\n",
       "      <td>0</td>\n",
       "      <td>0</td>\n",
       "      <td>0</td>\n",
       "      <td>0</td>\n",
       "      <td>0</td>\n",
       "      <td>0</td>\n",
       "    </tr>\n",
       "    <tr>\n",
       "      <th>8</th>\n",
       "      <td>9</td>\n",
       "      <td>Dead Man Walking (1995)</td>\n",
       "      <td>01-Jan-1995</td>\n",
       "      <td>NaN</td>\n",
       "      <td>http://us.imdb.com/M/title-exact?Dead%20Man%20...</td>\n",
       "      <td>0</td>\n",
       "      <td>0</td>\n",
       "      <td>0</td>\n",
       "      <td>0</td>\n",
       "      <td>0</td>\n",
       "      <td>...</td>\n",
       "      <td>0</td>\n",
       "      <td>0</td>\n",
       "      <td>0</td>\n",
       "      <td>0</td>\n",
       "      <td>0</td>\n",
       "      <td>0</td>\n",
       "      <td>0</td>\n",
       "      <td>0</td>\n",
       "      <td>0</td>\n",
       "      <td>0</td>\n",
       "    </tr>\n",
       "    <tr>\n",
       "      <th>9</th>\n",
       "      <td>10</td>\n",
       "      <td>Richard III (1995)</td>\n",
       "      <td>22-Jan-1996</td>\n",
       "      <td>NaN</td>\n",
       "      <td>http://us.imdb.com/M/title-exact?Richard%20III...</td>\n",
       "      <td>0</td>\n",
       "      <td>0</td>\n",
       "      <td>0</td>\n",
       "      <td>0</td>\n",
       "      <td>0</td>\n",
       "      <td>...</td>\n",
       "      <td>0</td>\n",
       "      <td>0</td>\n",
       "      <td>0</td>\n",
       "      <td>0</td>\n",
       "      <td>0</td>\n",
       "      <td>0</td>\n",
       "      <td>0</td>\n",
       "      <td>0</td>\n",
       "      <td>1</td>\n",
       "      <td>0</td>\n",
       "    </tr>\n",
       "  </tbody>\n",
       "</table>\n",
       "<p>10 rows × 24 columns</p>\n",
       "</div>"
      ],
      "text/plain": [
       "   MovieID                                              Title release_date  \\\n",
       "0        1                                   Toy Story (1995)  01-Jan-1995   \n",
       "1        2                                   GoldenEye (1995)  01-Jan-1995   \n",
       "2        3                                  Four Rooms (1995)  01-Jan-1995   \n",
       "3        4                                  Get Shorty (1995)  01-Jan-1995   \n",
       "4        5                                     Copycat (1995)  01-Jan-1995   \n",
       "5        6  Shanghai Triad (Yao a yao yao dao waipo qiao) ...  01-Jan-1995   \n",
       "6        7                              Twelve Monkeys (1995)  01-Jan-1995   \n",
       "7        8                                        Babe (1995)  01-Jan-1995   \n",
       "8        9                            Dead Man Walking (1995)  01-Jan-1995   \n",
       "9       10                                 Richard III (1995)  22-Jan-1996   \n",
       "\n",
       "   video_release_date                                           IMDb_URL  \\\n",
       "0                 NaN  http://us.imdb.com/M/title-exact?Toy%20Story%2...   \n",
       "1                 NaN  http://us.imdb.com/M/title-exact?GoldenEye%20(...   \n",
       "2                 NaN  http://us.imdb.com/M/title-exact?Four%20Rooms%...   \n",
       "3                 NaN  http://us.imdb.com/M/title-exact?Get%20Shorty%...   \n",
       "4                 NaN  http://us.imdb.com/M/title-exact?Copycat%20(1995)   \n",
       "5                 NaN  http://us.imdb.com/Title?Yao+a+yao+yao+dao+wai...   \n",
       "6                 NaN  http://us.imdb.com/M/title-exact?Twelve%20Monk...   \n",
       "7                 NaN     http://us.imdb.com/M/title-exact?Babe%20(1995)   \n",
       "8                 NaN  http://us.imdb.com/M/title-exact?Dead%20Man%20...   \n",
       "9                 NaN  http://us.imdb.com/M/title-exact?Richard%20III...   \n",
       "\n",
       "   unknown  Action  Adventure  Animation  Childrens  ...  Fantasy  Film_Noir  \\\n",
       "0        0       0          0          1          1  ...        0          0   \n",
       "1        0       1          1          0          0  ...        0          0   \n",
       "2        0       0          0          0          0  ...        0          0   \n",
       "3        0       1          0          0          0  ...        0          0   \n",
       "4        0       0          0          0          0  ...        0          0   \n",
       "5        0       0          0          0          0  ...        0          0   \n",
       "6        0       0          0          0          0  ...        0          0   \n",
       "7        0       0          0          0          1  ...        0          0   \n",
       "8        0       0          0          0          0  ...        0          0   \n",
       "9        0       0          0          0          0  ...        0          0   \n",
       "\n",
       "   Horror  Musical  Mystery  Romance  Sci_Fi  Thriller  War  Western  \n",
       "0       0        0        0        0       0         0    0        0  \n",
       "1       0        0        0        0       0         1    0        0  \n",
       "2       0        0        0        0       0         1    0        0  \n",
       "3       0        0        0        0       0         0    0        0  \n",
       "4       0        0        0        0       0         1    0        0  \n",
       "5       0        0        0        0       0         0    0        0  \n",
       "6       0        0        0        0       1         0    0        0  \n",
       "7       0        0        0        0       0         0    0        0  \n",
       "8       0        0        0        0       0         0    0        0  \n",
       "9       0        0        0        0       0         0    1        0  \n",
       "\n",
       "[10 rows x 24 columns]"
      ]
     },
     "execution_count": 47,
     "metadata": {},
     "output_type": "execute_result"
    }
   ],
   "source": [
    "movie_info.head(n=10)"
   ]
  },
  {
   "cell_type": "markdown",
   "metadata": {},
   "source": [
    "从unkonw开始直到最后一列，均是指电影的类型。我们需要用到的，只有MovieID和Title两列。以下是具体合并代码："
   ]
  },
  {
   "cell_type": "code",
   "execution_count": 48,
   "metadata": {
    "ExecuteTime": {
     "end_time": "2019-04-15T02:36:07.311831Z",
     "start_time": "2019-04-15T02:36:07.184098Z"
    }
   },
   "outputs": [],
   "source": [
    "ratings = pd.merge(\n",
    "    ratings[[\"UserID\", \"MovieID\", \"Rating\", \"Favorable\"]],\n",
    "    movie_info[[\"MovieID\", \"Title\"]],\n",
    ")"
   ]
  },
  {
   "cell_type": "code",
   "execution_count": 49,
   "metadata": {},
   "outputs": [
    {
     "data": {
      "text/html": [
       "<div>\n",
       "<style scoped>\n",
       "    .dataframe tbody tr th:only-of-type {\n",
       "        vertical-align: middle;\n",
       "    }\n",
       "\n",
       "    .dataframe tbody tr th {\n",
       "        vertical-align: top;\n",
       "    }\n",
       "\n",
       "    .dataframe thead th {\n",
       "        text-align: right;\n",
       "    }\n",
       "</style>\n",
       "<table border=\"1\" class=\"dataframe\">\n",
       "  <thead>\n",
       "    <tr style=\"text-align: right;\">\n",
       "      <th></th>\n",
       "      <th>UserID</th>\n",
       "      <th>MovieID</th>\n",
       "      <th>Rating</th>\n",
       "      <th>Favorable</th>\n",
       "      <th>Title</th>\n",
       "    </tr>\n",
       "  </thead>\n",
       "  <tbody>\n",
       "    <tr>\n",
       "      <th>0</th>\n",
       "      <td>196</td>\n",
       "      <td>242</td>\n",
       "      <td>3</td>\n",
       "      <td>False</td>\n",
       "      <td>Kolya (1996)</td>\n",
       "    </tr>\n",
       "    <tr>\n",
       "      <th>1</th>\n",
       "      <td>63</td>\n",
       "      <td>242</td>\n",
       "      <td>3</td>\n",
       "      <td>False</td>\n",
       "      <td>Kolya (1996)</td>\n",
       "    </tr>\n",
       "    <tr>\n",
       "      <th>2</th>\n",
       "      <td>154</td>\n",
       "      <td>242</td>\n",
       "      <td>3</td>\n",
       "      <td>False</td>\n",
       "      <td>Kolya (1996)</td>\n",
       "    </tr>\n",
       "    <tr>\n",
       "      <th>3</th>\n",
       "      <td>34</td>\n",
       "      <td>242</td>\n",
       "      <td>5</td>\n",
       "      <td>True</td>\n",
       "      <td>Kolya (1996)</td>\n",
       "    </tr>\n",
       "    <tr>\n",
       "      <th>4</th>\n",
       "      <td>35</td>\n",
       "      <td>242</td>\n",
       "      <td>2</td>\n",
       "      <td>False</td>\n",
       "      <td>Kolya (1996)</td>\n",
       "    </tr>\n",
       "  </tbody>\n",
       "</table>\n",
       "</div>"
      ],
      "text/plain": [
       "   UserID  MovieID  Rating  Favorable         Title\n",
       "0     196      242       3      False  Kolya (1996)\n",
       "1      63      242       3      False  Kolya (1996)\n",
       "2     154      242       3      False  Kolya (1996)\n",
       "3      34      242       5       True  Kolya (1996)\n",
       "4      35      242       2      False  Kolya (1996)"
      ]
     },
     "execution_count": 49,
     "metadata": {},
     "output_type": "execute_result"
    }
   ],
   "source": [
    "ratings.head()"
   ]
  },
  {
   "cell_type": "code",
   "execution_count": 50,
   "metadata": {
    "ExecuteTime": {
     "end_time": "2019-04-15T02:36:07.946046Z",
     "start_time": "2019-04-15T02:36:07.311831Z"
    }
   },
   "outputs": [],
   "source": [
    "ratings.to_csv(os.path.join(data_folder, \"u.data.item.csv\"))"
   ]
  },
  {
   "cell_type": "markdown",
   "metadata": {},
   "source": [
    "接下来，新建一个数据集，只包括用户喜欢某部电影的数据行。"
   ]
  },
  {
   "cell_type": "code",
   "execution_count": 51,
   "metadata": {
    "ExecuteTime": {
     "end_time": "2019-04-15T02:36:07.977292Z",
     "start_time": "2019-04-15T02:36:07.946046Z"
    }
   },
   "outputs": [
    {
     "data": {
      "text/html": [
       "<div>\n",
       "<style scoped>\n",
       "    .dataframe tbody tr th:only-of-type {\n",
       "        vertical-align: middle;\n",
       "    }\n",
       "\n",
       "    .dataframe tbody tr th {\n",
       "        vertical-align: top;\n",
       "    }\n",
       "\n",
       "    .dataframe thead th {\n",
       "        text-align: right;\n",
       "    }\n",
       "</style>\n",
       "<table border=\"1\" class=\"dataframe\">\n",
       "  <thead>\n",
       "    <tr style=\"text-align: right;\">\n",
       "      <th></th>\n",
       "      <th>UserID</th>\n",
       "      <th>MovieID</th>\n",
       "      <th>Rating</th>\n",
       "      <th>Favorable</th>\n",
       "      <th>Title</th>\n",
       "    </tr>\n",
       "  </thead>\n",
       "  <tbody>\n",
       "    <tr>\n",
       "      <th>3</th>\n",
       "      <td>34</td>\n",
       "      <td>242</td>\n",
       "      <td>5</td>\n",
       "      <td>True</td>\n",
       "      <td>Kolya (1996)</td>\n",
       "    </tr>\n",
       "    <tr>\n",
       "      <th>5</th>\n",
       "      <td>199</td>\n",
       "      <td>242</td>\n",
       "      <td>5</td>\n",
       "      <td>True</td>\n",
       "      <td>Kolya (1996)</td>\n",
       "    </tr>\n",
       "    <tr>\n",
       "      <th>7</th>\n",
       "      <td>1</td>\n",
       "      <td>242</td>\n",
       "      <td>5</td>\n",
       "      <td>True</td>\n",
       "      <td>Kolya (1996)</td>\n",
       "    </tr>\n",
       "    <tr>\n",
       "      <th>8</th>\n",
       "      <td>173</td>\n",
       "      <td>242</td>\n",
       "      <td>5</td>\n",
       "      <td>True</td>\n",
       "      <td>Kolya (1996)</td>\n",
       "    </tr>\n",
       "    <tr>\n",
       "      <th>9</th>\n",
       "      <td>14</td>\n",
       "      <td>242</td>\n",
       "      <td>4</td>\n",
       "      <td>True</td>\n",
       "      <td>Kolya (1996)</td>\n",
       "    </tr>\n",
       "  </tbody>\n",
       "</table>\n",
       "</div>"
      ],
      "text/plain": [
       "   UserID  MovieID  Rating  Favorable         Title\n",
       "3      34      242       5       True  Kolya (1996)\n",
       "5     199      242       5       True  Kolya (1996)\n",
       "7       1      242       5       True  Kolya (1996)\n",
       "8     173      242       5       True  Kolya (1996)\n",
       "9      14      242       4       True  Kolya (1996)"
      ]
     },
     "execution_count": 51,
     "metadata": {},
     "output_type": "execute_result"
    }
   ],
   "source": [
    "favorable_ratings = ratings[ratings[\"Favorable\"]]\n",
    "favorable_ratings[:5]"
   ]
  },
  {
   "cell_type": "markdown",
   "metadata": {},
   "source": [
    "我们可以创建一个数据框，以便了解每部电影的影迷数量。"
   ]
  },
  {
   "cell_type": "code",
   "execution_count": 52,
   "metadata": {
    "ExecuteTime": {
     "end_time": "2019-04-15T02:36:08.149156Z",
     "start_time": "2019-04-15T02:36:07.977292Z"
    }
   },
   "outputs": [
    {
     "data": {
      "text/html": [
       "<div>\n",
       "<style scoped>\n",
       "    .dataframe tbody tr th:only-of-type {\n",
       "        vertical-align: middle;\n",
       "    }\n",
       "\n",
       "    .dataframe tbody tr th {\n",
       "        vertical-align: top;\n",
       "    }\n",
       "\n",
       "    .dataframe thead th {\n",
       "        text-align: right;\n",
       "    }\n",
       "</style>\n",
       "<table border=\"1\" class=\"dataframe\">\n",
       "  <thead>\n",
       "    <tr style=\"text-align: right;\">\n",
       "      <th></th>\n",
       "      <th>Favorable</th>\n",
       "    </tr>\n",
       "    <tr>\n",
       "      <th>Title</th>\n",
       "      <th></th>\n",
       "    </tr>\n",
       "  </thead>\n",
       "  <tbody>\n",
       "    <tr>\n",
       "      <th>Star Wars (1977)</th>\n",
       "      <td>101</td>\n",
       "    </tr>\n",
       "    <tr>\n",
       "      <th>Fargo (1996)</th>\n",
       "      <td>89</td>\n",
       "    </tr>\n",
       "    <tr>\n",
       "      <th>Contact (1997)</th>\n",
       "      <td>84</td>\n",
       "    </tr>\n",
       "    <tr>\n",
       "      <th>Return of the Jedi (1983)</th>\n",
       "      <td>79</td>\n",
       "    </tr>\n",
       "    <tr>\n",
       "      <th>Raiders of the Lost Ark (1981)</th>\n",
       "      <td>75</td>\n",
       "    </tr>\n",
       "    <tr>\n",
       "      <th>Silence of the Lambs, The (1991)</th>\n",
       "      <td>71</td>\n",
       "    </tr>\n",
       "  </tbody>\n",
       "</table>\n",
       "</div>"
      ],
      "text/plain": [
       "                                  Favorable\n",
       "Title                                      \n",
       "Star Wars (1977)                        101\n",
       "Fargo (1996)                             89\n",
       "Contact (1997)                           84\n",
       "Return of the Jedi (1983)                79\n",
       "Raiders of the Lost Ark (1981)           75\n",
       "Silence of the Lambs, The (1991)         71"
      ]
     },
     "execution_count": 52,
     "metadata": {},
     "output_type": "execute_result"
    }
   ],
   "source": [
    "num_favorable_by_movie = ratings[[\"Title\", \"Favorable\"]].groupby(\"Title\").sum()\n",
    "num_favorable_by_movie.sort_values(\"Favorable\", ascending=False)[:6]"
   ]
  },
  {
   "cell_type": "code",
   "execution_count": 53,
   "metadata": {},
   "outputs": [],
   "source": [
    "from translate import Translator"
   ]
  },
  {
   "cell_type": "code",
   "execution_count": 54,
   "metadata": {},
   "outputs": [
    {
     "data": {
      "text/plain": [
       "'星際大戰'"
      ]
     },
     "execution_count": 54,
     "metadata": {},
     "output_type": "execute_result"
    },
    {
     "data": {
      "text/plain": [
       "'绝地归来'"
      ]
     },
     "execution_count": 54,
     "metadata": {},
     "output_type": "execute_result"
    }
   ],
   "source": [
    "tran = Translator(to_lang=\"chinese\")\n",
    "tran.translate('Star Wars')\n",
    "tran.translate('Return of the Jedi')"
   ]
  },
  {
   "cell_type": "code",
   "execution_count": 55,
   "metadata": {},
   "outputs": [
    {
     "data": {
      "text/html": [
       "<div>\n",
       "<style scoped>\n",
       "    .dataframe tbody tr th:only-of-type {\n",
       "        vertical-align: middle;\n",
       "    }\n",
       "\n",
       "    .dataframe tbody tr th {\n",
       "        vertical-align: top;\n",
       "    }\n",
       "\n",
       "    .dataframe thead th {\n",
       "        text-align: right;\n",
       "    }\n",
       "</style>\n",
       "<table border=\"1\" class=\"dataframe\">\n",
       "  <thead>\n",
       "    <tr style=\"text-align: right;\">\n",
       "      <th></th>\n",
       "      <th>UserID</th>\n",
       "      <th>MovieID</th>\n",
       "      <th>Rating</th>\n",
       "      <th>Favorable</th>\n",
       "      <th>Title</th>\n",
       "    </tr>\n",
       "  </thead>\n",
       "  <tbody>\n",
       "    <tr>\n",
       "      <th>14818</th>\n",
       "      <td>116</td>\n",
       "      <td>252</td>\n",
       "      <td>2</td>\n",
       "      <td>False</td>\n",
       "      <td>Lost World: Jurassic Park, The (1997)</td>\n",
       "    </tr>\n",
       "    <tr>\n",
       "      <th>13584</th>\n",
       "      <td>157</td>\n",
       "      <td>276</td>\n",
       "      <td>4</td>\n",
       "      <td>True</td>\n",
       "      <td>Leaving Las Vegas (1995)</td>\n",
       "    </tr>\n",
       "    <tr>\n",
       "      <th>18671</th>\n",
       "      <td>10</td>\n",
       "      <td>707</td>\n",
       "      <td>5</td>\n",
       "      <td>True</td>\n",
       "      <td>Enchanted April (1991)</td>\n",
       "    </tr>\n",
       "    <tr>\n",
       "      <th>10520</th>\n",
       "      <td>6</td>\n",
       "      <td>472</td>\n",
       "      <td>1</td>\n",
       "      <td>False</td>\n",
       "      <td>Dragonheart (1996)</td>\n",
       "    </tr>\n",
       "    <tr>\n",
       "      <th>2332</th>\n",
       "      <td>194</td>\n",
       "      <td>385</td>\n",
       "      <td>2</td>\n",
       "      <td>False</td>\n",
       "      <td>True Lies (1994)</td>\n",
       "    </tr>\n",
       "    <tr>\n",
       "      <th>11829</th>\n",
       "      <td>158</td>\n",
       "      <td>221</td>\n",
       "      <td>2</td>\n",
       "      <td>False</td>\n",
       "      <td>Breaking the Waves (1996)</td>\n",
       "    </tr>\n",
       "    <tr>\n",
       "      <th>7891</th>\n",
       "      <td>5</td>\n",
       "      <td>200</td>\n",
       "      <td>2</td>\n",
       "      <td>False</td>\n",
       "      <td>Shining, The (1980)</td>\n",
       "    </tr>\n",
       "    <tr>\n",
       "      <th>9552</th>\n",
       "      <td>104</td>\n",
       "      <td>324</td>\n",
       "      <td>1</td>\n",
       "      <td>False</td>\n",
       "      <td>Lost Highway (1997)</td>\n",
       "    </tr>\n",
       "    <tr>\n",
       "      <th>6557</th>\n",
       "      <td>194</td>\n",
       "      <td>182</td>\n",
       "      <td>3</td>\n",
       "      <td>False</td>\n",
       "      <td>GoodFellas (1990)</td>\n",
       "    </tr>\n",
       "    <tr>\n",
       "      <th>19611</th>\n",
       "      <td>85</td>\n",
       "      <td>1166</td>\n",
       "      <td>4</td>\n",
       "      <td>True</td>\n",
       "      <td>Love &amp; Human Remains (1993)</td>\n",
       "    </tr>\n",
       "    <tr>\n",
       "      <th>15043</th>\n",
       "      <td>92</td>\n",
       "      <td>249</td>\n",
       "      <td>3</td>\n",
       "      <td>False</td>\n",
       "      <td>Austin Powers: International Man of Mystery (1...</td>\n",
       "    </tr>\n",
       "    <tr>\n",
       "      <th>16197</th>\n",
       "      <td>95</td>\n",
       "      <td>855</td>\n",
       "      <td>3</td>\n",
       "      <td>False</td>\n",
       "      <td>Diva (1981)</td>\n",
       "    </tr>\n",
       "    <tr>\n",
       "      <th>4519</th>\n",
       "      <td>82</td>\n",
       "      <td>520</td>\n",
       "      <td>3</td>\n",
       "      <td>False</td>\n",
       "      <td>Great Escape, The (1963)</td>\n",
       "    </tr>\n",
       "    <tr>\n",
       "      <th>14724</th>\n",
       "      <td>128</td>\n",
       "      <td>684</td>\n",
       "      <td>4</td>\n",
       "      <td>True</td>\n",
       "      <td>In the Line of Fire (1993)</td>\n",
       "    </tr>\n",
       "    <tr>\n",
       "      <th>907</th>\n",
       "      <td>1</td>\n",
       "      <td>196</td>\n",
       "      <td>5</td>\n",
       "      <td>True</td>\n",
       "      <td>Dead Poets Society (1989)</td>\n",
       "    </tr>\n",
       "    <tr>\n",
       "      <th>8253</th>\n",
       "      <td>130</td>\n",
       "      <td>588</td>\n",
       "      <td>4</td>\n",
       "      <td>True</td>\n",
       "      <td>Beauty and the Beast (1991)</td>\n",
       "    </tr>\n",
       "    <tr>\n",
       "      <th>11015</th>\n",
       "      <td>11</td>\n",
       "      <td>125</td>\n",
       "      <td>4</td>\n",
       "      <td>True</td>\n",
       "      <td>Phenomenon (1996)</td>\n",
       "    </tr>\n",
       "    <tr>\n",
       "      <th>16287</th>\n",
       "      <td>148</td>\n",
       "      <td>495</td>\n",
       "      <td>4</td>\n",
       "      <td>True</td>\n",
       "      <td>Around the World in 80 Days (1956)</td>\n",
       "    </tr>\n",
       "    <tr>\n",
       "      <th>18353</th>\n",
       "      <td>194</td>\n",
       "      <td>502</td>\n",
       "      <td>4</td>\n",
       "      <td>True</td>\n",
       "      <td>Bananas (1971)</td>\n",
       "    </tr>\n",
       "    <tr>\n",
       "      <th>1195</th>\n",
       "      <td>42</td>\n",
       "      <td>427</td>\n",
       "      <td>4</td>\n",
       "      <td>True</td>\n",
       "      <td>To Kill a Mockingbird (1962)</td>\n",
       "    </tr>\n",
       "  </tbody>\n",
       "</table>\n",
       "</div>"
      ],
      "text/plain": [
       "       UserID  MovieID  Rating  Favorable  \\\n",
       "14818     116      252       2      False   \n",
       "13584     157      276       4       True   \n",
       "18671      10      707       5       True   \n",
       "10520       6      472       1      False   \n",
       "2332      194      385       2      False   \n",
       "11829     158      221       2      False   \n",
       "7891        5      200       2      False   \n",
       "9552      104      324       1      False   \n",
       "6557      194      182       3      False   \n",
       "19611      85     1166       4       True   \n",
       "15043      92      249       3      False   \n",
       "16197      95      855       3      False   \n",
       "4519       82      520       3      False   \n",
       "14724     128      684       4       True   \n",
       "907         1      196       5       True   \n",
       "8253      130      588       4       True   \n",
       "11015      11      125       4       True   \n",
       "16287     148      495       4       True   \n",
       "18353     194      502       4       True   \n",
       "1195       42      427       4       True   \n",
       "\n",
       "                                                   Title  \n",
       "14818              Lost World: Jurassic Park, The (1997)  \n",
       "13584                           Leaving Las Vegas (1995)  \n",
       "18671                             Enchanted April (1991)  \n",
       "10520                                 Dragonheart (1996)  \n",
       "2332                                    True Lies (1994)  \n",
       "11829                          Breaking the Waves (1996)  \n",
       "7891                                 Shining, The (1980)  \n",
       "9552                                 Lost Highway (1997)  \n",
       "6557                                   GoodFellas (1990)  \n",
       "19611                        Love & Human Remains (1993)  \n",
       "15043  Austin Powers: International Man of Mystery (1...  \n",
       "16197                                        Diva (1981)  \n",
       "4519                            Great Escape, The (1963)  \n",
       "14724                         In the Line of Fire (1993)  \n",
       "907                            Dead Poets Society (1989)  \n",
       "8253                         Beauty and the Beast (1991)  \n",
       "11015                                  Phenomenon (1996)  \n",
       "16287                 Around the World in 80 Days (1956)  \n",
       "18353                                     Bananas (1971)  \n",
       "1195                        To Kill a Mockingbird (1962)  "
      ]
     },
     "execution_count": 55,
     "metadata": {},
     "output_type": "execute_result"
    }
   ],
   "source": [
    "ratings.sample(20)"
   ]
  },
  {
   "cell_type": "markdown",
   "metadata": {},
   "source": [
    "通过图形展示，更加直观一点："
   ]
  },
  {
   "cell_type": "code",
   "execution_count": 56,
   "metadata": {},
   "outputs": [],
   "source": [
    "import matplotlib.pyplot as plt\n",
    "import numpy as np\n",
    "%matplotlib inline"
   ]
  },
  {
   "cell_type": "code",
   "execution_count": 57,
   "metadata": {},
   "outputs": [
    {
     "data": {
      "text/plain": [
       "Star Wars (1977)               118\n",
       "Contact (1997)                 116\n",
       "Fargo (1996)                   105\n",
       "Liar Liar (1997)               102\n",
       "English Patient, The (1996)    100\n",
       "Name: Title, dtype: int64"
      ]
     },
     "execution_count": 57,
     "metadata": {},
     "output_type": "execute_result"
    }
   ],
   "source": [
    "ratings[\"Title\"].value_counts().head()"
   ]
  },
  {
   "cell_type": "code",
   "execution_count": 58,
   "metadata": {},
   "outputs": [
    {
     "data": {
      "text/plain": [
       "Star Wars (1977)                  118\n",
       "Contact (1997)                    116\n",
       "Fargo (1996)                      105\n",
       "Liar Liar (1997)                  102\n",
       "English Patient, The (1996)       100\n",
       "Return of the Jedi (1983)          98\n",
       "Scream (1996)                      96\n",
       "Twelve Monkeys (1995)              94\n",
       "Independence Day (ID4) (1996)      94\n",
       "Toy Story (1995)                   90\n",
       "Chasing Amy (1997)                 87\n",
       "Pulp Fiction (1994)                86\n",
       "Air Force One (1997)               85\n",
       "Raiders of the Lost Ark (1981)     83\n",
       "Godfather, The (1972)              83\n",
       "Name: Title, dtype: int64"
      ]
     },
     "execution_count": 58,
     "metadata": {},
     "output_type": "execute_result"
    }
   ],
   "source": [
    "top_n = 15\n",
    "ratings[\"Title\"].value_counts().head(top_n)"
   ]
  },
  {
   "cell_type": "code",
   "execution_count": 59,
   "metadata": {},
   "outputs": [
    {
     "data": {
      "text/plain": [
       "<AxesSubplot:>"
      ]
     },
     "execution_count": 59,
     "metadata": {},
     "output_type": "execute_result"
    },
    {
     "data": {
      "image/png": "[encoded data removed]",
      "text/plain": [
       "<Figure size 432x288 with 1 Axes>"
      ]
     },
     "metadata": {
      "needs_background": "light"
     },
     "output_type": "display_data"
    }
   ],
   "source": [
    "color = plt.cm.jet(np.linspace(1, 0, top_n))\n",
    "ratings[\"Title\"].value_counts().head(top_n).plot(kind=\"bar\")\n",
    "plt.grid()"
   ]
  },
  {
   "cell_type": "code",
   "execution_count": 60,
   "metadata": {},
   "outputs": [],
   "source": [
    "import squarify"
   ]
  },
  {
   "cell_type": "code",
   "execution_count": 61,
   "metadata": {},
   "outputs": [
    {
     "data": {
      "text/plain": [
       "<AxesSubplot:>"
      ]
     },
     "execution_count": 61,
     "metadata": {},
     "output_type": "execute_result"
    },
    {
     "data": {
      "text/plain": [
       "(0.0, 100.0, 0.0, 100.0)"
      ]
     },
     "execution_count": 61,
     "metadata": {},
     "output_type": "execute_result"
    },
    {
     "data": {
      "image/png": "[encoded data removed]",
      "text/plain": [
       "<Figure size 432x288 with 1 Axes>"
      ]
     },
     "metadata": {
      "needs_background": "light"
     },
     "output_type": "display_data"
    }
   ],
   "source": [
    "top_n = 15\n",
    "y = ratings[\"Title\"].value_counts().head(top_n).to_frame()\n",
    "color = plt.cm.jet(np.linspace(0, 1, top_n))\n",
    "squarify.plot(sizes=y.values, color=color)\n",
    "plt.axis(\"off\")"
   ]
  },
  {
   "cell_type": "markdown",
   "metadata": {},
   "source": [
    "在生成项集时，需要搜索用户喜欢的电影。因此，接下来，我们需要知道每个用户各喜欢哪些电影，按照User ID进行分组，并遍历每个用户看过的每一部电影。"
   ]
  },
  {
   "cell_type": "code",
   "execution_count": 62,
   "metadata": {
    "ExecuteTime": {
     "end_time": "2019-04-15T02:36:08.339296Z",
     "start_time": "2019-04-15T02:36:08.149156Z"
    }
   },
   "outputs": [],
   "source": [
    "favorable_reviews_by_users_list = [\n",
    "    list(v.values) for k, v in favorable_ratings.groupby(\"UserID\")[\"Title\"]\n",
    "]"
   ]
  },
  {
   "cell_type": "code",
   "execution_count": 63,
   "metadata": {
    "ExecuteTime": {
     "end_time": "2019-04-15T02:36:08.417414Z",
     "start_time": "2019-04-15T02:36:08.339296Z"
    }
   },
   "outputs": [
    {
     "data": {
      "text/plain": [
       "[['Kolya (1996)',\n",
       "  'L.A. Confidential (1997)',\n",
       "  'Men in Black (1997)',\n",
       "  'Restoration (1995)',\n",
       "  'Fly Away Home (1996)',\n",
       "  'Truth About Cats & Dogs, The (1996)',\n",
       "  'Birdcage, The (1996)',\n",
       "  'Sense and Sensibility (1995)',\n",
       "  'Good Will Hunting (1997)',\n",
       "  'Postino, Il (1994)',\n",
       "  'Jerry Maguire (1996)',\n",
       "  'English Patient, The (1996)',\n",
       "  'Once Upon a Time... When We Were Colored (1995)',\n",
       "  'Mrs. Brown (Her Majesty, Mrs. Brown) (1997)',\n",
       "  'In & Out (1997)',\n",
       "  \"Ulee's Gold (1997)\",\n",
       "  'Tin Cup (1996)',\n",
       "  'Rosewood (1997)',\n",
       "  'Fargo (1996)',\n",
       "  'Donnie Brasco (1997)',\n",
       "  'Godfather, The (1972)',\n",
       "  'Full Monty, The (1997)',\n",
       "  'Star Wars (1977)',\n",
       "  'Secrets & Lies (1996)',\n",
       "  'Heat (1995)',\n",
       "  'Shall We Dance? (1996)',\n",
       "  'Mighty Aphrodite (1995)',\n",
       "  'Toy Story (1995)',\n",
       "  \"My Best Friend's Wedding (1997)\",\n",
       "  'Hoodlum (1997)',\n",
       "  'Time to Kill, A (1996)',\n",
       "  'Air Force One (1997)',\n",
       "  'Leaving Las Vegas (1995)',\n",
       "  'As Good As It Gets (1997)',\n",
       "  'Titanic (1997)',\n",
       "  \"Ulee's Gold (1997)\",\n",
       "  'Emma (1996)',\n",
       "  'Rainmaker, The (1997)',\n",
       "  'Breakdown (1997)',\n",
       "  'Wings of the Dove, The (1997)'],\n",
       " ['Jackie Brown (1997)',\n",
       "  'Return of the Jedi (1983)',\n",
       "  'Conspiracy Theory (1997)',\n",
       "  'Wag the Dog (1997)',\n",
       "  \"Schindler's List (1993)\",\n",
       "  'Apostle, The (1997)',\n",
       "  'Mother (1996)',\n",
       "  'Edge, The (1997)',\n",
       "  'Cop Land (1997)',\n",
       "  'Event Horizon (1997)',\n",
       "  'Paradise Lost: The Child Murders at Robin Hood Hills (1996)',\n",
       "  'Boogie Nights (1997)',\n",
       "  'Desperate Measures (1998)',\n",
       "  'Man Who Knew Too Little, The (1997)',\n",
       "  'Desperate Measures (1998)']]"
      ]
     },
     "execution_count": 63,
     "metadata": {},
     "output_type": "execute_result"
    }
   ],
   "source": [
    "favorable_reviews_by_users_list[1:3]"
   ]
  },
  {
   "cell_type": "code",
   "execution_count": 64,
   "metadata": {
    "ExecuteTime": {
     "end_time": "2019-04-15T02:36:08.632571Z",
     "start_time": "2019-04-15T02:36:08.417414Z"
    }
   },
   "outputs": [],
   "source": [
    "favorable_reviews_by_users = dict(\n",
    "    (k, frozenset(v.values)) for k, v in favorable_ratings.groupby(\"UserID\")[\"Title\"]\n",
    ")"
   ]
  },
  {
   "cell_type": "markdown",
   "metadata": {},
   "source": [
    "上面的代码把 v.values 存储为 frozenset ，便于快速判断用户是否为某部电影打过分。对于这种操作，集合比列表速度快。"
   ]
  },
  {
   "cell_type": "markdown",
   "metadata": {},
   "source": [
    "比如UserID为173的用户，他喜欢的电影如下："
   ]
  },
  {
   "cell_type": "code",
   "execution_count": 65,
   "metadata": {
    "ExecuteTime": {
     "end_time": "2019-04-15T02:36:08.757573Z",
     "start_time": "2019-04-15T02:36:08.632571Z"
    }
   },
   "outputs": [
    {
     "data": {
      "text/plain": [
       "frozenset({'Air Force One (1997)',\n",
       "           'Career Girls (1997)',\n",
       "           'Chasing Amy (1997)',\n",
       "           'Conspiracy Theory (1997)',\n",
       "           'Contact (1997)',\n",
       "           'Cop Land (1997)',\n",
       "           \"Dante's Peak (1997)\",\n",
       "           'Desperate Measures (1998)',\n",
       "           \"Devil's Own, The (1997)\",\n",
       "           'Edge, The (1997)',\n",
       "           'English Patient, The (1996)',\n",
       "           'Event Horizon (1997)',\n",
       "           'Everyone Says I Love You (1996)',\n",
       "           'Evita (1996)',\n",
       "           'Full Monty, The (1997)',\n",
       "           'G.I. Jane (1997)',\n",
       "           'Hoodlum (1997)',\n",
       "           'Ice Storm, The (1997)',\n",
       "           'In & Out (1997)',\n",
       "           'In the Company of Men (1997)',\n",
       "           'Kiss Me, Guido (1997)',\n",
       "           'Kiss the Girls (1997)',\n",
       "           'Kolya (1996)',\n",
       "           'L.A. Confidential (1997)',\n",
       "           'Liar Liar (1997)',\n",
       "           'Lost Highway (1997)',\n",
       "           'Mother (1996)',\n",
       "           'Mrs. Brown (Her Majesty, Mrs. Brown) (1997)',\n",
       "           'Murder at 1600 (1997)',\n",
       "           'Peacemaker, The (1997)',\n",
       "           'Rosewood (1997)',\n",
       "           'Seven Years in Tibet (1997)',\n",
       "           'Shadow Conspiracy (1997)',\n",
       "           'Soul Food (1997)',\n",
       "           'Thousand Acres, A (1997)',\n",
       "           'U Turn (1997)',\n",
       "           \"Ulee's Gold (1997)\"})"
      ]
     },
     "execution_count": 65,
     "metadata": {},
     "output_type": "execute_result"
    }
   ],
   "source": [
    "favorable_reviews_by_users[173]"
   ]
  },
  {
   "cell_type": "markdown",
   "metadata": {},
   "source": [
    "下面这种方式可能更好一点："
   ]
  },
  {
   "cell_type": "code",
   "execution_count": 66,
   "metadata": {
    "ExecuteTime": {
     "end_time": "2019-04-15T02:36:08.943134Z",
     "start_time": "2019-04-15T02:36:08.757573Z"
    }
   },
   "outputs": [
    {
     "data": {
      "text/plain": [
       "frozenset({'Air Force One (1997)',\n",
       "           'As Good As It Gets (1997)',\n",
       "           'Birdcage, The (1996)',\n",
       "           'Breakdown (1997)',\n",
       "           'Donnie Brasco (1997)',\n",
       "           'Emma (1996)',\n",
       "           'English Patient, The (1996)',\n",
       "           'Fargo (1996)',\n",
       "           'Fly Away Home (1996)',\n",
       "           'Full Monty, The (1997)',\n",
       "           'Godfather, The (1972)',\n",
       "           'Good Will Hunting (1997)',\n",
       "           'Heat (1995)',\n",
       "           'Hoodlum (1997)',\n",
       "           'In & Out (1997)',\n",
       "           'Jerry Maguire (1996)',\n",
       "           'Kolya (1996)',\n",
       "           'L.A. Confidential (1997)',\n",
       "           'Leaving Las Vegas (1995)',\n",
       "           'Men in Black (1997)',\n",
       "           'Mighty Aphrodite (1995)',\n",
       "           'Mrs. Brown (Her Majesty, Mrs. Brown) (1997)',\n",
       "           \"My Best Friend's Wedding (1997)\",\n",
       "           'Once Upon a Time... When We Were Colored (1995)',\n",
       "           'Postino, Il (1994)',\n",
       "           'Rainmaker, The (1997)',\n",
       "           'Restoration (1995)',\n",
       "           'Rosewood (1997)',\n",
       "           'Secrets & Lies (1996)',\n",
       "           'Sense and Sensibility (1995)',\n",
       "           'Shall We Dance? (1996)',\n",
       "           'Star Wars (1977)',\n",
       "           'Time to Kill, A (1996)',\n",
       "           'Tin Cup (1996)',\n",
       "           'Titanic (1997)',\n",
       "           'Toy Story (1995)',\n",
       "           'Truth About Cats & Dogs, The (1996)',\n",
       "           \"Ulee's Gold (1997)\",\n",
       "           'Wings of the Dove, The (1997)'})"
      ]
     },
     "execution_count": 66,
     "metadata": {},
     "output_type": "execute_result"
    }
   ],
   "source": [
    "favorable_reviews_by_users.get(2)"
   ]
  },
  {
   "cell_type": "code",
   "execution_count": 67,
   "metadata": {
    "ExecuteTime": {
     "end_time": "2019-04-15T02:36:09.146245Z",
     "start_time": "2019-04-15T02:36:08.943134Z"
    }
   },
   "outputs": [],
   "source": [
    "count = [len(value) for key, value in favorable_reviews_by_users.items()]"
   ]
  },
  {
   "cell_type": "code",
   "execution_count": 68,
   "metadata": {
    "ExecuteTime": {
     "end_time": "2019-04-15T02:36:09.336477Z",
     "start_time": "2019-04-15T02:36:09.146245Z"
    }
   },
   "outputs": [
    {
     "data": {
      "text/plain": [
       "3"
      ]
     },
     "execution_count": 68,
     "metadata": {},
     "output_type": "execute_result"
    }
   ],
   "source": [
    "min(count)"
   ]
  },
  {
   "cell_type": "code",
   "execution_count": 69,
   "metadata": {
    "ExecuteTime": {
     "end_time": "2019-04-15T02:36:09.477093Z",
     "start_time": "2019-04-15T02:36:09.336477Z"
    }
   },
   "outputs": [
    {
     "data": {
      "text/plain": [
       "280"
      ]
     },
     "execution_count": 69,
     "metadata": {},
     "output_type": "execute_result"
    }
   ],
   "source": [
    "max(count)"
   ]
  },
  {
   "cell_type": "code",
   "execution_count": 70,
   "metadata": {
    "ExecuteTime": {
     "end_time": "2019-04-15T02:36:09.645180Z",
     "start_time": "2019-04-15T02:36:09.477093Z"
    }
   },
   "outputs": [
    {
     "data": {
      "text/plain": [
       "154"
      ]
     },
     "execution_count": 70,
     "metadata": {},
     "output_type": "execute_result"
    }
   ],
   "source": [
    "count.index(min(count))"
   ]
  },
  {
   "cell_type": "markdown",
   "metadata": {},
   "source": [
    "由于拆分成了多个Notebook，因此需要在不同的Notebook之间传递对象"
   ]
  },
  {
   "cell_type": "code",
   "execution_count": 71,
   "metadata": {},
   "outputs": [
    {
     "name": "stdout",
     "output_type": "stream",
     "text": [
      "Stored 'favorable_reviews_by_users_list' (list)\n",
      "Stored 'favorable_reviews_by_users' (dict)\n",
      "Stored 'ratings' (DataFrame)\n"
     ]
    }
   ],
   "source": [
    "%store favorable_reviews_by_users_list\n",
    "%store favorable_reviews_by_users\n",
    "%store ratings"
   ]
  }
 ],
 "metadata": {
  "kernelspec": {
   "display_name": "dmex",
   "language": "python",
   "name": "dmex"
  },
  "language_info": {
   "codemirror_mode": {
    "name": "ipython",
    "version": 3
   },
   "file_extension": ".py",
   "mimetype": "text/x-python",
   "name": "python",
   "nbconvert_exporter": "python",
   "pygments_lexer": "ipython3",
   "version": "3.8.5"
  },
  "toc": {
   "base_numbering": "4",
   "nav_menu": {
    "height": "344px",
    "width": "278px"
   },
   "number_sections": true,
   "sideBar": true,
   "skip_h1_title": false,
   "title_cell": "本章目录",
   "title_sidebar": "",
   "toc_cell": true,
   "toc_position": {
    "height": "calc(100% - 180px)",
    "left": "10px",
    "top": "150px",
    "width": "204px"
   },
   "toc_section_display": true,
   "toc_window_display": true
  },
  "toc-autonumbering": true,
  "varInspector": {
   "cols": {
    "lenName": 16,
    "lenType": 16,
    "lenVar": 40
   },
   "kernels_config": {
    "python": {
     "delete_cmd_postfix": "",
     "delete_cmd_prefix": "del ",
     "library": "var_list.py",
     "varRefreshCmd": "print(var_dic_list())"
    },
    "r": {
     "delete_cmd_postfix": ") ",
     "delete_cmd_prefix": "rm(",
     "library": "var_list.r",
     "varRefreshCmd": "cat(var_dic_list()) "
    }
   },
   "types_to_exclude": [
    "module",
    "function",
    "builtin_function_or_method",
    "instance",
    "_Feature"
   ],
   "window_display": false
  }
 },
 "nbformat": 4,
 "nbformat_minor": 4
}
