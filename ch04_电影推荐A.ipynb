{
 "cells": [
  {
   "cell_type": "markdown",
   "metadata": {},
   "source": [
    "# 问题情境"
   ]
  },
  {
   "cell_type": "markdown",
   "metadata": {},
   "source": [
    "我们在向别人推销数据挖掘时，通常我们都会说数据挖掘能“发现数据背后的规律”，并且经常是“意想不到的、新奇的”规律。通常会举啤酒和尿布的例子——啤酒与尿布的故事，或许是有史以来推销数据挖掘最好的广告之一!<br>\n",
    "<img src=figtabs/ch4/beer_diapers.png align=center width=30% height=30% />"
   ]
  },
  {
   "cell_type": "markdown",
   "metadata": {},
   "source": [
    "故事有多个版本，其中一个版本是：<br>\n",
    "沃尔玛在美国的一家分店发生过这样一件趣事:在一个夏季，管理者发现在那段时间里婴儿尿布和啤酒的销量次第拔高。这如果在一般的商店也许就会被忽略，但沃尔玛超市的管理者没有轻易放过。他们立即对这个现象进行了分析和讨论，并且派出了专门的队伍在卖场内进行全天候的观察。最后，谜底终于水落石出：原来，购买这两种产品的顾客一般都是年龄在25至35周岁的青年男子，由于孩子尚在哺乳期，所以每天下班后他们都会遵太太的命令到超市里为孩子购买婴儿纸尿裤，每当这个时候，他们大都会为自己顺带买回几瓶啤酒。<br>\n",
    "沃尔玛的管理者立即针对此现象采取了行动：将卖场内原来相隔很远的妇婴用品区与酒类饮料区的空间距离拉近，减少顾客的行走时间。"
   ]
  },
  {
   "cell_type": "markdown",
   "metadata": {},
   "source": [
    "尽管啤酒和尿布的故事是杜撰的，但是通过数据来挖掘事物之间的关联关系，却在很多场合都有应用，比如：<br>\n",
    "<img src=figtabs/ch4/jd_recommendation.png align=center width=50% height=50% />"
   ]
  },
  {
   "cell_type": "markdown",
   "metadata": {},
   "source": [
    "又比如：<br>\n",
    "<img src=figtabs/ch4/EI_village_recommendation.png align=center width=50% height=50% />"
   ]
  },
  {
   "cell_type": "markdown",
   "metadata": {},
   "source": [
    "关联分析旨在事务、关系数据库中的项集和对象中发现频繁模式、伴随过程、相依性、相关性乃至可能的因果结构。关联分析虽然通常被称之为购物篮分析，但其应用场景已经远远超出了“购物”的范畴：<br>\n",
    "* 购物篮分析（优化货架商品摆放、优化邮寄商品目录的内容、交叉销售和捆绑销售、……）\n",
    "* web分析\n",
    "* 生物信息学（DNA对新药敏感性分析）\n",
    "* 地球科学\n",
    "* ……<br>\n",
    "\n",
    "本实验将以电影推荐为例，简述关联规则的原理及其应用。"
   ]
  },
  {
   "cell_type": "markdown",
   "metadata": {},
   "source": [
    "# Apriori算法原理"
   ]
  },
  {
   "cell_type": "markdown",
   "metadata": {},
   "source": [
    "关联分析（Association Analysis）用于发现隐藏在大型数据集中有意义的联系，所发现的联系可以用频繁项集或关联规则的形式表示<br>\n",
    "* 频繁项集（frequent item sets）是经常出现在一块的物品的集合\n",
    "* 关联规则（association rules），形如$A \\Rightarrow B$的蕴含式，$A$发生的情况之下，$B$可能也伴随发生，暗示两种物品之间可能存在很强的关系。\n",
    "\n",
    "---\n",
    "\n",
    "以下是一些基本概念：<br>\n",
    "\n",
    "* 项item的集合称为项集itemset\n",
    "* 包含k个项的项集称为k-项集\n",
    "* 项集出现的频度是包含该项集的事务数，简称为项集的频度、支持度计数\n",
    "* 如果项集的支持度满足预定义的最小支持度阈值，称之为频繁项集frequent itemset  \n",
    "\n",
    "---\n",
    "\n",
    "关联规则是一个蕴涵式：𝐴⇒𝐵，其中𝐴和𝐵是不相交的项集  \n",
    "具体含义是：𝐴出现的时候，𝐵也出现；或者说，𝐵伴随着𝐴出现  \n",
    "关联规则在事务集𝑇中成立，所具有支持度和置信度：  \n",
    "* 一个项集的支持度（support）被定义为数据集中包含该项集的记录所占的比例：$support\\left( {A \\Rightarrow B} \\right) = P\\left( {A \\cup B} \\right)$\n",
    "* 置信度则是针对规则来定义的：$confidence\\left( {A \\Rightarrow B} \\right) = P\\left( {B|A} \\right) = \\frac{{P\\left( {A \\cup B} \\right)}}{{P\\left( A \\right)}} = \\frac{{support\\_count\\left( {A \\cup B} \\right)}}{{support\\_coun\\left( A \\right)}}$\n",
    "\n",
    "* **支持度**：减少偶然性  \n",
    "* **置信度**：增加推断能力  \n",
    "* 满足最小支持度和置信度的规则称为强规则\n",
    "\n",
    "---\n",
    "\n",
    "除了支持度和置信度之外，提升度也是常用的一个指标：  \n",
    "**提升度**：  \n",
    "$lift\\left( {A \\Rightarrow B} \\right) = \\frac{{P\\left( {A \\cup B} \\right)}}{{P\\left( A \\right)P\\left( B \\right)}}$\n",
    "\n",
    "$lift\\left( {A \\Rightarrow B} \\right) = \\frac{{P\\left( {A|B} \\right)}}{{P\\left( A \\right)}}$\n",
    "\n",
    "* 如果提升度小于1，则A的出现和B的出现是负相关的，意味着一个出现可能导致另一个不出现\n",
    "* 如果提升度大于1，则A的出现和B的出现是正相关的，意味着一个出现蕴含另一个的出现\n",
    "* 换言之，它评估一个的出现“提升”另一个出现的程度"
   ]
  },
  {
   "cell_type": "markdown",
   "metadata": {},
   "source": [
    "Apriori算法的核心思想是利用先验规则：<br>\n",
    "* 频繁项集的所有非空子集也一定是频繁的\n",
    "* 非频繁项集的超集必定是非频繁的<br>\n",
    "<img src=figtabs/ch4/freq_itemset_prune.png align=center width=50% height=50%>"
   ]
  },
  {
   "cell_type": "markdown",
   "metadata": {},
   "source": [
    "算法过程可表述如下：<br>\n",
    "<img src=\"figtabs/ch4/apriori_part_a.png\" height=60% width=60% align=left />"
   ]
  },
  {
   "cell_type": "markdown",
   "metadata": {},
   "source": [
    "由频繁的$k-1$项集，生成频繁的$k$项集候选，有多种办法：<br>\n",
    "<img src=figtabs/ch4/ck_gen.png align=center width=40% height=40%>"
   ]
  },
  {
   "cell_type": "markdown",
   "metadata": {},
   "source": [
    "<img src=figtabs/ch4/apriori_part_b.png align=left width=60% height=60% />"
   ]
  },
  {
   "cell_type": "markdown",
   "metadata": {},
   "source": [
    "完成了频繁项集的挖掘，只是完成了关联规则挖掘两个步骤中的第一步：<br>\n",
    "* （1）找出所有频繁项集，满足最小支持度\n",
    "* （2）由频繁项集产生强关联规则，满足最小置信度\n",
    "\n",
    "---\n",
    "\n",
    "避免野蛮搜索：<br>\n",
    "* （1）基于支持度对候选集进行剪枝\n",
    "* （2）基于置信度对规则进行剪枝\n",
    "\n",
    "---\n",
    "\n",
    "如果$X \\Rightarrow (Y - X)$不满足置信度阈值，则对于${X^{sub}} \\subset X$的规则${X^{sub}} \\Rightarrow Y - {X^{sub}}$也一定不满足置信度阈值!<br>\n",
    "<img src=figtabs/ch4/rule_prune.png align=center width=50% height=50%>"
   ]
  },
  {
   "cell_type": "markdown",
   "metadata": {},
   "source": [
    "# 数据导入"
   ]
  },
  {
   "cell_type": "markdown",
   "metadata": {},
   "source": [
    "## 数据源"
   ]
  },
  {
   "cell_type": "markdown",
   "metadata": {
    "ExecuteTime": {
     "end_time": "2019-02-17T00:45:16.661888Z",
     "start_time": "2019-02-17T00:45:16.653892Z"
    }
   },
   "source": [
    "MovieLens 是历史最悠久的推荐系统。它由美国 Minnesota 大学计算机科学与工程学院的 GroupLens 项目组创办，是一个非商业性质的、以研究为目的的实验性站点。MovieLens 主要使用 Collaborative Filtering 和 Association Rules 相结合的技术，向用户推荐他们感兴趣的电影。"
   ]
  },
  {
   "cell_type": "markdown",
   "metadata": {
    "ExecuteTime": {
     "end_time": "2019-02-17T00:45:16.661888Z",
     "start_time": "2019-02-17T00:45:16.653892Z"
    }
   },
   "source": [
    "自打Netflix Prize奖项设立以来，美国明尼苏达大学的Grouplens研究团队公开了一系列用于测试推荐算法的数据集,包含多个用户对多部电影的评级数据，也包括电影元数据信息和用户属性信息。  这个数据集经常用来做推荐系统，机器学习算法的测试数据集。尤其在推荐系统领域，很多著名论文都是基于这个网站提供的数据集。   "
   ]
  },
  {
   "cell_type": "markdown",
   "metadata": {
    "ExecuteTime": {
     "end_time": "2019-02-17T00:45:16.661888Z",
     "start_time": "2019-02-17T00:45:16.653892Z"
    }
   },
   "source": [
    "MovieLens提供的电影评分数据集包含多个版本，如MovieLens 20M Dataset、MovieLens 100K Dataset、MovieLens 1M Dataset、MovieLens 10M Dataset、MovieLens Latest Datasets等多个版本，其中MovieLens Latest Datasets更新至2018年9月（Accessed on 2/17/2019）。  \n",
    "本实验将采用MovieLens 10M Dataset，数据集下载地址为：<http://grouplens.org/datasets/movielens/>。\n",
    "\n",
    "<img src=figtabs/ch4/movielens_10m_url.png align=center width=50% height=50% />"
   ]
  },
  {
   "cell_type": "markdown",
   "metadata": {
    "ExecuteTime": {
     "end_time": "2019-02-17T00:45:16.661888Z",
     "start_time": "2019-02-17T00:45:16.653892Z"
    }
   },
   "source": [
    "当然，也可以直接进入[Permalink](http://grouplens.org/datasets/movielens/10m/)下载。  \n",
    "\n",
    "关于这份数据即的信息，可参看相应的[文档](http://files.grouplens.org/datasets/movielens/ml-100k-README.txt)\n",
    "> u.data     -- The full u data set, 100000 ratings by 943 users on 1682 items.  \n",
    ">              Each user has rated at least 20 movies.  Users and items are  \n",
    ">              numbered consecutively from 1.  The data is randomly  \n",
    ">              ordered. This is a tab separated list of   \n",
    ">\t         user id | item id | rating | timestamp.   \n",
    ">              The time stamps are unix seconds since 1/1/1970 UTC     \n",
    "> u.item     -- Information about the items (movies); this is a tab separated  \n",
    ">              list of  \n",
    ">              movie id | movie title | release date | video release date |  \n",
    ">              IMDb URL | unknown | Action | Adventure | Animation |  \n",
    ">              Children's | Comedy | Crime | Documentary | Drama | Fantasy |  \n",
    ">              Film-Noir | Horror | Musical | Mystery | Romance | Sci-Fi |  \n",
    ">              Thriller | War | Western |  \n",
    ">              The last 19 fields are the genres, a 1 indicates the movie  \n",
    ">              is of that genre, a 0 indicates it is not; movies can be in  \n",
    ">              several genres at once.  \n",
    ">              The movie ids are the ones used in the u.data data set.  "
   ]
  },
  {
   "cell_type": "markdown",
   "metadata": {},
   "source": [
    "## 准备工作"
   ]
  },
  {
   "cell_type": "markdown",
   "metadata": {},
   "source": [
    "导入相关模块："
   ]
  },
  {
   "cell_type": "code",
   "execution_count": 1,
   "metadata": {
    "ExecuteTime": {
     "end_time": "2019-04-15T02:36:03.588015Z",
     "start_time": "2019-04-15T02:36:02.063470Z"
    },
    "execution": {
     "iopub.execute_input": "2020-04-21T10:19:20.616376Z",
     "iopub.status.busy": "2020-04-21T10:19:20.615377Z",
     "iopub.status.idle": "2020-04-21T10:19:22.972027Z",
     "shell.execute_reply": "2020-04-21T10:19:22.969030Z",
     "shell.execute_reply.started": "2020-04-21T10:19:20.615377Z"
    }
   },
   "outputs": [],
   "source": [
    "import os\n",
    "import sys\n",
    "import pandas as pd"
   ]
  },
  {
   "cell_type": "markdown",
   "metadata": {},
   "source": [
    "## 数据导入"
   ]
  },
  {
   "cell_type": "markdown",
   "metadata": {
    "ExecuteTime": {
     "end_time": "2019-02-17T00:45:16.661888Z",
     "start_time": "2019-02-17T00:45:16.653892Z"
    }
   },
   "source": [
    "下载完成后，解压缩至datasets文件夹，并通过以下代码进行解析。"
   ]
  },
  {
   "cell_type": "code",
   "execution_count": 2,
   "metadata": {
    "ExecuteTime": {
     "end_time": "2019-04-15T02:36:03.603683Z",
     "start_time": "2019-04-15T02:36:03.588015Z"
    },
    "execution": {
     "iopub.execute_input": "2020-04-21T10:19:22.980024Z",
     "iopub.status.busy": "2020-04-21T10:19:22.979024Z",
     "iopub.status.idle": "2020-04-21T10:19:23.036990Z",
     "shell.execute_reply": "2020-04-21T10:19:23.034992Z",
     "shell.execute_reply.started": "2020-04-21T10:19:22.980024Z"
    }
   },
   "outputs": [
    {
     "data": {
      "text/plain": [
       "'datasets\\\\ml-100k\\\\u.data'"
      ]
     },
     "execution_count": 2,
     "metadata": {},
     "output_type": "execute_result"
    }
   ],
   "source": [
    "data_folder = os.path.join(\"datasets\", \"ml-100k\")\n",
    "ratings_filename = os.path.join(data_folder, \"u.data\")\n",
    "ratings_filename"
   ]
  },
  {
   "cell_type": "markdown",
   "metadata": {},
   "source": [
    "MovieLens数据集非常规整，但是有几点跟 pandas.read_csv 方法的默认设置有出入，所以要调整参数设置  \n",
    "* 数据集每行的几个数据之间用制表符而不是逗号分隔\n",
    "* 没有表头，这表示数据集的第一行就是数据部分，我们需要手动为各列添加名称  \n",
    "\n",
    "加载数据集时，把分隔符设置为制表符，告诉pandas不要把第一行作为表头（ header=None ），设置好各列的名称。代码如下："
   ]
  },
  {
   "cell_type": "code",
   "execution_count": 3,
   "metadata": {
    "ExecuteTime": {
     "end_time": "2019-04-15T02:36:03.871618Z",
     "start_time": "2019-04-15T02:36:03.603683Z"
    },
    "execution": {
     "iopub.execute_input": "2020-04-21T10:19:23.045986Z",
     "iopub.status.busy": "2020-04-21T10:19:23.042987Z",
     "iopub.status.idle": "2020-04-21T10:19:23.425769Z",
     "shell.execute_reply": "2020-04-21T10:19:23.424769Z",
     "shell.execute_reply.started": "2020-04-21T10:19:23.044985Z"
    }
   },
   "outputs": [
    {
     "name": "stdout",
     "output_type": "stream",
     "text": [
      "Wall time: 266 ms\n"
     ]
    }
   ],
   "source": [
    "%%time\n",
    "all_ratings = pd.read_csv(ratings_filename, \n",
    "                          delimiter=\"\\t\", \n",
    "                          header=None, \n",
    "                          names = [\"UserID\", \"MovieID\", \"Rating\", \"Datetime\"])"
   ]
  },
  {
   "cell_type": "code",
   "execution_count": 4,
   "metadata": {
    "ExecuteTime": {
     "end_time": "2019-04-15T02:36:04.599769Z",
     "start_time": "2019-04-15T02:36:03.871618Z"
    },
    "execution": {
     "iopub.execute_input": "2020-04-21T10:19:23.430765Z",
     "iopub.status.busy": "2020-04-21T10:19:23.429767Z",
     "iopub.status.idle": "2020-04-21T10:19:33.945751Z",
     "shell.execute_reply": "2020-04-21T10:19:33.943754Z",
     "shell.execute_reply.started": "2020-04-21T10:19:23.430765Z"
    }
   },
   "outputs": [],
   "source": [
    "all_ratings.to_csv(os.path.join(data_folder, \"u.data.csv\"))"
   ]
  },
  {
   "cell_type": "code",
   "execution_count": 5,
   "metadata": {
    "execution": {
     "iopub.execute_input": "2020-04-21T10:19:33.948749Z",
     "iopub.status.busy": "2020-04-21T10:19:33.947750Z",
     "iopub.status.idle": "2020-04-21T10:19:34.228589Z",
     "shell.execute_reply": "2020-04-21T10:19:34.227592Z",
     "shell.execute_reply.started": "2020-04-21T10:19:33.948749Z"
    }
   },
   "outputs": [],
   "source": [
    "import feather"
   ]
  },
  {
   "cell_type": "code",
   "execution_count": 6,
   "metadata": {
    "execution": {
     "iopub.execute_input": "2020-04-21T10:19:34.234585Z",
     "iopub.status.busy": "2020-04-21T10:19:34.233586Z",
     "iopub.status.idle": "2020-04-21T10:19:34.921193Z",
     "shell.execute_reply": "2020-04-21T10:19:34.919194Z",
     "shell.execute_reply.started": "2020-04-21T10:19:34.234585Z"
    }
   },
   "outputs": [],
   "source": [
    "feather.write_dataframe(all_ratings, \"D://desktop/all_ratings.feather\")"
   ]
  },
  {
   "cell_type": "markdown",
   "metadata": {},
   "source": [
    "查看一下所读入的数据："
   ]
  },
  {
   "cell_type": "code",
   "execution_count": 7,
   "metadata": {
    "execution": {
     "iopub.execute_input": "2020-04-21T10:19:34.924192Z",
     "iopub.status.busy": "2020-04-21T10:19:34.923192Z",
     "iopub.status.idle": "2020-04-21T10:19:34.940182Z",
     "shell.execute_reply": "2020-04-21T10:19:34.938182Z",
     "shell.execute_reply.started": "2020-04-21T10:19:34.924192Z"
    }
   },
   "outputs": [
    {
     "data": {
      "text/plain": [
       "(100000, 4)"
      ]
     },
     "execution_count": 7,
     "metadata": {},
     "output_type": "execute_result"
    }
   ],
   "source": [
    "all_ratings.shape"
   ]
  },
  {
   "cell_type": "code",
   "execution_count": 8,
   "metadata": {
    "ExecuteTime": {
     "end_time": "2019-04-15T02:36:04.630900Z",
     "start_time": "2019-04-15T02:36:04.599769Z"
    },
    "execution": {
     "iopub.execute_input": "2020-04-21T10:19:34.945180Z",
     "iopub.status.busy": "2020-04-21T10:19:34.944180Z",
     "iopub.status.idle": "2020-04-21T10:19:35.077104Z",
     "shell.execute_reply": "2020-04-21T10:19:35.075105Z",
     "shell.execute_reply.started": "2020-04-21T10:19:34.945180Z"
    }
   },
   "outputs": [
    {
     "data": {
      "text/html": [
       "<div>\n",
       "<style scoped>\n",
       "    .dataframe tbody tr th:only-of-type {\n",
       "        vertical-align: middle;\n",
       "    }\n",
       "\n",
       "    .dataframe tbody tr th {\n",
       "        vertical-align: top;\n",
       "    }\n",
       "\n",
       "    .dataframe thead th {\n",
       "        text-align: right;\n",
       "    }\n",
       "</style>\n",
       "<table border=\"1\" class=\"dataframe\">\n",
       "  <thead>\n",
       "    <tr style=\"text-align: right;\">\n",
       "      <th></th>\n",
       "      <th>UserID</th>\n",
       "      <th>MovieID</th>\n",
       "      <th>Rating</th>\n",
       "      <th>Datetime</th>\n",
       "    </tr>\n",
       "  </thead>\n",
       "  <tbody>\n",
       "    <tr>\n",
       "      <th>0</th>\n",
       "      <td>196</td>\n",
       "      <td>242</td>\n",
       "      <td>3</td>\n",
       "      <td>881250949</td>\n",
       "    </tr>\n",
       "    <tr>\n",
       "      <th>1</th>\n",
       "      <td>186</td>\n",
       "      <td>302</td>\n",
       "      <td>3</td>\n",
       "      <td>891717742</td>\n",
       "    </tr>\n",
       "    <tr>\n",
       "      <th>2</th>\n",
       "      <td>22</td>\n",
       "      <td>377</td>\n",
       "      <td>1</td>\n",
       "      <td>878887116</td>\n",
       "    </tr>\n",
       "    <tr>\n",
       "      <th>3</th>\n",
       "      <td>244</td>\n",
       "      <td>51</td>\n",
       "      <td>2</td>\n",
       "      <td>880606923</td>\n",
       "    </tr>\n",
       "    <tr>\n",
       "      <th>4</th>\n",
       "      <td>166</td>\n",
       "      <td>346</td>\n",
       "      <td>1</td>\n",
       "      <td>886397596</td>\n",
       "    </tr>\n",
       "    <tr>\n",
       "      <th>5</th>\n",
       "      <td>298</td>\n",
       "      <td>474</td>\n",
       "      <td>4</td>\n",
       "      <td>884182806</td>\n",
       "    </tr>\n",
       "    <tr>\n",
       "      <th>6</th>\n",
       "      <td>115</td>\n",
       "      <td>265</td>\n",
       "      <td>2</td>\n",
       "      <td>881171488</td>\n",
       "    </tr>\n",
       "    <tr>\n",
       "      <th>7</th>\n",
       "      <td>253</td>\n",
       "      <td>465</td>\n",
       "      <td>5</td>\n",
       "      <td>891628467</td>\n",
       "    </tr>\n",
       "    <tr>\n",
       "      <th>8</th>\n",
       "      <td>305</td>\n",
       "      <td>451</td>\n",
       "      <td>3</td>\n",
       "      <td>886324817</td>\n",
       "    </tr>\n",
       "    <tr>\n",
       "      <th>9</th>\n",
       "      <td>6</td>\n",
       "      <td>86</td>\n",
       "      <td>3</td>\n",
       "      <td>883603013</td>\n",
       "    </tr>\n",
       "  </tbody>\n",
       "</table>\n",
       "</div>"
      ],
      "text/plain": [
       "   UserID  MovieID  Rating   Datetime\n",
       "0     196      242       3  881250949\n",
       "1     186      302       3  891717742\n",
       "2      22      377       1  878887116\n",
       "3     244       51       2  880606923\n",
       "4     166      346       1  886397596\n",
       "5     298      474       4  884182806\n",
       "6     115      265       2  881171488\n",
       "7     253      465       5  891628467\n",
       "8     305      451       3  886324817\n",
       "9       6       86       3  883603013"
      ]
     },
     "execution_count": 8,
     "metadata": {},
     "output_type": "execute_result"
    }
   ],
   "source": [
    "all_ratings.head(n=10)"
   ]
  },
  {
   "cell_type": "code",
   "execution_count": 9,
   "metadata": {
    "execution": {
     "iopub.execute_input": "2020-04-21T10:19:35.090097Z",
     "iopub.status.busy": "2020-04-21T10:19:35.088097Z",
     "iopub.status.idle": "2020-04-21T10:19:35.178046Z",
     "shell.execute_reply": "2020-04-21T10:19:35.177046Z",
     "shell.execute_reply.started": "2020-04-21T10:19:35.089097Z"
    }
   },
   "outputs": [
    {
     "data": {
      "text/html": [
       "<div>\n",
       "<style scoped>\n",
       "    .dataframe tbody tr th:only-of-type {\n",
       "        vertical-align: middle;\n",
       "    }\n",
       "\n",
       "    .dataframe tbody tr th {\n",
       "        vertical-align: top;\n",
       "    }\n",
       "\n",
       "    .dataframe thead th {\n",
       "        text-align: right;\n",
       "    }\n",
       "</style>\n",
       "<table border=\"1\" class=\"dataframe\">\n",
       "  <thead>\n",
       "    <tr style=\"text-align: right;\">\n",
       "      <th></th>\n",
       "      <th>UserID</th>\n",
       "      <th>MovieID</th>\n",
       "      <th>Rating</th>\n",
       "      <th>Datetime</th>\n",
       "    </tr>\n",
       "  </thead>\n",
       "  <tbody>\n",
       "    <tr>\n",
       "      <th>99995</th>\n",
       "      <td>880</td>\n",
       "      <td>476</td>\n",
       "      <td>3</td>\n",
       "      <td>880175444</td>\n",
       "    </tr>\n",
       "    <tr>\n",
       "      <th>99996</th>\n",
       "      <td>716</td>\n",
       "      <td>204</td>\n",
       "      <td>5</td>\n",
       "      <td>879795543</td>\n",
       "    </tr>\n",
       "    <tr>\n",
       "      <th>99997</th>\n",
       "      <td>276</td>\n",
       "      <td>1090</td>\n",
       "      <td>1</td>\n",
       "      <td>874795795</td>\n",
       "    </tr>\n",
       "    <tr>\n",
       "      <th>99998</th>\n",
       "      <td>13</td>\n",
       "      <td>225</td>\n",
       "      <td>2</td>\n",
       "      <td>882399156</td>\n",
       "    </tr>\n",
       "    <tr>\n",
       "      <th>99999</th>\n",
       "      <td>12</td>\n",
       "      <td>203</td>\n",
       "      <td>3</td>\n",
       "      <td>879959583</td>\n",
       "    </tr>\n",
       "  </tbody>\n",
       "</table>\n",
       "</div>"
      ],
      "text/plain": [
       "       UserID  MovieID  Rating   Datetime\n",
       "99995     880      476       3  880175444\n",
       "99996     716      204       5  879795543\n",
       "99997     276     1090       1  874795795\n",
       "99998      13      225       2  882399156\n",
       "99999      12      203       3  879959583"
      ]
     },
     "execution_count": 9,
     "metadata": {},
     "output_type": "execute_result"
    }
   ],
   "source": [
    "all_ratings.tail()"
   ]
  },
  {
   "cell_type": "code",
   "execution_count": 10,
   "metadata": {
    "execution": {
     "iopub.execute_input": "2020-04-21T10:19:35.183043Z",
     "iopub.status.busy": "2020-04-21T10:19:35.181044Z",
     "iopub.status.idle": "2020-04-21T10:19:35.350947Z",
     "shell.execute_reply": "2020-04-21T10:19:35.348948Z",
     "shell.execute_reply.started": "2020-04-21T10:19:35.183043Z"
    }
   },
   "outputs": [
    {
     "data": {
      "text/html": [
       "<div>\n",
       "<style scoped>\n",
       "    .dataframe tbody tr th:only-of-type {\n",
       "        vertical-align: middle;\n",
       "    }\n",
       "\n",
       "    .dataframe tbody tr th {\n",
       "        vertical-align: top;\n",
       "    }\n",
       "\n",
       "    .dataframe thead th {\n",
       "        text-align: right;\n",
       "    }\n",
       "</style>\n",
       "<table border=\"1\" class=\"dataframe\">\n",
       "  <thead>\n",
       "    <tr style=\"text-align: right;\">\n",
       "      <th></th>\n",
       "      <th>UserID</th>\n",
       "      <th>MovieID</th>\n",
       "      <th>Rating</th>\n",
       "      <th>Datetime</th>\n",
       "    </tr>\n",
       "  </thead>\n",
       "  <tbody>\n",
       "    <tr>\n",
       "      <th>16464</th>\n",
       "      <td>264</td>\n",
       "      <td>230</td>\n",
       "      <td>4</td>\n",
       "      <td>886122644</td>\n",
       "    </tr>\n",
       "    <tr>\n",
       "      <th>65732</th>\n",
       "      <td>901</td>\n",
       "      <td>988</td>\n",
       "      <td>4</td>\n",
       "      <td>877125716</td>\n",
       "    </tr>\n",
       "    <tr>\n",
       "      <th>99098</th>\n",
       "      <td>833</td>\n",
       "      <td>1181</td>\n",
       "      <td>1</td>\n",
       "      <td>875133458</td>\n",
       "    </tr>\n",
       "    <tr>\n",
       "      <th>1027</th>\n",
       "      <td>291</td>\n",
       "      <td>1178</td>\n",
       "      <td>4</td>\n",
       "      <td>875086354</td>\n",
       "    </tr>\n",
       "    <tr>\n",
       "      <th>18377</th>\n",
       "      <td>305</td>\n",
       "      <td>423</td>\n",
       "      <td>4</td>\n",
       "      <td>886322670</td>\n",
       "    </tr>\n",
       "    <tr>\n",
       "      <th>98765</th>\n",
       "      <td>488</td>\n",
       "      <td>633</td>\n",
       "      <td>5</td>\n",
       "      <td>891294334</td>\n",
       "    </tr>\n",
       "    <tr>\n",
       "      <th>7427</th>\n",
       "      <td>311</td>\n",
       "      <td>212</td>\n",
       "      <td>3</td>\n",
       "      <td>884366397</td>\n",
       "    </tr>\n",
       "    <tr>\n",
       "      <th>94024</th>\n",
       "      <td>805</td>\n",
       "      <td>294</td>\n",
       "      <td>1</td>\n",
       "      <td>879970879</td>\n",
       "    </tr>\n",
       "    <tr>\n",
       "      <th>96417</th>\n",
       "      <td>900</td>\n",
       "      <td>661</td>\n",
       "      <td>4</td>\n",
       "      <td>877833747</td>\n",
       "    </tr>\n",
       "    <tr>\n",
       "      <th>59852</th>\n",
       "      <td>679</td>\n",
       "      <td>484</td>\n",
       "      <td>4</td>\n",
       "      <td>884486658</td>\n",
       "    </tr>\n",
       "  </tbody>\n",
       "</table>\n",
       "</div>"
      ],
      "text/plain": [
       "       UserID  MovieID  Rating   Datetime\n",
       "16464     264      230       4  886122644\n",
       "65732     901      988       4  877125716\n",
       "99098     833     1181       1  875133458\n",
       "1027      291     1178       4  875086354\n",
       "18377     305      423       4  886322670\n",
       "98765     488      633       5  891294334\n",
       "7427      311      212       3  884366397\n",
       "94024     805      294       1  879970879\n",
       "96417     900      661       4  877833747\n",
       "59852     679      484       4  884486658"
      ]
     },
     "execution_count": 10,
     "metadata": {},
     "output_type": "execute_result"
    }
   ],
   "source": [
    "all_ratings.sample(10)"
   ]
  },
  {
   "cell_type": "markdown",
   "metadata": {},
   "source": [
    "显然，这里的日期有误，需要进行解析："
   ]
  },
  {
   "cell_type": "code",
   "execution_count": 11,
   "metadata": {
    "ExecuteTime": {
     "end_time": "2019-04-15T02:36:04.802764Z",
     "start_time": "2019-04-15T02:36:04.630900Z"
    },
    "execution": {
     "iopub.execute_input": "2020-04-21T10:19:35.353945Z",
     "iopub.status.busy": "2020-04-21T10:19:35.352946Z",
     "iopub.status.idle": "2020-04-21T10:19:35.687755Z",
     "shell.execute_reply": "2020-04-21T10:19:35.679759Z",
     "shell.execute_reply.started": "2020-04-21T10:19:35.353945Z"
    }
   },
   "outputs": [
    {
     "data": {
      "text/html": [
       "<div>\n",
       "<style scoped>\n",
       "    .dataframe tbody tr th:only-of-type {\n",
       "        vertical-align: middle;\n",
       "    }\n",
       "\n",
       "    .dataframe tbody tr th {\n",
       "        vertical-align: top;\n",
       "    }\n",
       "\n",
       "    .dataframe thead th {\n",
       "        text-align: right;\n",
       "    }\n",
       "</style>\n",
       "<table border=\"1\" class=\"dataframe\">\n",
       "  <thead>\n",
       "    <tr style=\"text-align: right;\">\n",
       "      <th></th>\n",
       "      <th>UserID</th>\n",
       "      <th>MovieID</th>\n",
       "      <th>Rating</th>\n",
       "      <th>Datetime</th>\n",
       "    </tr>\n",
       "  </thead>\n",
       "  <tbody>\n",
       "    <tr>\n",
       "      <th>0</th>\n",
       "      <td>196</td>\n",
       "      <td>242</td>\n",
       "      <td>3</td>\n",
       "      <td>1997-12-04 15:55:49</td>\n",
       "    </tr>\n",
       "    <tr>\n",
       "      <th>1</th>\n",
       "      <td>186</td>\n",
       "      <td>302</td>\n",
       "      <td>3</td>\n",
       "      <td>1998-04-04 19:22:22</td>\n",
       "    </tr>\n",
       "    <tr>\n",
       "      <th>2</th>\n",
       "      <td>22</td>\n",
       "      <td>377</td>\n",
       "      <td>1</td>\n",
       "      <td>1997-11-07 07:18:36</td>\n",
       "    </tr>\n",
       "    <tr>\n",
       "      <th>3</th>\n",
       "      <td>244</td>\n",
       "      <td>51</td>\n",
       "      <td>2</td>\n",
       "      <td>1997-11-27 05:02:03</td>\n",
       "    </tr>\n",
       "    <tr>\n",
       "      <th>4</th>\n",
       "      <td>166</td>\n",
       "      <td>346</td>\n",
       "      <td>1</td>\n",
       "      <td>1998-02-02 05:33:16</td>\n",
       "    </tr>\n",
       "    <tr>\n",
       "      <th>5</th>\n",
       "      <td>298</td>\n",
       "      <td>474</td>\n",
       "      <td>4</td>\n",
       "      <td>1998-01-07 14:20:06</td>\n",
       "    </tr>\n",
       "    <tr>\n",
       "      <th>6</th>\n",
       "      <td>115</td>\n",
       "      <td>265</td>\n",
       "      <td>2</td>\n",
       "      <td>1997-12-03 17:51:28</td>\n",
       "    </tr>\n",
       "    <tr>\n",
       "      <th>7</th>\n",
       "      <td>253</td>\n",
       "      <td>465</td>\n",
       "      <td>5</td>\n",
       "      <td>1998-04-03 18:34:27</td>\n",
       "    </tr>\n",
       "    <tr>\n",
       "      <th>8</th>\n",
       "      <td>305</td>\n",
       "      <td>451</td>\n",
       "      <td>3</td>\n",
       "      <td>1998-02-01 09:20:17</td>\n",
       "    </tr>\n",
       "    <tr>\n",
       "      <th>9</th>\n",
       "      <td>6</td>\n",
       "      <td>86</td>\n",
       "      <td>3</td>\n",
       "      <td>1997-12-31 21:16:53</td>\n",
       "    </tr>\n",
       "  </tbody>\n",
       "</table>\n",
       "</div>"
      ],
      "text/plain": [
       "   UserID  MovieID  Rating            Datetime\n",
       "0     196      242       3 1997-12-04 15:55:49\n",
       "1     186      302       3 1998-04-04 19:22:22\n",
       "2      22      377       1 1997-11-07 07:18:36\n",
       "3     244       51       2 1997-11-27 05:02:03\n",
       "4     166      346       1 1998-02-02 05:33:16\n",
       "5     298      474       4 1998-01-07 14:20:06\n",
       "6     115      265       2 1997-12-03 17:51:28\n",
       "7     253      465       5 1998-04-03 18:34:27\n",
       "8     305      451       3 1998-02-01 09:20:17\n",
       "9       6       86       3 1997-12-31 21:16:53"
      ]
     },
     "execution_count": 11,
     "metadata": {},
     "output_type": "execute_result"
    }
   ],
   "source": [
    "all_ratings[\"Datetime\"] = pd.to_datetime(all_ratings['Datetime'], unit='s')\n",
    "all_ratings.head(n=10)"
   ]
  },
  {
   "cell_type": "code",
   "execution_count": 12,
   "metadata": {
    "ExecuteTime": {
     "end_time": "2019-04-15T02:36:04.912131Z",
     "start_time": "2019-04-15T02:36:04.802764Z"
    },
    "execution": {
     "iopub.execute_input": "2020-04-21T10:19:35.701746Z",
     "iopub.status.busy": "2020-04-21T10:19:35.695750Z",
     "iopub.status.idle": "2020-04-21T10:19:35.720736Z",
     "shell.execute_reply": "2020-04-21T10:19:35.719737Z",
     "shell.execute_reply.started": "2020-04-21T10:19:35.701746Z"
    }
   },
   "outputs": [
    {
     "data": {
      "text/plain": [
       "(100000, 4)"
      ]
     },
     "execution_count": 12,
     "metadata": {},
     "output_type": "execute_result"
    }
   ],
   "source": [
    "all_ratings.shape"
   ]
  },
  {
   "cell_type": "markdown",
   "metadata": {},
   "source": [
    "数据集是一个10万×4的一个DataFrame，有10万行评分记录，4列具体属性为：用户ID、电影ID、评分、日期。\n",
    "MovieLens网站对该数据集的描述如下：\n",
    "> This data set consists of:\n",
    ">\t* 100,000 ratings (1-5) from 943 users on 1682 movies. \n",
    ">\t* Each user has rated at least 20 movies. \n",
    ">  * Simple demographic info for the users (age, gender, occupation, zip)\n",
    "\n",
    ">The data was collected through the MovieLens web site\n",
    ">(movielens.umn.edu) during the seven-month period from September 19th, \n",
    ">1997 through April 22nd, 1998. "
   ]
  },
  {
   "cell_type": "code",
   "execution_count": 13,
   "metadata": {
    "ExecuteTime": {
     "end_time": "2019-04-15T02:36:05.068372Z",
     "start_time": "2019-04-15T02:36:04.912131Z"
    },
    "execution": {
     "iopub.execute_input": "2020-04-21T10:19:35.725733Z",
     "iopub.status.busy": "2020-04-21T10:19:35.723735Z",
     "iopub.status.idle": "2020-04-21T10:19:35.984584Z",
     "shell.execute_reply": "2020-04-21T10:19:35.982585Z",
     "shell.execute_reply.started": "2020-04-21T10:19:35.724733Z"
    }
   },
   "outputs": [
    {
     "data": {
      "text/plain": [
       "943"
      ]
     },
     "execution_count": 13,
     "metadata": {},
     "output_type": "execute_result"
    }
   ],
   "source": [
    "len(all_ratings['UserID'].unique())"
   ]
  },
  {
   "cell_type": "code",
   "execution_count": 14,
   "metadata": {
    "ExecuteTime": {
     "end_time": "2019-04-15T02:36:05.189846Z",
     "start_time": "2019-04-15T02:36:05.068372Z"
    },
    "execution": {
     "iopub.execute_input": "2020-04-21T10:19:35.987583Z",
     "iopub.status.busy": "2020-04-21T10:19:35.986584Z",
     "iopub.status.idle": "2020-04-21T10:19:36.005573Z",
     "shell.execute_reply": "2020-04-21T10:19:36.003574Z",
     "shell.execute_reply.started": "2020-04-21T10:19:35.987583Z"
    }
   },
   "outputs": [
    {
     "data": {
      "text/plain": [
       "1682"
      ]
     },
     "execution_count": 14,
     "metadata": {},
     "output_type": "execute_result"
    }
   ],
   "source": [
    "len(all_ratings['MovieID'].unique())"
   ]
  },
  {
   "cell_type": "code",
   "execution_count": 15,
   "metadata": {
    "execution": {
     "iopub.execute_input": "2020-04-21T10:19:36.008571Z",
     "iopub.status.busy": "2020-04-21T10:19:36.007572Z",
     "iopub.status.idle": "2020-04-21T10:19:36.217452Z",
     "shell.execute_reply": "2020-04-21T10:19:36.215453Z",
     "shell.execute_reply.started": "2020-04-21T10:19:36.008571Z"
    }
   },
   "outputs": [
    {
     "data": {
      "text/plain": [
       "<bound method DataFrame.info of        UserID  MovieID  Rating            Datetime\n",
       "0         196      242       3 1997-12-04 15:55:49\n",
       "1         186      302       3 1998-04-04 19:22:22\n",
       "2          22      377       1 1997-11-07 07:18:36\n",
       "3         244       51       2 1997-11-27 05:02:03\n",
       "4         166      346       1 1998-02-02 05:33:16\n",
       "...       ...      ...     ...                 ...\n",
       "99995     880      476       3 1997-11-22 05:10:44\n",
       "99996     716      204       5 1997-11-17 19:39:03\n",
       "99997     276     1090       1 1997-09-20 22:49:55\n",
       "99998      13      225       2 1997-12-17 22:52:36\n",
       "99999      12      203       3 1997-11-19 17:13:03\n",
       "\n",
       "[100000 rows x 4 columns]>"
      ]
     },
     "execution_count": 15,
     "metadata": {},
     "output_type": "execute_result"
    }
   ],
   "source": [
    "all_ratings.info"
   ]
  },
  {
   "cell_type": "code",
   "execution_count": 16,
   "metadata": {
    "execution": {
     "iopub.execute_input": "2020-04-21T10:19:36.222449Z",
     "iopub.status.busy": "2020-04-21T10:19:36.221449Z",
     "iopub.status.idle": "2020-04-21T10:19:36.371364Z",
     "shell.execute_reply": "2020-04-21T10:19:36.370365Z",
     "shell.execute_reply.started": "2020-04-21T10:19:36.222449Z"
    }
   },
   "outputs": [
    {
     "data": {
      "text/html": [
       "<div>\n",
       "<style scoped>\n",
       "    .dataframe tbody tr th:only-of-type {\n",
       "        vertical-align: middle;\n",
       "    }\n",
       "\n",
       "    .dataframe tbody tr th {\n",
       "        vertical-align: top;\n",
       "    }\n",
       "\n",
       "    .dataframe thead th {\n",
       "        text-align: right;\n",
       "    }\n",
       "</style>\n",
       "<table border=\"1\" class=\"dataframe\">\n",
       "  <thead>\n",
       "    <tr style=\"text-align: right;\">\n",
       "      <th></th>\n",
       "      <th>UserID</th>\n",
       "      <th>MovieID</th>\n",
       "      <th>Rating</th>\n",
       "    </tr>\n",
       "  </thead>\n",
       "  <tbody>\n",
       "    <tr>\n",
       "      <th>count</th>\n",
       "      <td>100000.00000</td>\n",
       "      <td>100000.000000</td>\n",
       "      <td>100000.000000</td>\n",
       "    </tr>\n",
       "    <tr>\n",
       "      <th>mean</th>\n",
       "      <td>462.48475</td>\n",
       "      <td>425.530130</td>\n",
       "      <td>3.529860</td>\n",
       "    </tr>\n",
       "    <tr>\n",
       "      <th>std</th>\n",
       "      <td>266.61442</td>\n",
       "      <td>330.798356</td>\n",
       "      <td>1.125674</td>\n",
       "    </tr>\n",
       "    <tr>\n",
       "      <th>min</th>\n",
       "      <td>1.00000</td>\n",
       "      <td>1.000000</td>\n",
       "      <td>1.000000</td>\n",
       "    </tr>\n",
       "    <tr>\n",
       "      <th>25%</th>\n",
       "      <td>254.00000</td>\n",
       "      <td>175.000000</td>\n",
       "      <td>3.000000</td>\n",
       "    </tr>\n",
       "    <tr>\n",
       "      <th>50%</th>\n",
       "      <td>447.00000</td>\n",
       "      <td>322.000000</td>\n",
       "      <td>4.000000</td>\n",
       "    </tr>\n",
       "    <tr>\n",
       "      <th>75%</th>\n",
       "      <td>682.00000</td>\n",
       "      <td>631.000000</td>\n",
       "      <td>4.000000</td>\n",
       "    </tr>\n",
       "    <tr>\n",
       "      <th>max</th>\n",
       "      <td>943.00000</td>\n",
       "      <td>1682.000000</td>\n",
       "      <td>5.000000</td>\n",
       "    </tr>\n",
       "  </tbody>\n",
       "</table>\n",
       "</div>"
      ],
      "text/plain": [
       "             UserID        MovieID         Rating\n",
       "count  100000.00000  100000.000000  100000.000000\n",
       "mean      462.48475     425.530130       3.529860\n",
       "std       266.61442     330.798356       1.125674\n",
       "min         1.00000       1.000000       1.000000\n",
       "25%       254.00000     175.000000       3.000000\n",
       "50%       447.00000     322.000000       4.000000\n",
       "75%       682.00000     631.000000       4.000000\n",
       "max       943.00000    1682.000000       5.000000"
      ]
     },
     "execution_count": 16,
     "metadata": {},
     "output_type": "execute_result"
    }
   ],
   "source": [
    "all_ratings.describe()"
   ]
  },
  {
   "cell_type": "code",
   "execution_count": 17,
   "metadata": {
    "execution": {
     "iopub.execute_input": "2020-04-21T10:19:36.374363Z",
     "iopub.status.busy": "2020-04-21T10:19:36.373363Z",
     "iopub.status.idle": "2020-04-21T10:20:06.734766Z",
     "shell.execute_reply": "2020-04-21T10:20:06.733767Z",
     "shell.execute_reply.started": "2020-04-21T10:19:36.374363Z"
    }
   },
   "outputs": [
    {
     "data": {
      "application/vnd.jupyter.widget-view+json": {
       "model_id": "7122d53a87c84d2a96892ff62352c483",
       "version_major": 2,
       "version_minor": 0
      },
      "text/plain": [
       "HBox(children=(FloatProgress(value=0.0, description='variables', max=4.0, style=ProgressStyle(description_widt…"
      ]
     },
     "metadata": {},
     "output_type": "display_data"
    },
    {
     "name": "stdout",
     "output_type": "stream",
     "text": [
      "\n"
     ]
    },
    {
     "data": {
      "application/vnd.jupyter.widget-view+json": {
       "model_id": "230c020bdfcd41948669e15cecc20df1",
       "version_major": 2,
       "version_minor": 0
      },
      "text/plain": [
       "HBox(children=(FloatProgress(value=0.0, description='correlations', max=6.0, style=ProgressStyle(description_w…"
      ]
     },
     "metadata": {},
     "output_type": "display_data"
    },
    {
     "name": "stdout",
     "output_type": "stream",
     "text": [
      "\n"
     ]
    },
    {
     "data": {
      "application/vnd.jupyter.widget-view+json": {
       "model_id": "60e5d9c058644aa987776977de9e6688",
       "version_major": 2,
       "version_minor": 0
      },
      "text/plain": [
       "HBox(children=(FloatProgress(value=0.0, description='interactions [continuous]', max=9.0, style=ProgressStyle(…"
      ]
     },
     "metadata": {},
     "output_type": "display_data"
    },
    {
     "name": "stdout",
     "output_type": "stream",
     "text": [
      "\n"
     ]
    },
    {
     "data": {
      "application/vnd.jupyter.widget-view+json": {
       "model_id": "fe73ffee93a3461f9805fc95d4415cbe",
       "version_major": 2,
       "version_minor": 0
      },
      "text/plain": [
       "HBox(children=(FloatProgress(value=0.0, description='table', max=1.0, style=ProgressStyle(description_width='i…"
      ]
     },
     "metadata": {},
     "output_type": "display_data"
    },
    {
     "name": "stdout",
     "output_type": "stream",
     "text": [
      "\n"
     ]
    },
    {
     "data": {
      "application/vnd.jupyter.widget-view+json": {
       "model_id": "5d60bcb6be44476c9cedcead0d76ed8f",
       "version_major": 2,
       "version_minor": 0
      },
      "text/plain": [
       "HBox(children=(FloatProgress(value=0.0, description='missing', max=2.0, style=ProgressStyle(description_width=…"
      ]
     },
     "metadata": {},
     "output_type": "display_data"
    },
    {
     "name": "stdout",
     "output_type": "stream",
     "text": [
      "\n"
     ]
    },
    {
     "data": {
      "application/vnd.jupyter.widget-view+json": {
       "model_id": "1c083ebd8b6c41db941ef369474b827a",
       "version_major": 2,
       "version_minor": 0
      },
      "text/plain": [
       "HBox(children=(FloatProgress(value=0.0, description='warnings', max=3.0, style=ProgressStyle(description_width…"
      ]
     },
     "metadata": {},
     "output_type": "display_data"
    },
    {
     "name": "stdout",
     "output_type": "stream",
     "text": [
      "\n"
     ]
    },
    {
     "data": {
      "application/vnd.jupyter.widget-view+json": {
       "model_id": "3ff5cee6d7b94a40ac07b99afed4e183",
       "version_major": 2,
       "version_minor": 0
      },
      "text/plain": [
       "HBox(children=(FloatProgress(value=0.0, description='package', max=1.0, style=ProgressStyle(description_width=…"
      ]
     },
     "metadata": {},
     "output_type": "display_data"
    },
    {
     "name": "stdout",
     "output_type": "stream",
     "text": [
      "\n"
     ]
    },
    {
     "data": {
      "application/vnd.jupyter.widget-view+json": {
       "model_id": "c6ae4947ee714085bed6d073cdc8d9c5",
       "version_major": 2,
       "version_minor": 0
      },
      "text/plain": [
       "HBox(children=(FloatProgress(value=0.0, description='build report structure', max=1.0, style=ProgressStyle(des…"
      ]
     },
     "metadata": {},
     "output_type": "display_data"
    },
    {
     "name": "stdout",
     "output_type": "stream",
     "text": [
      "\n"
     ]
    }
   ],
   "source": [
    "import pandas_profiling\n",
    "profie = pandas_profiling.ProfileReport(all_ratings)"
   ]
  },
  {
   "cell_type": "code",
   "execution_count": 18,
   "metadata": {
    "execution": {
     "iopub.execute_input": "2020-04-21T10:20:06.737765Z",
     "iopub.status.busy": "2020-04-21T10:20:06.736765Z",
     "iopub.status.idle": "2020-04-21T10:20:08.787591Z",
     "shell.execute_reply": "2020-04-21T10:20:08.786592Z",
     "shell.execute_reply.started": "2020-04-21T10:20:06.737765Z"
    }
   },
   "outputs": [],
   "source": [
    "profie.to_file(\"D://desktop/all_ratings_profiel.html\")"
   ]
  },
  {
   "cell_type": "markdown",
   "metadata": {},
   "source": [
    "以上结果与网站描述一致。"
   ]
  },
  {
   "cell_type": "code",
   "execution_count": 19,
   "metadata": {
    "ExecuteTime": {
     "end_time": "2019-04-15T02:36:05.330457Z",
     "start_time": "2019-04-15T02:36:05.189846Z"
    },
    "execution": {
     "iopub.execute_input": "2020-04-21T10:20:08.791590Z",
     "iopub.status.busy": "2020-04-21T10:20:08.789591Z",
     "iopub.status.idle": "2020-04-21T10:20:08.826569Z",
     "shell.execute_reply": "2020-04-21T10:20:08.824571Z",
     "shell.execute_reply.started": "2020-04-21T10:20:08.791590Z"
    }
   },
   "outputs": [
    {
     "data": {
      "text/html": [
       "<div>\n",
       "<style scoped>\n",
       "    .dataframe tbody tr th:only-of-type {\n",
       "        vertical-align: middle;\n",
       "    }\n",
       "\n",
       "    .dataframe tbody tr th {\n",
       "        vertical-align: top;\n",
       "    }\n",
       "\n",
       "    .dataframe thead th {\n",
       "        text-align: right;\n",
       "    }\n",
       "</style>\n",
       "<table border=\"1\" class=\"dataframe\">\n",
       "  <thead>\n",
       "    <tr style=\"text-align: right;\">\n",
       "      <th></th>\n",
       "      <th>UserID</th>\n",
       "      <th>MovieID</th>\n",
       "      <th>Rating</th>\n",
       "      <th>Datetime</th>\n",
       "    </tr>\n",
       "  </thead>\n",
       "  <tbody>\n",
       "    <tr>\n",
       "      <th>32236</th>\n",
       "      <td>1</td>\n",
       "      <td>1</td>\n",
       "      <td>5</td>\n",
       "      <td>1997-09-22 22:02:38</td>\n",
       "    </tr>\n",
       "    <tr>\n",
       "      <th>23171</th>\n",
       "      <td>1</td>\n",
       "      <td>2</td>\n",
       "      <td>3</td>\n",
       "      <td>1997-10-15 05:26:11</td>\n",
       "    </tr>\n",
       "    <tr>\n",
       "      <th>83307</th>\n",
       "      <td>1</td>\n",
       "      <td>3</td>\n",
       "      <td>4</td>\n",
       "      <td>1997-11-03 07:42:40</td>\n",
       "    </tr>\n",
       "    <tr>\n",
       "      <th>62631</th>\n",
       "      <td>1</td>\n",
       "      <td>4</td>\n",
       "      <td>3</td>\n",
       "      <td>1997-10-15 05:25:19</td>\n",
       "    </tr>\n",
       "    <tr>\n",
       "      <th>47638</th>\n",
       "      <td>1</td>\n",
       "      <td>5</td>\n",
       "      <td>3</td>\n",
       "      <td>1998-03-13 01:15:12</td>\n",
       "    </tr>\n",
       "    <tr>\n",
       "      <th>...</th>\n",
       "      <td>...</td>\n",
       "      <td>...</td>\n",
       "      <td>...</td>\n",
       "      <td>...</td>\n",
       "    </tr>\n",
       "    <tr>\n",
       "      <th>34550</th>\n",
       "      <td>1</td>\n",
       "      <td>268</td>\n",
       "      <td>5</td>\n",
       "      <td>1997-10-01 08:02:07</td>\n",
       "    </tr>\n",
       "    <tr>\n",
       "      <th>25138</th>\n",
       "      <td>1</td>\n",
       "      <td>269</td>\n",
       "      <td>5</td>\n",
       "      <td>1997-10-22 01:07:07</td>\n",
       "    </tr>\n",
       "    <tr>\n",
       "      <th>27216</th>\n",
       "      <td>1</td>\n",
       "      <td>270</td>\n",
       "      <td>5</td>\n",
       "      <td>1998-03-01 06:13:47</td>\n",
       "    </tr>\n",
       "    <tr>\n",
       "      <th>35409</th>\n",
       "      <td>1</td>\n",
       "      <td>271</td>\n",
       "      <td>2</td>\n",
       "      <td>1998-02-14 04:47:52</td>\n",
       "    </tr>\n",
       "    <tr>\n",
       "      <th>4306</th>\n",
       "      <td>1</td>\n",
       "      <td>272</td>\n",
       "      <td>3</td>\n",
       "      <td>1998-02-14 04:47:27</td>\n",
       "    </tr>\n",
       "  </tbody>\n",
       "</table>\n",
       "<p>272 rows × 4 columns</p>\n",
       "</div>"
      ],
      "text/plain": [
       "       UserID  MovieID  Rating            Datetime\n",
       "32236       1        1       5 1997-09-22 22:02:38\n",
       "23171       1        2       3 1997-10-15 05:26:11\n",
       "83307       1        3       4 1997-11-03 07:42:40\n",
       "62631       1        4       3 1997-10-15 05:25:19\n",
       "47638       1        5       3 1998-03-13 01:15:12\n",
       "...       ...      ...     ...                 ...\n",
       "34550       1      268       5 1997-10-01 08:02:07\n",
       "25138       1      269       5 1997-10-22 01:07:07\n",
       "27216       1      270       5 1998-03-01 06:13:47\n",
       "35409       1      271       2 1998-02-14 04:47:52\n",
       "4306        1      272       3 1998-02-14 04:47:27\n",
       "\n",
       "[272 rows x 4 columns]"
      ]
     },
     "execution_count": 19,
     "metadata": {},
     "output_type": "execute_result"
    }
   ],
   "source": [
    "all_ratings[all_ratings[\"UserID\"] == 1].sort_values(\"MovieID\")"
   ]
  },
  {
   "cell_type": "markdown",
   "metadata": {},
   "source": [
    "# 数据预处理"
   ]
  },
  {
   "cell_type": "markdown",
   "metadata": {},
   "source": [
    "数据挖掘的目标是生成如下形式的规则：<font color = 'blue' face = 'italic'>**如果用户喜欢某些电影，那么他们也会喜欢这部电影**</font>。为此，先增加一列Favorable，来表示用户是否喜欢这部电影。"
   ]
  },
  {
   "cell_type": "code",
   "execution_count": 20,
   "metadata": {
    "ExecuteTime": {
     "end_time": "2019-04-15T02:36:05.483680Z",
     "start_time": "2019-04-15T02:36:05.332947Z"
    },
    "execution": {
     "iopub.execute_input": "2020-04-21T10:20:08.830567Z",
     "iopub.status.busy": "2020-04-21T10:20:08.829568Z",
     "iopub.status.idle": "2020-04-21T10:20:08.951499Z",
     "shell.execute_reply": "2020-04-21T10:20:08.950499Z",
     "shell.execute_reply.started": "2020-04-21T10:20:08.830567Z"
    }
   },
   "outputs": [
    {
     "data": {
      "text/html": [
       "<div>\n",
       "<style scoped>\n",
       "    .dataframe tbody tr th:only-of-type {\n",
       "        vertical-align: middle;\n",
       "    }\n",
       "\n",
       "    .dataframe tbody tr th {\n",
       "        vertical-align: top;\n",
       "    }\n",
       "\n",
       "    .dataframe thead th {\n",
       "        text-align: right;\n",
       "    }\n",
       "</style>\n",
       "<table border=\"1\" class=\"dataframe\">\n",
       "  <thead>\n",
       "    <tr style=\"text-align: right;\">\n",
       "      <th></th>\n",
       "      <th>UserID</th>\n",
       "      <th>MovieID</th>\n",
       "      <th>Rating</th>\n",
       "      <th>Datetime</th>\n",
       "      <th>Favorable</th>\n",
       "    </tr>\n",
       "  </thead>\n",
       "  <tbody>\n",
       "    <tr>\n",
       "      <th>99995</th>\n",
       "      <td>880</td>\n",
       "      <td>476</td>\n",
       "      <td>3</td>\n",
       "      <td>1997-11-22 05:10:44</td>\n",
       "      <td>False</td>\n",
       "    </tr>\n",
       "    <tr>\n",
       "      <th>99996</th>\n",
       "      <td>716</td>\n",
       "      <td>204</td>\n",
       "      <td>5</td>\n",
       "      <td>1997-11-17 19:39:03</td>\n",
       "      <td>True</td>\n",
       "    </tr>\n",
       "    <tr>\n",
       "      <th>99997</th>\n",
       "      <td>276</td>\n",
       "      <td>1090</td>\n",
       "      <td>1</td>\n",
       "      <td>1997-09-20 22:49:55</td>\n",
       "      <td>False</td>\n",
       "    </tr>\n",
       "    <tr>\n",
       "      <th>99998</th>\n",
       "      <td>13</td>\n",
       "      <td>225</td>\n",
       "      <td>2</td>\n",
       "      <td>1997-12-17 22:52:36</td>\n",
       "      <td>False</td>\n",
       "    </tr>\n",
       "    <tr>\n",
       "      <th>99999</th>\n",
       "      <td>12</td>\n",
       "      <td>203</td>\n",
       "      <td>3</td>\n",
       "      <td>1997-11-19 17:13:03</td>\n",
       "      <td>False</td>\n",
       "    </tr>\n",
       "  </tbody>\n",
       "</table>\n",
       "</div>"
      ],
      "text/plain": [
       "       UserID  MovieID  Rating            Datetime  Favorable\n",
       "99995     880      476       3 1997-11-22 05:10:44      False\n",
       "99996     716      204       5 1997-11-17 19:39:03       True\n",
       "99997     276     1090       1 1997-09-20 22:49:55      False\n",
       "99998      13      225       2 1997-12-17 22:52:36      False\n",
       "99999      12      203       3 1997-11-19 17:13:03      False"
      ]
     },
     "execution_count": 20,
     "metadata": {},
     "output_type": "execute_result"
    }
   ],
   "source": [
    "all_ratings[\"Favorable\"] = all_ratings[\"Rating\"] > 3\n",
    "all_ratings.tail()"
   ]
  },
  {
   "cell_type": "code",
   "execution_count": 21,
   "metadata": {
    "ExecuteTime": {
     "end_time": "2019-04-15T02:36:05.639922Z",
     "start_time": "2019-04-15T02:36:05.483680Z"
    },
    "execution": {
     "iopub.execute_input": "2020-04-21T10:20:08.954497Z",
     "iopub.status.busy": "2020-04-21T10:20:08.953497Z",
     "iopub.status.idle": "2020-04-21T10:20:09.112406Z",
     "shell.execute_reply": "2020-04-21T10:20:09.110407Z",
     "shell.execute_reply.started": "2020-04-21T10:20:08.954497Z"
    }
   },
   "outputs": [
    {
     "data": {
      "text/plain": [
       "943"
      ]
     },
     "execution_count": 21,
     "metadata": {},
     "output_type": "execute_result"
    }
   ],
   "source": [
    "all_ratings.UserID.max()"
   ]
  },
  {
   "cell_type": "code",
   "execution_count": 22,
   "metadata": {
    "ExecuteTime": {
     "end_time": "2019-04-15T02:36:05.768066Z",
     "start_time": "2019-04-15T02:36:05.639922Z"
    },
    "execution": {
     "iopub.execute_input": "2020-04-21T10:20:09.116405Z",
     "iopub.status.busy": "2020-04-21T10:20:09.115405Z",
     "iopub.status.idle": "2020-04-21T10:20:09.400242Z",
     "shell.execute_reply": "2020-04-21T10:20:09.399244Z",
     "shell.execute_reply.started": "2020-04-21T10:20:09.116405Z"
    }
   },
   "outputs": [
    {
     "data": {
      "text/html": [
       "<div>\n",
       "<style scoped>\n",
       "    .dataframe tbody tr th:only-of-type {\n",
       "        vertical-align: middle;\n",
       "    }\n",
       "\n",
       "    .dataframe tbody tr th {\n",
       "        vertical-align: top;\n",
       "    }\n",
       "\n",
       "    .dataframe thead th {\n",
       "        text-align: right;\n",
       "    }\n",
       "</style>\n",
       "<table border=\"1\" class=\"dataframe\">\n",
       "  <thead>\n",
       "    <tr style=\"text-align: right;\">\n",
       "      <th></th>\n",
       "      <th>UserID</th>\n",
       "      <th>MovieID</th>\n",
       "      <th>Rating</th>\n",
       "      <th>Datetime</th>\n",
       "      <th>Favorable</th>\n",
       "    </tr>\n",
       "  </thead>\n",
       "  <tbody>\n",
       "    <tr>\n",
       "      <th>202</th>\n",
       "      <td>1</td>\n",
       "      <td>61</td>\n",
       "      <td>4</td>\n",
       "      <td>1997-11-03 07:33:40</td>\n",
       "      <td>True</td>\n",
       "    </tr>\n",
       "    <tr>\n",
       "      <th>305</th>\n",
       "      <td>1</td>\n",
       "      <td>189</td>\n",
       "      <td>3</td>\n",
       "      <td>1998-03-01 06:15:28</td>\n",
       "      <td>False</td>\n",
       "    </tr>\n",
       "    <tr>\n",
       "      <th>333</th>\n",
       "      <td>1</td>\n",
       "      <td>33</td>\n",
       "      <td>4</td>\n",
       "      <td>1997-11-03 07:38:19</td>\n",
       "      <td>True</td>\n",
       "    </tr>\n",
       "    <tr>\n",
       "      <th>334</th>\n",
       "      <td>1</td>\n",
       "      <td>160</td>\n",
       "      <td>4</td>\n",
       "      <td>1997-09-24 03:42:27</td>\n",
       "      <td>True</td>\n",
       "    </tr>\n",
       "    <tr>\n",
       "      <th>478</th>\n",
       "      <td>1</td>\n",
       "      <td>20</td>\n",
       "      <td>4</td>\n",
       "      <td>1998-02-14 04:51:23</td>\n",
       "      <td>True</td>\n",
       "    </tr>\n",
       "  </tbody>\n",
       "</table>\n",
       "</div>"
      ],
      "text/plain": [
       "     UserID  MovieID  Rating            Datetime  Favorable\n",
       "202       1       61       4 1997-11-03 07:33:40       True\n",
       "305       1      189       3 1998-03-01 06:15:28      False\n",
       "333       1       33       4 1997-11-03 07:38:19       True\n",
       "334       1      160       4 1997-09-24 03:42:27       True\n",
       "478       1       20       4 1998-02-14 04:51:23       True"
      ]
     },
     "execution_count": 22,
     "metadata": {},
     "output_type": "execute_result"
    }
   ],
   "source": [
    "all_ratings[all_ratings[\"UserID\"] == 1][:5]"
   ]
  },
  {
   "cell_type": "code",
   "execution_count": 23,
   "metadata": {
    "execution": {
     "iopub.execute_input": "2020-04-21T10:20:09.408237Z",
     "iopub.status.busy": "2020-04-21T10:20:09.407239Z",
     "iopub.status.idle": "2020-04-21T10:20:10.324713Z",
     "shell.execute_reply": "2020-04-21T10:20:10.321717Z",
     "shell.execute_reply.started": "2020-04-21T10:20:09.408237Z"
    }
   },
   "outputs": [
    {
     "data": {
      "text/plain": [
       "array([[196, 242, 3, Timestamp('1997-12-04 15:55:49'), False],\n",
       "       [186, 302, 3, Timestamp('1998-04-04 19:22:22'), False],\n",
       "       [22, 377, 1, Timestamp('1997-11-07 07:18:36'), False],\n",
       "       ...,\n",
       "       [276, 1090, 1, Timestamp('1997-09-20 22:49:55'), False],\n",
       "       [13, 225, 2, Timestamp('1997-12-17 22:52:36'), False],\n",
       "       [12, 203, 3, Timestamp('1997-11-19 17:13:03'), False]],\n",
       "      dtype=object)"
      ]
     },
     "execution_count": 23,
     "metadata": {},
     "output_type": "execute_result"
    }
   ],
   "source": [
    "all_ratings.values"
   ]
  },
  {
   "cell_type": "markdown",
   "metadata": {},
   "source": [
    "从数据集中选取一部分数据用作训练集，这能有效减少搜索空间，提升Apriori算法的速度。我们取前200名用户的打分数据。"
   ]
  },
  {
   "cell_type": "code",
   "execution_count": 24,
   "metadata": {
    "ExecuteTime": {
     "end_time": "2019-04-15T02:36:05.939968Z",
     "start_time": "2019-04-15T02:36:05.768066Z"
    },
    "execution": {
     "iopub.execute_input": "2020-04-21T10:20:10.335707Z",
     "iopub.status.busy": "2020-04-21T10:20:10.332710Z",
     "iopub.status.idle": "2020-04-21T10:20:10.360692Z",
     "shell.execute_reply": "2020-04-21T10:20:10.358693Z",
     "shell.execute_reply.started": "2020-04-21T10:20:10.335707Z"
    }
   },
   "outputs": [],
   "source": [
    "ratings = all_ratings[all_ratings['UserID'].isin(range(200))]  # & ratings[\"UserID\"].isin(range(100))]"
   ]
  },
  {
   "cell_type": "code",
   "execution_count": 25,
   "metadata": {
    "ExecuteTime": {
     "end_time": "2019-04-15T02:36:06.087097Z",
     "start_time": "2019-04-15T02:36:05.939968Z"
    },
    "execution": {
     "iopub.execute_input": "2020-04-21T10:20:10.365690Z",
     "iopub.status.busy": "2020-04-21T10:20:10.363690Z",
     "iopub.status.idle": "2020-04-21T10:20:10.484622Z",
     "shell.execute_reply": "2020-04-21T10:20:10.483621Z",
     "shell.execute_reply.started": "2020-04-21T10:20:10.364690Z"
    }
   },
   "outputs": [
    {
     "data": {
      "text/plain": [
       "(19531, 5)"
      ]
     },
     "execution_count": 25,
     "metadata": {},
     "output_type": "execute_result"
    }
   ],
   "source": [
    "ratings.shape"
   ]
  },
  {
   "cell_type": "code",
   "execution_count": 26,
   "metadata": {
    "ExecuteTime": {
     "end_time": "2019-04-15T02:36:06.252626Z",
     "start_time": "2019-04-15T02:36:06.087097Z"
    },
    "execution": {
     "iopub.execute_input": "2020-04-21T10:20:10.487619Z",
     "iopub.status.busy": "2020-04-21T10:20:10.486620Z",
     "iopub.status.idle": "2020-04-21T10:20:10.630538Z",
     "shell.execute_reply": "2020-04-21T10:20:10.629539Z",
     "shell.execute_reply.started": "2020-04-21T10:20:10.487619Z"
    }
   },
   "outputs": [
    {
     "data": {
      "text/html": [
       "<div>\n",
       "<style scoped>\n",
       "    .dataframe tbody tr th:only-of-type {\n",
       "        vertical-align: middle;\n",
       "    }\n",
       "\n",
       "    .dataframe tbody tr th {\n",
       "        vertical-align: top;\n",
       "    }\n",
       "\n",
       "    .dataframe thead th {\n",
       "        text-align: right;\n",
       "    }\n",
       "</style>\n",
       "<table border=\"1\" class=\"dataframe\">\n",
       "  <thead>\n",
       "    <tr style=\"text-align: right;\">\n",
       "      <th></th>\n",
       "      <th>UserID</th>\n",
       "      <th>MovieID</th>\n",
       "      <th>Rating</th>\n",
       "      <th>Datetime</th>\n",
       "      <th>Favorable</th>\n",
       "    </tr>\n",
       "  </thead>\n",
       "  <tbody>\n",
       "    <tr>\n",
       "      <th>16</th>\n",
       "      <td>122</td>\n",
       "      <td>387</td>\n",
       "      <td>5</td>\n",
       "      <td>1997-11-11 17:47:39</td>\n",
       "      <td>True</td>\n",
       "    </tr>\n",
       "    <tr>\n",
       "      <th>20</th>\n",
       "      <td>119</td>\n",
       "      <td>392</td>\n",
       "      <td>4</td>\n",
       "      <td>1998-01-30 16:13:34</td>\n",
       "      <td>True</td>\n",
       "    </tr>\n",
       "    <tr>\n",
       "      <th>21</th>\n",
       "      <td>167</td>\n",
       "      <td>486</td>\n",
       "      <td>4</td>\n",
       "      <td>1998-04-16 14:54:12</td>\n",
       "      <td>True</td>\n",
       "    </tr>\n",
       "    <tr>\n",
       "      <th>26</th>\n",
       "      <td>38</td>\n",
       "      <td>95</td>\n",
       "      <td>5</td>\n",
       "      <td>1998-04-13 01:14:54</td>\n",
       "      <td>True</td>\n",
       "    </tr>\n",
       "    <tr>\n",
       "      <th>28</th>\n",
       "      <td>63</td>\n",
       "      <td>277</td>\n",
       "      <td>4</td>\n",
       "      <td>1997-10-01 23:10:01</td>\n",
       "      <td>True</td>\n",
       "    </tr>\n",
       "  </tbody>\n",
       "</table>\n",
       "</div>"
      ],
      "text/plain": [
       "    UserID  MovieID  Rating            Datetime  Favorable\n",
       "16     122      387       5 1997-11-11 17:47:39       True\n",
       "20     119      392       4 1998-01-30 16:13:34       True\n",
       "21     167      486       4 1998-04-16 14:54:12       True\n",
       "26      38       95       5 1998-04-13 01:14:54       True\n",
       "28      63      277       4 1997-10-01 23:10:01       True"
      ]
     },
     "execution_count": 26,
     "metadata": {},
     "output_type": "execute_result"
    }
   ],
   "source": [
    "# We start by creating a dataset of each user's favourable reviews\n",
    "favorable_ratings = ratings[ratings[\"Favorable\"]]\n",
    "favorable_ratings[:5]"
   ]
  },
  {
   "cell_type": "code",
   "execution_count": 27,
   "metadata": {
    "ExecuteTime": {
     "end_time": "2019-04-15T02:36:06.377628Z",
     "start_time": "2019-04-15T02:36:06.252626Z"
    },
    "execution": {
     "iopub.execute_input": "2020-04-21T10:20:10.637534Z",
     "iopub.status.busy": "2020-04-21T10:20:10.633537Z",
     "iopub.status.idle": "2020-04-21T10:20:10.767459Z",
     "shell.execute_reply": "2020-04-21T10:20:10.765461Z",
     "shell.execute_reply.started": "2020-04-21T10:20:10.637534Z"
    }
   },
   "outputs": [
    {
     "data": {
      "text/plain": [
       "(11043, 5)"
      ]
     },
     "execution_count": 27,
     "metadata": {},
     "output_type": "execute_result"
    }
   ],
   "source": [
    "favorable_ratings.shape"
   ]
  },
  {
   "cell_type": "code",
   "execution_count": 28,
   "metadata": {
    "ExecuteTime": {
     "end_time": "2019-04-15T02:36:06.640422Z",
     "start_time": "2019-04-15T02:36:06.377628Z"
    },
    "execution": {
     "iopub.execute_input": "2020-04-21T10:20:10.771457Z",
     "iopub.status.busy": "2020-04-21T10:20:10.770458Z",
     "iopub.status.idle": "2020-04-21T10:20:11.012320Z",
     "shell.execute_reply": "2020-04-21T10:20:11.010322Z",
     "shell.execute_reply.started": "2020-04-21T10:20:10.771457Z"
    }
   },
   "outputs": [
    {
     "data": {
      "text/plain": [
       "199"
      ]
     },
     "execution_count": 28,
     "metadata": {},
     "output_type": "execute_result"
    }
   ],
   "source": [
    "favorable_reviews_by_users = dict((k, frozenset(v.values)) for k, v in favorable_ratings.groupby(\"UserID\")[\"MovieID\"])\n",
    "len(favorable_reviews_by_users)"
   ]
  },
  {
   "cell_type": "markdown",
   "metadata": {},
   "source": [
    "以上语句需要稍微展开一下。首先是其中的groupby"
   ]
  },
  {
   "cell_type": "markdown",
   "metadata": {},
   "source": [
    "![img](figtabs/ch4/groupby.png)"
   ]
  },
  {
   "cell_type": "markdown",
   "metadata": {},
   "source": [
    "上图原图来自：[超好用的 pandas 之 groupby](https://www.jianshu.com/p/42f1d2909bb6)"
   ]
  },
  {
   "cell_type": "code",
   "execution_count": 29,
   "metadata": {
    "execution": {
     "iopub.execute_input": "2020-04-21T10:20:11.016317Z",
     "iopub.status.busy": "2020-04-21T10:20:11.014319Z",
     "iopub.status.idle": "2020-04-21T10:20:11.136249Z",
     "shell.execute_reply": "2020-04-21T10:20:11.135249Z",
     "shell.execute_reply.started": "2020-04-21T10:20:11.016317Z"
    }
   },
   "outputs": [
    {
     "data": {
      "text/html": [
       "<div>\n",
       "<style scoped>\n",
       "    .dataframe tbody tr th:only-of-type {\n",
       "        vertical-align: middle;\n",
       "    }\n",
       "\n",
       "    .dataframe tbody tr th {\n",
       "        vertical-align: top;\n",
       "    }\n",
       "\n",
       "    .dataframe thead th {\n",
       "        text-align: right;\n",
       "    }\n",
       "</style>\n",
       "<table border=\"1\" class=\"dataframe\">\n",
       "  <thead>\n",
       "    <tr style=\"text-align: right;\">\n",
       "      <th></th>\n",
       "      <th>UserID</th>\n",
       "      <th>MovieID</th>\n",
       "      <th>Rating</th>\n",
       "      <th>Datetime</th>\n",
       "      <th>Favorable</th>\n",
       "    </tr>\n",
       "  </thead>\n",
       "  <tbody>\n",
       "    <tr>\n",
       "      <th>0</th>\n",
       "      <td>196</td>\n",
       "      <td>242</td>\n",
       "      <td>3</td>\n",
       "      <td>1997-12-04 15:55:49</td>\n",
       "      <td>False</td>\n",
       "    </tr>\n",
       "    <tr>\n",
       "      <th>1</th>\n",
       "      <td>186</td>\n",
       "      <td>302</td>\n",
       "      <td>3</td>\n",
       "      <td>1998-04-04 19:22:22</td>\n",
       "      <td>False</td>\n",
       "    </tr>\n",
       "    <tr>\n",
       "      <th>2</th>\n",
       "      <td>22</td>\n",
       "      <td>377</td>\n",
       "      <td>1</td>\n",
       "      <td>1997-11-07 07:18:36</td>\n",
       "      <td>False</td>\n",
       "    </tr>\n",
       "    <tr>\n",
       "      <th>4</th>\n",
       "      <td>166</td>\n",
       "      <td>346</td>\n",
       "      <td>1</td>\n",
       "      <td>1998-02-02 05:33:16</td>\n",
       "      <td>False</td>\n",
       "    </tr>\n",
       "    <tr>\n",
       "      <th>6</th>\n",
       "      <td>115</td>\n",
       "      <td>265</td>\n",
       "      <td>2</td>\n",
       "      <td>1997-12-03 17:51:28</td>\n",
       "      <td>False</td>\n",
       "    </tr>\n",
       "  </tbody>\n",
       "</table>\n",
       "</div>"
      ],
      "text/plain": [
       "   UserID  MovieID  Rating            Datetime  Favorable\n",
       "0     196      242       3 1997-12-04 15:55:49      False\n",
       "1     186      302       3 1998-04-04 19:22:22      False\n",
       "2      22      377       1 1997-11-07 07:18:36      False\n",
       "4     166      346       1 1998-02-02 05:33:16      False\n",
       "6     115      265       2 1997-12-03 17:51:28      False"
      ]
     },
     "execution_count": 29,
     "metadata": {},
     "output_type": "execute_result"
    }
   ],
   "source": [
    "ratings.iloc[:5]"
   ]
  },
  {
   "cell_type": "code",
   "execution_count": 30,
   "metadata": {
    "ExecuteTime": {
     "end_time": "2019-04-15T02:36:05.939968Z",
     "start_time": "2019-04-15T02:36:05.768066Z"
    },
    "execution": {
     "iopub.execute_input": "2020-04-21T10:20:11.141246Z",
     "iopub.status.busy": "2020-04-21T10:20:11.139247Z",
     "iopub.status.idle": "2020-04-21T10:20:11.264176Z",
     "shell.execute_reply": "2020-04-21T10:20:11.263177Z",
     "shell.execute_reply.started": "2020-04-21T10:20:11.140248Z"
    }
   },
   "outputs": [],
   "source": [
    "ratings = all_ratings[all_ratings['UserID'].isin(range(1, 201))]  # & ratings[\"UserID\"].isin(range(100))]"
   ]
  },
  {
   "cell_type": "code",
   "execution_count": 31,
   "metadata": {
    "execution": {
     "iopub.execute_input": "2020-04-21T10:20:11.267173Z",
     "iopub.status.busy": "2020-04-21T10:20:11.266174Z",
     "iopub.status.idle": "2020-04-21T10:20:11.383108Z",
     "shell.execute_reply": "2020-04-21T10:20:11.381108Z",
     "shell.execute_reply.started": "2020-04-21T10:20:11.267173Z"
    }
   },
   "outputs": [
    {
     "data": {
      "text/plain": [
       "200"
      ]
     },
     "execution_count": 31,
     "metadata": {},
     "output_type": "execute_result"
    }
   ],
   "source": [
    "len(ratings.UserID.unique())"
   ]
  },
  {
   "cell_type": "code",
   "execution_count": 32,
   "metadata": {
    "ExecuteTime": {
     "end_time": "2019-04-15T02:36:06.087097Z",
     "start_time": "2019-04-15T02:36:05.939968Z"
    },
    "execution": {
     "iopub.execute_input": "2020-04-21T10:20:11.387105Z",
     "iopub.status.busy": "2020-04-21T10:20:11.386106Z",
     "iopub.status.idle": "2020-04-21T10:20:11.498042Z",
     "shell.execute_reply": "2020-04-21T10:20:11.496043Z",
     "shell.execute_reply.started": "2020-04-21T10:20:11.387105Z"
    }
   },
   "outputs": [
    {
     "data": {
      "text/plain": [
       "(19747, 5)"
      ]
     },
     "execution_count": 32,
     "metadata": {},
     "output_type": "execute_result"
    }
   ],
   "source": [
    "ratings.shape"
   ]
  },
  {
   "cell_type": "code",
   "execution_count": 33,
   "metadata": {
    "ExecuteTime": {
     "end_time": "2019-04-15T02:36:06.252626Z",
     "start_time": "2019-04-15T02:36:06.087097Z"
    },
    "execution": {
     "iopub.execute_input": "2020-04-21T10:20:11.509035Z",
     "iopub.status.busy": "2020-04-21T10:20:11.504038Z",
     "iopub.status.idle": "2020-04-21T10:20:11.617973Z",
     "shell.execute_reply": "2020-04-21T10:20:11.615976Z",
     "shell.execute_reply.started": "2020-04-21T10:20:11.509035Z"
    }
   },
   "outputs": [
    {
     "data": {
      "text/html": [
       "<div>\n",
       "<style scoped>\n",
       "    .dataframe tbody tr th:only-of-type {\n",
       "        vertical-align: middle;\n",
       "    }\n",
       "\n",
       "    .dataframe tbody tr th {\n",
       "        vertical-align: top;\n",
       "    }\n",
       "\n",
       "    .dataframe thead th {\n",
       "        text-align: right;\n",
       "    }\n",
       "</style>\n",
       "<table border=\"1\" class=\"dataframe\">\n",
       "  <thead>\n",
       "    <tr style=\"text-align: right;\">\n",
       "      <th></th>\n",
       "      <th>UserID</th>\n",
       "      <th>MovieID</th>\n",
       "      <th>Rating</th>\n",
       "      <th>Datetime</th>\n",
       "      <th>Favorable</th>\n",
       "    </tr>\n",
       "  </thead>\n",
       "  <tbody>\n",
       "    <tr>\n",
       "      <th>12</th>\n",
       "      <td>200</td>\n",
       "      <td>222</td>\n",
       "      <td>5</td>\n",
       "      <td>1997-10-05 09:05:40</td>\n",
       "      <td>True</td>\n",
       "    </tr>\n",
       "    <tr>\n",
       "      <th>16</th>\n",
       "      <td>122</td>\n",
       "      <td>387</td>\n",
       "      <td>5</td>\n",
       "      <td>1997-11-11 17:47:39</td>\n",
       "      <td>True</td>\n",
       "    </tr>\n",
       "    <tr>\n",
       "      <th>20</th>\n",
       "      <td>119</td>\n",
       "      <td>392</td>\n",
       "      <td>4</td>\n",
       "      <td>1998-01-30 16:13:34</td>\n",
       "      <td>True</td>\n",
       "    </tr>\n",
       "    <tr>\n",
       "      <th>21</th>\n",
       "      <td>167</td>\n",
       "      <td>486</td>\n",
       "      <td>4</td>\n",
       "      <td>1998-04-16 14:54:12</td>\n",
       "      <td>True</td>\n",
       "    </tr>\n",
       "    <tr>\n",
       "      <th>26</th>\n",
       "      <td>38</td>\n",
       "      <td>95</td>\n",
       "      <td>5</td>\n",
       "      <td>1998-04-13 01:14:54</td>\n",
       "      <td>True</td>\n",
       "    </tr>\n",
       "  </tbody>\n",
       "</table>\n",
       "</div>"
      ],
      "text/plain": [
       "    UserID  MovieID  Rating            Datetime  Favorable\n",
       "12     200      222       5 1997-10-05 09:05:40       True\n",
       "16     122      387       5 1997-11-11 17:47:39       True\n",
       "20     119      392       4 1998-01-30 16:13:34       True\n",
       "21     167      486       4 1998-04-16 14:54:12       True\n",
       "26      38       95       5 1998-04-13 01:14:54       True"
      ]
     },
     "execution_count": 33,
     "metadata": {},
     "output_type": "execute_result"
    }
   ],
   "source": [
    "# We start by creating a dataset of each user's favourable reviews\n",
    "favorable_ratings = ratings[ratings[\"Favorable\"]]\n",
    "favorable_ratings[:5]"
   ]
  },
  {
   "cell_type": "code",
   "execution_count": 34,
   "metadata": {
    "ExecuteTime": {
     "end_time": "2019-04-15T02:36:06.377628Z",
     "start_time": "2019-04-15T02:36:06.252626Z"
    },
    "execution": {
     "iopub.execute_input": "2020-04-21T10:20:11.620972Z",
     "iopub.status.busy": "2020-04-21T10:20:11.619972Z",
     "iopub.status.idle": "2020-04-21T10:20:11.799870Z",
     "shell.execute_reply": "2020-04-21T10:20:11.798870Z",
     "shell.execute_reply.started": "2020-04-21T10:20:11.620972Z"
    }
   },
   "outputs": [
    {
     "data": {
      "text/plain": [
       "(11207, 5)"
      ]
     },
     "execution_count": 34,
     "metadata": {},
     "output_type": "execute_result"
    }
   ],
   "source": [
    "favorable_ratings.shape"
   ]
  },
  {
   "cell_type": "code",
   "execution_count": 35,
   "metadata": {
    "ExecuteTime": {
     "end_time": "2019-04-15T02:36:06.640422Z",
     "start_time": "2019-04-15T02:36:06.377628Z"
    },
    "execution": {
     "iopub.execute_input": "2020-04-21T10:20:11.802867Z",
     "iopub.status.busy": "2020-04-21T10:20:11.801868Z",
     "iopub.status.idle": "2020-04-21T10:20:12.062719Z",
     "shell.execute_reply": "2020-04-21T10:20:12.060720Z",
     "shell.execute_reply.started": "2020-04-21T10:20:11.802867Z"
    }
   },
   "outputs": [
    {
     "data": {
      "text/plain": [
       "frozenset({258,\n",
       "           269,\n",
       "           272,\n",
       "           294,\n",
       "           300,\n",
       "           302,\n",
       "           313,\n",
       "           315,\n",
       "           316,\n",
       "           328,\n",
       "           344,\n",
       "           347,\n",
       "           355,\n",
       "           690,\n",
       "           691,\n",
       "           750,\n",
       "           751,\n",
       "           752,\n",
       "           879,\n",
       "           898,\n",
       "           900,\n",
       "           1235})"
      ]
     },
     "execution_count": 35,
     "metadata": {},
     "output_type": "execute_result"
    }
   ],
   "source": [
    "favorable_reviews_by_users = dict((k, frozenset(v.values)) for k, v in favorable_ratings.groupby(\"UserID\")[\"MovieID\"])\n",
    "favorable_reviews_by_users[100]"
   ]
  },
  {
   "cell_type": "code",
   "execution_count": 36,
   "metadata": {
    "ExecuteTime": {
     "end_time": "2019-04-15T02:36:06.702904Z",
     "start_time": "2019-04-15T02:36:06.640422Z"
    },
    "execution": {
     "iopub.execute_input": "2020-04-21T10:20:12.065717Z",
     "iopub.status.busy": "2020-04-21T10:20:12.064718Z",
     "iopub.status.idle": "2020-04-21T10:20:12.204638Z",
     "shell.execute_reply": "2020-04-21T10:20:12.203639Z",
     "shell.execute_reply.started": "2020-04-21T10:20:12.065717Z"
    }
   },
   "outputs": [
    {
     "data": {
      "text/html": [
       "<div>\n",
       "<style scoped>\n",
       "    .dataframe tbody tr th:only-of-type {\n",
       "        vertical-align: middle;\n",
       "    }\n",
       "\n",
       "    .dataframe tbody tr th {\n",
       "        vertical-align: top;\n",
       "    }\n",
       "\n",
       "    .dataframe thead th {\n",
       "        text-align: right;\n",
       "    }\n",
       "</style>\n",
       "<table border=\"1\" class=\"dataframe\">\n",
       "  <thead>\n",
       "    <tr style=\"text-align: right;\">\n",
       "      <th></th>\n",
       "      <th>Favorable</th>\n",
       "    </tr>\n",
       "    <tr>\n",
       "      <th>MovieID</th>\n",
       "      <th></th>\n",
       "    </tr>\n",
       "  </thead>\n",
       "  <tbody>\n",
       "    <tr>\n",
       "      <th>50</th>\n",
       "      <td>101.0</td>\n",
       "    </tr>\n",
       "    <tr>\n",
       "      <th>100</th>\n",
       "      <td>89.0</td>\n",
       "    </tr>\n",
       "    <tr>\n",
       "      <th>258</th>\n",
       "      <td>84.0</td>\n",
       "    </tr>\n",
       "    <tr>\n",
       "      <th>181</th>\n",
       "      <td>79.0</td>\n",
       "    </tr>\n",
       "    <tr>\n",
       "      <th>174</th>\n",
       "      <td>75.0</td>\n",
       "    </tr>\n",
       "  </tbody>\n",
       "</table>\n",
       "</div>"
      ],
      "text/plain": [
       "         Favorable\n",
       "MovieID           \n",
       "50           101.0\n",
       "100           89.0\n",
       "258           84.0\n",
       "181           79.0\n",
       "174           75.0"
      ]
     },
     "execution_count": 36,
     "metadata": {},
     "output_type": "execute_result"
    }
   ],
   "source": [
    "num_favorable_by_movie = ratings[[\"MovieID\", \"Favorable\"]].groupby(\"MovieID\").sum()\n",
    "num_favorable_by_movie.sort_values(\"Favorable\", ascending=False)[:5]"
   ]
  },
  {
   "cell_type": "markdown",
   "metadata": {},
   "source": [
    "当然，我们现在能看到的只是MovieID，不像电影名称看起来那么直观，可以直接从u.item中获取相关信息，然后进行合并"
   ]
  },
  {
   "cell_type": "code",
   "execution_count": 37,
   "metadata": {
    "ExecuteTime": {
     "end_time": "2019-04-15T02:36:06.824783Z",
     "start_time": "2019-04-15T02:36:06.702904Z"
    },
    "execution": {
     "iopub.execute_input": "2020-04-21T10:20:12.209635Z",
     "iopub.status.busy": "2020-04-21T10:20:12.207636Z",
     "iopub.status.idle": "2020-04-21T10:20:12.444502Z",
     "shell.execute_reply": "2020-04-21T10:20:12.443515Z",
     "shell.execute_reply.started": "2020-04-21T10:20:12.208635Z"
    }
   },
   "outputs": [],
   "source": [
    "moive_info_columns = [\"MovieID\", \"Title\", 'release_date', 'video_release_date',\n",
    "                      'IMDb_URL', 'unknown', 'Action', 'Adventure', 'Animation',\n",
    "                      'Childrens', 'Comedy', 'Crime', 'Documentary', 'Drama', 'Fantasy',\n",
    "                      'Film_Noir', 'Horror', 'Musical', 'Mystery', 'Romance', 'Sci_Fi',\n",
    "                      'Thriller', 'War', 'Western']\n",
    "movie_info_filename = os.path.join(data_folder, \"u.item\")\n",
    "movie_info = pd.read_csv(movie_info_filename,\n",
    "                         delimiter=\"|\",\n",
    "                         header=None,\n",
    "                         names=moive_info_columns,\n",
    "                         encoding = \"mac-roman\")"
   ]
  },
  {
   "cell_type": "code",
   "execution_count": 38,
   "metadata": {
    "ExecuteTime": {
     "end_time": "2019-04-15T02:36:07.137340Z",
     "start_time": "2019-04-15T02:36:06.824783Z"
    },
    "execution": {
     "iopub.execute_input": "2020-04-21T10:20:12.447500Z",
     "iopub.status.busy": "2020-04-21T10:20:12.445500Z",
     "iopub.status.idle": "2020-04-21T10:20:12.557436Z",
     "shell.execute_reply": "2020-04-21T10:20:12.556437Z",
     "shell.execute_reply.started": "2020-04-21T10:20:12.447500Z"
    }
   },
   "outputs": [],
   "source": [
    "movie_info.to_csv(os.path.join(data_folder, \"u.item.csv\"))"
   ]
  },
  {
   "cell_type": "code",
   "execution_count": 39,
   "metadata": {
    "ExecuteTime": {
     "end_time": "2019-04-15T02:36:07.184098Z",
     "start_time": "2019-04-15T02:36:07.137340Z"
    },
    "execution": {
     "iopub.execute_input": "2020-04-21T10:20:12.559435Z",
     "iopub.status.busy": "2020-04-21T10:20:12.559435Z",
     "iopub.status.idle": "2020-04-21T10:20:12.688360Z",
     "shell.execute_reply": "2020-04-21T10:20:12.686361Z",
     "shell.execute_reply.started": "2020-04-21T10:20:12.559435Z"
    }
   },
   "outputs": [
    {
     "data": {
      "text/html": [
       "<div>\n",
       "<style scoped>\n",
       "    .dataframe tbody tr th:only-of-type {\n",
       "        vertical-align: middle;\n",
       "    }\n",
       "\n",
       "    .dataframe tbody tr th {\n",
       "        vertical-align: top;\n",
       "    }\n",
       "\n",
       "    .dataframe thead th {\n",
       "        text-align: right;\n",
       "    }\n",
       "</style>\n",
       "<table border=\"1\" class=\"dataframe\">\n",
       "  <thead>\n",
       "    <tr style=\"text-align: right;\">\n",
       "      <th></th>\n",
       "      <th>MovieID</th>\n",
       "      <th>Title</th>\n",
       "      <th>release_date</th>\n",
       "      <th>video_release_date</th>\n",
       "      <th>IMDb_URL</th>\n",
       "      <th>unknown</th>\n",
       "      <th>Action</th>\n",
       "      <th>Adventure</th>\n",
       "      <th>Animation</th>\n",
       "      <th>Childrens</th>\n",
       "      <th>...</th>\n",
       "      <th>Fantasy</th>\n",
       "      <th>Film_Noir</th>\n",
       "      <th>Horror</th>\n",
       "      <th>Musical</th>\n",
       "      <th>Mystery</th>\n",
       "      <th>Romance</th>\n",
       "      <th>Sci_Fi</th>\n",
       "      <th>Thriller</th>\n",
       "      <th>War</th>\n",
       "      <th>Western</th>\n",
       "    </tr>\n",
       "  </thead>\n",
       "  <tbody>\n",
       "    <tr>\n",
       "      <th>0</th>\n",
       "      <td>1</td>\n",
       "      <td>Toy Story (1995)</td>\n",
       "      <td>01-Jan-1995</td>\n",
       "      <td>NaN</td>\n",
       "      <td>http://us.imdb.com/M/title-exact?Toy%20Story%2...</td>\n",
       "      <td>0</td>\n",
       "      <td>0</td>\n",
       "      <td>0</td>\n",
       "      <td>1</td>\n",
       "      <td>1</td>\n",
       "      <td>...</td>\n",
       "      <td>0</td>\n",
       "      <td>0</td>\n",
       "      <td>0</td>\n",
       "      <td>0</td>\n",
       "      <td>0</td>\n",
       "      <td>0</td>\n",
       "      <td>0</td>\n",
       "      <td>0</td>\n",
       "      <td>0</td>\n",
       "      <td>0</td>\n",
       "    </tr>\n",
       "    <tr>\n",
       "      <th>1</th>\n",
       "      <td>2</td>\n",
       "      <td>GoldenEye (1995)</td>\n",
       "      <td>01-Jan-1995</td>\n",
       "      <td>NaN</td>\n",
       "      <td>http://us.imdb.com/M/title-exact?GoldenEye%20(...</td>\n",
       "      <td>0</td>\n",
       "      <td>1</td>\n",
       "      <td>1</td>\n",
       "      <td>0</td>\n",
       "      <td>0</td>\n",
       "      <td>...</td>\n",
       "      <td>0</td>\n",
       "      <td>0</td>\n",
       "      <td>0</td>\n",
       "      <td>0</td>\n",
       "      <td>0</td>\n",
       "      <td>0</td>\n",
       "      <td>0</td>\n",
       "      <td>1</td>\n",
       "      <td>0</td>\n",
       "      <td>0</td>\n",
       "    </tr>\n",
       "    <tr>\n",
       "      <th>2</th>\n",
       "      <td>3</td>\n",
       "      <td>Four Rooms (1995)</td>\n",
       "      <td>01-Jan-1995</td>\n",
       "      <td>NaN</td>\n",
       "      <td>http://us.imdb.com/M/title-exact?Four%20Rooms%...</td>\n",
       "      <td>0</td>\n",
       "      <td>0</td>\n",
       "      <td>0</td>\n",
       "      <td>0</td>\n",
       "      <td>0</td>\n",
       "      <td>...</td>\n",
       "      <td>0</td>\n",
       "      <td>0</td>\n",
       "      <td>0</td>\n",
       "      <td>0</td>\n",
       "      <td>0</td>\n",
       "      <td>0</td>\n",
       "      <td>0</td>\n",
       "      <td>1</td>\n",
       "      <td>0</td>\n",
       "      <td>0</td>\n",
       "    </tr>\n",
       "    <tr>\n",
       "      <th>3</th>\n",
       "      <td>4</td>\n",
       "      <td>Get Shorty (1995)</td>\n",
       "      <td>01-Jan-1995</td>\n",
       "      <td>NaN</td>\n",
       "      <td>http://us.imdb.com/M/title-exact?Get%20Shorty%...</td>\n",
       "      <td>0</td>\n",
       "      <td>1</td>\n",
       "      <td>0</td>\n",
       "      <td>0</td>\n",
       "      <td>0</td>\n",
       "      <td>...</td>\n",
       "      <td>0</td>\n",
       "      <td>0</td>\n",
       "      <td>0</td>\n",
       "      <td>0</td>\n",
       "      <td>0</td>\n",
       "      <td>0</td>\n",
       "      <td>0</td>\n",
       "      <td>0</td>\n",
       "      <td>0</td>\n",
       "      <td>0</td>\n",
       "    </tr>\n",
       "    <tr>\n",
       "      <th>4</th>\n",
       "      <td>5</td>\n",
       "      <td>Copycat (1995)</td>\n",
       "      <td>01-Jan-1995</td>\n",
       "      <td>NaN</td>\n",
       "      <td>http://us.imdb.com/M/title-exact?Copycat%20(1995)</td>\n",
       "      <td>0</td>\n",
       "      <td>0</td>\n",
       "      <td>0</td>\n",
       "      <td>0</td>\n",
       "      <td>0</td>\n",
       "      <td>...</td>\n",
       "      <td>0</td>\n",
       "      <td>0</td>\n",
       "      <td>0</td>\n",
       "      <td>0</td>\n",
       "      <td>0</td>\n",
       "      <td>0</td>\n",
       "      <td>0</td>\n",
       "      <td>1</td>\n",
       "      <td>0</td>\n",
       "      <td>0</td>\n",
       "    </tr>\n",
       "    <tr>\n",
       "      <th>5</th>\n",
       "      <td>6</td>\n",
       "      <td>Shanghai Triad (Yao a yao yao dao waipo qiao) ...</td>\n",
       "      <td>01-Jan-1995</td>\n",
       "      <td>NaN</td>\n",
       "      <td>http://us.imdb.com/Title?Yao+a+yao+yao+dao+wai...</td>\n",
       "      <td>0</td>\n",
       "      <td>0</td>\n",
       "      <td>0</td>\n",
       "      <td>0</td>\n",
       "      <td>0</td>\n",
       "      <td>...</td>\n",
       "      <td>0</td>\n",
       "      <td>0</td>\n",
       "      <td>0</td>\n",
       "      <td>0</td>\n",
       "      <td>0</td>\n",
       "      <td>0</td>\n",
       "      <td>0</td>\n",
       "      <td>0</td>\n",
       "      <td>0</td>\n",
       "      <td>0</td>\n",
       "    </tr>\n",
       "    <tr>\n",
       "      <th>6</th>\n",
       "      <td>7</td>\n",
       "      <td>Twelve Monkeys (1995)</td>\n",
       "      <td>01-Jan-1995</td>\n",
       "      <td>NaN</td>\n",
       "      <td>http://us.imdb.com/M/title-exact?Twelve%20Monk...</td>\n",
       "      <td>0</td>\n",
       "      <td>0</td>\n",
       "      <td>0</td>\n",
       "      <td>0</td>\n",
       "      <td>0</td>\n",
       "      <td>...</td>\n",
       "      <td>0</td>\n",
       "      <td>0</td>\n",
       "      <td>0</td>\n",
       "      <td>0</td>\n",
       "      <td>0</td>\n",
       "      <td>0</td>\n",
       "      <td>1</td>\n",
       "      <td>0</td>\n",
       "      <td>0</td>\n",
       "      <td>0</td>\n",
       "    </tr>\n",
       "    <tr>\n",
       "      <th>7</th>\n",
       "      <td>8</td>\n",
       "      <td>Babe (1995)</td>\n",
       "      <td>01-Jan-1995</td>\n",
       "      <td>NaN</td>\n",
       "      <td>http://us.imdb.com/M/title-exact?Babe%20(1995)</td>\n",
       "      <td>0</td>\n",
       "      <td>0</td>\n",
       "      <td>0</td>\n",
       "      <td>0</td>\n",
       "      <td>1</td>\n",
       "      <td>...</td>\n",
       "      <td>0</td>\n",
       "      <td>0</td>\n",
       "      <td>0</td>\n",
       "      <td>0</td>\n",
       "      <td>0</td>\n",
       "      <td>0</td>\n",
       "      <td>0</td>\n",
       "      <td>0</td>\n",
       "      <td>0</td>\n",
       "      <td>0</td>\n",
       "    </tr>\n",
       "    <tr>\n",
       "      <th>8</th>\n",
       "      <td>9</td>\n",
       "      <td>Dead Man Walking (1995)</td>\n",
       "      <td>01-Jan-1995</td>\n",
       "      <td>NaN</td>\n",
       "      <td>http://us.imdb.com/M/title-exact?Dead%20Man%20...</td>\n",
       "      <td>0</td>\n",
       "      <td>0</td>\n",
       "      <td>0</td>\n",
       "      <td>0</td>\n",
       "      <td>0</td>\n",
       "      <td>...</td>\n",
       "      <td>0</td>\n",
       "      <td>0</td>\n",
       "      <td>0</td>\n",
       "      <td>0</td>\n",
       "      <td>0</td>\n",
       "      <td>0</td>\n",
       "      <td>0</td>\n",
       "      <td>0</td>\n",
       "      <td>0</td>\n",
       "      <td>0</td>\n",
       "    </tr>\n",
       "    <tr>\n",
       "      <th>9</th>\n",
       "      <td>10</td>\n",
       "      <td>Richard III (1995)</td>\n",
       "      <td>22-Jan-1996</td>\n",
       "      <td>NaN</td>\n",
       "      <td>http://us.imdb.com/M/title-exact?Richard%20III...</td>\n",
       "      <td>0</td>\n",
       "      <td>0</td>\n",
       "      <td>0</td>\n",
       "      <td>0</td>\n",
       "      <td>0</td>\n",
       "      <td>...</td>\n",
       "      <td>0</td>\n",
       "      <td>0</td>\n",
       "      <td>0</td>\n",
       "      <td>0</td>\n",
       "      <td>0</td>\n",
       "      <td>0</td>\n",
       "      <td>0</td>\n",
       "      <td>0</td>\n",
       "      <td>1</td>\n",
       "      <td>0</td>\n",
       "    </tr>\n",
       "  </tbody>\n",
       "</table>\n",
       "<p>10 rows × 24 columns</p>\n",
       "</div>"
      ],
      "text/plain": [
       "   MovieID                                              Title release_date  \\\n",
       "0        1                                   Toy Story (1995)  01-Jan-1995   \n",
       "1        2                                   GoldenEye (1995)  01-Jan-1995   \n",
       "2        3                                  Four Rooms (1995)  01-Jan-1995   \n",
       "3        4                                  Get Shorty (1995)  01-Jan-1995   \n",
       "4        5                                     Copycat (1995)  01-Jan-1995   \n",
       "5        6  Shanghai Triad (Yao a yao yao dao waipo qiao) ...  01-Jan-1995   \n",
       "6        7                              Twelve Monkeys (1995)  01-Jan-1995   \n",
       "7        8                                        Babe (1995)  01-Jan-1995   \n",
       "8        9                            Dead Man Walking (1995)  01-Jan-1995   \n",
       "9       10                                 Richard III (1995)  22-Jan-1996   \n",
       "\n",
       "   video_release_date                                           IMDb_URL  \\\n",
       "0                 NaN  http://us.imdb.com/M/title-exact?Toy%20Story%2...   \n",
       "1                 NaN  http://us.imdb.com/M/title-exact?GoldenEye%20(...   \n",
       "2                 NaN  http://us.imdb.com/M/title-exact?Four%20Rooms%...   \n",
       "3                 NaN  http://us.imdb.com/M/title-exact?Get%20Shorty%...   \n",
       "4                 NaN  http://us.imdb.com/M/title-exact?Copycat%20(1995)   \n",
       "5                 NaN  http://us.imdb.com/Title?Yao+a+yao+yao+dao+wai...   \n",
       "6                 NaN  http://us.imdb.com/M/title-exact?Twelve%20Monk...   \n",
       "7                 NaN     http://us.imdb.com/M/title-exact?Babe%20(1995)   \n",
       "8                 NaN  http://us.imdb.com/M/title-exact?Dead%20Man%20...   \n",
       "9                 NaN  http://us.imdb.com/M/title-exact?Richard%20III...   \n",
       "\n",
       "   unknown  Action  Adventure  Animation  Childrens  ...  Fantasy  Film_Noir  \\\n",
       "0        0       0          0          1          1  ...        0          0   \n",
       "1        0       1          1          0          0  ...        0          0   \n",
       "2        0       0          0          0          0  ...        0          0   \n",
       "3        0       1          0          0          0  ...        0          0   \n",
       "4        0       0          0          0          0  ...        0          0   \n",
       "5        0       0          0          0          0  ...        0          0   \n",
       "6        0       0          0          0          0  ...        0          0   \n",
       "7        0       0          0          0          1  ...        0          0   \n",
       "8        0       0          0          0          0  ...        0          0   \n",
       "9        0       0          0          0          0  ...        0          0   \n",
       "\n",
       "   Horror  Musical  Mystery  Romance  Sci_Fi  Thriller  War  Western  \n",
       "0       0        0        0        0       0         0    0        0  \n",
       "1       0        0        0        0       0         1    0        0  \n",
       "2       0        0        0        0       0         1    0        0  \n",
       "3       0        0        0        0       0         0    0        0  \n",
       "4       0        0        0        0       0         1    0        0  \n",
       "5       0        0        0        0       0         0    0        0  \n",
       "6       0        0        0        0       1         0    0        0  \n",
       "7       0        0        0        0       0         0    0        0  \n",
       "8       0        0        0        0       0         0    0        0  \n",
       "9       0        0        0        0       0         0    1        0  \n",
       "\n",
       "[10 rows x 24 columns]"
      ]
     },
     "execution_count": 39,
     "metadata": {},
     "output_type": "execute_result"
    }
   ],
   "source": [
    "movie_info.head(n=10)"
   ]
  },
  {
   "cell_type": "markdown",
   "metadata": {},
   "source": [
    "从unkonw开始直到最后一列，均是指电影的类型。我们需要用到的，只有MovieID和Title两列。以下是具体合并代码："
   ]
  },
  {
   "cell_type": "code",
   "execution_count": 40,
   "metadata": {
    "ExecuteTime": {
     "end_time": "2019-04-15T02:36:07.311831Z",
     "start_time": "2019-04-15T02:36:07.184098Z"
    },
    "execution": {
     "iopub.execute_input": "2020-04-21T10:20:12.695357Z",
     "iopub.status.busy": "2020-04-21T10:20:12.694357Z",
     "iopub.status.idle": "2020-04-21T10:20:12.981193Z",
     "shell.execute_reply": "2020-04-21T10:20:12.980213Z",
     "shell.execute_reply.started": "2020-04-21T10:20:12.695357Z"
    }
   },
   "outputs": [],
   "source": [
    "ratings = pd.merge(ratings[['UserID', 'MovieID', 'Rating', 'Favorable']],\n",
    "                   movie_info[['MovieID', 'Title']])"
   ]
  },
  {
   "cell_type": "code",
   "execution_count": 41,
   "metadata": {
    "execution": {
     "iopub.execute_input": "2020-04-21T10:20:12.983192Z",
     "iopub.status.busy": "2020-04-21T10:20:12.983192Z",
     "iopub.status.idle": "2020-04-21T10:20:13.236047Z",
     "shell.execute_reply": "2020-04-21T10:20:13.233050Z",
     "shell.execute_reply.started": "2020-04-21T10:20:12.983192Z"
    }
   },
   "outputs": [
    {
     "data": {
      "text/html": [
       "<div>\n",
       "<style scoped>\n",
       "    .dataframe tbody tr th:only-of-type {\n",
       "        vertical-align: middle;\n",
       "    }\n",
       "\n",
       "    .dataframe tbody tr th {\n",
       "        vertical-align: top;\n",
       "    }\n",
       "\n",
       "    .dataframe thead th {\n",
       "        text-align: right;\n",
       "    }\n",
       "</style>\n",
       "<table border=\"1\" class=\"dataframe\">\n",
       "  <thead>\n",
       "    <tr style=\"text-align: right;\">\n",
       "      <th></th>\n",
       "      <th>UserID</th>\n",
       "      <th>MovieID</th>\n",
       "      <th>Rating</th>\n",
       "      <th>Favorable</th>\n",
       "      <th>Title</th>\n",
       "    </tr>\n",
       "  </thead>\n",
       "  <tbody>\n",
       "    <tr>\n",
       "      <th>0</th>\n",
       "      <td>196</td>\n",
       "      <td>242</td>\n",
       "      <td>3</td>\n",
       "      <td>False</td>\n",
       "      <td>Kolya (1996)</td>\n",
       "    </tr>\n",
       "    <tr>\n",
       "      <th>1</th>\n",
       "      <td>63</td>\n",
       "      <td>242</td>\n",
       "      <td>3</td>\n",
       "      <td>False</td>\n",
       "      <td>Kolya (1996)</td>\n",
       "    </tr>\n",
       "    <tr>\n",
       "      <th>2</th>\n",
       "      <td>154</td>\n",
       "      <td>242</td>\n",
       "      <td>3</td>\n",
       "      <td>False</td>\n",
       "      <td>Kolya (1996)</td>\n",
       "    </tr>\n",
       "    <tr>\n",
       "      <th>3</th>\n",
       "      <td>34</td>\n",
       "      <td>242</td>\n",
       "      <td>5</td>\n",
       "      <td>True</td>\n",
       "      <td>Kolya (1996)</td>\n",
       "    </tr>\n",
       "    <tr>\n",
       "      <th>4</th>\n",
       "      <td>35</td>\n",
       "      <td>242</td>\n",
       "      <td>2</td>\n",
       "      <td>False</td>\n",
       "      <td>Kolya (1996)</td>\n",
       "    </tr>\n",
       "  </tbody>\n",
       "</table>\n",
       "</div>"
      ],
      "text/plain": [
       "   UserID  MovieID  Rating  Favorable         Title\n",
       "0     196      242       3      False  Kolya (1996)\n",
       "1      63      242       3      False  Kolya (1996)\n",
       "2     154      242       3      False  Kolya (1996)\n",
       "3      34      242       5       True  Kolya (1996)\n",
       "4      35      242       2      False  Kolya (1996)"
      ]
     },
     "execution_count": 41,
     "metadata": {},
     "output_type": "execute_result"
    }
   ],
   "source": [
    "ratings.head()"
   ]
  },
  {
   "cell_type": "code",
   "execution_count": 42,
   "metadata": {
    "ExecuteTime": {
     "end_time": "2019-04-15T02:36:07.946046Z",
     "start_time": "2019-04-15T02:36:07.311831Z"
    },
    "execution": {
     "iopub.execute_input": "2020-04-21T10:20:13.245043Z",
     "iopub.status.busy": "2020-04-21T10:20:13.242045Z",
     "iopub.status.idle": "2020-04-21T10:20:13.563859Z",
     "shell.execute_reply": "2020-04-21T10:20:13.562860Z",
     "shell.execute_reply.started": "2020-04-21T10:20:13.245043Z"
    }
   },
   "outputs": [],
   "source": [
    "ratings.to_csv(os.path.join(data_folder, \"u.data.item.csv\"))"
   ]
  },
  {
   "cell_type": "markdown",
   "metadata": {},
   "source": [
    "接下来，新建一个数据集，只包括用户喜欢某部电影的数据行。"
   ]
  },
  {
   "cell_type": "code",
   "execution_count": 43,
   "metadata": {
    "ExecuteTime": {
     "end_time": "2019-04-15T02:36:07.977292Z",
     "start_time": "2019-04-15T02:36:07.946046Z"
    },
    "execution": {
     "iopub.execute_input": "2020-04-21T10:20:13.565859Z",
     "iopub.status.busy": "2020-04-21T10:20:13.564859Z",
     "iopub.status.idle": "2020-04-21T10:20:13.712777Z",
     "shell.execute_reply": "2020-04-21T10:20:13.711778Z",
     "shell.execute_reply.started": "2020-04-21T10:20:13.565859Z"
    }
   },
   "outputs": [
    {
     "data": {
      "text/html": [
       "<div>\n",
       "<style scoped>\n",
       "    .dataframe tbody tr th:only-of-type {\n",
       "        vertical-align: middle;\n",
       "    }\n",
       "\n",
       "    .dataframe tbody tr th {\n",
       "        vertical-align: top;\n",
       "    }\n",
       "\n",
       "    .dataframe thead th {\n",
       "        text-align: right;\n",
       "    }\n",
       "</style>\n",
       "<table border=\"1\" class=\"dataframe\">\n",
       "  <thead>\n",
       "    <tr style=\"text-align: right;\">\n",
       "      <th></th>\n",
       "      <th>UserID</th>\n",
       "      <th>MovieID</th>\n",
       "      <th>Rating</th>\n",
       "      <th>Favorable</th>\n",
       "      <th>Title</th>\n",
       "    </tr>\n",
       "  </thead>\n",
       "  <tbody>\n",
       "    <tr>\n",
       "      <th>3</th>\n",
       "      <td>34</td>\n",
       "      <td>242</td>\n",
       "      <td>5</td>\n",
       "      <td>True</td>\n",
       "      <td>Kolya (1996)</td>\n",
       "    </tr>\n",
       "    <tr>\n",
       "      <th>5</th>\n",
       "      <td>199</td>\n",
       "      <td>242</td>\n",
       "      <td>5</td>\n",
       "      <td>True</td>\n",
       "      <td>Kolya (1996)</td>\n",
       "    </tr>\n",
       "    <tr>\n",
       "      <th>7</th>\n",
       "      <td>1</td>\n",
       "      <td>242</td>\n",
       "      <td>5</td>\n",
       "      <td>True</td>\n",
       "      <td>Kolya (1996)</td>\n",
       "    </tr>\n",
       "    <tr>\n",
       "      <th>8</th>\n",
       "      <td>173</td>\n",
       "      <td>242</td>\n",
       "      <td>5</td>\n",
       "      <td>True</td>\n",
       "      <td>Kolya (1996)</td>\n",
       "    </tr>\n",
       "    <tr>\n",
       "      <th>9</th>\n",
       "      <td>14</td>\n",
       "      <td>242</td>\n",
       "      <td>4</td>\n",
       "      <td>True</td>\n",
       "      <td>Kolya (1996)</td>\n",
       "    </tr>\n",
       "  </tbody>\n",
       "</table>\n",
       "</div>"
      ],
      "text/plain": [
       "   UserID  MovieID  Rating  Favorable         Title\n",
       "3      34      242       5       True  Kolya (1996)\n",
       "5     199      242       5       True  Kolya (1996)\n",
       "7       1      242       5       True  Kolya (1996)\n",
       "8     173      242       5       True  Kolya (1996)\n",
       "9      14      242       4       True  Kolya (1996)"
      ]
     },
     "execution_count": 43,
     "metadata": {},
     "output_type": "execute_result"
    }
   ],
   "source": [
    "favorable_ratings = ratings[ratings[\"Favorable\"]]\n",
    "favorable_ratings[:5]"
   ]
  },
  {
   "cell_type": "markdown",
   "metadata": {},
   "source": [
    "我们可以创建一个数据框，以便了解每部电影的影迷数量。"
   ]
  },
  {
   "cell_type": "code",
   "execution_count": 44,
   "metadata": {
    "ExecuteTime": {
     "end_time": "2019-04-15T02:36:08.149156Z",
     "start_time": "2019-04-15T02:36:07.977292Z"
    },
    "execution": {
     "iopub.execute_input": "2020-04-21T10:20:13.716773Z",
     "iopub.status.busy": "2020-04-21T10:20:13.715773Z",
     "iopub.status.idle": "2020-04-21T10:20:13.924654Z",
     "shell.execute_reply": "2020-04-21T10:20:13.922657Z",
     "shell.execute_reply.started": "2020-04-21T10:20:13.716773Z"
    }
   },
   "outputs": [
    {
     "data": {
      "text/html": [
       "<div>\n",
       "<style scoped>\n",
       "    .dataframe tbody tr th:only-of-type {\n",
       "        vertical-align: middle;\n",
       "    }\n",
       "\n",
       "    .dataframe tbody tr th {\n",
       "        vertical-align: top;\n",
       "    }\n",
       "\n",
       "    .dataframe thead th {\n",
       "        text-align: right;\n",
       "    }\n",
       "</style>\n",
       "<table border=\"1\" class=\"dataframe\">\n",
       "  <thead>\n",
       "    <tr style=\"text-align: right;\">\n",
       "      <th></th>\n",
       "      <th>Favorable</th>\n",
       "    </tr>\n",
       "    <tr>\n",
       "      <th>Title</th>\n",
       "      <th></th>\n",
       "    </tr>\n",
       "  </thead>\n",
       "  <tbody>\n",
       "    <tr>\n",
       "      <th>Star Wars (1977)</th>\n",
       "      <td>101.0</td>\n",
       "    </tr>\n",
       "    <tr>\n",
       "      <th>Fargo (1996)</th>\n",
       "      <td>89.0</td>\n",
       "    </tr>\n",
       "    <tr>\n",
       "      <th>Contact (1997)</th>\n",
       "      <td>84.0</td>\n",
       "    </tr>\n",
       "    <tr>\n",
       "      <th>Return of the Jedi (1983)</th>\n",
       "      <td>79.0</td>\n",
       "    </tr>\n",
       "    <tr>\n",
       "      <th>Raiders of the Lost Ark (1981)</th>\n",
       "      <td>75.0</td>\n",
       "    </tr>\n",
       "    <tr>\n",
       "      <th>Silence of the Lambs, The (1991)</th>\n",
       "      <td>71.0</td>\n",
       "    </tr>\n",
       "  </tbody>\n",
       "</table>\n",
       "</div>"
      ],
      "text/plain": [
       "                                  Favorable\n",
       "Title                                      \n",
       "Star Wars (1977)                      101.0\n",
       "Fargo (1996)                           89.0\n",
       "Contact (1997)                         84.0\n",
       "Return of the Jedi (1983)              79.0\n",
       "Raiders of the Lost Ark (1981)         75.0\n",
       "Silence of the Lambs, The (1991)       71.0"
      ]
     },
     "execution_count": 44,
     "metadata": {},
     "output_type": "execute_result"
    }
   ],
   "source": [
    "num_favorable_by_movie = ratings[[\"Title\", \"Favorable\"]].groupby(\"Title\").sum()\n",
    "num_favorable_by_movie.sort_values(\"Favorable\", ascending=False)[:6]"
   ]
  },
  {
   "cell_type": "code",
   "execution_count": 45,
   "metadata": {
    "execution": {
     "iopub.execute_input": "2020-04-21T10:20:13.926654Z",
     "iopub.status.busy": "2020-04-21T10:20:13.926654Z",
     "iopub.status.idle": "2020-04-21T10:20:14.080565Z",
     "shell.execute_reply": "2020-04-21T10:20:14.078566Z",
     "shell.execute_reply.started": "2020-04-21T10:20:13.926654Z"
    }
   },
   "outputs": [
    {
     "data": {
      "text/html": [
       "<div>\n",
       "<style scoped>\n",
       "    .dataframe tbody tr th:only-of-type {\n",
       "        vertical-align: middle;\n",
       "    }\n",
       "\n",
       "    .dataframe tbody tr th {\n",
       "        vertical-align: top;\n",
       "    }\n",
       "\n",
       "    .dataframe thead th {\n",
       "        text-align: right;\n",
       "    }\n",
       "</style>\n",
       "<table border=\"1\" class=\"dataframe\">\n",
       "  <thead>\n",
       "    <tr style=\"text-align: right;\">\n",
       "      <th></th>\n",
       "      <th>UserID</th>\n",
       "      <th>MovieID</th>\n",
       "      <th>Rating</th>\n",
       "      <th>Favorable</th>\n",
       "      <th>Title</th>\n",
       "    </tr>\n",
       "  </thead>\n",
       "  <tbody>\n",
       "    <tr>\n",
       "      <th>9642</th>\n",
       "      <td>69</td>\n",
       "      <td>129</td>\n",
       "      <td>3</td>\n",
       "      <td>False</td>\n",
       "      <td>Bound (1996)</td>\n",
       "    </tr>\n",
       "    <tr>\n",
       "      <th>6512</th>\n",
       "      <td>59</td>\n",
       "      <td>431</td>\n",
       "      <td>4</td>\n",
       "      <td>True</td>\n",
       "      <td>Highlander (1986)</td>\n",
       "    </tr>\n",
       "    <tr>\n",
       "      <th>6493</th>\n",
       "      <td>14</td>\n",
       "      <td>430</td>\n",
       "      <td>5</td>\n",
       "      <td>True</td>\n",
       "      <td>Duck Soup (1933)</td>\n",
       "    </tr>\n",
       "    <tr>\n",
       "      <th>8021</th>\n",
       "      <td>141</td>\n",
       "      <td>100</td>\n",
       "      <td>4</td>\n",
       "      <td>True</td>\n",
       "      <td>Fargo (1996)</td>\n",
       "    </tr>\n",
       "    <tr>\n",
       "      <th>1292</th>\n",
       "      <td>198</td>\n",
       "      <td>248</td>\n",
       "      <td>3</td>\n",
       "      <td>False</td>\n",
       "      <td>Grosse Pointe Blank (1997)</td>\n",
       "    </tr>\n",
       "    <tr>\n",
       "      <th>11140</th>\n",
       "      <td>8</td>\n",
       "      <td>685</td>\n",
       "      <td>4</td>\n",
       "      <td>True</td>\n",
       "      <td>Executive Decision (1996)</td>\n",
       "    </tr>\n",
       "    <tr>\n",
       "      <th>9080</th>\n",
       "      <td>174</td>\n",
       "      <td>70</td>\n",
       "      <td>5</td>\n",
       "      <td>True</td>\n",
       "      <td>Four Weddings and a Funeral (1994)</td>\n",
       "    </tr>\n",
       "    <tr>\n",
       "      <th>11486</th>\n",
       "      <td>92</td>\n",
       "      <td>1033</td>\n",
       "      <td>2</td>\n",
       "      <td>False</td>\n",
       "      <td>Homeward Bound II: Lost in San Francisco (1996)</td>\n",
       "    </tr>\n",
       "    <tr>\n",
       "      <th>11226</th>\n",
       "      <td>195</td>\n",
       "      <td>496</td>\n",
       "      <td>4</td>\n",
       "      <td>True</td>\n",
       "      <td>It's a Wonderful Life (1946)</td>\n",
       "    </tr>\n",
       "    <tr>\n",
       "      <th>6951</th>\n",
       "      <td>69</td>\n",
       "      <td>109</td>\n",
       "      <td>3</td>\n",
       "      <td>False</td>\n",
       "      <td>Mystery Science Theater 3000: The Movie (1996)</td>\n",
       "    </tr>\n",
       "    <tr>\n",
       "      <th>9520</th>\n",
       "      <td>117</td>\n",
       "      <td>143</td>\n",
       "      <td>1</td>\n",
       "      <td>False</td>\n",
       "      <td>Sound of Music, The (1965)</td>\n",
       "    </tr>\n",
       "    <tr>\n",
       "      <th>16182</th>\n",
       "      <td>7</td>\n",
       "      <td>489</td>\n",
       "      <td>3</td>\n",
       "      <td>False</td>\n",
       "      <td>Notorious (1946)</td>\n",
       "    </tr>\n",
       "    <tr>\n",
       "      <th>15185</th>\n",
       "      <td>56</td>\n",
       "      <td>73</td>\n",
       "      <td>4</td>\n",
       "      <td>True</td>\n",
       "      <td>Maverick (1994)</td>\n",
       "    </tr>\n",
       "    <tr>\n",
       "      <th>14237</th>\n",
       "      <td>136</td>\n",
       "      <td>525</td>\n",
       "      <td>5</td>\n",
       "      <td>True</td>\n",
       "      <td>Big Sleep, The (1946)</td>\n",
       "    </tr>\n",
       "    <tr>\n",
       "      <th>1839</th>\n",
       "      <td>152</td>\n",
       "      <td>294</td>\n",
       "      <td>4</td>\n",
       "      <td>True</td>\n",
       "      <td>Liar Liar (1997)</td>\n",
       "    </tr>\n",
       "    <tr>\n",
       "      <th>17906</th>\n",
       "      <td>43</td>\n",
       "      <td>724</td>\n",
       "      <td>4</td>\n",
       "      <td>True</td>\n",
       "      <td>Circle of Friends (1995)</td>\n",
       "    </tr>\n",
       "    <tr>\n",
       "      <th>16704</th>\n",
       "      <td>94</td>\n",
       "      <td>41</td>\n",
       "      <td>3</td>\n",
       "      <td>False</td>\n",
       "      <td>Billy Madison (1995)</td>\n",
       "    </tr>\n",
       "    <tr>\n",
       "      <th>9265</th>\n",
       "      <td>198</td>\n",
       "      <td>474</td>\n",
       "      <td>5</td>\n",
       "      <td>True</td>\n",
       "      <td>Dr. Strangelove or: How I Learned to Stop Worr...</td>\n",
       "    </tr>\n",
       "    <tr>\n",
       "      <th>8280</th>\n",
       "      <td>59</td>\n",
       "      <td>367</td>\n",
       "      <td>4</td>\n",
       "      <td>True</td>\n",
       "      <td>Clueless (1995)</td>\n",
       "    </tr>\n",
       "    <tr>\n",
       "      <th>9434</th>\n",
       "      <td>40</td>\n",
       "      <td>269</td>\n",
       "      <td>1</td>\n",
       "      <td>False</td>\n",
       "      <td>Full Monty, The (1997)</td>\n",
       "    </tr>\n",
       "  </tbody>\n",
       "</table>\n",
       "</div>"
      ],
      "text/plain": [
       "       UserID  MovieID  Rating  Favorable  \\\n",
       "9642       69      129       3      False   \n",
       "6512       59      431       4       True   \n",
       "6493       14      430       5       True   \n",
       "8021      141      100       4       True   \n",
       "1292      198      248       3      False   \n",
       "11140       8      685       4       True   \n",
       "9080      174       70       5       True   \n",
       "11486      92     1033       2      False   \n",
       "11226     195      496       4       True   \n",
       "6951       69      109       3      False   \n",
       "9520      117      143       1      False   \n",
       "16182       7      489       3      False   \n",
       "15185      56       73       4       True   \n",
       "14237     136      525       5       True   \n",
       "1839      152      294       4       True   \n",
       "17906      43      724       4       True   \n",
       "16704      94       41       3      False   \n",
       "9265      198      474       5       True   \n",
       "8280       59      367       4       True   \n",
       "9434       40      269       1      False   \n",
       "\n",
       "                                                   Title  \n",
       "9642                                        Bound (1996)  \n",
       "6512                                   Highlander (1986)  \n",
       "6493                                    Duck Soup (1933)  \n",
       "8021                                        Fargo (1996)  \n",
       "1292                          Grosse Pointe Blank (1997)  \n",
       "11140                          Executive Decision (1996)  \n",
       "9080                  Four Weddings and a Funeral (1994)  \n",
       "11486    Homeward Bound II: Lost in San Francisco (1996)  \n",
       "11226                       It's a Wonderful Life (1946)  \n",
       "6951      Mystery Science Theater 3000: The Movie (1996)  \n",
       "9520                          Sound of Music, The (1965)  \n",
       "16182                                   Notorious (1946)  \n",
       "15185                                    Maverick (1994)  \n",
       "14237                              Big Sleep, The (1946)  \n",
       "1839                                    Liar Liar (1997)  \n",
       "17906                           Circle of Friends (1995)  \n",
       "16704                               Billy Madison (1995)  \n",
       "9265   Dr. Strangelove or: How I Learned to Stop Worr...  \n",
       "8280                                     Clueless (1995)  \n",
       "9434                              Full Monty, The (1997)  "
      ]
     },
     "execution_count": 45,
     "metadata": {},
     "output_type": "execute_result"
    }
   ],
   "source": [
    "ratings.sample(20)"
   ]
  },
  {
   "cell_type": "markdown",
   "metadata": {},
   "source": [
    "通过图形展示，更加直观一点："
   ]
  },
  {
   "cell_type": "code",
   "execution_count": 46,
   "metadata": {
    "execution": {
     "iopub.execute_input": "2020-04-21T10:20:14.083563Z",
     "iopub.status.busy": "2020-04-21T10:20:14.082564Z",
     "iopub.status.idle": "2020-04-21T10:20:14.314432Z",
     "shell.execute_reply": "2020-04-21T10:20:14.313430Z",
     "shell.execute_reply.started": "2020-04-21T10:20:14.083563Z"
    }
   },
   "outputs": [],
   "source": [
    "import matplotlib.pyplot as plt\n",
    "import numpy as np\n",
    "%matplotlib inline"
   ]
  },
  {
   "cell_type": "code",
   "execution_count": 47,
   "metadata": {
    "execution": {
     "iopub.execute_input": "2020-04-21T10:20:14.316430Z",
     "iopub.status.busy": "2020-04-21T10:20:14.316430Z",
     "iopub.status.idle": "2020-04-21T10:20:14.462347Z",
     "shell.execute_reply": "2020-04-21T10:20:14.461366Z",
     "shell.execute_reply.started": "2020-04-21T10:20:14.316430Z"
    }
   },
   "outputs": [
    {
     "data": {
      "text/plain": [
       "Star Wars (1977)               118\n",
       "Contact (1997)                 116\n",
       "Fargo (1996)                   105\n",
       "Liar Liar (1997)               102\n",
       "English Patient, The (1996)    100\n",
       "Name: Title, dtype: int64"
      ]
     },
     "execution_count": 47,
     "metadata": {},
     "output_type": "execute_result"
    }
   ],
   "source": [
    "ratings['Title'].value_counts().head()"
   ]
  },
  {
   "cell_type": "code",
   "execution_count": 113,
   "metadata": {
    "execution": {
     "iopub.execute_input": "2020-04-21T10:28:25.047561Z",
     "iopub.status.busy": "2020-04-21T10:28:25.046562Z",
     "iopub.status.idle": "2020-04-21T10:28:25.068549Z",
     "shell.execute_reply": "2020-04-21T10:28:25.066551Z",
     "shell.execute_reply.started": "2020-04-21T10:28:25.047561Z"
    }
   },
   "outputs": [
    {
     "data": {
      "text/plain": [
       "Star Wars (1977)                  118\n",
       "Contact (1997)                    116\n",
       "Fargo (1996)                      105\n",
       "Liar Liar (1997)                  102\n",
       "English Patient, The (1996)       100\n",
       "Return of the Jedi (1983)          98\n",
       "Scream (1996)                      96\n",
       "Twelve Monkeys (1995)              94\n",
       "Independence Day (ID4) (1996)      94\n",
       "Toy Story (1995)                   90\n",
       "Chasing Amy (1997)                 87\n",
       "Pulp Fiction (1994)                86\n",
       "Air Force One (1997)               85\n",
       "Raiders of the Lost Ark (1981)     83\n",
       "Godfather, The (1972)              83\n",
       "Name: Title, dtype: int64"
      ]
     },
     "execution_count": 113,
     "metadata": {},
     "output_type": "execute_result"
    }
   ],
   "source": [
    "ratings['Title'].value_counts().head(top_n)"
   ]
  },
  {
   "cell_type": "code",
   "execution_count": 115,
   "metadata": {
    "execution": {
     "iopub.execute_input": "2020-04-21T10:28:40.417399Z",
     "iopub.status.busy": "2020-04-21T10:28:40.416401Z",
     "iopub.status.idle": "2020-04-21T10:28:40.810175Z",
     "shell.execute_reply": "2020-04-21T10:28:40.809176Z",
     "shell.execute_reply.started": "2020-04-21T10:28:40.417399Z"
    }
   },
   "outputs": [
    {
     "data": {
      "image/png": "[encoded data removed]",
      "text/plain": [
       "<Figure size 432x288 with 1 Axes>"
      ]
     },
     "metadata": {
      "needs_background": "light"
     },
     "output_type": "display_data"
    }
   ],
   "source": [
    "top_n = 15\n",
    "color = plt.cm.jet(np.linspace(1, 0, top_n))\n",
    "ratings['Title'].value_counts().head(top_n).plot(kind=\"bar\")\n",
    "plt.grid()"
   ]
  },
  {
   "cell_type": "code",
   "execution_count": 49,
   "metadata": {
    "execution": {
     "iopub.execute_input": "2020-04-21T10:20:15.051010Z",
     "iopub.status.busy": "2020-04-21T10:20:15.049011Z",
     "iopub.status.idle": "2020-04-21T10:20:15.151952Z",
     "shell.execute_reply": "2020-04-21T10:20:15.150952Z",
     "shell.execute_reply.started": "2020-04-21T10:20:15.050011Z"
    }
   },
   "outputs": [],
   "source": [
    "import squarify"
   ]
  },
  {
   "cell_type": "code",
   "execution_count": 50,
   "metadata": {
    "execution": {
     "iopub.execute_input": "2020-04-21T10:20:15.154950Z",
     "iopub.status.busy": "2020-04-21T10:20:15.153950Z",
     "iopub.status.idle": "2020-04-21T10:20:15.462775Z",
     "shell.execute_reply": "2020-04-21T10:20:15.461775Z",
     "shell.execute_reply.started": "2020-04-21T10:20:15.153950Z"
    }
   },
   "outputs": [
    {
     "data": {
      "text/plain": [
       "(0.0, 100.0, 0.0, 100.0)"
      ]
     },
     "execution_count": 50,
     "metadata": {},
     "output_type": "execute_result"
    },
    {
     "data": {
      "image/png": "[encoded data removed]",
      "text/plain": [
       "<Figure size 432x288 with 1 Axes>"
      ]
     },
     "metadata": {
      "needs_background": "light"
     },
     "output_type": "display_data"
    }
   ],
   "source": [
    "top_n = 15\n",
    "y = ratings['Title'].value_counts().head(top_n).to_frame()\n",
    "color = plt.cm.jet(np.linspace(0, 1, top_n))\n",
    "squarify.plot(sizes=y.values, color=color)\n",
    "plt.axis('off')"
   ]
  },
  {
   "cell_type": "markdown",
   "metadata": {},
   "source": [
    "在生成项集时，需要搜索用户喜欢的电影。因此，接下来，我们需要知道每个用户各喜欢哪些电影，按照User ID进行分组，并遍历每个用户看过的每一部电影。"
   ]
  },
  {
   "cell_type": "code",
   "execution_count": 51,
   "metadata": {
    "ExecuteTime": {
     "end_time": "2019-04-15T02:36:08.339296Z",
     "start_time": "2019-04-15T02:36:08.149156Z"
    },
    "execution": {
     "iopub.execute_input": "2020-04-21T10:20:15.466772Z",
     "iopub.status.busy": "2020-04-21T10:20:15.465772Z",
     "iopub.status.idle": "2020-04-21T10:20:15.510748Z",
     "shell.execute_reply": "2020-04-21T10:20:15.509747Z",
     "shell.execute_reply.started": "2020-04-21T10:20:15.466772Z"
    }
   },
   "outputs": [],
   "source": [
    "favorable_reviews_by_users_list = [list(v.values) for k, v in favorable_ratings.groupby(\"UserID\")[\"Title\"]]"
   ]
  },
  {
   "cell_type": "code",
   "execution_count": 52,
   "metadata": {
    "ExecuteTime": {
     "end_time": "2019-04-15T02:36:08.417414Z",
     "start_time": "2019-04-15T02:36:08.339296Z"
    },
    "execution": {
     "iopub.execute_input": "2020-04-21T10:20:15.513745Z",
     "iopub.status.busy": "2020-04-21T10:20:15.512745Z",
     "iopub.status.idle": "2020-04-21T10:20:15.602694Z",
     "shell.execute_reply": "2020-04-21T10:20:15.600695Z",
     "shell.execute_reply.started": "2020-04-21T10:20:15.513745Z"
    }
   },
   "outputs": [
    {
     "data": {
      "text/plain": [
       "[['Kolya (1996)',\n",
       "  'L.A. Confidential (1997)',\n",
       "  'Men in Black (1997)',\n",
       "  'Restoration (1995)',\n",
       "  'Fly Away Home (1996)',\n",
       "  'Truth About Cats & Dogs, The (1996)',\n",
       "  'Birdcage, The (1996)',\n",
       "  'Sense and Sensibility (1995)',\n",
       "  'Good Will Hunting (1997)',\n",
       "  'Postino, Il (1994)',\n",
       "  'Jerry Maguire (1996)',\n",
       "  'English Patient, The (1996)',\n",
       "  'Once Upon a Time... When We Were Colored (1995)',\n",
       "  'Mrs. Brown (Her Majesty, Mrs. Brown) (1997)',\n",
       "  'In & Out (1997)',\n",
       "  \"Ulee's Gold (1997)\",\n",
       "  'Tin Cup (1996)',\n",
       "  'Rosewood (1997)',\n",
       "  'Fargo (1996)',\n",
       "  'Donnie Brasco (1997)',\n",
       "  'Godfather, The (1972)',\n",
       "  'Full Monty, The (1997)',\n",
       "  'Star Wars (1977)',\n",
       "  'Secrets & Lies (1996)',\n",
       "  'Heat (1995)',\n",
       "  'Shall We Dance? (1996)',\n",
       "  'Mighty Aphrodite (1995)',\n",
       "  'Toy Story (1995)',\n",
       "  \"My Best Friend's Wedding (1997)\",\n",
       "  'Hoodlum (1997)',\n",
       "  'Time to Kill, A (1996)',\n",
       "  'Air Force One (1997)',\n",
       "  'Leaving Las Vegas (1995)',\n",
       "  'As Good As It Gets (1997)',\n",
       "  'Titanic (1997)',\n",
       "  \"Ulee's Gold (1997)\",\n",
       "  'Emma (1996)',\n",
       "  'Rainmaker, The (1997)',\n",
       "  'Breakdown (1997)',\n",
       "  'Wings of the Dove, The (1997)'],\n",
       " ['Jackie Brown (1997)',\n",
       "  'Return of the Jedi (1983)',\n",
       "  'Conspiracy Theory (1997)',\n",
       "  'Wag the Dog (1997)',\n",
       "  \"Schindler's List (1993)\",\n",
       "  'Apostle, The (1997)',\n",
       "  'Mother (1996)',\n",
       "  'Edge, The (1997)',\n",
       "  'Cop Land (1997)',\n",
       "  'Event Horizon (1997)',\n",
       "  'Paradise Lost: The Child Murders at Robin Hood Hills (1996)',\n",
       "  'Boogie Nights (1997)',\n",
       "  'Desperate Measures (1998)',\n",
       "  'Man Who Knew Too Little, The (1997)',\n",
       "  'Desperate Measures (1998)']]"
      ]
     },
     "execution_count": 52,
     "metadata": {},
     "output_type": "execute_result"
    }
   ],
   "source": [
    "favorable_reviews_by_users_list[1:3]"
   ]
  },
  {
   "cell_type": "code",
   "execution_count": 53,
   "metadata": {
    "ExecuteTime": {
     "end_time": "2019-04-15T02:36:08.632571Z",
     "start_time": "2019-04-15T02:36:08.417414Z"
    },
    "execution": {
     "iopub.execute_input": "2020-04-21T10:20:15.606691Z",
     "iopub.status.busy": "2020-04-21T10:20:15.604694Z",
     "iopub.status.idle": "2020-04-21T10:20:15.756606Z",
     "shell.execute_reply": "2020-04-21T10:20:15.755607Z",
     "shell.execute_reply.started": "2020-04-21T10:20:15.605692Z"
    }
   },
   "outputs": [],
   "source": [
    "favorable_reviews_by_users = dict((k, frozenset(v.values)) for k, v in favorable_ratings.groupby(\"UserID\")[\"Title\"])"
   ]
  },
  {
   "cell_type": "markdown",
   "metadata": {},
   "source": [
    "上面的代码把 v.values 存储为 frozenset ，便于快速判断用户是否为某部电影打过分。对于这种操作，集合比列表速度快。"
   ]
  },
  {
   "cell_type": "markdown",
   "metadata": {},
   "source": [
    "比如UserID为173的用户，他喜欢的电影如下："
   ]
  },
  {
   "cell_type": "code",
   "execution_count": 54,
   "metadata": {
    "ExecuteTime": {
     "end_time": "2019-04-15T02:36:08.757573Z",
     "start_time": "2019-04-15T02:36:08.632571Z"
    },
    "execution": {
     "iopub.execute_input": "2020-04-21T10:20:15.760604Z",
     "iopub.status.busy": "2020-04-21T10:20:15.759604Z",
     "iopub.status.idle": "2020-04-21T10:20:15.901524Z",
     "shell.execute_reply": "2020-04-21T10:20:15.900524Z",
     "shell.execute_reply.started": "2020-04-21T10:20:15.760604Z"
    }
   },
   "outputs": [
    {
     "data": {
      "text/plain": [
       "frozenset({'Air Force One (1997)',\n",
       "           'Career Girls (1997)',\n",
       "           'Chasing Amy (1997)',\n",
       "           'Conspiracy Theory (1997)',\n",
       "           'Contact (1997)',\n",
       "           'Cop Land (1997)',\n",
       "           \"Dante's Peak (1997)\",\n",
       "           'Desperate Measures (1998)',\n",
       "           \"Devil's Own, The (1997)\",\n",
       "           'Edge, The (1997)',\n",
       "           'English Patient, The (1996)',\n",
       "           'Event Horizon (1997)',\n",
       "           'Everyone Says I Love You (1996)',\n",
       "           'Evita (1996)',\n",
       "           'Full Monty, The (1997)',\n",
       "           'G.I. Jane (1997)',\n",
       "           'Hoodlum (1997)',\n",
       "           'Ice Storm, The (1997)',\n",
       "           'In & Out (1997)',\n",
       "           'In the Company of Men (1997)',\n",
       "           'Kiss Me, Guido (1997)',\n",
       "           'Kiss the Girls (1997)',\n",
       "           'Kolya (1996)',\n",
       "           'L.A. Confidential (1997)',\n",
       "           'Liar Liar (1997)',\n",
       "           'Lost Highway (1997)',\n",
       "           'Mother (1996)',\n",
       "           'Mrs. Brown (Her Majesty, Mrs. Brown) (1997)',\n",
       "           'Murder at 1600 (1997)',\n",
       "           'Peacemaker, The (1997)',\n",
       "           'Rosewood (1997)',\n",
       "           'Seven Years in Tibet (1997)',\n",
       "           'Shadow Conspiracy (1997)',\n",
       "           'Soul Food (1997)',\n",
       "           'Thousand Acres, A (1997)',\n",
       "           'U Turn (1997)',\n",
       "           \"Ulee's Gold (1997)\"})"
      ]
     },
     "execution_count": 54,
     "metadata": {},
     "output_type": "execute_result"
    }
   ],
   "source": [
    "favorable_reviews_by_users[173]"
   ]
  },
  {
   "cell_type": "markdown",
   "metadata": {},
   "source": [
    "下面这种方式可能更好一点："
   ]
  },
  {
   "cell_type": "code",
   "execution_count": 55,
   "metadata": {
    "ExecuteTime": {
     "end_time": "2019-04-15T02:36:08.943134Z",
     "start_time": "2019-04-15T02:36:08.757573Z"
    },
    "execution": {
     "iopub.execute_input": "2020-04-21T10:20:15.905521Z",
     "iopub.status.busy": "2020-04-21T10:20:15.904521Z",
     "iopub.status.idle": "2020-04-21T10:20:16.014459Z",
     "shell.execute_reply": "2020-04-21T10:20:16.012461Z",
     "shell.execute_reply.started": "2020-04-21T10:20:15.905521Z"
    }
   },
   "outputs": [
    {
     "data": {
      "text/plain": [
       "frozenset({'Air Force One (1997)',\n",
       "           'As Good As It Gets (1997)',\n",
       "           'Birdcage, The (1996)',\n",
       "           'Breakdown (1997)',\n",
       "           'Donnie Brasco (1997)',\n",
       "           'Emma (1996)',\n",
       "           'English Patient, The (1996)',\n",
       "           'Fargo (1996)',\n",
       "           'Fly Away Home (1996)',\n",
       "           'Full Monty, The (1997)',\n",
       "           'Godfather, The (1972)',\n",
       "           'Good Will Hunting (1997)',\n",
       "           'Heat (1995)',\n",
       "           'Hoodlum (1997)',\n",
       "           'In & Out (1997)',\n",
       "           'Jerry Maguire (1996)',\n",
       "           'Kolya (1996)',\n",
       "           'L.A. Confidential (1997)',\n",
       "           'Leaving Las Vegas (1995)',\n",
       "           'Men in Black (1997)',\n",
       "           'Mighty Aphrodite (1995)',\n",
       "           'Mrs. Brown (Her Majesty, Mrs. Brown) (1997)',\n",
       "           \"My Best Friend's Wedding (1997)\",\n",
       "           'Once Upon a Time... When We Were Colored (1995)',\n",
       "           'Postino, Il (1994)',\n",
       "           'Rainmaker, The (1997)',\n",
       "           'Restoration (1995)',\n",
       "           'Rosewood (1997)',\n",
       "           'Secrets & Lies (1996)',\n",
       "           'Sense and Sensibility (1995)',\n",
       "           'Shall We Dance? (1996)',\n",
       "           'Star Wars (1977)',\n",
       "           'Time to Kill, A (1996)',\n",
       "           'Tin Cup (1996)',\n",
       "           'Titanic (1997)',\n",
       "           'Toy Story (1995)',\n",
       "           'Truth About Cats & Dogs, The (1996)',\n",
       "           \"Ulee's Gold (1997)\",\n",
       "           'Wings of the Dove, The (1997)'})"
      ]
     },
     "execution_count": 55,
     "metadata": {},
     "output_type": "execute_result"
    }
   ],
   "source": [
    "favorable_reviews_by_users.get(2)"
   ]
  },
  {
   "cell_type": "code",
   "execution_count": 56,
   "metadata": {
    "ExecuteTime": {
     "end_time": "2019-04-15T02:36:09.146245Z",
     "start_time": "2019-04-15T02:36:08.943134Z"
    },
    "execution": {
     "iopub.execute_input": "2020-04-21T10:20:16.017458Z",
     "iopub.status.busy": "2020-04-21T10:20:16.016458Z",
     "iopub.status.idle": "2020-04-21T10:20:16.121397Z",
     "shell.execute_reply": "2020-04-21T10:20:16.120397Z",
     "shell.execute_reply.started": "2020-04-21T10:20:16.017458Z"
    }
   },
   "outputs": [],
   "source": [
    "count = [len(value) for key, value in favorable_reviews_by_users.items()]"
   ]
  },
  {
   "cell_type": "code",
   "execution_count": 57,
   "metadata": {
    "ExecuteTime": {
     "end_time": "2019-04-15T02:36:09.336477Z",
     "start_time": "2019-04-15T02:36:09.146245Z"
    },
    "execution": {
     "iopub.execute_input": "2020-04-21T10:20:16.125395Z",
     "iopub.status.busy": "2020-04-21T10:20:16.124396Z",
     "iopub.status.idle": "2020-04-21T10:20:16.225339Z",
     "shell.execute_reply": "2020-04-21T10:20:16.223340Z",
     "shell.execute_reply.started": "2020-04-21T10:20:16.125395Z"
    }
   },
   "outputs": [
    {
     "data": {
      "text/plain": [
       "3"
      ]
     },
     "execution_count": 57,
     "metadata": {},
     "output_type": "execute_result"
    }
   ],
   "source": [
    "min(count)"
   ]
  },
  {
   "cell_type": "code",
   "execution_count": 58,
   "metadata": {
    "ExecuteTime": {
     "end_time": "2019-04-15T02:36:09.477093Z",
     "start_time": "2019-04-15T02:36:09.336477Z"
    },
    "execution": {
     "iopub.execute_input": "2020-04-21T10:20:16.229335Z",
     "iopub.status.busy": "2020-04-21T10:20:16.227337Z",
     "iopub.status.idle": "2020-04-21T10:20:16.335276Z",
     "shell.execute_reply": "2020-04-21T10:20:16.334276Z",
     "shell.execute_reply.started": "2020-04-21T10:20:16.229335Z"
    }
   },
   "outputs": [
    {
     "data": {
      "text/plain": [
       "280"
      ]
     },
     "execution_count": 58,
     "metadata": {},
     "output_type": "execute_result"
    }
   ],
   "source": [
    "max(count)"
   ]
  },
  {
   "cell_type": "code",
   "execution_count": 59,
   "metadata": {
    "ExecuteTime": {
     "end_time": "2019-04-15T02:36:09.645180Z",
     "start_time": "2019-04-15T02:36:09.477093Z"
    },
    "execution": {
     "iopub.execute_input": "2020-04-21T10:20:16.338273Z",
     "iopub.status.busy": "2020-04-21T10:20:16.337274Z",
     "iopub.status.idle": "2020-04-21T10:20:16.457206Z",
     "shell.execute_reply": "2020-04-21T10:20:16.455207Z",
     "shell.execute_reply.started": "2020-04-21T10:20:16.338273Z"
    }
   },
   "outputs": [
    {
     "data": {
      "text/plain": [
       "154"
      ]
     },
     "execution_count": 59,
     "metadata": {},
     "output_type": "execute_result"
    }
   ],
   "source": [
    "count.index(min(count))"
   ]
  }
 ],
 "metadata": {
  "kernelspec": {
   "display_name": "dmex",
   "language": "python",
   "name": "dmex"
  },
  "language_info": {
   "codemirror_mode": {
    "name": "ipython",
    "version": 3
   },
   "file_extension": ".py",
   "mimetype": "text/x-python",
   "name": "python",
   "nbconvert_exporter": "python",
   "pygments_lexer": "ipython3",
   "version": "3.8.5"
  },
  "toc": {
   "base_numbering": "4",
   "nav_menu": {
    "height": "344px",
    "width": "278px"
   },
   "number_sections": true,
   "sideBar": true,
   "skip_h1_title": false,
   "title_cell": "本章目录",
   "title_sidebar": "",
   "toc_cell": true,
   "toc_position": {
    "height": "calc(100% - 180px)",
    "left": "10px",
    "top": "150px",
    "width": "204px"
   },
   "toc_section_display": true,
   "toc_window_display": true
  },
  "toc-autonumbering": true,
  "varInspector": {
   "cols": {
    "lenName": 16,
    "lenType": 16,
    "lenVar": 40
   },
   "kernels_config": {
    "python": {
     "delete_cmd_postfix": "",
     "delete_cmd_prefix": "del ",
     "library": "var_list.py",
     "varRefreshCmd": "print(var_dic_list())"
    },
    "r": {
     "delete_cmd_postfix": ") ",
     "delete_cmd_prefix": "rm(",
     "library": "var_list.r",
     "varRefreshCmd": "cat(var_dic_list()) "
    }
   },
   "types_to_exclude": [
    "module",
    "function",
    "builtin_function_or_method",
    "instance",
    "_Feature"
   ],
   "window_display": false
  }
 },
 "nbformat": 4,
 "nbformat_minor": 4
}
