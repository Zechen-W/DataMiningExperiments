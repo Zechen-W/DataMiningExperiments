{
 "cells": [
  {
   "cell_type": "markdown",
   "metadata": {
    "toc-hr-collapsed": false
   },
   "source": [
    "# 程序控制结构和函数"
   ]
  },
  {
   "cell_type": "markdown",
   "metadata": {
    "toc-hr-collapsed": false
   },
   "source": [
    "## 程序控制结构"
   ]
  },
  {
   "cell_type": "markdown",
   "metadata": {},
   "source": [
    "### 条件和条件语句"
   ]
  },
  {
   "cell_type": "markdown",
   "metadata": {},
   "source": [
    "标准值 False 和 None 、各种类型（包括浮点数、复数等）的数值0、空序列（如空字符串、空元组和空列表）以及空映射（如空字典）都被视为假，而其他各种值都被视为真，包括特殊值 True"
   ]
  },
  {
   "cell_type": "code",
   "execution_count": 1,
   "metadata": {
    "ExecuteTime": {
     "end_time": "2019-03-11T02:29:39.019680Z",
     "start_time": "2019-03-11T02:29:38.889754Z"
    }
   },
   "outputs": [
    {
     "data": {
      "text/plain": [
       "43"
      ]
     },
     "execution_count": 1,
     "metadata": {},
     "output_type": "execute_result"
    }
   ],
   "source": [
    "True == 1\n",
    "\n",
    "False == 0\n",
    "\n",
    "True + False + 42"
   ]
  },
  {
   "cell_type": "code",
   "execution_count": 2,
   "metadata": {
    "ExecuteTime": {
     "end_time": "2019-03-11T02:29:39.139612Z",
     "start_time": "2019-03-11T02:29:39.023677Z"
    }
   },
   "outputs": [
    {
     "data": {
      "text/plain": [
       "True"
      ]
     },
     "execution_count": 2,
     "metadata": {},
     "output_type": "execute_result"
    }
   ],
   "source": [
    "bool('I think, therefore I am')"
   ]
  },
  {
   "cell_type": "code",
   "execution_count": 3,
   "metadata": {
    "ExecuteTime": {
     "end_time": "2019-03-11T02:29:39.241552Z",
     "start_time": "2019-03-11T02:29:39.143608Z"
    }
   },
   "outputs": [
    {
     "data": {
      "text/plain": [
       "False"
      ]
     },
     "execution_count": 3,
     "metadata": {},
     "output_type": "execute_result"
    }
   ],
   "source": [
    "bool('')"
   ]
  },
  {
   "cell_type": "code",
   "execution_count": 4,
   "metadata": {
    "ExecuteTime": {
     "end_time": "2019-03-11T02:29:39.350492Z",
     "start_time": "2019-03-11T02:29:39.244551Z"
    }
   },
   "outputs": [
    {
     "data": {
      "text/plain": [
       "False"
      ]
     },
     "execution_count": 4,
     "metadata": {},
     "output_type": "execute_result"
    }
   ],
   "source": [
    "bool({})"
   ]
  },
  {
   "cell_type": "markdown",
   "metadata": {},
   "source": [
    "有条件地执行和 if 语句"
   ]
  },
  {
   "cell_type": "code",
   "execution_count": 5,
   "metadata": {
    "ExecuteTime": {
     "end_time": "2019-03-18T06:56:23.125478Z",
     "start_time": "2019-03-18T06:56:16.315342Z"
    }
   },
   "outputs": [
    {
     "name": "stdout",
     "output_type": "stream",
     "text": [
      "Hello, Mr. Gumby\n"
     ]
    }
   ],
   "source": [
    "name = \"Han Gumby\"\n",
    "if name.endswith('Gumby'):\n",
    "    print('Hello, Mr. Gumby')"
   ]
  },
  {
   "cell_type": "markdown",
   "metadata": {
    "ExecuteTime": {
     "end_time": "2019-02-14T02:28:19.727417Z",
     "start_time": "2019-02-14T02:28:19.718426Z"
    }
   },
   "source": [
    "else子句"
   ]
  },
  {
   "cell_type": "code",
   "execution_count": 6,
   "metadata": {
    "ExecuteTime": {
     "end_time": "2019-03-11T02:30:09.395048Z",
     "start_time": "2019-03-11T02:29:54.453561Z"
    }
   },
   "outputs": [
    {
     "name": "stdin",
     "output_type": "stream",
     "text": [
      "What is your name? Han Gumby\n"
     ]
    },
    {
     "name": "stdout",
     "output_type": "stream",
     "text": [
      "Hello, Mr. Gumby\n"
     ]
    }
   ],
   "source": [
    "name = input('What is your name?')\n",
    "if name.endswith('Gumby'):\n",
    "    print('Hello, Mr. Gumby')\n",
    "else:\n",
    "    print('Hello, stranger')"
   ]
  },
  {
   "cell_type": "markdown",
   "metadata": {},
   "source": [
    "还有一个与 if 语句很像的“亲戚”，它就是条件表达式——C语言中三目运算符的Python版本。\n",
    "下面的表达式使用 if 和 else 确定其值："
   ]
  },
  {
   "cell_type": "code",
   "execution_count": 7,
   "metadata": {
    "ExecuteTime": {
     "end_time": "2019-03-11T02:30:09.410039Z",
     "start_time": "2019-03-11T02:30:09.405042Z"
    }
   },
   "outputs": [],
   "source": [
    "status = \"friend\" if name.endswith(\"Gumby\") else \"stranger\""
   ]
  },
  {
   "cell_type": "markdown",
   "metadata": {},
   "source": [
    "* elif 子句"
   ]
  },
  {
   "cell_type": "code",
   "execution_count": 8,
   "metadata": {
    "ExecuteTime": {
     "end_time": "2019-03-11T02:30:19.809769Z",
     "start_time": "2019-03-11T02:30:09.421033Z"
    }
   },
   "outputs": [
    {
     "name": "stdin",
     "output_type": "stream",
     "text": [
      "Enter a number:  -99\n"
     ]
    },
    {
     "name": "stdout",
     "output_type": "stream",
     "text": [
      "The number is negative\n"
     ]
    }
   ],
   "source": [
    "num = int(input('Enter a number: '))\n",
    "if num > 0:\n",
    "    print('The number is positive')\n",
    "elif num < 0:\n",
    "    print('The number is negative')\n",
    "else:\n",
    "    print('The number is zero')"
   ]
  },
  {
   "cell_type": "code",
   "execution_count": 9,
   "metadata": {
    "ExecuteTime": {
     "end_time": "2019-03-11T02:30:35.301923Z",
     "start_time": "2019-03-11T02:30:19.813767Z"
    }
   },
   "outputs": [
    {
     "name": "stdin",
     "output_type": "stream",
     "text": [
      "What is your name?  Han Meimei\n"
     ]
    },
    {
     "name": "stdout",
     "output_type": "stream",
     "text": [
      "Hello, stranger\n"
     ]
    }
   ],
   "source": [
    "name = input('What is your name? ')\n",
    "if name.endswith('Gumby'):\n",
    "    if name.startswith('Mr.'):\n",
    "        print('Hello, Mr. Gumby')\n",
    "    elif name.startswith('Mrs.'):\n",
    "        print('Hello, Mrs. Gumby')\n",
    "    else:\n",
    "        print('Hello, Gumby')\n",
    "else:\n",
    "    print('Hello, stranger')"
   ]
  },
  {
   "cell_type": "code",
   "execution_count": 10,
   "metadata": {
    "ExecuteTime": {
     "end_time": "2019-03-11T02:30:35.312918Z",
     "start_time": "2019-03-11T02:30:35.305921Z"
    }
   },
   "outputs": [
    {
     "data": {
      "text/plain": [
       "True"
      ]
     },
     "execution_count": 10,
     "metadata": {},
     "output_type": "execute_result"
    }
   ],
   "source": [
    "\"foo\" == \"foo\""
   ]
  },
  {
   "cell_type": "code",
   "execution_count": 11,
   "metadata": {
    "ExecuteTime": {
     "end_time": "2019-03-11T02:30:35.441862Z",
     "start_time": "2019-03-11T02:30:35.315918Z"
    }
   },
   "outputs": [
    {
     "data": {
      "text/plain": [
       "False"
      ]
     },
     "execution_count": 11,
     "metadata": {},
     "output_type": "execute_result"
    }
   ],
   "source": [
    "\"foo\" == \"bar\""
   ]
  },
  {
   "cell_type": "code",
   "execution_count": 12,
   "metadata": {
    "ExecuteTime": {
     "end_time": "2019-03-11T02:30:35.551779Z",
     "start_time": "2019-03-11T02:30:35.444842Z"
    }
   },
   "outputs": [],
   "source": [
    "x = y = [1, 2, 3]\n",
    "z = [1, 2, 3]"
   ]
  },
  {
   "cell_type": "code",
   "execution_count": 13,
   "metadata": {
    "ExecuteTime": {
     "end_time": "2019-03-11T02:30:35.663245Z",
     "start_time": "2019-03-11T02:30:35.554778Z"
    }
   },
   "outputs": [
    {
     "data": {
      "text/plain": [
       "True"
      ]
     },
     "execution_count": 13,
     "metadata": {},
     "output_type": "execute_result"
    }
   ],
   "source": [
    "x == y"
   ]
  },
  {
   "cell_type": "code",
   "execution_count": 14,
   "metadata": {
    "ExecuteTime": {
     "end_time": "2019-03-11T02:30:35.776197Z",
     "start_time": "2019-03-11T02:30:35.673242Z"
    }
   },
   "outputs": [
    {
     "data": {
      "text/plain": [
       "True"
      ]
     },
     "execution_count": 14,
     "metadata": {},
     "output_type": "execute_result"
    }
   ],
   "source": [
    "x == z"
   ]
  },
  {
   "cell_type": "code",
   "execution_count": 15,
   "metadata": {
    "ExecuteTime": {
     "end_time": "2019-03-11T02:30:35.885134Z",
     "start_time": "2019-03-11T02:30:35.779177Z"
    }
   },
   "outputs": [
    {
     "data": {
      "text/plain": [
       "True"
      ]
     },
     "execution_count": 15,
     "metadata": {},
     "output_type": "execute_result"
    }
   ],
   "source": [
    "x is y"
   ]
  },
  {
   "cell_type": "code",
   "execution_count": 16,
   "metadata": {
    "ExecuteTime": {
     "end_time": "2019-03-11T02:30:36.010212Z",
     "start_time": "2019-03-11T02:30:35.888114Z"
    }
   },
   "outputs": [
    {
     "data": {
      "text/plain": [
       "False"
      ]
     },
     "execution_count": 16,
     "metadata": {},
     "output_type": "execute_result"
    }
   ],
   "source": [
    "x is z"
   ]
  },
  {
   "cell_type": "code",
   "execution_count": 17,
   "metadata": {
    "ExecuteTime": {
     "end_time": "2019-03-11T02:30:42.115857Z",
     "start_time": "2019-03-11T02:30:36.013211Z"
    }
   },
   "outputs": [
    {
     "name": "stdin",
     "output_type": "stream",
     "text": [
      "Enter a number between 1 and 10:  8\n"
     ]
    },
    {
     "name": "stdout",
     "output_type": "stream",
     "text": [
      "Great!\n"
     ]
    }
   ],
   "source": [
    "number = int(input('Enter a number between 1 and 10: '))\n",
    "if number <= 10 and number >= 1:\n",
    "    print('Great!')\n",
    "else:\n",
    "    print('Wrong!')"
   ]
  },
  {
   "cell_type": "code",
   "execution_count": 18,
   "metadata": {
    "ExecuteTime": {
     "end_time": "2019-03-11T02:30:45.054181Z",
     "start_time": "2019-03-11T02:30:42.119855Z"
    }
   },
   "outputs": [
    {
     "name": "stdin",
     "output_type": "stream",
     "text": [
      "Enter a number between 1 and 10:  90\n"
     ]
    },
    {
     "name": "stdout",
     "output_type": "stream",
     "text": [
      "Wrong!\n"
     ]
    }
   ],
   "source": [
    "number = int(input('Enter a number between 1 and 10: '))\n",
    "if 1 <= number <= 10:\n",
    "    print('Great!')\n",
    "else:\n",
    "    print('Wrong!')"
   ]
  },
  {
   "cell_type": "markdown",
   "metadata": {},
   "source": [
    "### 循环"
   ]
  },
  {
   "cell_type": "markdown",
   "metadata": {},
   "source": [
    "* while循环"
   ]
  },
  {
   "cell_type": "code",
   "execution_count": 19,
   "metadata": {
    "ExecuteTime": {
     "end_time": "2019-03-11T02:30:45.066175Z",
     "start_time": "2019-03-11T02:30:45.058182Z"
    }
   },
   "outputs": [
    {
     "name": "stdout",
     "output_type": "stream",
     "text": [
      "1\n",
      "2\n",
      "3\n",
      "4\n",
      "5\n",
      "6\n",
      "7\n",
      "8\n",
      "9\n",
      "10\n",
      "11\n",
      "12\n",
      "13\n",
      "14\n",
      "15\n"
     ]
    }
   ],
   "source": [
    "x = 1\n",
    "while x <= 15:\n",
    "    print(x)\n",
    "    x += 1"
   ]
  },
  {
   "cell_type": "code",
   "execution_count": 20,
   "metadata": {
    "ExecuteTime": {
     "end_time": "2019-03-25T06:37:58.264924Z",
     "start_time": "2019-03-25T06:37:47.867079Z"
    }
   },
   "outputs": [
    {
     "name": "stdin",
     "output_type": "stream",
     "text": [
      "Input : 90\n"
     ]
    },
    {
     "name": "stdout",
     "output_type": "stream",
     "text": [
      "Try Again\n"
     ]
    },
    {
     "name": "stdin",
     "output_type": "stream",
     "text": [
      "Input : 50\n"
     ]
    },
    {
     "name": "stdout",
     "output_type": "stream",
     "text": [
      "yes\n"
     ]
    }
   ],
   "source": [
    "TrueAge = 50\n",
    "while True:\n",
    "    Age = input(\"Input :\")\n",
    "    if Age.isdigit():\n",
    "        Age = eval(Age)\n",
    "        if Age == TrueAge:\n",
    "            print(\"yes\")\n",
    "            break\n",
    "        else:\n",
    "            print(\"Try Again\")\n",
    "    else:\n",
    "        print(\"Input Number\")"
   ]
  },
  {
   "cell_type": "markdown",
   "metadata": {},
   "source": [
    "下边我们通过循环来逼近e"
   ]
  },
  {
   "cell_type": "code",
   "execution_count": 21,
   "metadata": {
    "collapsed": true,
    "jupyter": {
     "outputs_hidden": true
    }
   },
   "outputs": [
    {
     "name": "stdout",
     "output_type": "stream",
     "text": [
      "i = 10000, error = 1.359223000818588e-08, e = 2.7181459268249255\n",
      "i = 20000, error = 3.398272330201735e-09, e = 2.718213874533619\n",
      "i = 30000, error = 1.5172032519217282e-09, e = 2.718236525145871\n",
      "i = 40000, error = 8.527676342851009e-10, e = 2.7182478507085106\n",
      "i = 50000, error = 5.40039568619477e-10, e = 2.718254646126732\n",
      "i = 60000, error = 4.045799251173321e-10, e = 2.7182591764743544\n",
      "i = 70000, error = 2.813855815020361e-10, e = 2.7182624124202643\n",
      "i = 80000, error = 2.2385426845517031e-10, e = 2.7182648393859488\n",
      "i = 90000, error = 1.7495560555857992e-10, e = 2.71826672706495\n",
      "i = 100000, error = 1.6406254133016773e-10, e = 2.7182682371922975\n",
      "i = 110000, error = 9.240475051797148e-11, e = 2.71826947271711\n",
      "i = 120000, error = 1.3642109664147029e-10, e = 2.7182705023890863\n",
      "i = 130000, error = 9.885781082630274e-11, e = 2.7182713736264996\n",
      "i = 140000, error = 8.05360222955187e-11, e = 2.718272120378959\n",
      "i = 150000, error = 8.918288330050927e-11, e = 2.718272767592797\n",
      "i = 160000, error = 4.922462437662034e-11, e = 2.718273333870663\n",
      "i = 170000, error = 2.7925217693791637e-11, e = 2.7182738335613372\n",
      "i = 180000, error = 1.59530166854438e-11, e = 2.718274277732449\n",
      "i = 190000, error = 5.013633952444252e-11, e = 2.7182746751743467\n",
      "i = 200000, error = 1.0081047108201346e-10, e = 2.7182750328034286\n",
      "i = 210000, error = 2.1544988015875788e-11, e = 2.718275356351191\n",
      "i = 220000, error = 2.8351099246037847e-11, e = 2.7182756505531334\n",
      "i = 230000, error = 3.2805758110043826e-11, e = 2.7182759191619033\n",
      "i = 240000, error = 2.5779378631796135e-12, e = 2.7182761653389114\n",
      "i = 250000, error = 3.981259766305811e-12, e = 2.718276391842594\n",
      "i = 260000, error = 5.012035231288792e-11, e = 2.7182766009577994\n",
      "i = 270000, error = 1.8884005470454213e-11, e = 2.7182767946387054\n",
      "i = 280000, error = 1.3849055235937158e-10, e = 2.7182769743214785\n",
      "i = 290000, error = 3.36712879800416e-11, e = 2.7182771416962517\n",
      "i = 300000, error = 4.455502633504693e-11, e = 2.718277298020982\n",
      "i = 310000, error = 1.7486456727056066e-11, e = 2.7182774440616795\n",
      "i = 320000, error = 1.2965228890493563e-10, e = 2.718277581246092\n",
      "i = 330000, error = 8.834444287231236e-11, e = 2.7182777098432482\n",
      "i = 340000, error = 7.261302670258374e-11, e = 2.718277831002282\n",
      "i = 350000, error = 4.9887649566926484e-11, e = 2.7182779452574475\n",
      "i = 360000, error = 3.083666655356865e-11, e = 2.718278053095038\n",
      "i = 370000, error = 3.0317970356463775e-11, e = 2.7182781551623103\n",
      "i = 380000, error = 1.1151035650414087e-10, e = 2.718278251835079\n",
      "i = 390000, error = 9.912737297668173e-11, e = 2.718278343435912\n",
      "i = 400000, error = 9.579359527833731e-11, e = 2.718278430511639\n",
      "i = 410000, error = 7.214051578330327e-11, e = 2.718278513476246\n",
      "i = 420000, error = 1.7778445382532482e-10, e = 2.7182785925065494\n",
      "i = 430000, error = 8.474998480778595e-12, e = 2.7182786677994115\n",
      "i = 440000, error = 1.25901511438542e-10, e = 2.7182787396232375\n",
      "i = 450000, error = 1.963540441352052e-11, e = 2.718278808169863\n",
      "i = 460000, error = 1.7256152062827823e-10, e = 2.7182788739372237\n",
      "i = 470000, error = 1.6142553960207806e-10, e = 2.718278936747636\n",
      "i = 480000, error = 1.8985701899509877e-11, e = 2.7182789970111187\n",
      "i = 490000, error = 7.109157706963742e-11, e = 2.7182790547975038\n",
      "i = 500000, error = 1.3657519559728826e-10, e = 2.718279110260366\n",
      "i = 510000, error = 2.2044144287747258e-11, e = 2.718279163589995\n",
      "i = 520000, error = 1.9706947185227364e-10, e = 2.718279214676504\n",
      "i = 530000, error = 6.528511065084786e-11, e = 2.7182792638894315\n",
      "i = 540000, error = 1.584248288111212e-10, e = 2.718279311553507\n",
      "i = 550000, error = 8.878231483322452e-12, e = 2.718279357345852\n",
      "i = 560000, error = 2.2533086507792177e-12, e = 2.7182794015159084\n",
      "i = 570000, error = 1.8274537438855987e-10, e = 2.7182794440591582\n",
      "i = 580000, error = 2.3359980616532994e-10, e = 2.7182794852065824\n",
      "i = 590000, error = 1.0917888815242804e-10, e = 2.718279524688798\n",
      "i = 600000, error = 1.0951239914902544e-11, e = 2.718279563245457\n",
      "i = 610000, error = 8.351319635835353e-11, e = 2.718279600434664\n",
      "i = 620000, error = 1.9350299140796778e-11, e = 2.7182796364018302\n",
      "i = 630000, error = 1.3364864770437634e-11, e = 2.7182796710591397\n",
      "i = 640000, error = 5.487166276907374e-11, e = 2.7182797048946457\n",
      "i = 650000, error = 2.2284041278908262e-10, e = 2.7182797373428857\n",
      "i = 660000, error = 5.353317789058565e-11, e = 2.718279769139083\n",
      "i = 670000, error = 2.206306248808687e-10, e = 2.718279800049923\n",
      "i = 680000, error = 1.4773293699477108e-10, e = 2.718279829525621\n",
      "i = 690000, error = 1.5703349731666094e-10, e = 2.7182798588186734\n",
      "i = 700000, error = 1.6622259124687844e-11, e = 2.718279886668445\n",
      "i = 710000, error = 1.7221335468775578e-11, e = 2.718279914298955\n",
      "i = 720000, error = 2.0973534020640727e-10, e = 2.718279940566254\n",
      "i = 730000, error = 5.868860952773503e-11, e = 2.7182799666061075\n",
      "i = 740000, error = 3.272728754666332e-10, e = 2.718279991609072\n",
      "i = 750000, error = 2.646611818590827e-10, e = 2.7182800162006457\n",
      "i = 760000, error = 4.8695714127688916e-11, e = 2.718280039942557\n",
      "i = 770000, error = 4.703126776917088e-11, e = 2.718280063391063\n",
      "i = 780000, error = 1.7912960004196066e-10, e = 2.71828008591812\n",
      "i = 790000, error = 7.837197557591935e-11, e = 2.718280108035241\n",
      "i = 800000, error = 5.42681455328875e-11, e = 2.718280129431941\n",
      "i = 810000, error = 1.0250911230968995e-10, e = 2.718280150527006\n",
      "i = 820000, error = 4.0120706756852087e-10, e = 2.7182801712070748\n",
      "i = 830000, error = 3.0574076603784306e-10, e = 2.718280190724092\n",
      "i = 840000, error = 3.366165124418785e-10, e = 2.7182802105261503\n",
      "i = 850000, error = 1.882276556841589e-10, e = 2.7182802295798036\n",
      "i = 860000, error = 1.2849410424564667e-10, e = 2.71828024819077\n",
      "i = 870000, error = 3.6348257737017775e-11, e = 2.7182802663199928\n",
      "i = 880000, error = 2.078888172718507e-10, e = 2.7182802838311484\n",
      "i = 890000, error = 1.8540191604188294e-10, e = 2.718280301112372\n",
      "i = 900000, error = 4.7841730577147246e-12, e = 2.71828031832182\n",
      "i = 910000, error = 2.648126162796416e-10, e = 2.718280335158345\n",
      "i = 920000, error = 5.735945052265379e-11, e = 2.7182803509822424\n",
      "i = 930000, error = 5.142157810666959e-10, e = 2.7182803667467326\n",
      "i = 940000, error = 6.574296662620327e-11, e = 2.7182803823543136\n",
      "i = 950000, error = 8.369971382649055e-11, e = 2.718280397954482\n",
      "i = 960000, error = 1.587761033761126e-10, e = 2.718280412778849\n",
      "i = 970000, error = 2.8573010624199924e-10, e = 2.718280427410621\n",
      "i = 980000, error = 1.7917667349820476e-10, e = 2.718280441672096\n",
      "i = 990000, error = 2.8625102288515336e-11, e = 2.7182804557714806\n",
      "i = 1000000, error = 2.375788454855865e-10, e = 2.7182804690957534\n",
      "i = 1010000, error = 8.078648860987414e-11, e = 2.7182804827457145\n",
      "i = 1020000, error = 1.688542639044499e-10, e = 2.71828049576967\n",
      "i = 1030000, error = 5.021183469011703e-11, e = 2.7182805090987796\n",
      "i = 1040000, error = 1.0230527536236877e-10, e = 2.7182805215393118\n",
      "i = 1050000, error = 6.118527906551208e-11, e = 2.718280533876991\n",
      "i = 1060000, error = 1.2367706858640304e-10, e = 2.7182805464144115\n",
      "i = 1070000, error = 2.4293189682111915e-10, e = 2.7182805579992846\n",
      "i = 1080000, error = 7.571676619022583e-11, e = 2.718280570014112\n",
      "i = 1090000, error = 2.665023757231211e-10, e = 2.7182805812759496\n",
      "i = 1100000, error = 7.808864666003501e-12, e = 2.718280592593444\n",
      "i = 1110000, error = 1.5237011652402543e-10, e = 2.7182806042800935\n",
      "i = 1120000, error = 1.6687806692061713e-10, e = 2.7182806150316026\n",
      "i = 1130000, error = 1.1053380433168059e-11, e = 2.7182806257465453\n",
      "i = 1140000, error = 2.602549287189504e-10, e = 2.7182806362851544\n",
      "i = 1150000, error = 2.5875257492202763e-10, e = 2.718280646585952\n",
      "i = 1160000, error = 6.126787965854419e-11, e = 2.7182806568770066\n",
      "i = 1170000, error = 3.89999144090325e-11, e = 2.7182806669818285\n",
      "i = 1180000, error = 2.9859359429451615e-10, e = 2.7182806768565593\n",
      "i = 1190000, error = 2.0658852406540973e-10, e = 2.7182806863304396\n",
      "i = 1200000, error = 3.5950309396071134e-10, e = 2.7182806954981427\n",
      "i = 1210000, error = 1.6765255850259564e-11, e = 2.7182807051181417\n",
      "i = 1220000, error = 1.4507417489539876e-10, e = 2.7182807141138996\n",
      "i = 1230000, error = 5.960805182780859e-10, e = 2.718280723702352\n",
      "i = 1240000, error = 1.2327472376227888e-11, e = 2.718280732106563\n",
      "i = 1250000, error = 2.3178969854598108e-10, e = 2.718280741225277\n",
      "i = 1260000, error = 5.611315856413057e-10, e = 2.7182807501203055\n",
      "i = 1270000, error = 1.844702168796175e-10, e = 2.7182807583663946\n",
      "i = 1280000, error = 1.6819790005229152e-10, e = 2.718280766721204\n",
      "i = 1290000, error = 2.574633839458329e-10, e = 2.718280774988638\n",
      "i = 1300000, error = 1.138329430716567e-10, e = 2.718280783226011\n",
      "i = 1310000, error = 2.572737578532269e-10, e = 2.7182807909714666\n",
      "i = 1320000, error = 5.684368531433392e-10, e = 2.718280799187508\n",
      "i = 1330000, error = 6.66844357510854e-12, e = 2.7182808062592705\n",
      "i = 1340000, error = 1.0804424022126113e-10, e = 2.718280813927708\n",
      "i = 1350000, error = 9.260725519766311e-11, e = 2.718280821706489\n",
      "i = 1360000, error = 7.607114937968618e-11, e = 2.718280828891919\n",
      "i = 1370000, error = 4.209375070729493e-10, e = 2.718280836319356\n",
      "i = 1380000, error = 1.3185852409947074e-10, e = 2.7182808437014314\n",
      "i = 1390000, error = 5.2373216874457285e-11, e = 2.7182808507265657\n",
      "i = 1400000, error = 6.399885066343813e-10, e = 2.7182808579039817\n",
      "i = 1410000, error = 2.388285125221046e-10, e = 2.7182808646020757\n",
      "i = 1420000, error = 4.391740304754421e-10, e = 2.7182808710100494\n",
      "i = 1430000, error = 3.100417700352409e-10, e = 2.718280878192237\n",
      "i = 1440000, error = 1.0683409712441971e-10, e = 2.7182808844123083\n",
      "i = 1450000, error = 8.546736651737774e-10, e = 2.7182808906862\n",
      "i = 1460000, error = 1.9287460517602995e-10, e = 2.7182808975227886\n",
      "i = 1470000, error = 1.1850831427295816e-10, e = 2.7182809039642035\n",
      "i = 1480000, error = 5.7825744192996353e-11, e = 2.718280909945821\n",
      "i = 1490000, error = 3.964739647699389e-10, e = 2.7182809158496197\n",
      "i = 1500000, error = 5.448832496313116e-10, e = 2.7182809227456115\n",
      "i = 1510000, error = 1.6252732493171607e-10, e = 2.7182809288065846\n",
      "i = 1520000, error = 2.519433550673966e-10, e = 2.7182809345713133\n",
      "i = 1530000, error = 1.1344036821014924e-10, e = 2.718280939932702\n",
      "i = 1540000, error = 2.5235369349729808e-11, e = 2.7182809454837664\n",
      "i = 1550000, error = 5.136207015254968e-10, e = 2.7182809518838766\n",
      "i = 1560000, error = 3.829017103385013e-10, e = 2.71828095716076\n",
      "i = 1570000, error = 8.904965653755426e-11, e = 2.7182809632351934\n",
      "i = 1580000, error = 3.7552627674131145e-11, e = 2.718280968249512\n",
      "i = 1590000, error = 4.0154146674353797e-10, e = 2.7182809738165985\n",
      "i = 1600000, error = 2.127045206634648e-10, e = 2.7182809788935525\n",
      "i = 1610000, error = 5.495857102744139e-10, e = 2.718280983982605\n",
      "i = 1620000, error = 4.970113209878946e-11, e = 2.718280989501455\n",
      "i = 1630000, error = 5.860734120233246e-11, e = 2.7182809949563658\n",
      "i = 1640000, error = 4.4655523723236e-10, e = 2.718280999950145\n",
      "i = 1650000, error = 2.1535795369231892e-10, e = 2.718281005117692\n",
      "i = 1660000, error = 3.4662051007217087e-10, e = 2.7182810099832935\n",
      "i = 1670000, error = 1.6980727934878814e-10, e = 2.7182810146687513\n",
      "i = 1680000, error = 3.40142580768088e-10, e = 2.718281019537275\n",
      "i = 1690000, error = 8.535914197693728e-10, e = 2.718281024728724\n",
      "i = 1700000, error = 6.768603455498123e-10, e = 2.7182810285601233\n",
      "i = 1710000, error = 1.7280665787211547e-10, e = 2.718281034038286\n",
      "i = 1720000, error = 7.157483494779626e-10, e = 2.7182810378686346\n",
      "i = 1730000, error = 2.480491367862214e-10, e = 2.71828104300965\n",
      "i = 1740000, error = 5.41941158616055e-10, e = 2.7182810474342265\n",
      "i = 1750000, error = 4.601039549356756e-10, e = 2.7182810514329825\n",
      "i = 1760000, error = 1.0526068905392094e-10, e = 2.7182810566002473\n",
      "i = 1770000, error = 5.138116598857323e-10, e = 2.718281060438062\n",
      "i = 1780000, error = 6.311733358188576e-10, e = 2.718281064673503\n",
      "i = 1790000, error = 4.5898973510816177e-10, e = 2.7182810686675993\n",
      "i = 1800000, error = 1.1333156635373598e-12, e = 2.718281073398952\n",
      "i = 1810000, error = 7.476241847825804e-10, e = 2.7182810778724407\n",
      "i = 1820000, error = 6.804321550646364e-10, e = 2.718281081937939\n",
      "i = 1830000, error = 2.2005242072964393e-10, e = 2.7182810858315944\n",
      "i = 1840000, error = 2.4776181106744843e-10, e = 2.7182810896446785\n",
      "i = 1850000, error = 1.3269607634924796e-10, e = 2.718281093836632\n",
      "i = 1860000, error = 2.582867253408949e-10, e = 2.7182810974665736\n",
      "i = 1870000, error = 1.3038548019039808e-10, e = 2.7182811019596405\n",
      "i = 1880000, error = 2.4965762790429835e-10, e = 2.7182811058679155\n",
      "i = 1890000, error = 8.805232099007299e-10, e = 2.718281109680958\n",
      "i = 1900000, error = 5.326801222338418e-10, e = 2.7182811127173694\n",
      "i = 1910000, error = 5.689240190065448e-10, e = 2.7182811167885204\n",
      "i = 1920000, error = 3.7021186116703575e-10, e = 2.718281120663728\n",
      "i = 1930000, error = 6.224309956337493e-11, e = 2.718281124802319\n",
      "i = 1940000, error = 4.4368952956119756e-10, e = 2.7182811279977286\n",
      "i = 1950000, error = 7.303024851523787e-10, e = 2.718281130938619\n",
      "i = 1960000, error = 3.842810514242956e-10, e = 2.7182811351103653\n",
      "i = 1970000, error = 6.501017502102968e-10, e = 2.7182811380569576\n",
      "i = 1980000, error = 2.8549962394208706e-10, e = 2.7182811416077888\n",
      "i = 1990000, error = 2.940017118646665e-10, e = 2.7182811459082536\n",
      "i = 2000000, error = 1.1980860747939914e-10, e = 2.7182811492688552\n",
      "i = 2010000, error = 8.803211493102481e-10, e = 2.7182811528308735\n",
      "i = 2020000, error = 3.4619995759044286e-10, e = 2.7182811555868356\n",
      "i = 2030000, error = 1.6077938980174622e-10, e = 2.718281159022041\n",
      "i = 2040000, error = 2.224180839505152e-10, e = 2.7182811620143177\n",
      "i = 2050000, error = 4.348938986709072e-10, e = 2.718281165451403\n",
      "i = 2060000, error = 9.083844787483031e-10, e = 2.7182811682533554\n",
      "i = 2070000, error = 5.044142881160951e-11, e = 2.7182811719959745\n",
      "i = 2080000, error = 5.2094772939881295e-11, e = 2.7182811755993024\n",
      "i = 2090000, error = 2.6499691330172936e-11, e = 2.718281178665416\n",
      "i = 2100000, error = 2.8536195628703354e-10, e = 2.7182811810861027\n",
      "i = 2110000, error = 5.499067867731355e-10, e = 2.718281183887871\n",
      "i = 2120000, error = 6.093126003747784e-11, e = 2.7182811875177846\n",
      "i = 2130000, error = 4.3607917277199704e-10, e = 2.718281190056869\n",
      "i = 2140000, error = 7.681859592878482e-10, e = 2.718281193111045\n",
      "i = 2150000, error = 3.6152103533027e-10, e = 2.718281196167663\n",
      "i = 2160000, error = 9.40813649208394e-10, e = 2.71828119859335\n",
      "i = 2170000, error = 7.828613313165533e-10, e = 2.7182812016680717\n",
      "i = 2180000, error = 8.527432093785592e-10, e = 2.7182812053922\n",
      "i = 2190000, error = 1.786260028779907e-11, e = 2.7182812078286087\n",
      "i = 2200000, error = 6.591900358898783e-10, e = 2.7182812110479335\n",
      "i = 2210000, error = 1.263105176008139e-10, e = 2.7182812138795818\n",
      "i = 2220000, error = 2.596287629330618e-10, e = 2.7182812165049723\n",
      "i = 2230000, error = 4.993045976675603e-10, e = 2.7182812184295084\n",
      "i = 2240000, error = 7.586353767408127e-10, e = 2.7182812217901944\n",
      "i = 2250000, error = 5.425162541428108e-10, e = 2.7182812238712493\n",
      "i = 2260000, error = 3.473474841086954e-10, e = 2.7182812271355985\n",
      "i = 2270000, error = 8.50741699309765e-12, e = 2.718281230328112\n",
      "i = 2280000, error = 9.027769642955263e-10, e = 2.718281231710791\n",
      "i = 2290000, error = 2.844791069378516e-10, e = 2.7182812351347767\n",
      "i = 2300000, error = 4.756639526704021e-10, e = 2.718281238210194\n",
      "i = 2310000, error = 1.7205792346430826e-11, e = 2.7182812396698193\n",
      "i = 2320000, error = 3.814673021906856e-10, e = 2.7182812427129135\n",
      "i = 2330000, error = 7.886491459885292e-10, e = 2.718281245764417\n",
      "i = 2340000, error = 7.264326917777453e-10, e = 2.7182812471044087\n",
      "i = 2350000, error = 7.082423536530769e-10, e = 2.7182812496062003\n",
      "i = 2360000, error = 8.607883295042029e-10, e = 2.718281252763055\n",
      "i = 2370000, error = 2.9321256533876294e-10, e = 2.718281254510997\n",
      "i = 2380000, error = 1.0257439342353791e-10, e = 2.7182812573973907\n",
      "i = 2390000, error = 6.231903881825929e-10, e = 2.718281260468838\n",
      "i = 2400000, error = 1.804596472254616e-10, e = 2.718281262530503\n",
      "i = 2410000, error = 8.723524125286986e-10, e = 2.718281264023247\n",
      "i = 2420000, error = 7.686740133294734e-12, e = 2.7182812674763115\n",
      "i = 2430000, error = 4.5611026067149396e-10, e = 2.7182812691598155\n",
      "i = 2440000, error = 8.095888404113794e-10, e = 2.7182812711382365\n",
      "i = 2450000, error = 4.255564789445998e-10, e = 2.7182812743896045\n",
      "i = 2460000, error = 2.9736657580770043e-10, e = 2.718281276198041\n",
      "i = 2470000, error = 2.781259667017366e-10, e = 2.7182812779097527\n",
      "i = 2480000, error = 3.673932269521174e-10, e = 2.718281280895085\n",
      "i = 2490000, error = 9.381802001939832e-10, e = 2.7182812824019336\n",
      "i = 2500000, error = 6.392317786207968e-10, e = 2.7182812848810447\n",
      "i = 2510000, error = 2.330584614185227e-10, e = 2.7182812873487947\n",
      "i = 2520000, error = 2.7992363982320967e-10, e = 2.7182812887008394\n",
      "i = 2530000, error = 6.277467434756545e-10, e = 2.718281291098198\n",
      "i = 2540000, error = 9.160272540498227e-11, e = 2.7182812926941176\n",
      "i = 2550000, error = 6.225682191995929e-10, e = 2.7182812955711446\n",
      "i = 2560000, error = 1.2435936724841667e-09, e = 2.7182812968624717\n",
      "i = 2570000, error = 2.206572702334597e-10, e = 2.7182812998215824\n",
      "i = 2580000, error = 6.504983218746929e-10, e = 2.7182813017868805\n",
      "i = 2590000, error = 5.749467568705313e-10, e = 2.718281303742386\n",
      "i = 2600000, error = 3.348068489117395e-10, e = 2.718281305971964\n",
      "i = 2610000, error = 1.8595702755419552e-10, e = 2.7182813083309343\n",
      "i = 2620000, error = 1.453334785850302e-09, e = 2.7182813089363074\n",
      "i = 2630000, error = 1.6071677322315736e-10, e = 2.718281312345282\n",
      "i = 2640000, error = 2.836335610822971e-10, e = 2.7182813140130757\n"
     ]
    }
   ],
   "source": [
    "error_threhold = 1e-20\n",
    "error = float('inf')\n",
    "\n",
    "i = 1\n",
    "lst_i = []\n",
    "lst_e = []\n",
    "while error > error_threhold:\n",
    "    old_e = (1+1/i)**i\n",
    "    i += 1\n",
    "    new_e = (1+1/i)**i\n",
    "    error = abs(new_e - old_e)\n",
    "    if i % 10000 == 0:\n",
    "        lst_i.append(i)\n",
    "        lst_e.append(new_e)\n",
    "        print('i = {i}, error = {error}, e = {e}'.format(i=i, error=error, e=new_e))"
   ]
  },
  {
   "cell_type": "code",
   "execution_count": 22,
   "metadata": {},
   "outputs": [],
   "source": [
    "import matplotlib.pyplot as plt"
   ]
  },
  {
   "cell_type": "code",
   "execution_count": 23,
   "metadata": {},
   "outputs": [
    {
     "data": {
      "image/png": "[encoded data removed]",
      "text/plain": [
       "<Figure size 432x288 with 1 Axes>"
      ]
     },
     "metadata": {
      "needs_background": "light"
     },
     "output_type": "display_data"
    }
   ],
   "source": [
    "plt.plot(lst_i, lst_e)\n",
    "plt.show()"
   ]
  },
  {
   "cell_type": "code",
   "execution_count": 24,
   "metadata": {},
   "outputs": [],
   "source": [
    "from math import e"
   ]
  },
  {
   "cell_type": "code",
   "execution_count": 25,
   "metadata": {},
   "outputs": [
    {
     "data": {
      "text/plain": [
       "2.718281828459045"
      ]
     },
     "execution_count": 25,
     "metadata": {},
     "output_type": "execute_result"
    }
   ],
   "source": [
    "e"
   ]
  },
  {
   "cell_type": "markdown",
   "metadata": {},
   "source": [
    "* for 循环  \n",
    "\n",
    "---  \n",
    "\n",
    "while 语句非常灵活，可用于在条件为真时反复执行代码块。这在通常情况下很好，但有时候你可能想根据需要进行定制。一种这样的需求是为序列（或其他可迭代对象）中每个元素执行代码块。"
   ]
  },
  {
   "cell_type": "code",
   "execution_count": 26,
   "metadata": {
    "ExecuteTime": {
     "end_time": "2019-03-11T02:30:45.199099Z",
     "start_time": "2019-03-11T02:30:45.069175Z"
    }
   },
   "outputs": [
    {
     "name": "stdout",
     "output_type": "stream",
     "text": [
      "this\n",
      "is\n",
      "an\n",
      "ex\n",
      "parrot\n"
     ]
    }
   ],
   "source": [
    "words = ['this', 'is', 'an', 'ex', 'parrot']\n",
    "for word in words:\n",
    "    print(word)"
   ]
  },
  {
   "cell_type": "code",
   "execution_count": 27,
   "metadata": {
    "ExecuteTime": {
     "end_time": "2019-03-11T02:30:45.313033Z",
     "start_time": "2019-03-11T02:30:45.201098Z"
    }
   },
   "outputs": [
    {
     "name": "stdout",
     "output_type": "stream",
     "text": [
      "0\n",
      "1\n",
      "2\n",
      "3\n",
      "4\n",
      "5\n",
      "6\n",
      "7\n",
      "8\n",
      "9\n"
     ]
    }
   ],
   "source": [
    "numbers = [0, 1, 2, 3, 4, 5, 6, 7, 8, 9]\n",
    "for number in numbers:\n",
    "    print(number)"
   ]
  },
  {
   "cell_type": "code",
   "execution_count": 28,
   "metadata": {},
   "outputs": [
    {
     "data": {
      "text/plain": [
       "range(0, 10)"
      ]
     },
     "execution_count": 28,
     "metadata": {},
     "output_type": "execute_result"
    }
   ],
   "source": [
    "range(10)"
   ]
  },
  {
   "cell_type": "code",
   "execution_count": 29,
   "metadata": {
    "ExecuteTime": {
     "end_time": "2019-03-11T02:30:45.313033Z",
     "start_time": "2019-03-11T02:30:45.201098Z"
    }
   },
   "outputs": [
    {
     "name": "stdout",
     "output_type": "stream",
     "text": [
      "0\n",
      "1\n",
      "2\n",
      "3\n",
      "4\n",
      "5\n",
      "6\n",
      "7\n",
      "8\n",
      "9\n"
     ]
    }
   ],
   "source": [
    "for number in range(10):\n",
    "    print(number)"
   ]
  },
  {
   "cell_type": "markdown",
   "metadata": {},
   "source": [
    "鉴于迭代（也就是遍历）特定范围内的数是一种常见的任务，Python提供了一个创建范围的内置函数"
   ]
  },
  {
   "cell_type": "code",
   "execution_count": 30,
   "metadata": {
    "ExecuteTime": {
     "end_time": "2019-03-11T02:30:45.409979Z",
     "start_time": "2019-03-11T02:30:45.316032Z"
    }
   },
   "outputs": [
    {
     "data": {
      "text/plain": [
       "range(0, 10)"
      ]
     },
     "execution_count": 30,
     "metadata": {},
     "output_type": "execute_result"
    }
   ],
   "source": [
    "range(0, 10)"
   ]
  },
  {
   "cell_type": "code",
   "execution_count": 31,
   "metadata": {
    "ExecuteTime": {
     "end_time": "2019-03-11T02:30:45.609893Z",
     "start_time": "2019-03-11T02:30:45.412978Z"
    }
   },
   "outputs": [
    {
     "data": {
      "text/plain": [
       "[0, 1, 2, 3, 4, 5, 6, 7, 8, 9]"
      ]
     },
     "execution_count": 31,
     "metadata": {},
     "output_type": "execute_result"
    }
   ],
   "source": [
    "list(range(0, 10))"
   ]
  },
  {
   "cell_type": "code",
   "execution_count": 32,
   "metadata": {
    "ExecuteTime": {
     "end_time": "2019-03-11T02:30:45.718824Z",
     "start_time": "2019-03-11T02:30:45.620883Z"
    }
   },
   "outputs": [
    {
     "name": "stdout",
     "output_type": "stream",
     "text": [
      "1\n",
      "2\n",
      "3\n",
      "4\n",
      "5\n",
      "6\n",
      "7\n",
      "8\n",
      "9\n",
      "10\n"
     ]
    }
   ],
   "source": [
    "for number in range(1,11):\n",
    "    print(number)"
   ]
  },
  {
   "cell_type": "markdown",
   "metadata": {},
   "source": [
    "要遍历字典的所有关键字，可像遍历序列那样使用普通的 for 语句。"
   ]
  },
  {
   "cell_type": "code",
   "execution_count": 33,
   "metadata": {
    "ExecuteTime": {
     "end_time": "2019-03-11T02:30:45.951617Z",
     "start_time": "2019-03-11T02:30:45.720824Z"
    }
   },
   "outputs": [
    {
     "name": "stdout",
     "output_type": "stream",
     "text": [
      "x corresponds to 1\n",
      "y corresponds to 2\n",
      "z corresponds to 3\n"
     ]
    }
   ],
   "source": [
    "d = {'x': 1, 'y': 2, 'z': 3}\n",
    "for key in d:\n",
    "    print(key, 'corresponds to', d[key])"
   ]
  },
  {
   "cell_type": "markdown",
   "metadata": {},
   "source": [
    "也可使用 keys 等字典方法来获取所有的键。如果只对值感兴趣，可使用 d.values 。d.items 以元组的方式返回键值对。 for 循环的优点之一是，可在其中使用序列解包"
   ]
  },
  {
   "cell_type": "code",
   "execution_count": 34,
   "metadata": {},
   "outputs": [],
   "source": [
    "key, value = 1, 2"
   ]
  },
  {
   "cell_type": "code",
   "execution_count": 35,
   "metadata": {
    "ExecuteTime": {
     "end_time": "2019-03-11T02:30:46.131118Z",
     "start_time": "2019-03-11T02:30:45.961612Z"
    }
   },
   "outputs": [
    {
     "name": "stdout",
     "output_type": "stream",
     "text": [
      "x corresponds to 1\n",
      "y corresponds to 2\n",
      "z corresponds to 3\n"
     ]
    }
   ],
   "source": [
    "for key, value in d.items():\n",
    "    print(key, 'corresponds to', value)"
   ]
  },
  {
   "cell_type": "markdown",
   "metadata": {
    "ExecuteTime": {
     "end_time": "2019-02-14T02:44:42.588856Z",
     "start_time": "2019-02-14T02:44:42.580859Z"
    }
   },
   "source": [
    "并行迭代\n",
    "\n",
    "---\n",
    "\n",
    "有时候，你可能想同时迭代两个序列。假设有下面两个列表："
   ]
  },
  {
   "cell_type": "code",
   "execution_count": 36,
   "metadata": {
    "ExecuteTime": {
     "end_time": "2019-03-11T02:30:46.239067Z",
     "start_time": "2019-03-11T02:30:46.141107Z"
    }
   },
   "outputs": [],
   "source": [
    "names = ['anne', 'beth', 'george', 'damon']\n",
    "ages = [12, 45, 32, 102]"
   ]
  },
  {
   "cell_type": "markdown",
   "metadata": {},
   "source": [
    "如果要打印名字和对应的年龄，可以像下面这样做："
   ]
  },
  {
   "cell_type": "code",
   "execution_count": 37,
   "metadata": {
    "ExecuteTime": {
     "end_time": "2019-03-11T02:30:46.432073Z",
     "start_time": "2019-03-11T02:30:46.240047Z"
    }
   },
   "outputs": [
    {
     "name": "stdout",
     "output_type": "stream",
     "text": [
      "anne is 12 years old\n",
      "beth is 45 years old\n",
      "george is 32 years old\n",
      "damon is 102 years old\n"
     ]
    }
   ],
   "source": [
    "for i in range(len(names)):\n",
    "    print(names[i], 'is', ages[i], 'years old')"
   ]
  },
  {
   "cell_type": "markdown",
   "metadata": {},
   "source": [
    "一个很有用的并行迭代工具是内置函数 zip ，它将两个序列“缝合”起来，并返回一个由元组组成的序列。返回值是一个适合迭代的对象，要查看其内\n",
    "容，可使用 list 将其转换为列表。"
   ]
  },
  {
   "cell_type": "code",
   "execution_count": 38,
   "metadata": {
    "ExecuteTime": {
     "end_time": "2019-03-11T02:30:46.542008Z",
     "start_time": "2019-03-11T02:30:46.440069Z"
    }
   },
   "outputs": [
    {
     "data": {
      "text/plain": [
       "[('anne', 12), ('beth', 45), ('george', 32), ('damon', 102)]"
      ]
     },
     "execution_count": 38,
     "metadata": {},
     "output_type": "execute_result"
    }
   ],
   "source": [
    "list(zip(names, ages))"
   ]
  },
  {
   "cell_type": "markdown",
   "metadata": {},
   "source": [
    "“缝合”后，可在循环中将元组解包。"
   ]
  },
  {
   "cell_type": "code",
   "execution_count": 39,
   "metadata": {
    "ExecuteTime": {
     "end_time": "2019-03-11T02:30:46.739667Z",
     "start_time": "2019-03-11T02:30:46.545008Z"
    }
   },
   "outputs": [
    {
     "name": "stdout",
     "output_type": "stream",
     "text": [
      "anne is 12 years old\n",
      "beth is 45 years old\n",
      "george is 32 years old\n",
      "damon is 102 years old\n"
     ]
    }
   ],
   "source": [
    "for name, age in zip(names, ages):\n",
    "    print(name, 'is', age, 'years old')"
   ]
  },
  {
   "cell_type": "markdown",
   "metadata": {},
   "source": [
    "迭代时获取索引\n",
    "\n",
    "---\n",
    "\n",
    "在有些情况下，你需要在迭代对象序列的同时获取当前对象的索引。例如，你可能想替换一\n",
    "个字符串列表中所有包含子串 'xxx' 的字符串。当然，完成这种任务的方法有很多，但这里假设\n",
    "你要像下面这样做："
   ]
  },
  {
   "cell_type": "code",
   "execution_count": 40,
   "metadata": {},
   "outputs": [
    {
     "name": "stdout",
     "output_type": "stream",
     "text": [
      "char at 0 is h\n",
      "char at 1 is e\n",
      "char at 2 is l\n",
      "char at 3 is l\n",
      "char at 4 is o\n"
     ]
    }
   ],
   "source": [
    "str1 = 'hello'\n",
    "for i in range(5):\n",
    "    print('char at {} is {}'.format(i, str1[i]))"
   ]
  },
  {
   "cell_type": "code",
   "execution_count": 41,
   "metadata": {
    "ExecuteTime": {
     "end_time": "2019-03-11T02:30:46.899591Z",
     "start_time": "2019-03-11T02:30:46.744661Z"
    }
   },
   "outputs": [
    {
     "name": "stdout",
     "output_type": "stream",
     "text": [
      "0:h\n",
      "1:e\n",
      "2:l\n",
      "3:l\n",
      "4:o\n"
     ]
    }
   ],
   "source": [
    "for index, value in enumerate('hello'):\n",
    "    print(str(index) + ':' + str(value))"
   ]
  },
  {
   "cell_type": "markdown",
   "metadata": {},
   "source": [
    "假如要跳出循环，可用break或是continue  \n",
    "* break: 跳出 for 和 while 的循环体  \n",
    "* continue: 跳过当前循环块中的剩余语句，然后继续进行下一轮循环  \n",
    "\n",
    "![img](figtabs/ch2/break_continue.png)"
   ]
  },
  {
   "cell_type": "markdown",
   "metadata": {},
   "source": [
    "假设你要找出小于100的最大平方值（整数与自己相乘的结果），可从100开始向下迭代。找到一个平方值后，无需再迭代，因此直接跳出循环。"
   ]
  },
  {
   "cell_type": "code",
   "execution_count": 42,
   "metadata": {
    "ExecuteTime": {
     "end_time": "2019-03-11T02:30:47.020504Z",
     "start_time": "2019-03-11T02:30:46.902570Z"
    }
   },
   "outputs": [
    {
     "name": "stdout",
     "output_type": "stream",
     "text": [
      "81\n"
     ]
    }
   ],
   "source": [
    "from math import sqrt\n",
    "for n in range(99, 0, -1):\n",
    "    root = sqrt(n)\n",
    "    if root == int(root):\n",
    "        print(n)\n",
    "        break"
   ]
  },
  {
   "cell_type": "markdown",
   "metadata": {},
   "source": [
    "循环中的 else 子句\n",
    "\n",
    "---\n",
    "\n",
    "通常，在循环中使用 break 是因为你“发现”了什么或“出现”了什么情况。要在循环提前结束时采取某种措施很容易，但有时候你可能想在循环正常结束时才采取某种措施。如何判断循环是提前结束还是正常结束的呢？可在循环开始前定义一个布尔变量并将其设置为 False，再在跳出循环时将其设置为 True 。这样就可在循环后面使用一条 if 语句来判断循环是否是提前结束的。"
   ]
  },
  {
   "cell_type": "code",
   "execution_count": 43,
   "metadata": {
    "ExecuteTime": {
     "end_time": "2019-03-11T02:30:47.213395Z",
     "start_time": "2019-03-11T02:30:47.025501Z"
    }
   },
   "outputs": [
    {
     "name": "stdout",
     "output_type": "stream",
     "text": [
      "Didn't find it!\n"
     ]
    }
   ],
   "source": [
    "broke_out = False\n",
    "from math import sqrt\n",
    "for n in range(99, 81, -1):\n",
    "    root = sqrt(n)\n",
    "    if root == int(root):\n",
    "        print(n)\n",
    "        broke_out = True\n",
    "        break\n",
    "if not broke_out:\n",
    "    print(\"Didn't find it!\")"
   ]
  },
  {
   "cell_type": "markdown",
   "metadata": {
    "ExecuteTime": {
     "end_time": "2019-02-14T02:55:19.530521Z",
     "start_time": "2019-02-14T02:55:19.523528Z"
    }
   },
   "source": [
    "一种更简单的办法是在循环中添加一条 else 子句，**它仅在没有调用 break 时才执行**，也就是善始善终时执行"
   ]
  },
  {
   "cell_type": "code",
   "execution_count": 44,
   "metadata": {
    "ExecuteTime": {
     "end_time": "2019-03-11T02:30:47.341822Z",
     "start_time": "2019-03-11T02:30:47.215392Z"
    }
   },
   "outputs": [
    {
     "name": "stdout",
     "output_type": "stream",
     "text": [
      "Didn't find it!\n"
     ]
    }
   ],
   "source": [
    "from math import sqrt\n",
    "for n in range(99, 81, -1):\n",
    "    root = sqrt(n)\n",
    "    if root == int(root):\n",
    "        print(n)\n",
    "        break\n",
    "else:\n",
    "    print(\"Didn't find it!\")"
   ]
  },
  {
   "cell_type": "markdown",
   "metadata": {},
   "source": [
    "从“孙行者”看一看排列组合："
   ]
  },
  {
   "cell_type": "code",
   "execution_count": 45,
   "metadata": {
    "ExecuteTime": {
     "end_time": "2019-03-21T04:17:18.444263Z",
     "start_time": "2019-03-21T04:17:18.438265Z"
    }
   },
   "outputs": [
    {
     "name": "stdout",
     "output_type": "stream",
     "text": [
      "孙行者\n",
      "孙者行\n",
      "行孙者\n",
      "行者孙\n",
      "者孙行\n",
      "者行孙\n"
     ]
    }
   ],
   "source": [
    "from itertools import permutations\n",
    "monkey_king = [\"孙\", \"行\", \"者\"]\n",
    "for title in permutations(monkey_king):\n",
    "    print(''.join(title))"
   ]
  },
  {
   "cell_type": "markdown",
   "metadata": {},
   "source": [
    "### 列表推导"
   ]
  },
  {
   "cell_type": "markdown",
   "metadata": {
    "ExecuteTime": {
     "end_time": "2019-02-14T02:57:04.051391Z",
     "start_time": "2019-02-14T02:57:04.042394Z"
    }
   },
   "source": [
    "列表推导是一种从其他列表创建列表的方式，类似于数学中的集合推导。列表推导的工作原理非常简单，有点类似于 for 循环。"
   ]
  },
  {
   "cell_type": "code",
   "execution_count": 46,
   "metadata": {
    "ExecuteTime": {
     "end_time": "2019-03-11T02:30:47.486203Z",
     "start_time": "2019-03-11T02:30:47.349818Z"
    }
   },
   "outputs": [
    {
     "data": {
      "text/plain": [
       "['p', 'y', 't', 'h', 'o', 'n']"
      ]
     },
     "execution_count": 46,
     "metadata": {},
     "output_type": "execute_result"
    }
   ],
   "source": [
    "chars = [c for c in 'python']\n",
    "chars"
   ]
  },
  {
   "cell_type": "code",
   "execution_count": 47,
   "metadata": {
    "ExecuteTime": {
     "end_time": "2019-03-18T07:18:09.358416Z",
     "start_time": "2019-03-18T07:18:09.344426Z"
    }
   },
   "outputs": [
    {
     "data": {
      "text/plain": [
       "['p', 'y', 't', 'h', 'o', 'n']"
      ]
     },
     "execution_count": 47,
     "metadata": {},
     "output_type": "execute_result"
    }
   ],
   "source": [
    "chars = []\n",
    "for c in 'python':\n",
    "    chars.append(c)\n",
    "chars"
   ]
  },
  {
   "cell_type": "code",
   "execution_count": 48,
   "metadata": {
    "ExecuteTime": {
     "end_time": "2019-03-11T02:30:47.607762Z",
     "start_time": "2019-03-11T02:30:47.489200Z"
    }
   },
   "outputs": [
    {
     "data": {
      "text/plain": [
       "[0, 1, 4, 9, 16, 25, 36, 49, 64, 81]"
      ]
     },
     "execution_count": 48,
     "metadata": {},
     "output_type": "execute_result"
    }
   ],
   "source": [
    "[x ** 2 for x in range(10)]"
   ]
  },
  {
   "cell_type": "code",
   "execution_count": 49,
   "metadata": {
    "ExecuteTime": {
     "end_time": "2019-03-11T02:30:47.786658Z",
     "start_time": "2019-03-11T02:30:47.631748Z"
    }
   },
   "outputs": [
    {
     "data": {
      "text/plain": [
       "[0, 9, 36, 81]"
      ]
     },
     "execution_count": 49,
     "metadata": {},
     "output_type": "execute_result"
    }
   ],
   "source": [
    "[x*x for x in range(10) if x % 3 == 0]"
   ]
  },
  {
   "cell_type": "code",
   "execution_count": 50,
   "metadata": {
    "ExecuteTime": {
     "end_time": "2019-03-11T02:30:47.955562Z",
     "start_time": "2019-03-11T02:30:47.805651Z"
    }
   },
   "outputs": [
    {
     "data": {
      "text/plain": [
       "[(0, 0), (0, 1), (0, 2), (1, 0), (1, 1), (1, 2), (2, 0), (2, 1), (2, 2)]"
      ]
     },
     "execution_count": 50,
     "metadata": {},
     "output_type": "execute_result"
    }
   ],
   "source": [
    "[(x, y) for x in range(3) for y in range(3)]"
   ]
  },
  {
   "cell_type": "markdown",
   "metadata": {},
   "source": [
    "相当于下面的语句："
   ]
  },
  {
   "cell_type": "code",
   "execution_count": 51,
   "metadata": {
    "ExecuteTime": {
     "end_time": "2019-03-11T02:30:48.131461Z",
     "start_time": "2019-03-11T02:30:47.958560Z"
    }
   },
   "outputs": [
    {
     "data": {
      "text/plain": [
       "[(0, 0), (0, 1), (0, 2), (1, 0), (1, 1), (1, 2), (2, 0), (2, 1), (2, 2)]"
      ]
     },
     "execution_count": 51,
     "metadata": {},
     "output_type": "execute_result"
    }
   ],
   "source": [
    "result = []\n",
    "for x in range(3):\n",
    "    for y in range(3):\n",
    "        result.append((x, y))\n",
    "result"
   ]
  },
  {
   "cell_type": "code",
   "execution_count": 52,
   "metadata": {
    "ExecuteTime": {
     "end_time": "2019-03-11T02:30:48.276396Z",
     "start_time": "2019-03-11T02:30:48.134459Z"
    }
   },
   "outputs": [
    {
     "data": {
      "text/plain": [
       "['hi', 'python']"
      ]
     },
     "execution_count": 52,
     "metadata": {},
     "output_type": "execute_result"
    }
   ],
   "source": [
    "hi_python = ['Hi', 'Python']\n",
    "[s.lower() for s in hi_python]"
   ]
  },
  {
   "cell_type": "markdown",
   "metadata": {},
   "source": [
    "总结一下，创建列表的三种方法：<br>\n",
    "* 用中括号[]包裹元素，元素使用逗号分隔\n",
    "* 用list()方法转化生成列表\n",
    "* 列表推导式生成列表"
   ]
  },
  {
   "cell_type": "markdown",
   "metadata": {},
   "source": [
    "当然，除了列表推导，集合、字典也有推导式："
   ]
  },
  {
   "cell_type": "code",
   "execution_count": 53,
   "metadata": {
    "ExecuteTime": {
     "end_time": "2019-03-21T04:25:09.610571Z",
     "start_time": "2019-03-21T04:25:09.602580Z"
    }
   },
   "outputs": [
    {
     "data": {
      "text/plain": [
       "{2, 4, 8}"
      ]
     },
     "execution_count": 53,
     "metadata": {},
     "output_type": "execute_result"
    }
   ],
   "source": [
    "num_list = [1, 2, 3, 4, 5, 2, 5, 1, 4, 8]\n",
    "even_set = { x for x in num_list if x % 2 == 0 }\n",
    "even_set"
   ]
  },
  {
   "cell_type": "code",
   "execution_count": 54,
   "metadata": {
    "ExecuteTime": {
     "end_time": "2019-03-21T04:25:39.801505Z",
     "start_time": "2019-03-21T04:25:39.793511Z"
    }
   },
   "outputs": [
    {
     "data": {
      "text/plain": [
       "{1: False,\n",
       " 2: True,\n",
       " 3: False,\n",
       " 4: True,\n",
       " 5: False,\n",
       " 6: True,\n",
       " 7: False,\n",
       " 8: True,\n",
       " 9: False,\n",
       " 10: True}"
      ]
     },
     "execution_count": 54,
     "metadata": {},
     "output_type": "execute_result"
    }
   ],
   "source": [
    "d = { x: x % 2 == 0 for x in range(1, 11) }\n",
    "d"
   ]
  },
  {
   "cell_type": "code",
   "execution_count": 55,
   "metadata": {
    "ExecuteTime": {
     "end_time": "2019-03-21T04:22:20.146282Z",
     "start_time": "2019-03-21T04:22:20.132295Z"
    }
   },
   "outputs": [
    {
     "data": {
      "text/plain": [
       "{'TensorFlow': 0,\n",
       " 'Theano': 1,\n",
       " 'Keras': 2,\n",
       " 'Caffe': 3,\n",
       " 'PyTorch': 4,\n",
       " ' mxnet': 5}"
      ]
     },
     "execution_count": 55,
     "metadata": {},
     "output_type": "execute_result"
    }
   ],
   "source": [
    "deep_learning = ['TensorFlow', 'Theano', 'Keras', 'Caffe', 'PyTorch', ' mxnet']\n",
    "{key: value for value, key in enumerate(deep_learning)}"
   ]
  },
  {
   "cell_type": "markdown",
   "metadata": {
    "toc-hr-collapsed": false
   },
   "source": [
    "## 编写函数"
   ]
  },
  {
   "cell_type": "markdown",
   "metadata": {},
   "source": [
    "Hadley Wickham\n",
    ">You should consider writing a function whenever you’ve copied and pasted a block of code more than twice (i.e. you now have three copies of the same code).  \n",
    "\n",
    "按照事不过三法则，一旦你复制粘贴代码超过三次，就需要考虑编写函数了。"
   ]
  },
  {
   "cell_type": "markdown",
   "metadata": {},
   "source": [
    "### 自定义函数"
   ]
  },
  {
   "cell_type": "markdown",
   "metadata": {},
   "source": [
    "函数是结构化编程的核心。那么如何定义函数呢？使用 def （表示定义函数）语句。"
   ]
  },
  {
   "cell_type": "code",
   "execution_count": 56,
   "metadata": {
    "ExecuteTime": {
     "end_time": "2019-03-11T02:30:48.407302Z",
     "start_time": "2019-03-11T02:30:48.279376Z"
    }
   },
   "outputs": [],
   "source": [
    "def hello(name):\n",
    "    return 'Hello, ' + name + '!'"
   ]
  },
  {
   "cell_type": "code",
   "execution_count": 57,
   "metadata": {
    "ExecuteTime": {
     "end_time": "2019-03-11T02:30:48.599195Z",
     "start_time": "2019-03-11T02:30:48.410302Z"
    }
   },
   "outputs": [
    {
     "data": {
      "text/plain": [
       "'Hello, world!'"
      ]
     },
     "execution_count": 57,
     "metadata": {},
     "output_type": "execute_result"
    }
   ],
   "source": [
    "hello('world')"
   ]
  },
  {
   "cell_type": "code",
   "execution_count": 58,
   "metadata": {
    "ExecuteTime": {
     "end_time": "2019-03-11T02:30:48.753105Z",
     "start_time": "2019-03-11T02:30:48.602191Z"
    }
   },
   "outputs": [
    {
     "data": {
      "text/plain": [
       "'Hello, Beijing!'"
      ]
     },
     "execution_count": 58,
     "metadata": {},
     "output_type": "execute_result"
    }
   ],
   "source": [
    "hello('Beijing')"
   ]
  },
  {
   "cell_type": "code",
   "execution_count": 59,
   "metadata": {
    "ExecuteTime": {
     "end_time": "2019-03-11T02:30:48.907019Z",
     "start_time": "2019-03-11T02:30:48.756104Z"
    }
   },
   "outputs": [],
   "source": [
    "def fibs(num):\n",
    "    result = [0, 1]\n",
    "    for i in range(num-2):\n",
    "        result.append(result[-2] + result[-1])\n",
    "    return result"
   ]
  },
  {
   "cell_type": "code",
   "execution_count": 60,
   "metadata": {
    "ExecuteTime": {
     "end_time": "2019-03-11T02:30:49.030948Z",
     "start_time": "2019-03-11T02:30:48.910015Z"
    }
   },
   "outputs": [
    {
     "data": {
      "text/plain": [
       "[0, 1, 1, 2, 3, 5, 8, 13, 21, 34]"
      ]
     },
     "execution_count": 60,
     "metadata": {},
     "output_type": "execute_result"
    }
   ],
   "source": [
    "fibs(10)"
   ]
  },
  {
   "cell_type": "markdown",
   "metadata": {},
   "source": [
    "要给函数编写文档，以确保其他人能够理解，可添加注释（以#打头的内容）。还有另一种编写注释的方式，就是添加独立的字符串。在有些地方，如 def 语句后面，添加这样的字符串很有用。放在函数开头的字符串称为\n",
    "文档字符串（docstring），将作为函数的一部分存储起来。"
   ]
  },
  {
   "cell_type": "code",
   "execution_count": 61,
   "metadata": {
    "ExecuteTime": {
     "end_time": "2019-03-11T02:30:49.162872Z",
     "start_time": "2019-03-11T02:30:49.033944Z"
    }
   },
   "outputs": [],
   "source": [
    "def square(x):\n",
    "    'Calculates the square of the number x.'\n",
    "    return x * x"
   ]
  },
  {
   "cell_type": "markdown",
   "metadata": {},
   "source": [
    "可以像下面这样访问文档字符串："
   ]
  },
  {
   "cell_type": "code",
   "execution_count": 62,
   "metadata": {
    "ExecuteTime": {
     "end_time": "2019-03-11T02:30:49.274807Z",
     "start_time": "2019-03-11T02:30:49.165869Z"
    }
   },
   "outputs": [
    {
     "data": {
      "text/plain": [
       "'Calculates the square of the number x.'"
      ]
     },
     "execution_count": 62,
     "metadata": {},
     "output_type": "execute_result"
    }
   ],
   "source": [
    "square.__doc__"
   ]
  },
  {
   "cell_type": "markdown",
   "metadata": {},
   "source": [
    "特殊的内置函数 help 很有用。在交互式解释器中，可使用它获取有关函数的信息，其中包含函数的文档字符串。"
   ]
  },
  {
   "cell_type": "code",
   "execution_count": 63,
   "metadata": {
    "ExecuteTime": {
     "end_time": "2019-03-11T02:30:49.374751Z",
     "start_time": "2019-03-11T02:30:49.277806Z"
    }
   },
   "outputs": [
    {
     "name": "stdout",
     "output_type": "stream",
     "text": [
      "Help on function square in module __main__:\n",
      "\n",
      "square(x)\n",
      "    Calculates the square of the number x.\n",
      "\n"
     ]
    }
   ],
   "source": [
    "help(square)"
   ]
  },
  {
   "cell_type": "code",
   "execution_count": 64,
   "metadata": {
    "ExecuteTime": {
     "end_time": "2019-03-11T02:30:49.594625Z",
     "start_time": "2019-03-11T02:30:49.378746Z"
    }
   },
   "outputs": [
    {
     "data": {
      "text/plain": [
       "\u001b[1;31mSignature:\u001b[0m \u001b[0msquare\u001b[0m\u001b[1;33m(\u001b[0m\u001b[0mx\u001b[0m\u001b[1;33m)\u001b[0m\u001b[1;33m\u001b[0m\u001b[1;33m\u001b[0m\u001b[0m\n",
       "\u001b[1;31mDocstring:\u001b[0m Calculates the square of the number x.\n",
       "\u001b[1;31mFile:\u001b[0m      d:\\wd\\python\\t01_edu\\y02_dataminingexperiments\\<ipython-input-61-a332d74ba4aa>\n",
       "\u001b[1;31mType:\u001b[0m      function\n"
      ]
     },
     "metadata": {},
     "output_type": "display_data"
    }
   ],
   "source": [
    "?square"
   ]
  },
  {
   "cell_type": "code",
   "execution_count": 65,
   "metadata": {
    "ExecuteTime": {
     "end_time": "2019-03-11T02:30:49.698564Z",
     "start_time": "2019-03-11T02:30:49.597621Z"
    }
   },
   "outputs": [
    {
     "data": {
      "text/plain": [
       "\u001b[1;31mSignature:\u001b[0m \u001b[0msquare\u001b[0m\u001b[1;33m(\u001b[0m\u001b[0mx\u001b[0m\u001b[1;33m)\u001b[0m\u001b[1;33m\u001b[0m\u001b[1;33m\u001b[0m\u001b[0m\n",
       "\u001b[1;31mDocstring:\u001b[0m Calculates the square of the number x.\n",
       "\u001b[1;31mFile:\u001b[0m      d:\\wd\\python\\t01_edu\\y02_dataminingexperiments\\<ipython-input-61-a332d74ba4aa>\n",
       "\u001b[1;31mType:\u001b[0m      function\n"
      ]
     },
     "metadata": {},
     "output_type": "display_data"
    }
   ],
   "source": [
    "square?"
   ]
  },
  {
   "cell_type": "markdown",
   "metadata": {},
   "source": [
    "### 参数魔法"
   ]
  },
  {
   "cell_type": "code",
   "execution_count": 66,
   "metadata": {
    "ExecuteTime": {
     "end_time": "2019-03-11T02:30:49.875463Z",
     "start_time": "2019-03-11T02:30:49.701563Z"
    }
   },
   "outputs": [
    {
     "data": {
      "text/plain": [
       "'Mrs. Entity'"
      ]
     },
     "execution_count": 66,
     "metadata": {},
     "output_type": "execute_result"
    }
   ],
   "source": [
    "def try_to_change(n):\n",
    "    n = 'Mr. Gumby'\n",
    "\n",
    "name = 'Mrs. Entity'\n",
    "try_to_change(name)\n",
    "name"
   ]
  },
  {
   "cell_type": "markdown",
   "metadata": {},
   "source": [
    "字符串（以及数和元组）是不可变的（immutable），这意味着你不能修改它们（即只能替换为新值）。因此这些类型作为参数没什么可说的。但如果参数为可变的数据结构（如列表）呢？"
   ]
  },
  {
   "cell_type": "code",
   "execution_count": 67,
   "metadata": {
    "ExecuteTime": {
     "end_time": "2019-03-11T02:30:49.985399Z",
     "start_time": "2019-03-11T02:30:49.877463Z"
    }
   },
   "outputs": [],
   "source": [
    "def change(n):\n",
    "    n[0] = 'Mr. Gumby'"
   ]
  },
  {
   "cell_type": "code",
   "execution_count": 68,
   "metadata": {
    "ExecuteTime": {
     "end_time": "2019-03-11T02:30:50.120556Z",
     "start_time": "2019-03-11T02:30:49.988398Z"
    }
   },
   "outputs": [
    {
     "data": {
      "text/plain": [
       "['Mr. Gumby', 'Mrs. Thing']"
      ]
     },
     "execution_count": 68,
     "metadata": {},
     "output_type": "execute_result"
    }
   ],
   "source": [
    "names = ['Mrs. Entity', 'Mrs. Thing']\n",
    "change(names)\n",
    "names"
   ]
  },
  {
   "cell_type": "code",
   "execution_count": 69,
   "metadata": {
    "ExecuteTime": {
     "end_time": "2019-03-11T02:30:50.302993Z",
     "start_time": "2019-03-11T02:30:50.129544Z"
    }
   },
   "outputs": [],
   "source": [
    "names = ['Mrs. Entity', 'Mrs. Thing']\n",
    "n = names"
   ]
  },
  {
   "cell_type": "code",
   "execution_count": 70,
   "metadata": {
    "ExecuteTime": {
     "end_time": "2019-03-11T02:30:50.432888Z",
     "start_time": "2019-03-11T02:30:50.311958Z"
    }
   },
   "outputs": [
    {
     "data": {
      "text/plain": [
       "True"
      ]
     },
     "execution_count": 70,
     "metadata": {},
     "output_type": "execute_result"
    }
   ],
   "source": [
    "n == names"
   ]
  },
  {
   "cell_type": "code",
   "execution_count": 71,
   "metadata": {
    "ExecuteTime": {
     "end_time": "2019-03-11T02:30:50.543824Z",
     "start_time": "2019-03-11T02:30:50.435886Z"
    }
   },
   "outputs": [
    {
     "data": {
      "text/plain": [
       "True"
      ]
     },
     "execution_count": 71,
     "metadata": {},
     "output_type": "execute_result"
    }
   ],
   "source": [
    "n is names"
   ]
  },
  {
   "cell_type": "code",
   "execution_count": 72,
   "metadata": {
    "ExecuteTime": {
     "end_time": "2019-03-11T02:30:50.651765Z",
     "start_time": "2019-03-11T02:30:50.546823Z"
    }
   },
   "outputs": [],
   "source": [
    "n = names[:]"
   ]
  },
  {
   "cell_type": "code",
   "execution_count": 73,
   "metadata": {
    "ExecuteTime": {
     "end_time": "2019-03-11T02:30:50.802135Z",
     "start_time": "2019-03-11T02:30:50.654761Z"
    }
   },
   "outputs": [
    {
     "data": {
      "text/plain": [
       "True"
      ]
     },
     "execution_count": 73,
     "metadata": {},
     "output_type": "execute_result"
    }
   ],
   "source": [
    "n == names"
   ]
  },
  {
   "cell_type": "code",
   "execution_count": 74,
   "metadata": {
    "ExecuteTime": {
     "end_time": "2019-03-11T02:30:50.965040Z",
     "start_time": "2019-03-11T02:30:50.807132Z"
    }
   },
   "outputs": [
    {
     "data": {
      "text/plain": [
       "False"
      ]
     },
     "execution_count": 74,
     "metadata": {},
     "output_type": "execute_result"
    }
   ],
   "source": [
    "n is names"
   ]
  },
  {
   "cell_type": "code",
   "execution_count": 75,
   "metadata": {
    "ExecuteTime": {
     "end_time": "2019-03-11T02:30:51.120951Z",
     "start_time": "2019-03-11T02:30:50.968040Z"
    }
   },
   "outputs": [
    {
     "data": {
      "text/plain": [
       "['Mrs. Entity', 'Mrs. Thing']"
      ]
     },
     "execution_count": 75,
     "metadata": {},
     "output_type": "execute_result"
    }
   ],
   "source": [
    "change(names[:])\n",
    "\n",
    "names"
   ]
  },
  {
   "cell_type": "markdown",
   "metadata": {},
   "source": [
    "关键字参数和默认值"
   ]
  },
  {
   "cell_type": "code",
   "execution_count": 76,
   "metadata": {
    "ExecuteTime": {
     "end_time": "2019-03-11T02:30:51.230890Z",
     "start_time": "2019-03-11T02:30:51.123950Z"
    }
   },
   "outputs": [],
   "source": [
    "def hello_1(name, greeting):\n",
    "    print('{}, {}!'.format(name, greeting))\n",
    "\n",
    "def hello_2(greeting, name):\n",
    "    print('{}, {}!'.format(name, greeting))\n"
   ]
  },
  {
   "cell_type": "code",
   "execution_count": 77,
   "metadata": {
    "ExecuteTime": {
     "end_time": "2019-03-11T02:30:51.363725Z",
     "start_time": "2019-03-11T02:30:51.233887Z"
    }
   },
   "outputs": [
    {
     "name": "stdout",
     "output_type": "stream",
     "text": [
      "Hello, world!\n"
     ]
    }
   ],
   "source": [
    "hello_1('Hello', 'world')"
   ]
  },
  {
   "cell_type": "code",
   "execution_count": 78,
   "metadata": {
    "ExecuteTime": {
     "end_time": "2019-03-11T02:30:51.474764Z",
     "start_time": "2019-03-11T02:30:51.369722Z"
    }
   },
   "outputs": [
    {
     "name": "stdout",
     "output_type": "stream",
     "text": [
      "world, Hello!\n"
     ]
    }
   ],
   "source": [
    "hello_2('Hello', 'world')"
   ]
  },
  {
   "cell_type": "markdown",
   "metadata": {},
   "source": [
    "有时候，参数的排列顺序可能难以记住，尤其是参数很多时。为了简化调用工作，可指定参数的名称。"
   ]
  },
  {
   "cell_type": "code",
   "execution_count": 79,
   "metadata": {
    "ExecuteTime": {
     "end_time": "2019-03-11T02:30:51.617851Z",
     "start_time": "2019-03-11T02:30:51.477754Z"
    }
   },
   "outputs": [
    {
     "name": "stdout",
     "output_type": "stream",
     "text": [
      "world, Hello!\n"
     ]
    }
   ],
   "source": [
    "hello_1(greeting='Hello', name='world')"
   ]
  },
  {
   "cell_type": "code",
   "execution_count": 80,
   "metadata": {
    "ExecuteTime": {
     "end_time": "2019-03-11T02:30:51.729787Z",
     "start_time": "2019-03-11T02:30:51.626852Z"
    }
   },
   "outputs": [
    {
     "name": "stdout",
     "output_type": "stream",
     "text": [
      "world, Hello!\n"
     ]
    }
   ],
   "source": [
    "hello_2(greeting='Hello', name='world')"
   ]
  },
  {
   "cell_type": "markdown",
   "metadata": {},
   "source": [
    "关键字参数最大的优点在于，可以指定默认值。"
   ]
  },
  {
   "cell_type": "code",
   "execution_count": 81,
   "metadata": {
    "ExecuteTime": {
     "end_time": "2019-03-11T02:30:51.895341Z",
     "start_time": "2019-03-11T02:30:51.732784Z"
    }
   },
   "outputs": [],
   "source": [
    "def hello_3(greeting='Hello', name='world'):\n",
    "    print('{}, {}!'.format(greeting, name))"
   ]
  },
  {
   "cell_type": "code",
   "execution_count": 82,
   "metadata": {
    "ExecuteTime": {
     "end_time": "2019-03-11T02:30:52.002277Z",
     "start_time": "2019-03-11T02:30:51.897338Z"
    }
   },
   "outputs": [
    {
     "name": "stdout",
     "output_type": "stream",
     "text": [
      "Hello, world!\n"
     ]
    }
   ],
   "source": [
    "hello_3()"
   ]
  },
  {
   "cell_type": "code",
   "execution_count": 83,
   "metadata": {
    "ExecuteTime": {
     "end_time": "2019-03-11T02:30:52.110217Z",
     "start_time": "2019-03-11T02:30:52.005276Z"
    }
   },
   "outputs": [
    {
     "name": "stdout",
     "output_type": "stream",
     "text": [
      "Hello, beijing!\n"
     ]
    }
   ],
   "source": [
    "hello_3(name = 'beijing')"
   ]
  },
  {
   "cell_type": "code",
   "execution_count": 84,
   "metadata": {
    "ExecuteTime": {
     "end_time": "2019-03-11T02:30:52.220154Z",
     "start_time": "2019-03-11T02:30:52.114214Z"
    }
   },
   "outputs": [
    {
     "name": "stdout",
     "output_type": "stream",
     "text": [
      "hi, beijing!\n"
     ]
    }
   ],
   "source": [
    "hello_3(greeting = 'hi', name = 'beijing')"
   ]
  },
  {
   "cell_type": "code",
   "execution_count": 85,
   "metadata": {
    "ExecuteTime": {
     "end_time": "2019-03-11T02:30:52.330108Z",
     "start_time": "2019-03-11T02:30:52.222151Z"
    }
   },
   "outputs": [],
   "source": [
    "def print_params_2(title, *params):\n",
    "    print(title)\n",
    "    print(params)"
   ]
  },
  {
   "cell_type": "code",
   "execution_count": 86,
   "metadata": {
    "ExecuteTime": {
     "end_time": "2019-03-11T02:30:52.431032Z",
     "start_time": "2019-03-11T02:30:52.333089Z"
    }
   },
   "outputs": [
    {
     "name": "stdout",
     "output_type": "stream",
     "text": [
      "Params:\n",
      "(1, 2, 3)\n"
     ]
    }
   ],
   "source": [
    "print_params_2('Params:', 1, 2, 3)"
   ]
  },
  {
   "cell_type": "code",
   "execution_count": 87,
   "metadata": {
    "ExecuteTime": {
     "end_time": "2019-03-11T02:30:52.539971Z",
     "start_time": "2019-03-11T02:30:52.434031Z"
    }
   },
   "outputs": [],
   "source": [
    "def in_the_middle(x, *y, z):\n",
    "    print(x, y, z)"
   ]
  },
  {
   "cell_type": "code",
   "execution_count": 88,
   "metadata": {
    "ExecuteTime": {
     "end_time": "2019-03-11T02:30:52.642930Z",
     "start_time": "2019-03-11T02:30:52.542968Z"
    }
   },
   "outputs": [
    {
     "name": "stdout",
     "output_type": "stream",
     "text": [
      "1 (2, 3, 4, 5) 7\n"
     ]
    }
   ],
   "source": [
    "in_the_middle(1, 2, 3, 4, 5, z=7)"
   ]
  },
  {
   "cell_type": "markdown",
   "metadata": {},
   "source": [
    "要收集关键字参数，可使用两个星号。"
   ]
  },
  {
   "cell_type": "code",
   "execution_count": 89,
   "metadata": {
    "ExecuteTime": {
     "end_time": "2019-03-11T02:30:52.752912Z",
     "start_time": "2019-03-11T02:30:52.645910Z"
    }
   },
   "outputs": [
    {
     "name": "stdout",
     "output_type": "stream",
     "text": [
      "{'x': 1, 'y': 2, 'z': 3}\n"
     ]
    }
   ],
   "source": [
    "def print_params_3(**params):\n",
    "    print(params)\n",
    "\n",
    "print_params_3(x=1, y=2, z=3)"
   ]
  },
  {
   "cell_type": "code",
   "execution_count": 90,
   "metadata": {
    "ExecuteTime": {
     "end_time": "2019-03-11T02:30:52.852855Z",
     "start_time": "2019-03-11T02:30:52.756909Z"
    }
   },
   "outputs": [],
   "source": [
    "def print_params_4(x, y, z=3, *pospar, **keypar):\n",
    "    print(x, y, z)\n",
    "    print(pospar)\n",
    "    print(keypar)"
   ]
  },
  {
   "cell_type": "code",
   "execution_count": 91,
   "metadata": {
    "ExecuteTime": {
     "end_time": "2019-03-11T02:30:52.965791Z",
     "start_time": "2019-03-11T02:30:52.854853Z"
    }
   },
   "outputs": [
    {
     "name": "stdout",
     "output_type": "stream",
     "text": [
      "1 2 3\n",
      "(5, 6, 7)\n",
      "{'foo': 1, 'bar': 2}\n"
     ]
    }
   ],
   "source": [
    "print_params_4(1, 2, 3, 5, 6, 7, foo=1, bar=2)"
   ]
  },
  {
   "cell_type": "code",
   "execution_count": 92,
   "metadata": {},
   "outputs": [
    {
     "name": "stdout",
     "output_type": "stream",
     "text": [
      "Tue Mar 16 21:13:16 2021\n"
     ]
    }
   ],
   "source": [
    "import time\n",
    "print(time.asctime(time.localtime(time.time())))"
   ]
  },
  {
   "cell_type": "markdown",
   "metadata": {},
   "source": [
    "### Here for the third time  \n",
    "\n",
    "---\n",
    "\n",
    "```python\n",
    "import time\n",
    "print(time.asctime(time.localtime(time.time())))\n",
    "```\n",
    "Tue Mar 17 14:41:35 2020"
   ]
  },
  {
   "cell_type": "markdown",
   "metadata": {
    "toc-hr-collapsed": true,
    "toc-nb-collapsed": true
   },
   "source": [
    "# 面向对象编程"
   ]
  },
  {
   "cell_type": "markdown",
   "metadata": {},
   "source": [
    "在面向对象编程中，术语对象大致意味着一系列数据（属性）以及一套访问和操作这些数据的方法。使用对象而非全局变量和函数的原因有多个，下面列出了使用对象的最重要的好处。  \n",
    "* 封装：对外部隐藏有关对象工作原理的细节  \n",
    "* 继承：可基于通用类创建出专用类  \n",
    "* 多态：可对不同类型的对象执行相同的操作，而这些操作就像“被施了魔法”一样能够正常运行  "
   ]
  },
  {
   "cell_type": "code",
   "execution_count": 93,
   "metadata": {
    "ExecuteTime": {
     "end_time": "2019-03-11T02:30:53.074727Z",
     "start_time": "2019-03-11T02:30:52.968788Z"
    }
   },
   "outputs": [],
   "source": [
    "class Person:\n",
    "    def set_name(self, name):\n",
    "        self.name = name\n",
    "    def get_name(self):\n",
    "        return self.name\n",
    "    def greet(self):\n",
    "        print(\"Hello, world! I'm {}.\".format(self.name))"
   ]
  },
  {
   "cell_type": "code",
   "execution_count": 94,
   "metadata": {
    "ExecuteTime": {
     "end_time": "2019-03-11T02:30:53.185662Z",
     "start_time": "2019-03-11T02:30:53.079725Z"
    }
   },
   "outputs": [],
   "source": [
    "foo = Person()\n",
    "bar = Person()\n",
    "foo.set_name('Luke Skywalker')\n",
    "bar.set_name('Anakin Skywalker')"
   ]
  },
  {
   "cell_type": "code",
   "execution_count": 95,
   "metadata": {
    "ExecuteTime": {
     "end_time": "2019-03-11T02:30:53.298598Z",
     "start_time": "2019-03-11T02:30:53.188662Z"
    }
   },
   "outputs": [
    {
     "name": "stdout",
     "output_type": "stream",
     "text": [
      "Hello, world! I'm Luke Skywalker.\n"
     ]
    }
   ],
   "source": [
    "foo.greet()"
   ]
  },
  {
   "cell_type": "code",
   "execution_count": 96,
   "metadata": {
    "ExecuteTime": {
     "end_time": "2019-03-11T02:30:53.397541Z",
     "start_time": "2019-03-11T02:30:53.301597Z"
    }
   },
   "outputs": [
    {
     "name": "stdout",
     "output_type": "stream",
     "text": [
      "Hello, world! I'm Anakin Skywalker.\n"
     ]
    }
   ],
   "source": [
    "bar.greet()"
   ]
  },
  {
   "cell_type": "markdown",
   "metadata": {},
   "source": [
    "这个示例可能有点简单，但澄清了self 是什么。对 foo 调用 set_name 和 greet 时， foo 都会作为第一个参数自动传递给它们。我将这个参数命名为 self ，这非常贴切。实际上，可以随便给这个参数命名，但鉴于它总是指向对象本身，因此习惯上将其命名为 self 。"
   ]
  },
  {
   "cell_type": "markdown",
   "metadata": {},
   "source": [
    "显然， self 很有用，甚至必不可少。如果没有它，所有的方法都无法访问对象本身——要操作的属性所属的对象。与以前一样，也可以从外部访问这些属性。"
   ]
  },
  {
   "cell_type": "code",
   "execution_count": 97,
   "metadata": {
    "ExecuteTime": {
     "end_time": "2019-03-11T02:30:53.498484Z",
     "start_time": "2019-03-11T02:30:53.400540Z"
    }
   },
   "outputs": [
    {
     "data": {
      "text/plain": [
       "'Luke Skywalker'"
      ]
     },
     "execution_count": 97,
     "metadata": {},
     "output_type": "execute_result"
    }
   ],
   "source": [
    "foo.name"
   ]
  },
  {
   "cell_type": "markdown",
   "metadata": {},
   "source": [
    "要让方法或属性成为私有的（不能从外部访问），只需让其名称以两个下划线打头即可。"
   ]
  },
  {
   "cell_type": "code",
   "execution_count": 98,
   "metadata": {
    "ExecuteTime": {
     "end_time": "2019-03-11T02:30:53.607422Z",
     "start_time": "2019-03-11T02:30:53.503481Z"
    }
   },
   "outputs": [],
   "source": [
    "class Secretive:\n",
    "    def __inaccessible(self):\n",
    "        print(\"Bet you can't see me ...\")\n",
    "    def accessible(self):\n",
    "        print(\"The secret message is:\")\n",
    "        self.__inaccessible()"
   ]
  },
  {
   "cell_type": "code",
   "execution_count": 99,
   "metadata": {
    "ExecuteTime": {
     "end_time": "2019-03-11T02:30:53.708365Z",
     "start_time": "2019-03-11T02:30:53.610420Z"
    }
   },
   "outputs": [],
   "source": [
    "s = Secretive()"
   ]
  },
  {
   "cell_type": "code",
   "execution_count": 100,
   "metadata": {
    "ExecuteTime": {
     "end_time": "2019-03-11T02:30:53.809306Z",
     "start_time": "2019-03-11T02:30:53.712364Z"
    }
   },
   "outputs": [
    {
     "name": "stdout",
     "output_type": "stream",
     "text": [
      "The secret message is:\n",
      "Bet you can't see me ...\n"
     ]
    }
   ],
   "source": [
    "s.accessible()"
   ]
  },
  {
   "cell_type": "code",
   "execution_count": 101,
   "metadata": {
    "ExecuteTime": {
     "end_time": "2019-03-11T02:30:53.921242Z",
     "start_time": "2019-03-11T02:30:53.812305Z"
    }
   },
   "outputs": [],
   "source": [
    "class MemberCounter:\n",
    "    members = 0\n",
    "    def init(self):\n",
    "        MemberCounter.members += 1"
   ]
  },
  {
   "cell_type": "code",
   "execution_count": 102,
   "metadata": {
    "ExecuteTime": {
     "end_time": "2019-03-11T02:30:54.018205Z",
     "start_time": "2019-03-11T02:30:53.924240Z"
    }
   },
   "outputs": [],
   "source": [
    "m1 = MemberCounter()"
   ]
  },
  {
   "cell_type": "code",
   "execution_count": 103,
   "metadata": {
    "ExecuteTime": {
     "end_time": "2019-03-11T02:30:54.130122Z",
     "start_time": "2019-03-11T02:30:54.021185Z"
    }
   },
   "outputs": [],
   "source": [
    "m1.init()"
   ]
  },
  {
   "cell_type": "code",
   "execution_count": 104,
   "metadata": {
    "ExecuteTime": {
     "end_time": "2019-03-11T02:30:54.243076Z",
     "start_time": "2019-03-11T02:30:54.132135Z"
    }
   },
   "outputs": [
    {
     "data": {
      "text/plain": [
       "1"
      ]
     },
     "execution_count": 104,
     "metadata": {},
     "output_type": "execute_result"
    }
   ],
   "source": [
    "MemberCounter.members"
   ]
  },
  {
   "cell_type": "code",
   "execution_count": 105,
   "metadata": {
    "ExecuteTime": {
     "end_time": "2019-03-11T02:30:54.363219Z",
     "start_time": "2019-03-11T02:30:54.246056Z"
    }
   },
   "outputs": [],
   "source": [
    "m2 = MemberCounter()\n",
    "m2.init()"
   ]
  },
  {
   "cell_type": "code",
   "execution_count": 106,
   "metadata": {
    "ExecuteTime": {
     "end_time": "2019-03-11T02:30:54.464165Z",
     "start_time": "2019-03-11T02:30:54.366219Z"
    }
   },
   "outputs": [
    {
     "data": {
      "text/plain": [
       "2"
      ]
     },
     "execution_count": 106,
     "metadata": {},
     "output_type": "execute_result"
    }
   ],
   "source": [
    "MemberCounter.members"
   ]
  },
  {
   "cell_type": "code",
   "execution_count": 107,
   "metadata": {
    "ExecuteTime": {
     "end_time": "2019-03-11T02:30:54.576220Z",
     "start_time": "2019-03-11T02:30:54.467160Z"
    }
   },
   "outputs": [
    {
     "data": {
      "text/plain": [
       "2"
      ]
     },
     "execution_count": 107,
     "metadata": {},
     "output_type": "execute_result"
    }
   ],
   "source": [
    " m1.members"
   ]
  },
  {
   "cell_type": "code",
   "execution_count": 108,
   "metadata": {
    "ExecuteTime": {
     "end_time": "2019-03-11T02:30:54.686139Z",
     "start_time": "2019-03-11T02:30:54.579201Z"
    }
   },
   "outputs": [
    {
     "data": {
      "text/plain": [
       "2"
      ]
     },
     "execution_count": 108,
     "metadata": {},
     "output_type": "execute_result"
    }
   ],
   "source": [
    "m2.members"
   ]
  },
  {
   "cell_type": "markdown",
   "metadata": {},
   "source": [
    "# 编码规范"
   ]
  },
  {
   "cell_type": "markdown",
   "metadata": {},
   "source": [
    "请参阅[PEP 8 -- Style Guide for Python Code](https://www.python.org/dev/peps/pep-0008/)。以下是其中部分条款：<br>\n",
    "- 使用4个空格缩进，不要使用制表符：4个空格是一个在小缩进（允许更大的嵌套深度）和大缩进（更容易阅读）的一种很好的折中方案。制表符会引入混乱，最好不要使用它  \n",
    "- 换行，使一行不超过79个字符：这有助于使用小型显示器的用户，并且可以在较大的显示器上并排放置多个代码文件  \n",
    "- 使用空行分隔函数和类，以及函数内的较大的代码块  \n",
    "- 如果可能，把注释放到单独的一行  \n",
    "- 使用文档字符串  \n",
    "- 在运算符前后和逗号后使用空格，但不能直接在括号内使用： a = f(1, 2) + g(3, 4)  \n",
    "- 类和函数命名的一致性；规范是使用 CamelCase 命名类，lower_case_with_underscores 命名函数和方法。始终使用 self 作为第一个方法参数的名称  \n",
    "- 如果你的代码旨在用于国际环境，请不要使用花哨的编码。Python 默认的 UTF-8 或者纯 ASCII 在任何情况下都能有最好的表现  \n",
    "- 同样，哪怕只有很小的可能，遇到说不同语言的人阅读或维护代码，也不要在标识符中使用非ASCII字符  "
   ]
  },
  {
   "cell_type": "markdown",
   "metadata": {},
   "source": [
    "既然说到了PEP，这里稍微展开一下。PEP的全称是Python Enhancement Proposals，即Python增强提案或Python改进建议书。<br>\n",
    ">  A PEP is a design document providing information to the Python community, or describing a new feature for Python or its processes or environment. \n",
    "\n",
    "---\n",
    "\n",
    "* PEP 0 -- Index of Python Enhancement Proposals\n",
    "* PEP 8 -- Style Guide for Python Code，编码规范（必读）\n",
    "* PEP 20 -- The Zen of Python，Python之禅\n",
    "* PEP 202 -- List Comprehensions，列表生成式\n",
    "* PEP 274 -- Dict Comprehensions，字典生成式\n",
    "* PEP 234 -- Iterators，迭代器\n",
    "* PEP 257 -- Docstring Conventions，文档注释规范\n",
    "* PEP 279 -- The enumerate() built-in function，enumerate枚举\n",
    "* PEP 282 -- A Logging System，日志模块\n",
    "* PEP 285 -- Adding a bool type，布尔值\n",
    "* PEP 289 -- Generator Expressions，生成器表达式\n",
    "* PEP 318 -- Decorators for Functions and Methods，装饰器\n",
    "* PEP 342 -- Coroutines via Enhanced Generators，协程\n",
    "* PEP 343 -- The \"with\" Statement，with语句\n",
    "* PEP 380 -- Syntax for Delegating to a Subgenerator，yield from语法\n",
    "* PEP 405 -- Python Virtual Environments，虚拟环境\n",
    "* PEP 471 -- os.scandir() function，遍历目录\n",
    "* PEP 484 -- Type Hints，类型约束\n",
    "* PEP 492 -- Coroutines with async and await syntax，async/await语法\n",
    "* PEP 498 -- Literal String Interpolation Python，字符串插值\n",
    "* PEP 525 -- Asynchronous Generators，异步生成器\n",
    "* PEP 572 -- Assignment Expressions，表达式内赋值\n",
    "* PEP 3105 -- Make print a function，print改为函数\n",
    "* PEP 3115 -- Metaclasses in Python 3000，元类\n",
    "* PEP 3120 -- Using UTF-8 as the default source encoding\n",
    "* PEP 8000 -- Python Language Governance Proposal Overview，决策方案"
   ]
  },
  {
   "cell_type": "markdown",
   "metadata": {},
   "source": [
    "# 延伸阅读"
   ]
  },
  {
   "cell_type": "markdown",
   "metadata": {},
   "source": [
    "本章铺垫了Python的一些基础知识，包括数据对象、程序控制、面向对象（初步）等，以便后续开展具体实验时能快速上手。对于Python语言的习惯和掌握，是一个日积月累的过程，很多重要的内容，比如程序调试等，均未涉及，请同学们自行参考相关教材资料进行学习。"
   ]
  },
  {
   "cell_type": "markdown",
   "metadata": {},
   "source": [
    "假如是要快速概览Python基础的话，下边这个速查表也值得推荐一下：  \n",
    "* [python-cheatsheet](https://github.com/gto76/python-cheatsheet)：简洁明了的Python基础知识速查表 "
   ]
  }
 ],
 "metadata": {
  "kernelspec": {
   "display_name": "dmex",
   "language": "python",
   "name": "dmex"
  },
  "language_info": {
   "codemirror_mode": {
    "name": "ipython",
    "version": 3
   },
   "file_extension": ".py",
   "mimetype": "text/x-python",
   "name": "python",
   "nbconvert_exporter": "python",
   "pygments_lexer": "ipython3",
   "version": "3.8.5"
  },
  "toc": {
   "base_numbering": "2",
   "nav_menu": {},
   "number_sections": true,
   "sideBar": true,
   "skip_h1_title": false,
   "title_cell": "本章目录",
   "title_sidebar": "",
   "toc_cell": true,
   "toc_position": {
    "height": "calc(100% - 180px)",
    "left": "10px",
    "top": "150px",
    "width": "189px"
   },
   "toc_section_display": true,
   "toc_window_display": true
  },
  "toc-autonumbering": true,
  "toc-showtags": false,
  "varInspector": {
   "cols": {
    "lenName": 16,
    "lenType": 16,
    "lenVar": 40
   },
   "kernels_config": {
    "python": {
     "delete_cmd_postfix": "",
     "delete_cmd_prefix": "del ",
     "library": "var_list.py",
     "varRefreshCmd": "print(var_dic_list())"
    },
    "r": {
     "delete_cmd_postfix": ") ",
     "delete_cmd_prefix": "rm(",
     "library": "var_list.r",
     "varRefreshCmd": "cat(var_dic_list()) "
    }
   },
   "types_to_exclude": [
    "module",
    "function",
    "builtin_function_or_method",
    "instance",
    "_Feature"
   ],
   "window_display": false
  }
 },
 "nbformat": 4,
 "nbformat_minor": 4
}
