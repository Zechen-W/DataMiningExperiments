{
 "cells": [
  {
   "cell_type": "markdown",
   "metadata": {},
   "source": [
    "# Data Mining Experiments"
   ]
  },
  {
   "cell_type": "markdown",
   "metadata": {},
   "source": [
    "*Xinbo Ai*"
   ]
  },
  {
   "cell_type": "markdown",
   "metadata": {},
   "source": [
    "These are the Jupyter Notebooks for the postgraduate course, **Data Mining Experiments**, instructed by *Xinbo Ai*, at Beijing University of Posts and Telecommunications."
   ]
  },
  {
   "cell_type": "markdown",
   "metadata": {},
   "source": [
    "本课程托管了北京邮电大学《数据挖掘实验》课程的源代码及数据。"
   ]
  },
  {
   "cell_type": "markdown",
   "metadata": {},
   "source": [
    "## Index"
   ]
  },
  {
   "cell_type": "markdown",
   "metadata": {},
   "source": [
    "1. [实验环境配置](ch01_实验环境配置.ipynb)  \n",
    "2. Python基础知识 [A](ch02_python基础知识A.ipynb) [B](ch02_python基础知识B.ipynb)  \n",
    "3. 数据挖掘常用模块 [A](ch03_数据挖掘常用模块A.ipynb) [B](ch03_数据挖掘常用模块B.ipynb)  \n",
    "4. MovieLens电影推荐 [A](ch04_MovieLens电影推荐A.ipynb) [B](ch04_MovieLens电影推荐B.ipynb)    \n",
    "5. 学生文理分科 [A](ch05_学生文理分科A.ipynb) [B](ch05_学生文理分科B.ipynb)   \n",
    "6. [藻类数量预测](ch06_藻类数量预测.ipynb)  \n",
    "7. [地理坐标异常检测](ch07_地理坐标异常检测.ipynb)  \n",
    "8. [参考文献](ch08_参考文献.ipynb)"
   ]
  },
  {
   "cell_type": "markdown",
   "metadata": {},
   "source": [
    "## License"
   ]
  },
  {
   "cell_type": "markdown",
   "metadata": {},
   "source": [
    "The MIT License (MIT)  \n",
    "\n",
    "Copyright (c) 2012-2022 Xinbo Ai  \n",
    "\n",
    "Permission is hereby granted, free of charge, to any person obtaining a copy  \n",
    "of this software and associated documentation files (the \"Software\"), to deal  \n",
    "in the Software without restriction, including without limitation the rights  \n",
    "to use, copy, modify, merge, publish, distribute, sublicense, and/or sell  \n",
    "copies of the Software, and to permit persons to whom the Software is  \n",
    "furnished to do so, subject to the following conditions:  \n",
    "\n",
    "The above copyright notice and this permission notice shall be included in all  \n",
    "copies or substantial portions of the Software.  \n",
    "\n",
    "THE SOFTWARE IS PROVIDED \"AS IS\", WITHOUT WARRANTY OF ANY KIND, EXPRESS OR  \n",
    "IMPLIED, INCLUDING BUT NOT LIMITED TO THE WARRANTIES OF MERCHANTABILITY,  \n",
    "FITNESS FOR A PARTICULAR PURPOSE AND NONINFRINGEMENT. IN NO EVENT SHALL THE  \n",
    "AUTHORS OR COPYRIGHT HOLDERS BE LIABLE FOR ANY CLAIM, DAMAGES OR OTHER  \n",
    "LIABILITY, WHETHER IN AN ACTION OF CONTRACT, TORT OR OTHERWISE, ARISING FROM,  \n",
    "OUT OF OR IN CONNECTION WITH THE SOFTWARE OR THE USE OR OTHER DEALINGS IN THE  \n",
    "SOFTWARE."
   ]
  },
  {
   "cell_type": "markdown",
   "metadata": {},
   "source": [
    "🌈🌈🌈🌈  **Time to Play**  ✨✨✨✨"
   ]
  },
  {
   "cell_type": "markdown",
   "metadata": {},
   "source": [
    "<!--NAVIGATION-->\n",
    " [实验环境配置](ch01_实验环境配置.ipynb)>"
   ]
  }
 ],
 "metadata": {
  "kernelspec": {
   "display_name": "envx",
   "language": "python",
   "name": "envx"
  },
  "language_info": {
   "codemirror_mode": {
    "name": "ipython",
    "version": 3
   },
   "file_extension": ".py",
   "mimetype": "text/x-python",
   "name": "python",
   "nbconvert_exporter": "python",
   "pygments_lexer": "ipython3",
   "version": "3.10.0"
  },
  "toc-autonumbering": true
 },
 "nbformat": 4,
 "nbformat_minor": 4
}
