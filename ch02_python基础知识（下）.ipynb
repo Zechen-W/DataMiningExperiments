{
 "cells": [
  {
   "cell_type": "markdown",
   "metadata": {
    "toc": true
   },
   "source": [
    "<h1>本章目录<span class=\"tocSkip\"></span></h1>\n",
    "<div class=\"toc\"><ul class=\"toc-item\"><li><span><a href=\"#Python基础知识\" data-toc-modified-id=\"Python基础知识-2\"><span class=\"toc-item-num\">2&nbsp;&nbsp;</span>Python基础知识</a></span><ul class=\"toc-item\"><li><span><a href=\"#数据对象\" data-toc-modified-id=\"数据对象-2.1\"><span class=\"toc-item-num\">2.1&nbsp;&nbsp;</span>数据对象</a></span><ul class=\"toc-item\"><li><span><a href=\"#序列\" data-toc-modified-id=\"序列-2.1.1\"><span class=\"toc-item-num\">2.1.1&nbsp;&nbsp;</span>序列</a></span><ul class=\"toc-item\"><li><span><a href=\"#序列的通用操作\" data-toc-modified-id=\"序列的通用操作-2.1.1.1\"><span class=\"toc-item-num\">2.1.1.1&nbsp;&nbsp;</span>序列的通用操作</a></span></li><li><span><a href=\"#列表：Python-的主力\" data-toc-modified-id=\"列表：Python-的主力-2.1.1.2\"><span class=\"toc-item-num\">2.1.1.2&nbsp;&nbsp;</span>列表：Python 的主力</a></span></li><li><span><a href=\"#元组：不可修改的序列\" data-toc-modified-id=\"元组：不可修改的序列-2.1.1.3\"><span class=\"toc-item-num\">2.1.1.3&nbsp;&nbsp;</span>元组：不可修改的序列</a></span></li><li><span><a href=\"#字符串\" data-toc-modified-id=\"字符串-2.1.1.4\"><span class=\"toc-item-num\">2.1.1.4&nbsp;&nbsp;</span>字符串</a></span></li></ul></li><li><span><a href=\"#映射\" data-toc-modified-id=\"映射-2.1.2\"><span class=\"toc-item-num\">2.1.2&nbsp;&nbsp;</span>映射</a></span><ul class=\"toc-item\"><li><span><a href=\"#字典的基本操作\" data-toc-modified-id=\"字典的基本操作-2.1.2.1\"><span class=\"toc-item-num\">2.1.2.1&nbsp;&nbsp;</span>字典的基本操作</a></span></li><li><span><a href=\"#字典方法\" data-toc-modified-id=\"字典方法-2.1.2.2\"><span class=\"toc-item-num\">2.1.2.2&nbsp;&nbsp;</span>字典方法</a></span></li></ul></li><li><span><a href=\"#集合\" data-toc-modified-id=\"集合-2.1.3\"><span class=\"toc-item-num\">2.1.3&nbsp;&nbsp;</span>集合</a></span></li></ul></li><li><span><a href=\"#程序控制结构和函数\" data-toc-modified-id=\"程序控制结构和函数-2.2\"><span class=\"toc-item-num\">2.2&nbsp;&nbsp;</span>程序控制结构和函数</a></span><ul class=\"toc-item\"><li><span><a href=\"#程序控制结构\" data-toc-modified-id=\"程序控制结构-2.2.1\"><span class=\"toc-item-num\">2.2.1&nbsp;&nbsp;</span>程序控制结构</a></span><ul class=\"toc-item\"><li><span><a href=\"#条件和条件语句\" data-toc-modified-id=\"条件和条件语句-2.2.1.1\"><span class=\"toc-item-num\">2.2.1.1&nbsp;&nbsp;</span>条件和条件语句</a></span></li><li><span><a href=\"#循环\" data-toc-modified-id=\"循环-2.2.1.2\"><span class=\"toc-item-num\">2.2.1.2&nbsp;&nbsp;</span>循环</a></span></li><li><span><a href=\"#列表推导\" data-toc-modified-id=\"列表推导-2.2.1.3\"><span class=\"toc-item-num\">2.2.1.3&nbsp;&nbsp;</span>列表推导</a></span></li></ul></li><li><span><a href=\"#编写函数\" data-toc-modified-id=\"编写函数-2.2.2\"><span class=\"toc-item-num\">2.2.2&nbsp;&nbsp;</span>编写函数</a></span><ul class=\"toc-item\"><li><span><a href=\"#自定义函数\" data-toc-modified-id=\"自定义函数-2.2.2.1\"><span class=\"toc-item-num\">2.2.2.1&nbsp;&nbsp;</span>自定义函数</a></span></li><li><span><a href=\"#参数魔法\" data-toc-modified-id=\"参数魔法-2.2.2.2\"><span class=\"toc-item-num\">2.2.2.2&nbsp;&nbsp;</span>参数魔法</a></span></li></ul></li></ul></li><li><span><a href=\"#面向对象编程\" data-toc-modified-id=\"面向对象编程-2.3\"><span class=\"toc-item-num\">2.3&nbsp;&nbsp;</span>面向对象编程</a></span></li><li><span><a href=\"#编码规范\" data-toc-modified-id=\"编码规范-2.4\"><span class=\"toc-item-num\">2.4&nbsp;&nbsp;</span>编码规范</a></span></li><li><span><a href=\"#小结\" data-toc-modified-id=\"小结-2.5\"><span class=\"toc-item-num\">2.5&nbsp;&nbsp;</span>小结</a></span></li></ul></li></ul></div>"
   ]
  },
  {
   "cell_type": "markdown",
   "metadata": {
    "collapsed": true
   },
   "source": [
    "# Python基础知识"
   ]
  },
  {
   "cell_type": "markdown",
   "metadata": {},
   "source": [
    "## 数据对象"
   ]
  },
  {
   "cell_type": "markdown",
   "metadata": {},
   "source": [
    "### 序列"
   ]
  },
  {
   "cell_type": "markdown",
   "metadata": {},
   "source": [
    "#### 序列的通用操作"
   ]
  },
  {
   "cell_type": "markdown",
   "metadata": {},
   "source": [
    "#### 列表：Python 的主力"
   ]
  },
  {
   "cell_type": "markdown",
   "metadata": {},
   "source": [
    "#### 元组：不可修改的序列"
   ]
  },
  {
   "cell_type": "markdown",
   "metadata": {},
   "source": [
    "#### 字符串"
   ]
  },
  {
   "cell_type": "markdown",
   "metadata": {},
   "source": [
    "### 映射"
   ]
  },
  {
   "cell_type": "markdown",
   "metadata": {},
   "source": [
    "#### 字典的基本操作"
   ]
  },
  {
   "cell_type": "markdown",
   "metadata": {},
   "source": [
    "#### 字典方法"
   ]
  },
  {
   "cell_type": "markdown",
   "metadata": {},
   "source": [
    "### 集合"
   ]
  },
  {
   "cell_type": "markdown",
   "metadata": {},
   "source": [
    "## 程序控制结构和函数"
   ]
  },
  {
   "cell_type": "markdown",
   "metadata": {},
   "source": [
    "### 程序控制结构"
   ]
  },
  {
   "cell_type": "markdown",
   "metadata": {},
   "source": [
    "#### 条件和条件语句"
   ]
  },
  {
   "cell_type": "markdown",
   "metadata": {},
   "source": [
    "标准值 False 和 None 、各种类型（包括浮点数、复数等）的数值0、空序列（如空字符串、空元组和空列表）以及空映射（如空字典）都被视为假，而其他各种值都被视为真，包括特殊值 True"
   ]
  },
  {
   "cell_type": "code",
   "execution_count": 1,
   "metadata": {
    "ExecuteTime": {
     "end_time": "2019-03-11T02:29:38.751836Z",
     "start_time": "2019-03-11T02:29:38.739841Z"
    }
   },
   "outputs": [
    {
     "data": {
      "text/plain": [
       "True"
      ]
     },
     "execution_count": 1,
     "metadata": {},
     "output_type": "execute_result"
    }
   ],
   "source": [
    "True == 1"
   ]
  },
  {
   "cell_type": "code",
   "execution_count": 2,
   "metadata": {
    "ExecuteTime": {
     "end_time": "2019-03-11T02:29:38.884757Z",
     "start_time": "2019-03-11T02:29:38.755831Z"
    }
   },
   "outputs": [
    {
     "data": {
      "text/plain": [
       "True"
      ]
     },
     "execution_count": 2,
     "metadata": {},
     "output_type": "execute_result"
    }
   ],
   "source": [
    "False == 0"
   ]
  },
  {
   "cell_type": "code",
   "execution_count": 3,
   "metadata": {
    "ExecuteTime": {
     "end_time": "2019-03-11T02:29:39.019680Z",
     "start_time": "2019-03-11T02:29:38.889754Z"
    }
   },
   "outputs": [
    {
     "data": {
      "text/plain": [
       "43"
      ]
     },
     "execution_count": 3,
     "metadata": {},
     "output_type": "execute_result"
    }
   ],
   "source": [
    "True + False + 42"
   ]
  },
  {
   "cell_type": "code",
   "execution_count": 4,
   "metadata": {
    "ExecuteTime": {
     "end_time": "2019-03-11T02:29:39.139612Z",
     "start_time": "2019-03-11T02:29:39.023677Z"
    }
   },
   "outputs": [
    {
     "data": {
      "text/plain": [
       "True"
      ]
     },
     "execution_count": 4,
     "metadata": {},
     "output_type": "execute_result"
    }
   ],
   "source": [
    "bool('I think, therefore I am')"
   ]
  },
  {
   "cell_type": "code",
   "execution_count": 5,
   "metadata": {
    "ExecuteTime": {
     "end_time": "2019-03-11T02:29:39.241552Z",
     "start_time": "2019-03-11T02:29:39.143608Z"
    }
   },
   "outputs": [
    {
     "data": {
      "text/plain": [
       "False"
      ]
     },
     "execution_count": 5,
     "metadata": {},
     "output_type": "execute_result"
    }
   ],
   "source": [
    "bool('')"
   ]
  },
  {
   "cell_type": "code",
   "execution_count": 6,
   "metadata": {
    "ExecuteTime": {
     "end_time": "2019-03-11T02:29:39.350492Z",
     "start_time": "2019-03-11T02:29:39.244551Z"
    }
   },
   "outputs": [
    {
     "data": {
      "text/plain": [
       "False"
      ]
     },
     "execution_count": 6,
     "metadata": {},
     "output_type": "execute_result"
    }
   ],
   "source": [
    "bool({})"
   ]
  },
  {
   "cell_type": "markdown",
   "metadata": {},
   "source": [
    "* 有条件地执行和 if 语句"
   ]
  },
  {
   "cell_type": "code",
   "execution_count": 7,
   "metadata": {
    "ExecuteTime": {
     "end_time": "2019-03-11T02:29:54.450560Z",
     "start_time": "2019-03-11T02:29:39.353489Z"
    }
   },
   "outputs": [
    {
     "name": "stdout",
     "output_type": "stream",
     "text": [
      "What is your name? Big Gumby\n",
      "Hello, Mr. Gumby\n"
     ]
    }
   ],
   "source": [
    "name = input('What is your name? ')\n",
    "if name.endswith('Gumby'):\n",
    "    print('Hello, Mr. Gumby')"
   ]
  },
  {
   "cell_type": "markdown",
   "metadata": {
    "ExecuteTime": {
     "end_time": "2019-02-14T02:28:19.727417Z",
     "start_time": "2019-02-14T02:28:19.718426Z"
    }
   },
   "source": [
    "* else子句"
   ]
  },
  {
   "cell_type": "code",
   "execution_count": 8,
   "metadata": {
    "ExecuteTime": {
     "end_time": "2019-03-11T02:30:09.395048Z",
     "start_time": "2019-03-11T02:29:54.453561Z"
    }
   },
   "outputs": [
    {
     "name": "stdout",
     "output_type": "stream",
     "text": [
      "What is your name?Real Ai Xinbo\n",
      "Hello, stranger\n"
     ]
    }
   ],
   "source": [
    "name = input('What is your name?')\n",
    "if name.endswith('Gumby'):\n",
    "    print('Hello, Mr. Gumby')\n",
    "else:\n",
    "    print('Hello, stranger')"
   ]
  },
  {
   "cell_type": "markdown",
   "metadata": {},
   "source": [
    "还有一个与 if 语句很像的“亲戚”，它就是条件表达式——C语言中三目运算符的Python版本。\n",
    "下面的表达式使用 if 和 else 确定其值："
   ]
  },
  {
   "cell_type": "code",
   "execution_count": 9,
   "metadata": {
    "ExecuteTime": {
     "end_time": "2019-03-11T02:30:09.410039Z",
     "start_time": "2019-03-11T02:30:09.405042Z"
    }
   },
   "outputs": [],
   "source": [
    "status = \"friend\" if name.endswith(\"Gumby\") else \"stranger\""
   ]
  },
  {
   "cell_type": "markdown",
   "metadata": {},
   "source": [
    "* elif 子句"
   ]
  },
  {
   "cell_type": "code",
   "execution_count": 10,
   "metadata": {
    "ExecuteTime": {
     "end_time": "2019-03-11T02:30:19.809769Z",
     "start_time": "2019-03-11T02:30:09.421033Z"
    }
   },
   "outputs": [
    {
     "name": "stdout",
     "output_type": "stream",
     "text": [
      "Enter a number: 0\n",
      "The number is zero\n"
     ]
    }
   ],
   "source": [
    "num = int(input('Enter a number: '))\n",
    "if num > 0:\n",
    "    print('The number is positive')\n",
    "elif num < 0:\n",
    "    print('The number is negative')\n",
    "else:\n",
    "    print('The number is zero')"
   ]
  },
  {
   "cell_type": "code",
   "execution_count": 11,
   "metadata": {
    "ExecuteTime": {
     "end_time": "2019-03-11T02:30:35.301923Z",
     "start_time": "2019-03-11T02:30:19.813767Z"
    }
   },
   "outputs": [
    {
     "name": "stdout",
     "output_type": "stream",
     "text": [
      "What is your name? Another Gumby\n",
      "Hello, Gumby\n"
     ]
    }
   ],
   "source": [
    "name = input('What is your name? ')\n",
    "if name.endswith('Gumby'):\n",
    "    if name.startswith('Mr.'):\n",
    "        print('Hello, Mr. Gumby')\n",
    "    elif name.startswith('Mrs.'):\n",
    "        print('Hello, Mrs. Gumby')\n",
    "    else:\n",
    "        print('Hello, Gumby')\n",
    "else:\n",
    "    print('Hello, stranger')"
   ]
  },
  {
   "cell_type": "code",
   "execution_count": 12,
   "metadata": {
    "ExecuteTime": {
     "end_time": "2019-03-11T02:30:35.312918Z",
     "start_time": "2019-03-11T02:30:35.305921Z"
    }
   },
   "outputs": [
    {
     "data": {
      "text/plain": [
       "True"
      ]
     },
     "execution_count": 12,
     "metadata": {},
     "output_type": "execute_result"
    }
   ],
   "source": [
    "\"foo\" == \"foo\""
   ]
  },
  {
   "cell_type": "code",
   "execution_count": 13,
   "metadata": {
    "ExecuteTime": {
     "end_time": "2019-03-11T02:30:35.441862Z",
     "start_time": "2019-03-11T02:30:35.315918Z"
    }
   },
   "outputs": [
    {
     "data": {
      "text/plain": [
       "False"
      ]
     },
     "execution_count": 13,
     "metadata": {},
     "output_type": "execute_result"
    }
   ],
   "source": [
    "\"foo\" == \"bar\""
   ]
  },
  {
   "cell_type": "code",
   "execution_count": 14,
   "metadata": {
    "ExecuteTime": {
     "end_time": "2019-03-11T02:30:35.551779Z",
     "start_time": "2019-03-11T02:30:35.444842Z"
    }
   },
   "outputs": [],
   "source": [
    "x = y = [1, 2, 3]\n",
    "z = [1, 2, 3]"
   ]
  },
  {
   "cell_type": "code",
   "execution_count": 15,
   "metadata": {
    "ExecuteTime": {
     "end_time": "2019-03-11T02:30:35.663245Z",
     "start_time": "2019-03-11T02:30:35.554778Z"
    }
   },
   "outputs": [
    {
     "data": {
      "text/plain": [
       "True"
      ]
     },
     "execution_count": 15,
     "metadata": {},
     "output_type": "execute_result"
    }
   ],
   "source": [
    "x == y"
   ]
  },
  {
   "cell_type": "code",
   "execution_count": 16,
   "metadata": {
    "ExecuteTime": {
     "end_time": "2019-03-11T02:30:35.776197Z",
     "start_time": "2019-03-11T02:30:35.673242Z"
    }
   },
   "outputs": [
    {
     "data": {
      "text/plain": [
       "True"
      ]
     },
     "execution_count": 16,
     "metadata": {},
     "output_type": "execute_result"
    }
   ],
   "source": [
    "x == z"
   ]
  },
  {
   "cell_type": "code",
   "execution_count": 17,
   "metadata": {
    "ExecuteTime": {
     "end_time": "2019-03-11T02:30:35.885134Z",
     "start_time": "2019-03-11T02:30:35.779177Z"
    }
   },
   "outputs": [
    {
     "data": {
      "text/plain": [
       "True"
      ]
     },
     "execution_count": 17,
     "metadata": {},
     "output_type": "execute_result"
    }
   ],
   "source": [
    "x is y"
   ]
  },
  {
   "cell_type": "code",
   "execution_count": 18,
   "metadata": {
    "ExecuteTime": {
     "end_time": "2019-03-11T02:30:36.010212Z",
     "start_time": "2019-03-11T02:30:35.888114Z"
    }
   },
   "outputs": [
    {
     "data": {
      "text/plain": [
       "False"
      ]
     },
     "execution_count": 18,
     "metadata": {},
     "output_type": "execute_result"
    }
   ],
   "source": [
    "x is z"
   ]
  },
  {
   "cell_type": "code",
   "execution_count": 19,
   "metadata": {
    "ExecuteTime": {
     "end_time": "2019-03-11T02:30:42.115857Z",
     "start_time": "2019-03-11T02:30:36.013211Z"
    }
   },
   "outputs": [
    {
     "name": "stdout",
     "output_type": "stream",
     "text": [
      "Enter a number between 1 and 10: 11\n",
      "Wrong!\n"
     ]
    }
   ],
   "source": [
    "number = int(input('Enter a number between 1 and 10: '))\n",
    "if number <= 10 and number >= 1:\n",
    "    print('Great!')\n",
    "else:\n",
    "    print('Wrong!')"
   ]
  },
  {
   "cell_type": "code",
   "execution_count": 20,
   "metadata": {
    "ExecuteTime": {
     "end_time": "2019-03-11T02:30:45.054181Z",
     "start_time": "2019-03-11T02:30:42.119855Z"
    }
   },
   "outputs": [
    {
     "name": "stdout",
     "output_type": "stream",
     "text": [
      "Enter a number between 1 and 10: 9\n",
      "Great!\n"
     ]
    }
   ],
   "source": [
    "number = int(input('Enter a number between 1 and 10: '))\n",
    "if 1 <= number <= 10:\n",
    "    print('Great!')\n",
    "else:\n",
    "    print('Wrong!')"
   ]
  },
  {
   "cell_type": "markdown",
   "metadata": {},
   "source": [
    "#### 循环"
   ]
  },
  {
   "cell_type": "markdown",
   "metadata": {},
   "source": [
    "* while循环"
   ]
  },
  {
   "cell_type": "code",
   "execution_count": 21,
   "metadata": {
    "ExecuteTime": {
     "end_time": "2019-03-11T02:30:45.066175Z",
     "start_time": "2019-03-11T02:30:45.058182Z"
    }
   },
   "outputs": [
    {
     "name": "stdout",
     "output_type": "stream",
     "text": [
      "1\n",
      "2\n",
      "3\n",
      "4\n",
      "5\n",
      "6\n",
      "7\n",
      "8\n",
      "9\n",
      "10\n",
      "11\n",
      "12\n",
      "13\n",
      "14\n",
      "15\n"
     ]
    }
   ],
   "source": [
    "x = 1\n",
    "while x <= 15:\n",
    "    print(x)\n",
    "    x += 1"
   ]
  },
  {
   "cell_type": "markdown",
   "metadata": {},
   "source": [
    "* for 循环  \n",
    "\n",
    "---  \n",
    "\n",
    "while 语句非常灵活，可用于在条件为真时反复执行代码块。这在通常情况下很好，但有时候你可能想根据需要进行定制。一种这样的需求是为序列（或其他可迭代对象）中每个元素执行代码块。"
   ]
  },
  {
   "cell_type": "code",
   "execution_count": 22,
   "metadata": {
    "ExecuteTime": {
     "end_time": "2019-03-11T02:30:45.199099Z",
     "start_time": "2019-03-11T02:30:45.069175Z"
    }
   },
   "outputs": [
    {
     "name": "stdout",
     "output_type": "stream",
     "text": [
      "this\n",
      "is\n",
      "an\n",
      "ex\n",
      "parrot\n"
     ]
    }
   ],
   "source": [
    "words = ['this', 'is', 'an', 'ex', 'parrot']\n",
    "for word in words:\n",
    "    print(word)"
   ]
  },
  {
   "cell_type": "code",
   "execution_count": 23,
   "metadata": {
    "ExecuteTime": {
     "end_time": "2019-03-11T02:30:45.313033Z",
     "start_time": "2019-03-11T02:30:45.201098Z"
    }
   },
   "outputs": [
    {
     "name": "stdout",
     "output_type": "stream",
     "text": [
      "0\n",
      "1\n",
      "2\n",
      "3\n",
      "4\n",
      "5\n",
      "6\n",
      "7\n",
      "8\n",
      "9\n"
     ]
    }
   ],
   "source": [
    "numbers = [0, 1, 2, 3, 4, 5, 6, 7, 8, 9]\n",
    "for number in numbers:\n",
    "    print(number)"
   ]
  },
  {
   "cell_type": "markdown",
   "metadata": {},
   "source": [
    "鉴于迭代（也就是遍历）特定范围内的数是一种常见的任务，Python提供了一个创建范围的内置函数"
   ]
  },
  {
   "cell_type": "code",
   "execution_count": 24,
   "metadata": {
    "ExecuteTime": {
     "end_time": "2019-03-11T02:30:45.409979Z",
     "start_time": "2019-03-11T02:30:45.316032Z"
    }
   },
   "outputs": [
    {
     "data": {
      "text/plain": [
       "range(0, 10)"
      ]
     },
     "execution_count": 24,
     "metadata": {},
     "output_type": "execute_result"
    }
   ],
   "source": [
    "range(0, 10)"
   ]
  },
  {
   "cell_type": "code",
   "execution_count": 25,
   "metadata": {
    "ExecuteTime": {
     "end_time": "2019-03-11T02:30:45.609893Z",
     "start_time": "2019-03-11T02:30:45.412978Z"
    }
   },
   "outputs": [
    {
     "data": {
      "text/plain": [
       "[0, 1, 2, 3, 4, 5, 6, 7, 8, 9]"
      ]
     },
     "execution_count": 25,
     "metadata": {},
     "output_type": "execute_result"
    }
   ],
   "source": [
    "list(range(0, 10))"
   ]
  },
  {
   "cell_type": "code",
   "execution_count": 26,
   "metadata": {
    "ExecuteTime": {
     "end_time": "2019-03-11T02:30:45.718824Z",
     "start_time": "2019-03-11T02:30:45.620883Z"
    }
   },
   "outputs": [
    {
     "name": "stdout",
     "output_type": "stream",
     "text": [
      "1\n",
      "2\n",
      "3\n",
      "4\n",
      "5\n",
      "6\n",
      "7\n",
      "8\n",
      "9\n",
      "10\n"
     ]
    }
   ],
   "source": [
    "for number in range(1,11):\n",
    "    print(number)"
   ]
  },
  {
   "cell_type": "markdown",
   "metadata": {},
   "source": [
    "要遍历字典的所有关键字，可像遍历序列那样使用普通的 for 语句。"
   ]
  },
  {
   "cell_type": "code",
   "execution_count": 27,
   "metadata": {
    "ExecuteTime": {
     "end_time": "2019-03-11T02:30:45.951617Z",
     "start_time": "2019-03-11T02:30:45.720824Z"
    }
   },
   "outputs": [
    {
     "name": "stdout",
     "output_type": "stream",
     "text": [
      "x corresponds to 1\n",
      "y corresponds to 2\n",
      "z corresponds to 3\n"
     ]
    }
   ],
   "source": [
    "d = {'x': 1, 'y': 2, 'z': 3}\n",
    "for key in d:\n",
    "    print(key, 'corresponds to', d[key])"
   ]
  },
  {
   "cell_type": "markdown",
   "metadata": {},
   "source": [
    "也可使用 keys 等字典方法来获取所有的键。如果只对值感兴趣，可使用 d.values 。d.items 以元组的方式返回键值对。 for 循环的优点之一是，可在其中使用序列解包"
   ]
  },
  {
   "cell_type": "code",
   "execution_count": 28,
   "metadata": {
    "ExecuteTime": {
     "end_time": "2019-03-11T02:30:46.131118Z",
     "start_time": "2019-03-11T02:30:45.961612Z"
    }
   },
   "outputs": [
    {
     "name": "stdout",
     "output_type": "stream",
     "text": [
      "x corresponds to 1\n",
      "y corresponds to 2\n",
      "z corresponds to 3\n"
     ]
    }
   ],
   "source": [
    "for key, value in d.items():\n",
    "    print(key, 'corresponds to', value)"
   ]
  },
  {
   "cell_type": "markdown",
   "metadata": {
    "ExecuteTime": {
     "end_time": "2019-02-14T02:44:42.588856Z",
     "start_time": "2019-02-14T02:44:42.580859Z"
    }
   },
   "source": [
    "并行迭代\n",
    "\n",
    "---\n",
    "\n",
    "有时候，你可能想同时迭代两个序列。假设有下面两个列表："
   ]
  },
  {
   "cell_type": "code",
   "execution_count": 29,
   "metadata": {
    "ExecuteTime": {
     "end_time": "2019-03-11T02:30:46.239067Z",
     "start_time": "2019-03-11T02:30:46.141107Z"
    }
   },
   "outputs": [],
   "source": [
    "names = ['anne', 'beth', 'george', 'damon']\n",
    "ages = [12, 45, 32, 102]"
   ]
  },
  {
   "cell_type": "markdown",
   "metadata": {},
   "source": [
    "如果要打印名字和对应的年龄，可以像下面这样做："
   ]
  },
  {
   "cell_type": "code",
   "execution_count": 30,
   "metadata": {
    "ExecuteTime": {
     "end_time": "2019-03-11T02:30:46.432073Z",
     "start_time": "2019-03-11T02:30:46.240047Z"
    }
   },
   "outputs": [
    {
     "name": "stdout",
     "output_type": "stream",
     "text": [
      "anne is 12 years old\n",
      "beth is 45 years old\n",
      "george is 32 years old\n",
      "damon is 102 years old\n"
     ]
    }
   ],
   "source": [
    "for i in range(len(names)):\n",
    "    print(names[i], 'is', ages[i], 'years old')"
   ]
  },
  {
   "cell_type": "markdown",
   "metadata": {},
   "source": [
    "一个很有用的并行迭代工具是内置函数 zip ，它将两个序列“缝合”起来，并返回一个由元组组成的序列。返回值是一个适合迭代的对象，要查看其内\n",
    "容，可使用 list 将其转换为列表。"
   ]
  },
  {
   "cell_type": "code",
   "execution_count": 31,
   "metadata": {
    "ExecuteTime": {
     "end_time": "2019-03-11T02:30:46.542008Z",
     "start_time": "2019-03-11T02:30:46.440069Z"
    }
   },
   "outputs": [
    {
     "data": {
      "text/plain": [
       "[('anne', 12), ('beth', 45), ('george', 32), ('damon', 102)]"
      ]
     },
     "execution_count": 31,
     "metadata": {},
     "output_type": "execute_result"
    }
   ],
   "source": [
    "list(zip(names, ages))"
   ]
  },
  {
   "cell_type": "markdown",
   "metadata": {},
   "source": [
    "“缝合”后，可在循环中将元组解包。"
   ]
  },
  {
   "cell_type": "code",
   "execution_count": 32,
   "metadata": {
    "ExecuteTime": {
     "end_time": "2019-03-11T02:30:46.739667Z",
     "start_time": "2019-03-11T02:30:46.545008Z"
    }
   },
   "outputs": [
    {
     "name": "stdout",
     "output_type": "stream",
     "text": [
      "anne is 12 years old\n",
      "beth is 45 years old\n",
      "george is 32 years old\n",
      "damon is 102 years old\n"
     ]
    }
   ],
   "source": [
    "for name, age in zip(names, ages):\n",
    "    print(name, 'is', age, 'years old')"
   ]
  },
  {
   "cell_type": "markdown",
   "metadata": {},
   "source": [
    "迭代时获取索引\n",
    "\n",
    "---\n",
    "\n",
    "在有些情况下，你需要在迭代对象序列的同时获取当前对象的索引。例如，你可能想替换一\n",
    "个字符串列表中所有包含子串 'xxx' 的字符串。当然，完成这种任务的方法有很多，但这里假设\n",
    "你要像下面这样做："
   ]
  },
  {
   "cell_type": "code",
   "execution_count": 33,
   "metadata": {
    "ExecuteTime": {
     "end_time": "2019-03-11T02:30:46.899591Z",
     "start_time": "2019-03-11T02:30:46.744661Z"
    }
   },
   "outputs": [
    {
     "name": "stdout",
     "output_type": "stream",
     "text": [
      "0:h\n",
      "1:e\n",
      "2:l\n",
      "3:l\n",
      "4:o\n"
     ]
    }
   ],
   "source": [
    "for index, value in enumerate('hello'):\n",
    "    print(str(index) + ':' + str(value))"
   ]
  },
  {
   "cell_type": "markdown",
   "metadata": {},
   "source": [
    "跳出循环\n",
    "\n",
    "---\n",
    "\n",
    "要结束（跳出）循环，可使用 break 。假设你要找出小于100的最大平方值（整数与自己相乘的结果），可从100开始向下迭代。找到一个平方值后，无需再迭代，因此直接跳出循环。"
   ]
  },
  {
   "cell_type": "code",
   "execution_count": 34,
   "metadata": {
    "ExecuteTime": {
     "end_time": "2019-03-11T02:30:47.020504Z",
     "start_time": "2019-03-11T02:30:46.902570Z"
    }
   },
   "outputs": [
    {
     "name": "stdout",
     "output_type": "stream",
     "text": [
      "81\n"
     ]
    }
   ],
   "source": [
    "from math import sqrt\n",
    "for n in range(99, 0, -1):\n",
    "    root = sqrt(n)\n",
    "    if root == int(root):\n",
    "        print(n)\n",
    "        break"
   ]
  },
  {
   "cell_type": "markdown",
   "metadata": {},
   "source": [
    "循环中的 else 子句\n",
    "\n",
    "---\n",
    "\n",
    "通常，在循环中使用 break 是因为你“发现”了什么或“出现”了什么情况。要在循环提前\n",
    "结束时采取某种措施很容易，但有时候你可能想在循环正常结束时才采取某种措施。如何判断循\n",
    "环是提前结束还是正常结束的呢？可在循环开始前定义一个布尔变量并将其设置为 False ，再在跳\n",
    "出循环时将其设置为 True 。这样就可在循环后面使用一条 if 语句来判断循环是否是提前结束的。"
   ]
  },
  {
   "cell_type": "code",
   "execution_count": 35,
   "metadata": {
    "ExecuteTime": {
     "end_time": "2019-03-11T02:30:47.213395Z",
     "start_time": "2019-03-11T02:30:47.025501Z"
    }
   },
   "outputs": [
    {
     "name": "stdout",
     "output_type": "stream",
     "text": [
      "Didn't find it!\n"
     ]
    }
   ],
   "source": [
    "broke_out = False\n",
    "from math import sqrt\n",
    "for n in range(99, 81, -1):\n",
    "    root = sqrt(n)\n",
    "    if root == int(root):\n",
    "        print(n)\n",
    "        broke_out = True\n",
    "        break\n",
    "if not broke_out:\n",
    "    print(\"Didn't find it!\")"
   ]
  },
  {
   "cell_type": "markdown",
   "metadata": {
    "ExecuteTime": {
     "end_time": "2019-02-14T02:55:19.530521Z",
     "start_time": "2019-02-14T02:55:19.523528Z"
    }
   },
   "source": [
    "一种更简单的办法是在循环中添加一条 else 子句，它仅在没有调用 break 时才执行。"
   ]
  },
  {
   "cell_type": "code",
   "execution_count": 36,
   "metadata": {
    "ExecuteTime": {
     "end_time": "2019-03-11T02:30:47.341822Z",
     "start_time": "2019-03-11T02:30:47.215392Z"
    }
   },
   "outputs": [
    {
     "name": "stdout",
     "output_type": "stream",
     "text": [
      "Didn't find it!\n"
     ]
    }
   ],
   "source": [
    "from math import sqrt\n",
    "for n in range(99, 81, -1):\n",
    "    root = sqrt(n)\n",
    "    if root == int(root):\n",
    "        print(n)\n",
    "        break\n",
    "else:\n",
    "    print(\"Didn't find it!\")"
   ]
  },
  {
   "cell_type": "markdown",
   "metadata": {},
   "source": [
    "#### 列表推导"
   ]
  },
  {
   "cell_type": "markdown",
   "metadata": {
    "ExecuteTime": {
     "end_time": "2019-02-14T02:57:04.051391Z",
     "start_time": "2019-02-14T02:57:04.042394Z"
    }
   },
   "source": [
    "列表推导是一种从其他列表创建列表的方式，类似于数学中的集合推导。列表推导的工作原理非常简单，有点类似于 for 循环。"
   ]
  },
  {
   "cell_type": "code",
   "execution_count": 37,
   "metadata": {
    "ExecuteTime": {
     "end_time": "2019-03-11T02:30:47.486203Z",
     "start_time": "2019-03-11T02:30:47.349818Z"
    }
   },
   "outputs": [
    {
     "data": {
      "text/plain": [
       "['p', 'y', 't', 'h', 'o', 'n']"
      ]
     },
     "execution_count": 37,
     "metadata": {},
     "output_type": "execute_result"
    }
   ],
   "source": [
    "chars = [c for c in 'python']\n",
    "chars"
   ]
  },
  {
   "cell_type": "code",
   "execution_count": 38,
   "metadata": {
    "ExecuteTime": {
     "end_time": "2019-03-11T02:30:47.607762Z",
     "start_time": "2019-03-11T02:30:47.489200Z"
    }
   },
   "outputs": [
    {
     "data": {
      "text/plain": [
       "[0, 1, 4, 9, 16, 25, 36, 49, 64, 81]"
      ]
     },
     "execution_count": 38,
     "metadata": {},
     "output_type": "execute_result"
    }
   ],
   "source": [
    "[x * x for x in range(10)]"
   ]
  },
  {
   "cell_type": "code",
   "execution_count": 39,
   "metadata": {
    "ExecuteTime": {
     "end_time": "2019-03-11T02:30:47.786658Z",
     "start_time": "2019-03-11T02:30:47.631748Z"
    }
   },
   "outputs": [
    {
     "data": {
      "text/plain": [
       "[0, 9, 36, 81]"
      ]
     },
     "execution_count": 39,
     "metadata": {},
     "output_type": "execute_result"
    }
   ],
   "source": [
    "[x*x for x in range(10) if x % 3 == 0]"
   ]
  },
  {
   "cell_type": "code",
   "execution_count": 40,
   "metadata": {
    "ExecuteTime": {
     "end_time": "2019-03-11T02:30:47.955562Z",
     "start_time": "2019-03-11T02:30:47.805651Z"
    }
   },
   "outputs": [
    {
     "data": {
      "text/plain": [
       "[(0, 0), (0, 1), (0, 2), (1, 0), (1, 1), (1, 2), (2, 0), (2, 1), (2, 2)]"
      ]
     },
     "execution_count": 40,
     "metadata": {},
     "output_type": "execute_result"
    }
   ],
   "source": [
    "[(x, y) for x in range(3) for y in range(3)]"
   ]
  },
  {
   "cell_type": "markdown",
   "metadata": {},
   "source": [
    "相当于下面的语句："
   ]
  },
  {
   "cell_type": "code",
   "execution_count": 41,
   "metadata": {
    "ExecuteTime": {
     "end_time": "2019-03-11T02:30:48.131461Z",
     "start_time": "2019-03-11T02:30:47.958560Z"
    }
   },
   "outputs": [
    {
     "data": {
      "text/plain": [
       "[(0, 0), (0, 1), (0, 2), (1, 0), (1, 1), (1, 2), (2, 0), (2, 1), (2, 2)]"
      ]
     },
     "execution_count": 41,
     "metadata": {},
     "output_type": "execute_result"
    }
   ],
   "source": [
    "result = []\n",
    "for x in range(3):\n",
    "    for y in range(3):\n",
    "        result.append((x, y))\n",
    "result"
   ]
  },
  {
   "cell_type": "code",
   "execution_count": 42,
   "metadata": {
    "ExecuteTime": {
     "end_time": "2019-03-11T02:30:48.276396Z",
     "start_time": "2019-03-11T02:30:48.134459Z"
    }
   },
   "outputs": [
    {
     "data": {
      "text/plain": [
       "['hi', 'python']"
      ]
     },
     "execution_count": 42,
     "metadata": {},
     "output_type": "execute_result"
    }
   ],
   "source": [
    "hi_python = ['Hi', 'Python']\n",
    "[s.lower() for s in hi_python]"
   ]
  },
  {
   "cell_type": "code",
   "execution_count": null,
   "metadata": {},
   "outputs": [],
   "source": []
  },
  {
   "cell_type": "markdown",
   "metadata": {},
   "source": [
    "### 编写函数"
   ]
  },
  {
   "cell_type": "markdown",
   "metadata": {},
   "source": [
    "Hadley Wickham\n",
    ">You should consider writing a function whenever you’ve copied and pasted a block of code more than twice (i.e. you now have three copies of the same code).  \n",
    "\n",
    "按照事不过三法则，一旦你复制粘贴代码超过三次，就需要考虑编写函数了。"
   ]
  },
  {
   "cell_type": "markdown",
   "metadata": {},
   "source": [
    "#### 自定义函数\n",
    "\n",
    "函数是结构化编程的核心。那么如何定义函数呢？使用 def （表示定义函数）语句。"
   ]
  },
  {
   "cell_type": "code",
   "execution_count": 43,
   "metadata": {
    "ExecuteTime": {
     "end_time": "2019-03-11T02:30:48.407302Z",
     "start_time": "2019-03-11T02:30:48.279376Z"
    }
   },
   "outputs": [],
   "source": [
    "def hello(name):\n",
    "    return 'Hello, ' + name + '!'"
   ]
  },
  {
   "cell_type": "code",
   "execution_count": 44,
   "metadata": {
    "ExecuteTime": {
     "end_time": "2019-03-11T02:30:48.599195Z",
     "start_time": "2019-03-11T02:30:48.410302Z"
    }
   },
   "outputs": [
    {
     "data": {
      "text/plain": [
       "'Hello, world!'"
      ]
     },
     "execution_count": 44,
     "metadata": {},
     "output_type": "execute_result"
    }
   ],
   "source": [
    "hello('world')"
   ]
  },
  {
   "cell_type": "code",
   "execution_count": 45,
   "metadata": {
    "ExecuteTime": {
     "end_time": "2019-03-11T02:30:48.753105Z",
     "start_time": "2019-03-11T02:30:48.602191Z"
    }
   },
   "outputs": [
    {
     "data": {
      "text/plain": [
       "'Hello, Beijing!'"
      ]
     },
     "execution_count": 45,
     "metadata": {},
     "output_type": "execute_result"
    }
   ],
   "source": [
    "hello('Beijing')"
   ]
  },
  {
   "cell_type": "code",
   "execution_count": 46,
   "metadata": {
    "ExecuteTime": {
     "end_time": "2019-03-11T02:30:48.907019Z",
     "start_time": "2019-03-11T02:30:48.756104Z"
    }
   },
   "outputs": [],
   "source": [
    "def fibs(num):\n",
    "    result = [0, 1]\n",
    "    for i in range(num-2):\n",
    "        result.append(result[-2] + result[-1])\n",
    "    return result"
   ]
  },
  {
   "cell_type": "code",
   "execution_count": 47,
   "metadata": {
    "ExecuteTime": {
     "end_time": "2019-03-11T02:30:49.030948Z",
     "start_time": "2019-03-11T02:30:48.910015Z"
    }
   },
   "outputs": [
    {
     "data": {
      "text/plain": [
       "[0, 1, 1, 2, 3, 5, 8, 13, 21, 34]"
      ]
     },
     "execution_count": 47,
     "metadata": {},
     "output_type": "execute_result"
    }
   ],
   "source": [
    "fibs(10)"
   ]
  },
  {
   "cell_type": "markdown",
   "metadata": {},
   "source": [
    "要给函数编写文档，以确保其他人能够理解，可添加注释（以#打头的内容）。还有另一种编写注释的方式，就是添加独立的字符串。在有些地方，如 def 语句后面，添加这样的字符串很有用。放在函数开头的字符串称为\n",
    "文档字符串（docstring），将作为函数的一部分存储起来。"
   ]
  },
  {
   "cell_type": "code",
   "execution_count": 48,
   "metadata": {
    "ExecuteTime": {
     "end_time": "2019-03-11T02:30:49.162872Z",
     "start_time": "2019-03-11T02:30:49.033944Z"
    }
   },
   "outputs": [],
   "source": [
    "def square(x):\n",
    "    'Calculates the square of the number x.'\n",
    "    return x * x"
   ]
  },
  {
   "cell_type": "markdown",
   "metadata": {},
   "source": [
    "可以像下面这样访问文档字符串："
   ]
  },
  {
   "cell_type": "code",
   "execution_count": 49,
   "metadata": {
    "ExecuteTime": {
     "end_time": "2019-03-11T02:30:49.274807Z",
     "start_time": "2019-03-11T02:30:49.165869Z"
    }
   },
   "outputs": [
    {
     "data": {
      "text/plain": [
       "'Calculates the square of the number x.'"
      ]
     },
     "execution_count": 49,
     "metadata": {},
     "output_type": "execute_result"
    }
   ],
   "source": [
    "square.__doc__"
   ]
  },
  {
   "cell_type": "markdown",
   "metadata": {},
   "source": [
    "特殊的内置函数 help 很有用。在交互式解释器中，可使用它获取有关函数的信息，其中包含函数的文档字符串。"
   ]
  },
  {
   "cell_type": "code",
   "execution_count": 50,
   "metadata": {
    "ExecuteTime": {
     "end_time": "2019-03-11T02:30:49.374751Z",
     "start_time": "2019-03-11T02:30:49.277806Z"
    }
   },
   "outputs": [
    {
     "name": "stdout",
     "output_type": "stream",
     "text": [
      "Help on function square in module __main__:\n",
      "\n",
      "square(x)\n",
      "    Calculates the square of the number x.\n",
      "\n"
     ]
    }
   ],
   "source": [
    "help(square)"
   ]
  },
  {
   "cell_type": "code",
   "execution_count": 51,
   "metadata": {
    "ExecuteTime": {
     "end_time": "2019-03-11T02:30:49.594625Z",
     "start_time": "2019-03-11T02:30:49.378746Z"
    }
   },
   "outputs": [],
   "source": [
    "?square"
   ]
  },
  {
   "cell_type": "code",
   "execution_count": 52,
   "metadata": {
    "ExecuteTime": {
     "end_time": "2019-03-11T02:30:49.698564Z",
     "start_time": "2019-03-11T02:30:49.597621Z"
    }
   },
   "outputs": [],
   "source": [
    "square?"
   ]
  },
  {
   "cell_type": "markdown",
   "metadata": {},
   "source": [
    "#### 参数魔法"
   ]
  },
  {
   "cell_type": "code",
   "execution_count": 53,
   "metadata": {
    "ExecuteTime": {
     "end_time": "2019-03-11T02:30:49.875463Z",
     "start_time": "2019-03-11T02:30:49.701563Z"
    }
   },
   "outputs": [
    {
     "data": {
      "text/plain": [
       "'Mrs. Entity'"
      ]
     },
     "execution_count": 53,
     "metadata": {},
     "output_type": "execute_result"
    }
   ],
   "source": [
    "def try_to_change(n):\n",
    "    n = 'Mr. Gumby'\n",
    "\n",
    "name = 'Mrs. Entity'\n",
    "try_to_change(name)\n",
    "name"
   ]
  },
  {
   "cell_type": "markdown",
   "metadata": {},
   "source": [
    "字符串（以及数和元组）是不可变的（immutable），这意味着你不能修改它们（即只能替换为新值）。因此这些类型作为参数没什么可说的。但如果参数为可变的数据结构（如列表）呢？"
   ]
  },
  {
   "cell_type": "code",
   "execution_count": 54,
   "metadata": {
    "ExecuteTime": {
     "end_time": "2019-03-11T02:30:49.985399Z",
     "start_time": "2019-03-11T02:30:49.877463Z"
    }
   },
   "outputs": [],
   "source": [
    "def change(n):\n",
    "    n[0] = 'Mr. Gumby'"
   ]
  },
  {
   "cell_type": "code",
   "execution_count": 55,
   "metadata": {
    "ExecuteTime": {
     "end_time": "2019-03-11T02:30:50.120556Z",
     "start_time": "2019-03-11T02:30:49.988398Z"
    }
   },
   "outputs": [
    {
     "data": {
      "text/plain": [
       "['Mr. Gumby', 'Mrs. Thing']"
      ]
     },
     "execution_count": 55,
     "metadata": {},
     "output_type": "execute_result"
    }
   ],
   "source": [
    "names = ['Mrs. Entity', 'Mrs. Thing']\n",
    "change(names)\n",
    "names"
   ]
  },
  {
   "cell_type": "code",
   "execution_count": 56,
   "metadata": {
    "ExecuteTime": {
     "end_time": "2019-03-11T02:30:50.302993Z",
     "start_time": "2019-03-11T02:30:50.129544Z"
    }
   },
   "outputs": [],
   "source": [
    "names = ['Mrs. Entity', 'Mrs. Thing']\n",
    "n = names"
   ]
  },
  {
   "cell_type": "code",
   "execution_count": 57,
   "metadata": {
    "ExecuteTime": {
     "end_time": "2019-03-11T02:30:50.432888Z",
     "start_time": "2019-03-11T02:30:50.311958Z"
    }
   },
   "outputs": [
    {
     "data": {
      "text/plain": [
       "True"
      ]
     },
     "execution_count": 57,
     "metadata": {},
     "output_type": "execute_result"
    }
   ],
   "source": [
    "n == names"
   ]
  },
  {
   "cell_type": "code",
   "execution_count": 58,
   "metadata": {
    "ExecuteTime": {
     "end_time": "2019-03-11T02:30:50.543824Z",
     "start_time": "2019-03-11T02:30:50.435886Z"
    }
   },
   "outputs": [
    {
     "data": {
      "text/plain": [
       "True"
      ]
     },
     "execution_count": 58,
     "metadata": {},
     "output_type": "execute_result"
    }
   ],
   "source": [
    "n is names"
   ]
  },
  {
   "cell_type": "code",
   "execution_count": 59,
   "metadata": {
    "ExecuteTime": {
     "end_time": "2019-03-11T02:30:50.651765Z",
     "start_time": "2019-03-11T02:30:50.546823Z"
    }
   },
   "outputs": [],
   "source": [
    "n = names[:]"
   ]
  },
  {
   "cell_type": "code",
   "execution_count": 60,
   "metadata": {
    "ExecuteTime": {
     "end_time": "2019-03-11T02:30:50.802135Z",
     "start_time": "2019-03-11T02:30:50.654761Z"
    }
   },
   "outputs": [
    {
     "data": {
      "text/plain": [
       "True"
      ]
     },
     "execution_count": 60,
     "metadata": {},
     "output_type": "execute_result"
    }
   ],
   "source": [
    "n == names"
   ]
  },
  {
   "cell_type": "code",
   "execution_count": 61,
   "metadata": {
    "ExecuteTime": {
     "end_time": "2019-03-11T02:30:50.965040Z",
     "start_time": "2019-03-11T02:30:50.807132Z"
    }
   },
   "outputs": [
    {
     "data": {
      "text/plain": [
       "False"
      ]
     },
     "execution_count": 61,
     "metadata": {},
     "output_type": "execute_result"
    }
   ],
   "source": [
    "n is names"
   ]
  },
  {
   "cell_type": "code",
   "execution_count": 62,
   "metadata": {
    "ExecuteTime": {
     "end_time": "2019-03-11T02:30:51.120951Z",
     "start_time": "2019-03-11T02:30:50.968040Z"
    }
   },
   "outputs": [
    {
     "data": {
      "text/plain": [
       "['Mrs. Entity', 'Mrs. Thing']"
      ]
     },
     "execution_count": 62,
     "metadata": {},
     "output_type": "execute_result"
    }
   ],
   "source": [
    "change(names[:])\n",
    "\n",
    "names"
   ]
  },
  {
   "cell_type": "markdown",
   "metadata": {},
   "source": [
    "关键字参数和默认值"
   ]
  },
  {
   "cell_type": "code",
   "execution_count": 63,
   "metadata": {
    "ExecuteTime": {
     "end_time": "2019-03-11T02:30:51.230890Z",
     "start_time": "2019-03-11T02:30:51.123950Z"
    }
   },
   "outputs": [],
   "source": [
    "def hello_1(name, greeting):\n",
    "    print('{}, {}!'.format(name, greeting))\n",
    "\n",
    "def hello_2(greeting, name):\n",
    "    print('{}, {}!'.format(name, greeting))\n"
   ]
  },
  {
   "cell_type": "code",
   "execution_count": 64,
   "metadata": {
    "ExecuteTime": {
     "end_time": "2019-03-11T02:30:51.363725Z",
     "start_time": "2019-03-11T02:30:51.233887Z"
    }
   },
   "outputs": [
    {
     "name": "stdout",
     "output_type": "stream",
     "text": [
      "Hello, world!\n"
     ]
    }
   ],
   "source": [
    "hello_1('Hello', 'world')"
   ]
  },
  {
   "cell_type": "code",
   "execution_count": 65,
   "metadata": {
    "ExecuteTime": {
     "end_time": "2019-03-11T02:30:51.474764Z",
     "start_time": "2019-03-11T02:30:51.369722Z"
    }
   },
   "outputs": [
    {
     "name": "stdout",
     "output_type": "stream",
     "text": [
      "world, Hello!\n"
     ]
    }
   ],
   "source": [
    "hello_2('Hello', 'world')"
   ]
  },
  {
   "cell_type": "markdown",
   "metadata": {},
   "source": [
    "有时候，参数的排列顺序可能难以记住，尤其是参数很多时。为了简化调用工作，可指定参数的名称。"
   ]
  },
  {
   "cell_type": "code",
   "execution_count": 66,
   "metadata": {
    "ExecuteTime": {
     "end_time": "2019-03-11T02:30:51.617851Z",
     "start_time": "2019-03-11T02:30:51.477754Z"
    }
   },
   "outputs": [
    {
     "name": "stdout",
     "output_type": "stream",
     "text": [
      "world, Hello!\n"
     ]
    }
   ],
   "source": [
    "hello_1(greeting='Hello', name='world')"
   ]
  },
  {
   "cell_type": "code",
   "execution_count": 67,
   "metadata": {
    "ExecuteTime": {
     "end_time": "2019-03-11T02:30:51.729787Z",
     "start_time": "2019-03-11T02:30:51.626852Z"
    }
   },
   "outputs": [
    {
     "name": "stdout",
     "output_type": "stream",
     "text": [
      "world, Hello!\n"
     ]
    }
   ],
   "source": [
    "hello_2(greeting='Hello', name='world')"
   ]
  },
  {
   "cell_type": "markdown",
   "metadata": {},
   "source": [
    "关键字参数最大的优点在于，可以指定默认值。"
   ]
  },
  {
   "cell_type": "code",
   "execution_count": 68,
   "metadata": {
    "ExecuteTime": {
     "end_time": "2019-03-11T02:30:51.895341Z",
     "start_time": "2019-03-11T02:30:51.732784Z"
    }
   },
   "outputs": [],
   "source": [
    "def hello_3(greeting='Hello', name='world'):\n",
    "    print('{}, {}!'.format(greeting, name))"
   ]
  },
  {
   "cell_type": "code",
   "execution_count": 69,
   "metadata": {
    "ExecuteTime": {
     "end_time": "2019-03-11T02:30:52.002277Z",
     "start_time": "2019-03-11T02:30:51.897338Z"
    }
   },
   "outputs": [
    {
     "name": "stdout",
     "output_type": "stream",
     "text": [
      "Hello, world!\n"
     ]
    }
   ],
   "source": [
    "hello_3()"
   ]
  },
  {
   "cell_type": "code",
   "execution_count": 70,
   "metadata": {
    "ExecuteTime": {
     "end_time": "2019-03-11T02:30:52.110217Z",
     "start_time": "2019-03-11T02:30:52.005276Z"
    }
   },
   "outputs": [
    {
     "name": "stdout",
     "output_type": "stream",
     "text": [
      "Hello, beijing!\n"
     ]
    }
   ],
   "source": [
    "hello_3(name = 'beijing')"
   ]
  },
  {
   "cell_type": "code",
   "execution_count": 71,
   "metadata": {
    "ExecuteTime": {
     "end_time": "2019-03-11T02:30:52.220154Z",
     "start_time": "2019-03-11T02:30:52.114214Z"
    }
   },
   "outputs": [
    {
     "name": "stdout",
     "output_type": "stream",
     "text": [
      "hi, beijing!\n"
     ]
    }
   ],
   "source": [
    "hello_3(greeting = 'hi', name = 'beijing')"
   ]
  },
  {
   "cell_type": "code",
   "execution_count": 72,
   "metadata": {
    "ExecuteTime": {
     "end_time": "2019-03-11T02:30:52.330108Z",
     "start_time": "2019-03-11T02:30:52.222151Z"
    }
   },
   "outputs": [],
   "source": [
    "def print_params_2(title, *params):\n",
    "    print(title)\n",
    "    print(params)"
   ]
  },
  {
   "cell_type": "code",
   "execution_count": 73,
   "metadata": {
    "ExecuteTime": {
     "end_time": "2019-03-11T02:30:52.431032Z",
     "start_time": "2019-03-11T02:30:52.333089Z"
    }
   },
   "outputs": [
    {
     "name": "stdout",
     "output_type": "stream",
     "text": [
      "Params:\n",
      "(1, 2, 3)\n"
     ]
    }
   ],
   "source": [
    "print_params_2('Params:', 1, 2, 3)"
   ]
  },
  {
   "cell_type": "code",
   "execution_count": 74,
   "metadata": {
    "ExecuteTime": {
     "end_time": "2019-03-11T02:30:52.539971Z",
     "start_time": "2019-03-11T02:30:52.434031Z"
    }
   },
   "outputs": [],
   "source": [
    "def in_the_middle(x, *y, z):\n",
    "    print(x, y, z)"
   ]
  },
  {
   "cell_type": "code",
   "execution_count": 75,
   "metadata": {
    "ExecuteTime": {
     "end_time": "2019-03-11T02:30:52.642930Z",
     "start_time": "2019-03-11T02:30:52.542968Z"
    }
   },
   "outputs": [
    {
     "name": "stdout",
     "output_type": "stream",
     "text": [
      "1 (2, 3, 4, 5) 7\n"
     ]
    }
   ],
   "source": [
    "in_the_middle(1, 2, 3, 4, 5, z=7)"
   ]
  },
  {
   "cell_type": "markdown",
   "metadata": {},
   "source": [
    "要收集关键字参数，可使用两个星号。"
   ]
  },
  {
   "cell_type": "code",
   "execution_count": 76,
   "metadata": {
    "ExecuteTime": {
     "end_time": "2019-03-11T02:30:52.752912Z",
     "start_time": "2019-03-11T02:30:52.645910Z"
    }
   },
   "outputs": [
    {
     "name": "stdout",
     "output_type": "stream",
     "text": [
      "{'x': 1, 'y': 2, 'z': 3}\n"
     ]
    }
   ],
   "source": [
    "def print_params_3(**params):\n",
    "    print(params)\n",
    "\n",
    "print_params_3(x=1, y=2, z=3)"
   ]
  },
  {
   "cell_type": "code",
   "execution_count": 77,
   "metadata": {
    "ExecuteTime": {
     "end_time": "2019-03-11T02:30:52.852855Z",
     "start_time": "2019-03-11T02:30:52.756909Z"
    }
   },
   "outputs": [],
   "source": [
    "def print_params_4(x, y, z=3, *pospar, **keypar):\n",
    "    print(x, y, z)\n",
    "    print(pospar)\n",
    "    print(keypar)"
   ]
  },
  {
   "cell_type": "code",
   "execution_count": 78,
   "metadata": {
    "ExecuteTime": {
     "end_time": "2019-03-11T02:30:52.965791Z",
     "start_time": "2019-03-11T02:30:52.854853Z"
    }
   },
   "outputs": [
    {
     "name": "stdout",
     "output_type": "stream",
     "text": [
      "1 2 3\n",
      "(5, 6, 7)\n",
      "{'foo': 1, 'bar': 2}\n"
     ]
    }
   ],
   "source": [
    "print_params_4(1, 2, 3, 5, 6, 7, foo=1, bar=2)"
   ]
  },
  {
   "cell_type": "markdown",
   "metadata": {},
   "source": [
    "## 面向对象编程"
   ]
  },
  {
   "cell_type": "markdown",
   "metadata": {},
   "source": [
    "在面向对象编程中，术语对象大致意味着一系列数据（属性）以及一套访问和操作这些数据的方法。使用对象而非全局变量和函数的原因有多个，下面列出了使用对象的最重要的好处。\n",
    "* 多态：可对不同类型的对象执行相同的操作，而这些操作就像“被施了魔法”一样能够正常运行。\n",
    "* 封装：对外部隐藏有关对象工作原理的细节。\n",
    "* 继承：可基于通用类创建出专用类。"
   ]
  },
  {
   "cell_type": "code",
   "execution_count": 79,
   "metadata": {
    "ExecuteTime": {
     "end_time": "2019-03-11T02:30:53.074727Z",
     "start_time": "2019-03-11T02:30:52.968788Z"
    }
   },
   "outputs": [],
   "source": [
    "class Person:\n",
    "    def set_name(self, name):\n",
    "        self.name = name\n",
    "    def get_name(self):\n",
    "        return self.name\n",
    "    def greet(self):\n",
    "        print(\"Hello, world! I'm {}.\".format(self.name))"
   ]
  },
  {
   "cell_type": "code",
   "execution_count": 80,
   "metadata": {
    "ExecuteTime": {
     "end_time": "2019-03-11T02:30:53.185662Z",
     "start_time": "2019-03-11T02:30:53.079725Z"
    }
   },
   "outputs": [],
   "source": [
    "foo = Person()\n",
    "bar = Person()\n",
    "foo.set_name('Luke Skywalker')\n",
    "bar.set_name('Anakin Skywalker')"
   ]
  },
  {
   "cell_type": "code",
   "execution_count": 81,
   "metadata": {
    "ExecuteTime": {
     "end_time": "2019-03-11T02:30:53.298598Z",
     "start_time": "2019-03-11T02:30:53.188662Z"
    }
   },
   "outputs": [
    {
     "name": "stdout",
     "output_type": "stream",
     "text": [
      "Hello, world! I'm Luke Skywalker.\n"
     ]
    }
   ],
   "source": [
    "foo.greet()"
   ]
  },
  {
   "cell_type": "code",
   "execution_count": 82,
   "metadata": {
    "ExecuteTime": {
     "end_time": "2019-03-11T02:30:53.397541Z",
     "start_time": "2019-03-11T02:30:53.301597Z"
    }
   },
   "outputs": [
    {
     "name": "stdout",
     "output_type": "stream",
     "text": [
      "Hello, world! I'm Anakin Skywalker.\n"
     ]
    }
   ],
   "source": [
    "bar.greet()"
   ]
  },
  {
   "cell_type": "markdown",
   "metadata": {},
   "source": [
    "这个示例可能有点简单，但澄清了self 是什么。对 foo 调用 set_name 和 greet 时， foo 都会作为第一个参数自动传递给它们。我将这个参数命名为 self ，这非常贴切。实际上，可以随便给这个参数命名，但鉴于它总是指向对象本身，因此习惯上将其命名为 self 。"
   ]
  },
  {
   "cell_type": "markdown",
   "metadata": {},
   "source": [
    "显然， self 很有用，甚至必不可少。如果没有它，所有的方法都无法访问对象本身——要操作的属性所属的对象。与以前一样，也可以从外部访问这些属性。"
   ]
  },
  {
   "cell_type": "code",
   "execution_count": 83,
   "metadata": {
    "ExecuteTime": {
     "end_time": "2019-03-11T02:30:53.498484Z",
     "start_time": "2019-03-11T02:30:53.400540Z"
    }
   },
   "outputs": [
    {
     "data": {
      "text/plain": [
       "'Luke Skywalker'"
      ]
     },
     "execution_count": 83,
     "metadata": {},
     "output_type": "execute_result"
    }
   ],
   "source": [
    "foo.name"
   ]
  },
  {
   "cell_type": "markdown",
   "metadata": {},
   "source": [
    "要让方法或属性成为私有的（不能从外部访问），只需让其名称以两个下划线打头即可。"
   ]
  },
  {
   "cell_type": "code",
   "execution_count": 84,
   "metadata": {
    "ExecuteTime": {
     "end_time": "2019-03-11T02:30:53.607422Z",
     "start_time": "2019-03-11T02:30:53.503481Z"
    }
   },
   "outputs": [],
   "source": [
    "class Secretive:\n",
    "    def __inaccessible(self):\n",
    "        print(\"Bet you can't see me ...\")\n",
    "    def accessible(self):\n",
    "        print(\"The secret message is:\")\n",
    "        self.__inaccessible()"
   ]
  },
  {
   "cell_type": "code",
   "execution_count": 85,
   "metadata": {
    "ExecuteTime": {
     "end_time": "2019-03-11T02:30:53.708365Z",
     "start_time": "2019-03-11T02:30:53.610420Z"
    }
   },
   "outputs": [],
   "source": [
    "s = Secretive()"
   ]
  },
  {
   "cell_type": "code",
   "execution_count": 86,
   "metadata": {
    "ExecuteTime": {
     "end_time": "2019-03-11T02:30:53.809306Z",
     "start_time": "2019-03-11T02:30:53.712364Z"
    }
   },
   "outputs": [
    {
     "name": "stdout",
     "output_type": "stream",
     "text": [
      "The secret message is:\n",
      "Bet you can't see me ...\n"
     ]
    }
   ],
   "source": [
    "s.accessible()"
   ]
  },
  {
   "cell_type": "code",
   "execution_count": 87,
   "metadata": {
    "ExecuteTime": {
     "end_time": "2019-03-11T02:30:53.921242Z",
     "start_time": "2019-03-11T02:30:53.812305Z"
    }
   },
   "outputs": [],
   "source": [
    "class MemberCounter:\n",
    "    members = 0\n",
    "    def init(self):\n",
    "        MemberCounter.members += 1"
   ]
  },
  {
   "cell_type": "code",
   "execution_count": 88,
   "metadata": {
    "ExecuteTime": {
     "end_time": "2019-03-11T02:30:54.018205Z",
     "start_time": "2019-03-11T02:30:53.924240Z"
    }
   },
   "outputs": [],
   "source": [
    "m1 = MemberCounter()"
   ]
  },
  {
   "cell_type": "code",
   "execution_count": 89,
   "metadata": {
    "ExecuteTime": {
     "end_time": "2019-03-11T02:30:54.130122Z",
     "start_time": "2019-03-11T02:30:54.021185Z"
    }
   },
   "outputs": [],
   "source": [
    "m1.init()"
   ]
  },
  {
   "cell_type": "code",
   "execution_count": 90,
   "metadata": {
    "ExecuteTime": {
     "end_time": "2019-03-11T02:30:54.243076Z",
     "start_time": "2019-03-11T02:30:54.132135Z"
    }
   },
   "outputs": [
    {
     "data": {
      "text/plain": [
       "1"
      ]
     },
     "execution_count": 90,
     "metadata": {},
     "output_type": "execute_result"
    }
   ],
   "source": [
    "MemberCounter.members"
   ]
  },
  {
   "cell_type": "code",
   "execution_count": 91,
   "metadata": {
    "ExecuteTime": {
     "end_time": "2019-03-11T02:30:54.363219Z",
     "start_time": "2019-03-11T02:30:54.246056Z"
    }
   },
   "outputs": [],
   "source": [
    "m2 = MemberCounter()\n",
    "m2.init()"
   ]
  },
  {
   "cell_type": "code",
   "execution_count": 92,
   "metadata": {
    "ExecuteTime": {
     "end_time": "2019-03-11T02:30:54.464165Z",
     "start_time": "2019-03-11T02:30:54.366219Z"
    }
   },
   "outputs": [
    {
     "data": {
      "text/plain": [
       "2"
      ]
     },
     "execution_count": 92,
     "metadata": {},
     "output_type": "execute_result"
    }
   ],
   "source": [
    "MemberCounter.members"
   ]
  },
  {
   "cell_type": "code",
   "execution_count": 93,
   "metadata": {
    "ExecuteTime": {
     "end_time": "2019-03-11T02:30:54.576220Z",
     "start_time": "2019-03-11T02:30:54.467160Z"
    }
   },
   "outputs": [
    {
     "data": {
      "text/plain": [
       "2"
      ]
     },
     "execution_count": 93,
     "metadata": {},
     "output_type": "execute_result"
    }
   ],
   "source": [
    " m1.members"
   ]
  },
  {
   "cell_type": "code",
   "execution_count": 94,
   "metadata": {
    "ExecuteTime": {
     "end_time": "2019-03-11T02:30:54.686139Z",
     "start_time": "2019-03-11T02:30:54.579201Z"
    }
   },
   "outputs": [
    {
     "data": {
      "text/plain": [
       "2"
      ]
     },
     "execution_count": 94,
     "metadata": {},
     "output_type": "execute_result"
    }
   ],
   "source": [
    "m2.members"
   ]
  },
  {
   "cell_type": "markdown",
   "metadata": {},
   "source": [
    "## 编码规范"
   ]
  },
  {
   "cell_type": "markdown",
   "metadata": {},
   "source": [
    "请参阅[PEP 8 -- Style Guide for Python Code](https://www.python.org/dev/peps/pep-0008/)。以下是其中部分条款：  \n",
    "- Use 4 spaces per indentation level.\n",
    "- Spaces are the preferred indentation method.\n",
    "- Limit all lines to a maximum of 79 characters.\n",
    "- Surround top-level function and class definitions with two blank lines.\n",
    "- Imports should usually be on separate lines.\n",
    "- In Python, single-quoted strings and double-quoted strings are the same. This PEP does not make a recommendation for this. Pick a rule and stick to it. When a string contains single or double quote characters, however, use the other one to avoid backslashes in the string. \n",
    "- Avoid extraneous whitespace in the following situations:\n",
    "  + Immediately inside parentheses, brackets or braces\n",
    "  + Between a trailing comma and a following close parenthesis\n",
    "  + Immediately before a comma, semicolon, or colon\n",
    "  + Immediately before the open parenthesis that starts the argument list of a function call;...\n",
    "- Comments that contradict the code are worse than no comments. Always make a priority of keeping the comments up-to-date when the code changes!\n",
    "- An inline comment is a comment on the same line as a statement. Inline comments should be separated by at least two spaces from the statement. They should start with a # and a single space.\n",
    "- Naming Styles: \n",
    "  + lowercase\n",
    "  + lower_case_with_underscores\n",
    "  + CapitalizedWords; mixedCase\n",
    "- Function names should be lowercase, with words separated by underscores as necessary to improve readability.\n",
    "- Constants are usually defined on a module level and written in all capital letters with underscores separating words. "
   ]
  },
  {
   "cell_type": "markdown",
   "metadata": {},
   "source": [
    "## 小结"
   ]
  },
  {
   "cell_type": "markdown",
   "metadata": {},
   "source": [
    "本章铺垫了Python的一些基础知识，包括数据对象、程序控制、面向对象（初步）等，以便后续开展具体实验时能快速上手。对于Python语言的习惯和掌握，是一个日积月累的过程，很多重要的内容，比如程序调试等，均未涉及，请同学们自行参考相关教材资料进行学习。"
   ]
  }
 ],
 "metadata": {
  "kernelspec": {
   "display_name": "Python 3",
   "language": "python",
   "name": "python3"
  },
  "language_info": {
   "codemirror_mode": {
    "name": "ipython",
    "version": 3
   },
   "file_extension": ".py",
   "mimetype": "text/x-python",
   "name": "python",
   "nbconvert_exporter": "python",
   "pygments_lexer": "ipython3",
   "version": "3.7.1"
  },
  "toc": {
   "base_numbering": "2",
   "nav_menu": {},
   "number_sections": true,
   "sideBar": true,
   "skip_h1_title": false,
   "title_cell": "本章目录",
   "title_sidebar": "",
   "toc_cell": true,
   "toc_position": {
    "height": "calc(100% - 180px)",
    "left": "10px",
    "top": "150px",
    "width": "165px"
   },
   "toc_section_display": true,
   "toc_window_display": true
  },
  "varInspector": {
   "cols": {
    "lenName": 16,
    "lenType": 16,
    "lenVar": 40
   },
   "kernels_config": {
    "python": {
     "delete_cmd_postfix": "",
     "delete_cmd_prefix": "del ",
     "library": "var_list.py",
     "varRefreshCmd": "print(var_dic_list())"
    },
    "r": {
     "delete_cmd_postfix": ") ",
     "delete_cmd_prefix": "rm(",
     "library": "var_list.r",
     "varRefreshCmd": "cat(var_dic_list()) "
    }
   },
   "types_to_exclude": [
    "module",
    "function",
    "builtin_function_or_method",
    "instance",
    "_Feature"
   ],
   "window_display": false
  }
 },
 "nbformat": 4,
 "nbformat_minor": 2
}
